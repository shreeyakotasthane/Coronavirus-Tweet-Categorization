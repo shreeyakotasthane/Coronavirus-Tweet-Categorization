{
 "cells": [
  {
   "cell_type": "code",
   "execution_count": 37,
   "metadata": {},
   "outputs": [],
   "source": [
    "import pandas as pd\n",
    "import re\n",
    "import numpy as np\n",
    "import snowballstemmer\n",
    "from sklearn.feature_extraction.text import TfidfVectorizer\n",
    "import preprocessor as p\n",
    "from sklearn.feature_extraction.text import TfidfVectorizer\n",
    "from sklearn.metrics import classification_report, accuracy_score, make_scorer\n",
    "from sklearn.model_selection import StratifiedKFold\n",
    "from sklearn.linear_model import LogisticRegression\n",
    "from sklearn.ensemble import RandomForestClassifier\n",
    "from sklearn.naive_bayes import MultinomialNB\n",
    "from sklearn.svm import LinearSVC\n",
    "from sklearn.tree import DecisionTreeClassifier\n",
    "import matplotlib.pyplot as plt\n",
    "from sklearn.model_selection import cross_val_score\n",
    "from sklearn.metrics import confusion_matrix\n",
    "from sklearn.metrics import precision_score\n",
    "from sklearn.metrics import recall_score\n",
    "from sklearn.metrics import f1_score\n",
    "from sklearn.metrics import accuracy_score\n",
    "from sklearn.model_selection import train_test_split"
   ]
  },
  {
   "cell_type": "code",
   "execution_count": 38,
   "metadata": {},
   "outputs": [
    {
     "data": {
      "text/plain": [
       "499"
      ]
     },
     "execution_count": 38,
     "metadata": {},
     "output_type": "execute_result"
    }
   ],
   "source": [
    "data = pd.read_csv(\"InformationSeeking.csv\", encoding='utf-8', index_col=False) #Loading the data\n",
    "len(data)"
   ]
  },
  {
   "cell_type": "code",
   "execution_count": 39,
   "metadata": {},
   "outputs": [
    {
     "data": {
      "text/plain": [
       "Index(['Text', 'IS/NO?'], dtype='object')"
      ]
     },
     "execution_count": 39,
     "metadata": {},
     "output_type": "execute_result"
    }
   ],
   "source": [
    "data.columns"
   ]
  },
  {
   "cell_type": "markdown",
   "metadata": {},
   "source": [
    "# Cleaning The Tweets"
   ]
  },
  {
   "cell_type": "code",
   "execution_count": 40,
   "metadata": {},
   "outputs": [],
   "source": [
    "p.set_options(p.OPT.URL, p.OPT.EMOJI, p.OPT.SMILEY)\n",
    "def clean_tweet(row):\n",
    "    text = p.clean(row['Text'])\n",
    "    row['filtered_tweet'] = re.sub('\\d', 'NUM', text)\n",
    "    return row\n",
    "data = data.apply(lambda row: clean_tweet(row), axis =1)"
   ]
  },
  {
   "cell_type": "code",
   "execution_count": 41,
   "metadata": {},
   "outputs": [
    {
     "data": {
      "text/plain": [
       "498"
      ]
     },
     "execution_count": 41,
     "metadata": {},
     "output_type": "execute_result"
    }
   ],
   "source": [
    "data = data[pd.notnull(data['filtered_tweet'])]\n",
    "data = data[pd.notnull(data['IS/NO?'])]\n",
    "len(data)"
   ]
  },
  {
   "cell_type": "code",
   "execution_count": 42,
   "metadata": {},
   "outputs": [
    {
     "data": {
      "text/plain": [
       "0.0    455\n",
       "1.0     43\n",
       "Name: IS/NO?, dtype: int64"
      ]
     },
     "execution_count": 42,
     "metadata": {},
     "output_type": "execute_result"
    }
   ],
   "source": [
    "data['IS/NO?'].value_counts()"
   ]
  },
  {
   "cell_type": "markdown",
   "metadata": {},
   "source": [
    "# Over Sampling"
   ]
  },
  {
   "cell_type": "code",
   "execution_count": 43,
   "metadata": {},
   "outputs": [],
   "source": [
    "values = []\n",
    "for idx, val in data.iterrows():\n",
    "    if val['IS/NO?'] == 1:\n",
    "        for i in range(5):\n",
    "            values.append(val)\n",
    "    else:\n",
    "        values.append(val)\n",
    "data = pd.DataFrame(values)"
   ]
  },
  {
   "cell_type": "code",
   "execution_count": 44,
   "metadata": {},
   "outputs": [
    {
     "data": {
      "text/plain": [
       "0.0    455\n",
       "1.0    215\n",
       "Name: IS/NO?, dtype: int64"
      ]
     },
     "execution_count": 44,
     "metadata": {},
     "output_type": "execute_result"
    }
   ],
   "source": [
    "data['IS/NO?'].value_counts()"
   ]
  },
  {
   "cell_type": "code",
   "execution_count": 45,
   "metadata": {},
   "outputs": [],
   "source": [
    "data = data.sample(frac=1, random_state=7).reset_index(drop=True)"
   ]
  },
  {
   "cell_type": "code",
   "execution_count": 46,
   "metadata": {},
   "outputs": [
    {
     "data": {
      "text/html": [
       "<div>\n",
       "<style scoped>\n",
       "    .dataframe tbody tr th:only-of-type {\n",
       "        vertical-align: middle;\n",
       "    }\n",
       "\n",
       "    .dataframe tbody tr th {\n",
       "        vertical-align: top;\n",
       "    }\n",
       "\n",
       "    .dataframe thead th {\n",
       "        text-align: right;\n",
       "    }\n",
       "</style>\n",
       "<table border=\"1\" class=\"dataframe\">\n",
       "  <thead>\n",
       "    <tr style=\"text-align: right;\">\n",
       "      <th></th>\n",
       "      <th>Text</th>\n",
       "      <th>IS/NO?</th>\n",
       "      <th>filtered_tweet</th>\n",
       "    </tr>\n",
       "  </thead>\n",
       "  <tbody>\n",
       "    <tr>\n",
       "      <th>0</th>\n",
       "      <td>Tell us there's cure instead....\\n\\nI said on ...</td>\n",
       "      <td>0.0</td>\n",
       "      <td>Tell us there's cure instead.... I said on beh...</td>\n",
       "    </tr>\n",
       "    <tr>\n",
       "      <th>1</th>\n",
       "      <td>Tencent may have accidentally leaked real dat....</td>\n",
       "      <td>0.0</td>\n",
       "      <td>Tencent may have accidentally leaked real dat....</td>\n",
       "    </tr>\n",
       "    <tr>\n",
       "      <th>2</th>\n",
       "      <td>Some #businesscontinuity examples of the impac...</td>\n",
       "      <td>0.0</td>\n",
       "      <td>Some #businesscontinuity examples of the impac...</td>\n",
       "    </tr>\n",
       "    <tr>\n",
       "      <th>3</th>\n",
       "      <td>Canadian scientists pioneer mask that kills vi...</td>\n",
       "      <td>0.0</td>\n",
       "      <td>Canadian scientists pioneer mask that kills vi...</td>\n",
       "    </tr>\n",
       "    <tr>\n",
       "      <th>4</th>\n",
       "      <td>So why did the DoD pick here in #Nebraska?   L...</td>\n",
       "      <td>1.0</td>\n",
       "      <td>So why did the DoD pick here in #Nebraska? Log...</td>\n",
       "    </tr>\n",
       "  </tbody>\n",
       "</table>\n",
       "</div>"
      ],
      "text/plain": [
       "                                                Text  IS/NO?  \\\n",
       "0  Tell us there's cure instead....\\n\\nI said on ...     0.0   \n",
       "1  Tencent may have accidentally leaked real dat....     0.0   \n",
       "2  Some #businesscontinuity examples of the impac...     0.0   \n",
       "3  Canadian scientists pioneer mask that kills vi...     0.0   \n",
       "4  So why did the DoD pick here in #Nebraska?   L...     1.0   \n",
       "\n",
       "                                      filtered_tweet  \n",
       "0  Tell us there's cure instead.... I said on beh...  \n",
       "1  Tencent may have accidentally leaked real dat....  \n",
       "2  Some #businesscontinuity examples of the impac...  \n",
       "3  Canadian scientists pioneer mask that kills vi...  \n",
       "4  So why did the DoD pick here in #Nebraska? Log...  "
      ]
     },
     "execution_count": 46,
     "metadata": {},
     "output_type": "execute_result"
    }
   ],
   "source": [
    "data.head(5)"
   ]
  },
  {
   "cell_type": "markdown",
   "metadata": {},
   "source": [
    "# TF-IDF Vectorizzation"
   ]
  },
  {
   "cell_type": "code",
   "execution_count": 47,
   "metadata": {},
   "outputs": [],
   "source": [
    "english_stemmer = snowballstemmer.stemmer('english')\n",
    "class StemmedTfidfVectorizer(TfidfVectorizer):\n",
    "    def build_analyzer(self):\n",
    "        analyzer = super(TfidfVectorizer, self).build_analyzer()\n",
    "        return lambda doc: english_stemmer.stemWords(analyzer(doc))"
   ]
  },
  {
   "cell_type": "code",
   "execution_count": 48,
   "metadata": {},
   "outputs": [],
   "source": [
    "tfidf_vect = StemmedTfidfVectorizer(min_df=5, stop_words='english', analyzer='word', ngram_range=(1,2), max_features=2500, norm='l2', encoding='utf-8')"
   ]
  },
  {
   "cell_type": "code",
   "execution_count": 49,
   "metadata": {},
   "outputs": [],
   "source": [
    "sentence_term_tfidf = tfidf_vect.fit_transform(data['filtered_tweet'])\n",
    "sentence_term_df = pd.DataFrame(sentence_term_tfidf.todense(), columns=np.sort(list(tfidf_vect.vocabulary_.keys())))\n",
    "sentence_term_df.columns = sentence_term_df.columns.map(lambda x: 'W_'+'_'+x)"
   ]
  },
  {
   "cell_type": "code",
   "execution_count": 50,
   "metadata": {},
   "outputs": [
    {
     "data": {
      "text/html": [
       "<div>\n",
       "<style scoped>\n",
       "    .dataframe tbody tr th:only-of-type {\n",
       "        vertical-align: middle;\n",
       "    }\n",
       "\n",
       "    .dataframe tbody tr th {\n",
       "        vertical-align: top;\n",
       "    }\n",
       "\n",
       "    .dataframe thead th {\n",
       "        text-align: right;\n",
       "    }\n",
       "</style>\n",
       "<table border=\"1\" class=\"dataframe\">\n",
       "  <thead>\n",
       "    <tr style=\"text-align: right;\">\n",
       "      <th></th>\n",
       "      <th>W__account</th>\n",
       "      <th>W__account follow</th>\n",
       "      <th>W__acrual</th>\n",
       "      <th>W__actual</th>\n",
       "      <th>W__affect</th>\n",
       "      <th>W__affecting asian</th>\n",
       "      <th>W__africa</th>\n",
       "      <th>W__africa south</th>\n",
       "      <th>W__agenc</th>\n",
       "      <th>W__agencies believ</th>\n",
       "      <th>...</th>\n",
       "      <th>W__world</th>\n",
       "      <th>W__world countri</th>\n",
       "      <th>W__worri</th>\n",
       "      <th>W__wtf</th>\n",
       "      <th>W__wtf happen</th>\n",
       "      <th>W__wuhan</th>\n",
       "      <th>W__wuhan china</th>\n",
       "      <th>W__wuhan coronavirus</th>\n",
       "      <th>W__youtub</th>\n",
       "      <th>W__youtube coronavirus</th>\n",
       "    </tr>\n",
       "  </thead>\n",
       "  <tbody>\n",
       "    <tr>\n",
       "      <th>0</th>\n",
       "      <td>0.0</td>\n",
       "      <td>0.0</td>\n",
       "      <td>0.0</td>\n",
       "      <td>0.0</td>\n",
       "      <td>0.0</td>\n",
       "      <td>0.0</td>\n",
       "      <td>0.0</td>\n",
       "      <td>0.0</td>\n",
       "      <td>0.0</td>\n",
       "      <td>0.0</td>\n",
       "      <td>...</td>\n",
       "      <td>0.000000</td>\n",
       "      <td>0.000000</td>\n",
       "      <td>0.0</td>\n",
       "      <td>0.0</td>\n",
       "      <td>0.0</td>\n",
       "      <td>0.0</td>\n",
       "      <td>0.0</td>\n",
       "      <td>0.0</td>\n",
       "      <td>0.0</td>\n",
       "      <td>0.0</td>\n",
       "    </tr>\n",
       "    <tr>\n",
       "      <th>1</th>\n",
       "      <td>0.0</td>\n",
       "      <td>0.0</td>\n",
       "      <td>0.0</td>\n",
       "      <td>0.0</td>\n",
       "      <td>0.0</td>\n",
       "      <td>0.0</td>\n",
       "      <td>0.0</td>\n",
       "      <td>0.0</td>\n",
       "      <td>0.0</td>\n",
       "      <td>0.0</td>\n",
       "      <td>...</td>\n",
       "      <td>0.000000</td>\n",
       "      <td>0.000000</td>\n",
       "      <td>0.0</td>\n",
       "      <td>0.0</td>\n",
       "      <td>0.0</td>\n",
       "      <td>0.0</td>\n",
       "      <td>0.0</td>\n",
       "      <td>0.0</td>\n",
       "      <td>0.0</td>\n",
       "      <td>0.0</td>\n",
       "    </tr>\n",
       "    <tr>\n",
       "      <th>2</th>\n",
       "      <td>0.0</td>\n",
       "      <td>0.0</td>\n",
       "      <td>0.0</td>\n",
       "      <td>0.0</td>\n",
       "      <td>0.0</td>\n",
       "      <td>0.0</td>\n",
       "      <td>0.0</td>\n",
       "      <td>0.0</td>\n",
       "      <td>0.0</td>\n",
       "      <td>0.0</td>\n",
       "      <td>...</td>\n",
       "      <td>0.000000</td>\n",
       "      <td>0.000000</td>\n",
       "      <td>0.0</td>\n",
       "      <td>0.0</td>\n",
       "      <td>0.0</td>\n",
       "      <td>0.0</td>\n",
       "      <td>0.0</td>\n",
       "      <td>0.0</td>\n",
       "      <td>0.0</td>\n",
       "      <td>0.0</td>\n",
       "    </tr>\n",
       "    <tr>\n",
       "      <th>3</th>\n",
       "      <td>0.0</td>\n",
       "      <td>0.0</td>\n",
       "      <td>0.0</td>\n",
       "      <td>0.0</td>\n",
       "      <td>0.0</td>\n",
       "      <td>0.0</td>\n",
       "      <td>0.0</td>\n",
       "      <td>0.0</td>\n",
       "      <td>0.0</td>\n",
       "      <td>0.0</td>\n",
       "      <td>...</td>\n",
       "      <td>0.000000</td>\n",
       "      <td>0.000000</td>\n",
       "      <td>0.0</td>\n",
       "      <td>0.0</td>\n",
       "      <td>0.0</td>\n",
       "      <td>0.0</td>\n",
       "      <td>0.0</td>\n",
       "      <td>0.0</td>\n",
       "      <td>0.0</td>\n",
       "      <td>0.0</td>\n",
       "    </tr>\n",
       "    <tr>\n",
       "      <th>4</th>\n",
       "      <td>0.0</td>\n",
       "      <td>0.0</td>\n",
       "      <td>0.0</td>\n",
       "      <td>0.0</td>\n",
       "      <td>0.0</td>\n",
       "      <td>0.0</td>\n",
       "      <td>0.0</td>\n",
       "      <td>0.0</td>\n",
       "      <td>0.0</td>\n",
       "      <td>0.0</td>\n",
       "      <td>...</td>\n",
       "      <td>0.203333</td>\n",
       "      <td>0.254683</td>\n",
       "      <td>0.0</td>\n",
       "      <td>0.0</td>\n",
       "      <td>0.0</td>\n",
       "      <td>0.0</td>\n",
       "      <td>0.0</td>\n",
       "      <td>0.0</td>\n",
       "      <td>0.0</td>\n",
       "      <td>0.0</td>\n",
       "    </tr>\n",
       "  </tbody>\n",
       "</table>\n",
       "<p>5 rows × 563 columns</p>\n",
       "</div>"
      ],
      "text/plain": [
       "   W__account  W__account follow  W__acrual  W__actual  W__affect  \\\n",
       "0         0.0                0.0        0.0        0.0        0.0   \n",
       "1         0.0                0.0        0.0        0.0        0.0   \n",
       "2         0.0                0.0        0.0        0.0        0.0   \n",
       "3         0.0                0.0        0.0        0.0        0.0   \n",
       "4         0.0                0.0        0.0        0.0        0.0   \n",
       "\n",
       "   W__affecting asian  W__africa  W__africa south  W__agenc  \\\n",
       "0                 0.0        0.0              0.0       0.0   \n",
       "1                 0.0        0.0              0.0       0.0   \n",
       "2                 0.0        0.0              0.0       0.0   \n",
       "3                 0.0        0.0              0.0       0.0   \n",
       "4                 0.0        0.0              0.0       0.0   \n",
       "\n",
       "   W__agencies believ  ...  W__world  W__world countri  W__worri  W__wtf  \\\n",
       "0                 0.0  ...  0.000000          0.000000       0.0     0.0   \n",
       "1                 0.0  ...  0.000000          0.000000       0.0     0.0   \n",
       "2                 0.0  ...  0.000000          0.000000       0.0     0.0   \n",
       "3                 0.0  ...  0.000000          0.000000       0.0     0.0   \n",
       "4                 0.0  ...  0.203333          0.254683       0.0     0.0   \n",
       "\n",
       "   W__wtf happen  W__wuhan  W__wuhan china  W__wuhan coronavirus  W__youtub  \\\n",
       "0            0.0       0.0             0.0                   0.0        0.0   \n",
       "1            0.0       0.0             0.0                   0.0        0.0   \n",
       "2            0.0       0.0             0.0                   0.0        0.0   \n",
       "3            0.0       0.0             0.0                   0.0        0.0   \n",
       "4            0.0       0.0             0.0                   0.0        0.0   \n",
       "\n",
       "   W__youtube coronavirus  \n",
       "0                     0.0  \n",
       "1                     0.0  \n",
       "2                     0.0  \n",
       "3                     0.0  \n",
       "4                     0.0  \n",
       "\n",
       "[5 rows x 563 columns]"
      ]
     },
     "execution_count": 50,
     "metadata": {},
     "output_type": "execute_result"
    }
   ],
   "source": [
    "sentence_term_df.head(5)"
   ]
  },
  {
   "cell_type": "code",
   "execution_count": 51,
   "metadata": {},
   "outputs": [
    {
     "data": {
      "text/plain": [
       "(670, 563)"
      ]
     },
     "execution_count": 51,
     "metadata": {},
     "output_type": "execute_result"
    }
   ],
   "source": [
    "sentence_term_df.shape"
   ]
  },
  {
   "cell_type": "code",
   "execution_count": 52,
   "metadata": {},
   "outputs": [
    {
     "data": {
      "text/plain": [
       "(670,)"
      ]
     },
     "execution_count": 52,
     "metadata": {},
     "output_type": "execute_result"
    }
   ],
   "source": [
    "labels = data['IS/NO?']\n",
    "labels.shape"
   ]
  },
  {
   "cell_type": "code",
   "execution_count": 53,
   "metadata": {},
   "outputs": [],
   "source": [
    "features = sentence_term_df.values"
   ]
  },
  {
   "cell_type": "code",
   "execution_count": 54,
   "metadata": {},
   "outputs": [
    {
     "data": {
      "text/plain": [
       "(670, 563)"
      ]
     },
     "execution_count": 54,
     "metadata": {},
     "output_type": "execute_result"
    }
   ],
   "source": [
    "features.shape"
   ]
  },
  {
   "cell_type": "markdown",
   "metadata": {},
   "source": [
    "# Train Test Split"
   ]
  },
  {
   "cell_type": "code",
   "execution_count": 55,
   "metadata": {},
   "outputs": [],
   "source": [
    "X_train, X_test, y_train, y_test = train_test_split(features, labels, test_size=0.30, random_state=42)"
   ]
  },
  {
   "cell_type": "code",
   "execution_count": 56,
   "metadata": {},
   "outputs": [
    {
     "data": {
      "text/plain": [
       "(469, 201)"
      ]
     },
     "execution_count": 56,
     "metadata": {},
     "output_type": "execute_result"
    }
   ],
   "source": [
    "len(X_train), len(X_test)"
   ]
  },
  {
   "cell_type": "markdown",
   "metadata": {},
   "source": [
    "# Print Classification Report"
   ]
  },
  {
   "cell_type": "code",
   "execution_count": 57,
   "metadata": {},
   "outputs": [],
   "source": [
    "## For printing CLassification report with Accuracy\n",
    "def print_classification_result(y_test, y_pred):\n",
    "    target_names = ['Non-Information Seeking', 'Information Seeking']\n",
    "    tn, fp, fn, tp = confusion_matrix(y_test, y_pred).ravel()\n",
    "    specificity = tn / (tn+fp)\n",
    "    print(classification_report(y_test, y_pred, target_names=target_names))\n",
    "    print('Avg. Accuracy: ', accuracy_score(y_test, y_pred))\n",
    "    print('Specifity: ', specificity)"
   ]
  },
  {
   "cell_type": "markdown",
   "metadata": {},
   "source": [
    "# Milestone 3 Code"
   ]
  },
  {
   "cell_type": "markdown",
   "metadata": {},
   "source": [
    "# SVM"
   ]
  },
  {
   "cell_type": "code",
   "execution_count": 58,
   "metadata": {},
   "outputs": [],
   "source": [
    "from sklearn import svm"
   ]
  },
  {
   "cell_type": "code",
   "execution_count": 59,
   "metadata": {},
   "outputs": [],
   "source": [
    "svm_clf = svm.SVC()"
   ]
  },
  {
   "cell_type": "code",
   "execution_count": 60,
   "metadata": {},
   "outputs": [
    {
     "name": "stdout",
     "output_type": "stream",
     "text": [
      "                         precision    recall  f1-score   support\n",
      "\n",
      "Non-Information Seeking       1.00      1.00      1.00       141\n",
      "    Information Seeking       1.00      1.00      1.00        60\n",
      "\n",
      "               accuracy                           1.00       201\n",
      "              macro avg       1.00      1.00      1.00       201\n",
      "           weighted avg       1.00      1.00      1.00       201\n",
      "\n",
      "Avg. Accuracy:  1.0\n",
      "Specifity:  1.0\n"
     ]
    }
   ],
   "source": [
    "sv_trained = svm_clf.fit(X_train,y_train)\n",
    "y_pred = sv_trained.predict(X_test)\n",
    "print_classification_result(y_test, y_pred)"
   ]
  },
  {
   "cell_type": "markdown",
   "metadata": {},
   "source": [
    "# Replacing Kernels"
   ]
  },
  {
   "cell_type": "code",
   "execution_count": 61,
   "metadata": {},
   "outputs": [
    {
     "name": "stdout",
     "output_type": "stream",
     "text": [
      "=================== For linear Kernel ================\n",
      "                         precision    recall  f1-score   support\n",
      "\n",
      "Non-Information Seeking       1.00      0.99      0.99       141\n",
      "    Information Seeking       0.97      1.00      0.98        60\n",
      "\n",
      "               accuracy                           0.99       201\n",
      "              macro avg       0.98      0.99      0.99       201\n",
      "           weighted avg       0.99      0.99      0.99       201\n",
      "\n",
      "Avg. Accuracy:  0.9900497512437811\n",
      "Specifity:  0.9858156028368794\n",
      "=================== For poly Kernel ================\n",
      "                         precision    recall  f1-score   support\n",
      "\n",
      "Non-Information Seeking       1.00      1.00      1.00       141\n",
      "    Information Seeking       1.00      1.00      1.00        60\n",
      "\n",
      "               accuracy                           1.00       201\n",
      "              macro avg       1.00      1.00      1.00       201\n",
      "           weighted avg       1.00      1.00      1.00       201\n",
      "\n",
      "Avg. Accuracy:  1.0\n",
      "Specifity:  1.0\n"
     ]
    }
   ],
   "source": [
    "for kernel in ('linear', 'poly'):\n",
    "    svm_clf = svm.SVC(kernel=kernel)\n",
    "    sv_trained = svm_clf.fit(X_train,y_train)\n",
    "    y_pred = sv_trained.predict(X_test)\n",
    "    print(\"=================== For \" + kernel+  \" Kernel ================\")\n",
    "    print_classification_result(y_test, y_pred)"
   ]
  },
  {
   "cell_type": "markdown",
   "metadata": {},
   "source": [
    "# Clustering"
   ]
  },
  {
   "cell_type": "markdown",
   "metadata": {},
   "source": [
    "## K-Means"
   ]
  },
  {
   "cell_type": "code",
   "execution_count": 62,
   "metadata": {},
   "outputs": [],
   "source": [
    "from sklearn.feature_extraction.text import TfidfVectorizer\n",
    "from sklearn.cluster import KMeans\n",
    "from sklearn.metrics import adjusted_rand_score"
   ]
  },
  {
   "cell_type": "code",
   "execution_count": 63,
   "metadata": {},
   "outputs": [],
   "source": [
    "documents = data['filtered_tweet'].values.tolist()\n",
    "\n",
    "vectorizer = TfidfVectorizer(stop_words='english')\n",
    "X = vectorizer.fit_transform(documents)"
   ]
  },
  {
   "cell_type": "code",
   "execution_count": 64,
   "metadata": {},
   "outputs": [
    {
     "data": {
      "text/plain": [
       "KMeans(algorithm='auto', copy_x=True, init='k-means++', max_iter=100,\n",
       "       n_clusters=2, n_init=1, n_jobs=None, precompute_distances='auto',\n",
       "       random_state=None, tol=0.0001, verbose=0)"
      ]
     },
     "execution_count": 64,
     "metadata": {},
     "output_type": "execute_result"
    }
   ],
   "source": [
    "true_k = 2\n",
    "model = KMeans(n_clusters=true_k, init='k-means++', max_iter=100, n_init=1)\n",
    "model.fit(X)"
   ]
  },
  {
   "cell_type": "code",
   "execution_count": 65,
   "metadata": {},
   "outputs": [],
   "source": [
    "predicted_lables = model.labels_.tolist()\n",
    "original_lables = data['IS/NO?'].values.tolist()"
   ]
  },
  {
   "cell_type": "code",
   "execution_count": 66,
   "metadata": {},
   "outputs": [],
   "source": [
    "class_0 = 0\n",
    "class_1 = 0\n",
    "for pred in predicted_lables:\n",
    "    if pred == 0:\n",
    "        class_0 += 1\n",
    "    else:\n",
    "        class_1 += 1"
   ]
  },
  {
   "cell_type": "code",
   "execution_count": 67,
   "metadata": {},
   "outputs": [
    {
     "data": {
      "text/plain": [
       "(505, 165)"
      ]
     },
     "execution_count": 67,
     "metadata": {},
     "output_type": "execute_result"
    }
   ],
   "source": [
    "class_0, class_1"
   ]
  },
  {
   "cell_type": "code",
   "execution_count": 68,
   "metadata": {},
   "outputs": [
    {
     "name": "stdout",
     "output_type": "stream",
     "text": [
      "Top terms per cluster:\n",
      "Cluster 0:\n",
      " coronavirus\n",
      " numnum\n",
      " truth\n",
      " num\n",
      " people\n",
      " new\n",
      " just\n",
      " hospital\n",
      " australia\n",
      " numnumnum\n",
      "Cluster 1:\n",
      " china\n",
      " virus\n",
      " coronavirus\n",
      " wuhan\n",
      " outbreak\n",
      " corona\n",
      " details\n",
      " gt\n",
      " health\n",
      " novel\n"
     ]
    }
   ],
   "source": [
    "print(\"Top terms per cluster:\")\n",
    "order_centroids = model.cluster_centers_.argsort()[:, ::-1]\n",
    "terms = vectorizer.get_feature_names()\n",
    "for i in range(true_k):\n",
    "    print(\"Cluster %d:\" % i),\n",
    "    for ind in order_centroids[i, :10]:\n",
    "        print(' %s' % terms[ind]),\n",
    "    print"
   ]
  },
  {
   "cell_type": "markdown",
   "metadata": {},
   "source": [
    "## Hierarchical Clustering"
   ]
  },
  {
   "cell_type": "code",
   "execution_count": 69,
   "metadata": {},
   "outputs": [],
   "source": [
    "import matplotlib.pyplot as plt\n",
    "%matplotlib inline"
   ]
  },
  {
   "cell_type": "code",
   "execution_count": 70,
   "metadata": {},
   "outputs": [],
   "source": [
    "import scipy.cluster.hierarchy as shc"
   ]
  },
  {
   "cell_type": "code",
   "execution_count": 71,
   "metadata": {},
   "outputs": [
    {
     "data": {
      "text/plain": [
       "<matplotlib.lines.Line2D at 0x25033c45320>"
      ]
     },
     "execution_count": 71,
     "metadata": {},
     "output_type": "execute_result"
    },
    {
     "data": {
      "image/png": "[encoded data removed]",
      "text/plain": [
       "<Figure size 720x504 with 1 Axes>"
      ]
     },
     "metadata": {
      "needs_background": "light"
     },
     "output_type": "display_data"
    }
   ],
   "source": [
    "plt.figure(figsize=(10, 7))  \n",
    "plt.title(\"Dendrograms\")  \n",
    "dend = shc.dendrogram(shc.linkage(sentence_term_df, method='ward'))\n",
    "plt.axhline(y=5.8, color='r', linestyle='--')"
   ]
  },
  {
   "cell_type": "code",
   "execution_count": 72,
   "metadata": {},
   "outputs": [],
   "source": [
    "from sklearn.cluster import AgglomerativeClustering\n",
    "cluster = AgglomerativeClustering(n_clusters=2, affinity='euclidean', linkage='ward')  \n",
    "predictions = cluster.fit_predict(sentence_term_df)"
   ]
  },
  {
   "cell_type": "code",
   "execution_count": 73,
   "metadata": {},
   "outputs": [],
   "source": [
    "class_0 = 0\n",
    "class_1 = 0\n",
    "for pred in predictions:\n",
    "    if pred == 0:\n",
    "        class_0 += 1\n",
    "    else:\n",
    "        class_1 += 1"
   ]
  },
  {
   "cell_type": "code",
   "execution_count": 74,
   "metadata": {},
   "outputs": [
    {
     "data": {
      "text/plain": [
       "(655, 15)"
      ]
     },
     "execution_count": 74,
     "metadata": {},
     "output_type": "execute_result"
    }
   ],
   "source": [
    "class_0, class_1"
   ]
  },
  {
   "cell_type": "markdown",
   "metadata": {},
   "source": [
    "## DBScan"
   ]
  },
  {
   "cell_type": "code",
   "execution_count": 75,
   "metadata": {},
   "outputs": [],
   "source": [
    "from sklearn.cluster import DBSCAN"
   ]
  },
  {
   "cell_type": "code",
   "execution_count": 76,
   "metadata": {},
   "outputs": [],
   "source": [
    "clustering = DBSCAN(min_samples=6).fit(sentence_term_df)"
   ]
  },
  {
   "cell_type": "code",
   "execution_count": 77,
   "metadata": {},
   "outputs": [
    {
     "data": {
      "text/plain": [
       "array([-1, -1,  0, -1, -1, -1, -1, -1, -1, -1, -1, -1, -1, -1, -1, -1, -1,\n",
       "       -1, -1, -1, -1,  1, -1, -1, -1, -1,  2, -1, -1, -1,  1, -1, -1, -1,\n",
       "        3, -1, -1, -1, -1,  3, -1, -1,  0, -1, -1,  1, -1, -1, -1, -1, -1,\n",
       "       -1, -1, -1, -1, -1, -1, -1, -1, -1, -1, -1,  4, -1, -1, -1, -1, -1,\n",
       "        3, -1, -1, -1, -1, -1, -1, -1, -1, -1, -1, -1, -1, -1, -1, -1, -1,\n",
       "       -1, -1, -1, -1, -1, -1, -1,  2, -1, -1, -1, -1,  0,  2, -1, -1, -1,\n",
       "       -1, -1, -1, -1,  0, -1, -1, -1, -1, -1, -1, -1, -1, -1, -1, -1, -1,\n",
       "       -1, -1,  1, -1, -1, -1, -1, -1, -1, -1, -1, -1, -1, -1, -1, -1, -1,\n",
       "        1, -1, -1, -1, -1, -1, -1, -1, -1, -1, -1, -1,  4, -1, -1, -1, -1,\n",
       "       -1, -1, -1, -1, -1, -1, -1, -1, -1, -1, -1, -1, -1, -1, -1, -1, -1,\n",
       "       -1, -1, -1, -1, -1, -1, -1, -1, -1, -1, -1, -1, -1, -1, -1, -1, -1,\n",
       "       -1, -1, -1, -1, -1, -1, -1, -1, -1, -1, -1, -1, -1,  0, -1, -1, -1,\n",
       "       -1, -1, -1, -1, -1, -1, -1, -1, -1, -1, -1, -1, -1, -1, -1, -1,  1,\n",
       "       -1, -1, -1, -1, -1, -1,  1, -1, -1, -1, -1, -1, -1, -1, -1, -1, -1,\n",
       "       -1, -1, -1, -1, -1, -1, -1, -1, -1, -1, -1, -1,  1, -1, -1, -1,  4,\n",
       "       -1,  4, -1, -1,  1, -1, -1, -1,  1, -1, -1, -1, -1, -1, -1, -1, -1,\n",
       "       -1, -1, -1, -1,  2, -1, -1, -1, -1, -1, -1, -1, -1, -1, -1, -1, -1,\n",
       "       -1, -1, -1,  1, -1, -1, -1, -1, -1, -1, -1, -1,  1, -1,  4, -1, -1,\n",
       "       -1,  4, -1, -1, -1,  4, -1, -1, -1, -1, -1, -1, -1, -1, -1, -1, -1,\n",
       "       -1, -1, -1, -1, -1, -1, -1, -1, -1, -1, -1, -1,  2, -1,  1, -1, -1,\n",
       "       -1, -1, -1,  1, -1, -1, -1, -1, -1, -1, -1, -1, -1, -1, -1,  1, -1,\n",
       "       -1, -1, -1, -1, -1, -1, -1, -1, -1, -1, -1, -1,  0, -1, -1, -1, -1,\n",
       "       -1, -1, -1,  4, -1, -1, -1, -1, -1, -1, -1, -1, -1, -1,  2, -1,  4,\n",
       "       -1, -1,  1, -1, -1, -1, -1, -1, -1, -1, -1, -1, -1,  3, -1, -1, -1,\n",
       "       -1, -1, -1, -1,  2, -1, -1, -1, -1, -1, -1, -1, -1, -1, -1, -1, -1,\n",
       "       -1, -1, -1, -1, -1, -1, -1, -1, -1,  1, -1, -1,  4, -1, -1, -1, -1,\n",
       "       -1, -1, -1, -1,  1, -1, -1, -1, -1,  2,  1, -1, -1, -1, -1, -1, -1,\n",
       "       -1, -1, -1, -1, -1,  0, -1, -1,  1, -1, -1, -1, -1, -1, -1, -1, -1,\n",
       "        1, -1, -1, -1, -1,  4, -1, -1, -1, -1, -1,  1,  3, -1, -1, -1, -1,\n",
       "       -1, -1, -1, -1,  2,  4, -1, -1, -1, -1, -1, -1, -1, -1,  2, -1, -1,\n",
       "       -1, -1, -1, -1, -1, -1, -1, -1, -1, -1, -1, -1, -1, -1, -1, -1, -1,\n",
       "       -1, -1, -1, -1, -1, -1, -1, -1, -1,  1, -1, -1, -1, -1, -1, -1, -1,\n",
       "       -1, -1, -1, -1,  2, -1, -1, -1, -1, -1, -1, -1, -1,  3, -1, -1, -1,\n",
       "       -1,  4, -1, -1, -1, -1,  0, -1, -1, -1, -1, -1, -1, -1, -1, -1, -1,\n",
       "       -1, -1, -1, -1,  2, -1, -1, -1, -1, -1, -1, -1, -1, -1, -1, -1, -1,\n",
       "       -1, -1, -1, -1, -1, -1, -1, -1, -1,  2, -1, -1, -1, -1, -1, -1, -1,\n",
       "       -1, -1, -1, -1, -1, -1,  2, -1, -1, -1,  1, -1, -1, -1, -1, -1, -1,\n",
       "       -1, -1,  1,  4, -1,  0, -1, -1, -1, -1, -1, -1, -1, -1,  2, -1, -1,\n",
       "       -1, -1, -1, -1, -1,  1, -1, -1,  4, -1, -1, -1,  1, -1, -1, -1, -1,\n",
       "       -1, -1, -1, -1, -1, -1, -1], dtype=int64)"
      ]
     },
     "execution_count": 77,
     "metadata": {},
     "output_type": "execute_result"
    }
   ],
   "source": [
    "clustering.labels_"
   ]
  },
  {
   "cell_type": "code",
   "execution_count": 78,
   "metadata": {},
   "outputs": [],
   "source": [
    "cluster_map = {}\n",
    "for cluster in clustering.labels_:\n",
    "    if cluster not in cluster_map:\n",
    "        cluster_map[cluster] = 0\n",
    "        cluster_map[cluster] += 1\n",
    "    else:\n",
    "        cluster_map[cluster] += 1"
   ]
  },
  {
   "cell_type": "code",
   "execution_count": 79,
   "metadata": {},
   "outputs": [
    {
     "data": {
      "text/plain": [
       "{-1: 598, 0: 9, 1: 27, 2: 15, 3: 6, 4: 15}"
      ]
     },
     "execution_count": 79,
     "metadata": {},
     "output_type": "execute_result"
    }
   ],
   "source": [
    "cluster_map"
   ]
  },
  {
   "cell_type": "markdown",
   "metadata": {},
   "source": [
    "# Neural Networks"
   ]
  },
  {
   "cell_type": "code",
   "execution_count": 80,
   "metadata": {},
   "outputs": [
    {
     "name": "stderr",
     "output_type": "stream",
     "text": [
      "Using TensorFlow backend.\n"
     ]
    }
   ],
   "source": [
    "from sklearn.feature_extraction.text import CountVectorizer\n",
    "from keras.preprocessing.text import Tokenizer\n",
    "from keras.preprocessing.sequence import pad_sequences\n",
    "from keras.models import Sequential\n",
    "from keras.layers import Dense, Embedding, LSTM\n",
    "from sklearn.model_selection import train_test_split\n",
    "from keras.utils.np_utils import to_categorical\n",
    "import re"
   ]
  },
  {
   "cell_type": "code",
   "execution_count": 81,
   "metadata": {},
   "outputs": [
    {
     "name": "stderr",
     "output_type": "stream",
     "text": [
      "C:\\Users\\Shreeya\\Anaconda3\\lib\\site-packages\\keras_preprocessing\\text.py:178: UserWarning: The `nb_words` argument in `Tokenizer` has been renamed `num_words`.\n",
      "  warnings.warn('The `nb_words` argument in `Tokenizer` '\n"
     ]
    }
   ],
   "source": [
    "max_fatures = 3000\n",
    "tokenizer = Tokenizer(nb_words=max_fatures, split=' ')\n",
    "tokenizer.fit_on_texts(data['filtered_tweet'].values)\n",
    "X1 = tokenizer.texts_to_sequences(data['filtered_tweet'].values)\n",
    "X1 = pad_sequences(X1)"
   ]
  },
  {
   "cell_type": "code",
   "execution_count": 82,
   "metadata": {},
   "outputs": [
    {
     "name": "stdout",
     "output_type": "stream",
     "text": [
      "(502, 25) (502, 2)\n",
      "(168, 25) (168, 2)\n"
     ]
    }
   ],
   "source": [
    "Y1 = pd.get_dummies(data['IS/NO?']).values\n",
    "X1_train, X1_test, Y1_train, Y1_test = train_test_split(X1,Y1, random_state = 42)\n",
    "print(X1_train.shape,Y1_train.shape)\n",
    "print(X1_test.shape,Y1_test.shape)"
   ]
  },
  {
   "cell_type": "code",
   "execution_count": 83,
   "metadata": {},
   "outputs": [],
   "source": [
    "y_test = []\n",
    "for ent in Y1_test:\n",
    "    if ent[0] == 1:\n",
    "        y_test.append(0)\n",
    "    else:\n",
    "        y_test.append(1)\n",
    "y_test= np.asarray(y_test)\n",
    "\n",
    "embed_dim = 200\n",
    "lstm_out = 200\n",
    "max_features = 3000"
   ]
  },
  {
   "cell_type": "code",
   "execution_count": 84,
   "metadata": {},
   "outputs": [],
   "source": [
    "def NN_model(hidden_layer):\n",
    "    model = Sequential()\n",
    "    model.add(Embedding(max_features, embed_dim,input_length = X1_train.shape[1], dropout=0.2))\n",
    "    model.add(LSTM(lstm_out, dropout_U=0.2,dropout_W=0.2))\n",
    "    for i in range(hidden_layer):\n",
    "        model.add(Dense(2,activation='softmax'))\n",
    "    model.compile(loss = 'categorical_crossentropy', optimizer='adam',metrics = ['accuracy'])\n",
    "    model.fit(X1_train, Y1_train, nb_epoch = 10,verbose = 0)\n",
    "    yhat_classes = model.predict_classes(X1_test, verbose=0)\n",
    "    accuracy = accuracy_score(y_test, yhat_classes)\n",
    "    return {'layer': hidden_layer, 'accuracy': accuracy}"
   ]
  },
  {
   "cell_type": "code",
   "execution_count": 85,
   "metadata": {},
   "outputs": [
    {
     "name": "stderr",
     "output_type": "stream",
     "text": [
      "C:\\Users\\Shreeya\\Anaconda3\\lib\\site-packages\\ipykernel_launcher.py:3: UserWarning: The `dropout` argument is no longer support in `Embedding`. You can apply a `keras.layers.SpatialDropout1D` layer right after the `Embedding` layer to get the same behavior.\n",
      "  This is separate from the ipykernel package so we can avoid doing imports until\n",
      "C:\\Users\\Shreeya\\Anaconda3\\lib\\site-packages\\ipykernel_launcher.py:4: UserWarning: Update your `LSTM` call to the Keras 2 API: `LSTM(200, dropout=0.2, recurrent_dropout=0.2)`\n",
      "  after removing the cwd from sys.path.\n",
      "C:\\Users\\Shreeya\\Anaconda3\\lib\\site-packages\\ipykernel_launcher.py:8: UserWarning: The `nb_epoch` argument in `fit` has been renamed `epochs`.\n",
      "  \n",
      "C:\\Users\\Shreeya\\Anaconda3\\lib\\site-packages\\tensorflow_core\\python\\framework\\indexed_slices.py:424: UserWarning: Converting sparse IndexedSlices to a dense Tensor of unknown shape. This may consume a large amount of memory.\n",
      "  \"Converting sparse IndexedSlices to a dense Tensor of unknown shape. \"\n",
      "C:\\Users\\Shreeya\\Anaconda3\\lib\\site-packages\\ipykernel_launcher.py:3: UserWarning: The `dropout` argument is no longer support in `Embedding`. You can apply a `keras.layers.SpatialDropout1D` layer right after the `Embedding` layer to get the same behavior.\n",
      "  This is separate from the ipykernel package so we can avoid doing imports until\n",
      "C:\\Users\\Shreeya\\Anaconda3\\lib\\site-packages\\ipykernel_launcher.py:4: UserWarning: Update your `LSTM` call to the Keras 2 API: `LSTM(200, dropout=0.2, recurrent_dropout=0.2)`\n",
      "  after removing the cwd from sys.path.\n",
      "C:\\Users\\Shreeya\\Anaconda3\\lib\\site-packages\\ipykernel_launcher.py:8: UserWarning: The `nb_epoch` argument in `fit` has been renamed `epochs`.\n",
      "  \n",
      "C:\\Users\\Shreeya\\Anaconda3\\lib\\site-packages\\tensorflow_core\\python\\framework\\indexed_slices.py:424: UserWarning: Converting sparse IndexedSlices to a dense Tensor of unknown shape. This may consume a large amount of memory.\n",
      "  \"Converting sparse IndexedSlices to a dense Tensor of unknown shape. \"\n",
      "C:\\Users\\Shreeya\\Anaconda3\\lib\\site-packages\\ipykernel_launcher.py:3: UserWarning: The `dropout` argument is no longer support in `Embedding`. You can apply a `keras.layers.SpatialDropout1D` layer right after the `Embedding` layer to get the same behavior.\n",
      "  This is separate from the ipykernel package so we can avoid doing imports until\n",
      "C:\\Users\\Shreeya\\Anaconda3\\lib\\site-packages\\ipykernel_launcher.py:4: UserWarning: Update your `LSTM` call to the Keras 2 API: `LSTM(200, dropout=0.2, recurrent_dropout=0.2)`\n",
      "  after removing the cwd from sys.path.\n",
      "C:\\Users\\Shreeya\\Anaconda3\\lib\\site-packages\\ipykernel_launcher.py:8: UserWarning: The `nb_epoch` argument in `fit` has been renamed `epochs`.\n",
      "  \n",
      "C:\\Users\\Shreeya\\Anaconda3\\lib\\site-packages\\tensorflow_core\\python\\framework\\indexed_slices.py:424: UserWarning: Converting sparse IndexedSlices to a dense Tensor of unknown shape. This may consume a large amount of memory.\n",
      "  \"Converting sparse IndexedSlices to a dense Tensor of unknown shape. \"\n",
      "C:\\Users\\Shreeya\\Anaconda3\\lib\\site-packages\\ipykernel_launcher.py:3: UserWarning: The `dropout` argument is no longer support in `Embedding`. You can apply a `keras.layers.SpatialDropout1D` layer right after the `Embedding` layer to get the same behavior.\n",
      "  This is separate from the ipykernel package so we can avoid doing imports until\n",
      "C:\\Users\\Shreeya\\Anaconda3\\lib\\site-packages\\ipykernel_launcher.py:4: UserWarning: Update your `LSTM` call to the Keras 2 API: `LSTM(200, dropout=0.2, recurrent_dropout=0.2)`\n",
      "  after removing the cwd from sys.path.\n",
      "C:\\Users\\Shreeya\\Anaconda3\\lib\\site-packages\\ipykernel_launcher.py:8: UserWarning: The `nb_epoch` argument in `fit` has been renamed `epochs`.\n",
      "  \n",
      "C:\\Users\\Shreeya\\Anaconda3\\lib\\site-packages\\tensorflow_core\\python\\framework\\indexed_slices.py:424: UserWarning: Converting sparse IndexedSlices to a dense Tensor of unknown shape. This may consume a large amount of memory.\n",
      "  \"Converting sparse IndexedSlices to a dense Tensor of unknown shape. \"\n",
      "C:\\Users\\Shreeya\\Anaconda3\\lib\\site-packages\\ipykernel_launcher.py:3: UserWarning: The `dropout` argument is no longer support in `Embedding`. You can apply a `keras.layers.SpatialDropout1D` layer right after the `Embedding` layer to get the same behavior.\n",
      "  This is separate from the ipykernel package so we can avoid doing imports until\n",
      "C:\\Users\\Shreeya\\Anaconda3\\lib\\site-packages\\ipykernel_launcher.py:4: UserWarning: Update your `LSTM` call to the Keras 2 API: `LSTM(200, dropout=0.2, recurrent_dropout=0.2)`\n",
      "  after removing the cwd from sys.path.\n",
      "C:\\Users\\Shreeya\\Anaconda3\\lib\\site-packages\\ipykernel_launcher.py:8: UserWarning: The `nb_epoch` argument in `fit` has been renamed `epochs`.\n",
      "  \n",
      "C:\\Users\\Shreeya\\Anaconda3\\lib\\site-packages\\tensorflow_core\\python\\framework\\indexed_slices.py:424: UserWarning: Converting sparse IndexedSlices to a dense Tensor of unknown shape. This may consume a large amount of memory.\n",
      "  \"Converting sparse IndexedSlices to a dense Tensor of unknown shape. \"\n"
     ]
    }
   ],
   "source": [
    "nn_results = []\n",
    "for i in [1,2,3,4,5]:\n",
    "    nn_results.append(NN_model(i))"
   ]
  },
  {
   "cell_type": "code",
   "execution_count": 86,
   "metadata": {},
   "outputs": [],
   "source": [
    "nn_per = pd.DataFrame(nn_results)"
   ]
  },
  {
   "cell_type": "code",
   "execution_count": 87,
   "metadata": {},
   "outputs": [
    {
     "data": {
      "text/html": [
       "<div>\n",
       "<style scoped>\n",
       "    .dataframe tbody tr th:only-of-type {\n",
       "        vertical-align: middle;\n",
       "    }\n",
       "\n",
       "    .dataframe tbody tr th {\n",
       "        vertical-align: top;\n",
       "    }\n",
       "\n",
       "    .dataframe thead th {\n",
       "        text-align: right;\n",
       "    }\n",
       "</style>\n",
       "<table border=\"1\" class=\"dataframe\">\n",
       "  <thead>\n",
       "    <tr style=\"text-align: right;\">\n",
       "      <th></th>\n",
       "      <th>layer</th>\n",
       "      <th>accuracy</th>\n",
       "    </tr>\n",
       "  </thead>\n",
       "  <tbody>\n",
       "    <tr>\n",
       "      <th>0</th>\n",
       "      <td>1</td>\n",
       "      <td>0.982143</td>\n",
       "    </tr>\n",
       "    <tr>\n",
       "      <th>1</th>\n",
       "      <td>2</td>\n",
       "      <td>0.970238</td>\n",
       "    </tr>\n",
       "    <tr>\n",
       "      <th>2</th>\n",
       "      <td>3</td>\n",
       "      <td>0.690476</td>\n",
       "    </tr>\n",
       "    <tr>\n",
       "      <th>3</th>\n",
       "      <td>4</td>\n",
       "      <td>0.690476</td>\n",
       "    </tr>\n",
       "    <tr>\n",
       "      <th>4</th>\n",
       "      <td>5</td>\n",
       "      <td>0.690476</td>\n",
       "    </tr>\n",
       "  </tbody>\n",
       "</table>\n",
       "</div>"
      ],
      "text/plain": [
       "   layer  accuracy\n",
       "0      1  0.982143\n",
       "1      2  0.970238\n",
       "2      3  0.690476\n",
       "3      4  0.690476\n",
       "4      5  0.690476"
      ]
     },
     "execution_count": 87,
     "metadata": {},
     "output_type": "execute_result"
    }
   ],
   "source": [
    "nn_per"
   ]
  },
  {
   "cell_type": "code",
   "execution_count": 88,
   "metadata": {},
   "outputs": [
    {
     "data": {
      "image/png": "[encoded data removed]",
      "text/plain": [
       "<Figure size 432x288 with 1 Axes>"
      ]
     },
     "metadata": {
      "needs_background": "light"
     },
     "output_type": "display_data"
    }
   ],
   "source": [
    "lines = nn_per.plot.line(x='layer', y='accuracy')"
   ]
  },
  {
   "cell_type": "markdown",
   "metadata": {},
   "source": [
    "# Comparitive Analysis"
   ]
  },
  {
   "cell_type": "code",
   "execution_count": 89,
   "metadata": {},
   "outputs": [],
   "source": [
    "from sklearn.model_selection import LeaveOneOut\n",
    "from sklearn.model_selection import KFold\n",
    "from sklearn.metrics import precision_score\n",
    "from sklearn.metrics import recall_score\n",
    "from sklearn.metrics import f1_score\n",
    "from sklearn.metrics import accuracy_score\n",
    "from sklearn.svm import SVC\n",
    "from sklearn.ensemble import RandomForestClassifier\n",
    "from sklearn.tree import DecisionTreeClassifier"
   ]
  },
  {
   "cell_type": "code",
   "execution_count": 90,
   "metadata": {},
   "outputs": [],
   "source": [
    "def model_classification(model, train, test):\n",
    "    X_train = sentence_term_df.iloc[train].values\n",
    "    X_test = sentence_term_df.iloc[test].values\n",
    "    y_train = data.iloc[train]['IS/NO?']\n",
    "    y_test = data.iloc[test]['IS/NO?']\n",
    "#     svm_clf = svm.SVC()\n",
    "    trained = model.fit(X_train,y_train)\n",
    "    y_pred = trained.predict(X_test)\n",
    "    precision = precision_score(y_test, y_pred, average='macro')\n",
    "    recall = recall_score(y_test, y_pred, average='macro')\n",
    "    f1 = f1_score(y_test, y_pred, average='macro')\n",
    "    accuracy = accuracy_score(y_test, y_pred)\n",
    "    return {'precision': precision, 'recall': recall, 'f1': f1, 'accuracy': accuracy}"
   ]
  },
  {
   "cell_type": "code",
   "execution_count": 91,
   "metadata": {},
   "outputs": [
    {
     "name": "stderr",
     "output_type": "stream",
     "text": [
      "C:\\Users\\Shreeya\\Anaconda3\\lib\\site-packages\\keras_preprocessing\\text.py:178: UserWarning: The `nb_words` argument in `Tokenizer` has been renamed `num_words`.\n",
      "  warnings.warn('The `nb_words` argument in `Tokenizer` '\n"
     ]
    }
   ],
   "source": [
    "max_fatures = 3000\n",
    "tokenizer = Tokenizer(nb_words=max_fatures, split=' ')\n",
    "tokenizer.fit_on_texts(data['filtered_tweet'].values)\n",
    "X1 = tokenizer.texts_to_sequences(data['filtered_tweet'].values)\n",
    "X1 = pad_sequences(X1)"
   ]
  },
  {
   "cell_type": "code",
   "execution_count": 92,
   "metadata": {},
   "outputs": [],
   "source": [
    "max_fatures = 3000\n",
    "tokenizer = Tokenizer(nb_words=max_fatures, split=' ')\n",
    "tokenizer.fit_on_texts(data['filtered_tweet'].values)\n",
    "X1 = tokenizer.texts_to_sequences(data['filtered_tweet'].values)\n",
    "Y1 = pd.get_dummies(data['IS/NO?']).values\n",
    "X1 = pad_sequences(X1)"
   ]
  },
  {
   "cell_type": "code",
   "execution_count": 93,
   "metadata": {},
   "outputs": [],
   "source": [
    "def classification_report_for_NN(train,test):\n",
    "#     print(len(train), len(test))\n",
    "    X1_train = X1[train]\n",
    "    X1_test = X1[test]\n",
    "    Y1_train = Y1[train]\n",
    "    Y1_test = Y1[test]\n",
    "    \n",
    "    embed_dim = 150\n",
    "    lstm_out = 200\n",
    "    max_features = 3000\n",
    "\n",
    "    model = Sequential()\n",
    "    model.add(Embedding(max_features, embed_dim,input_length = X1_train.shape[1], dropout=0.2))\n",
    "    model.add(LSTM(lstm_out, dropout_U=0.2,dropout_W=0.2))\n",
    "    model.add(Dense(2,activation='softmax'))\n",
    "    model.compile(loss = 'categorical_crossentropy', optimizer='adam',metrics = ['accuracy'])\n",
    "    batch_size = 32\n",
    "    model.fit(X1_train, Y1_train, nb_epoch = 10,verbose = 0)\n",
    "    yhat_classes = model.predict_classes(X1_test, verbose=0)\n",
    "    y_test = []\n",
    "    for ent in Y1_test:\n",
    "        if ent[0] == 1:\n",
    "            y_test.append(0)\n",
    "        else:\n",
    "            y_test.append(1)\n",
    "    y_test= np.asarray(y_test)\n",
    "    accuracy = accuracy_score(y_test, yhat_classes)\n",
    "    precision = precision_score(y_test, yhat_classes, average='macro')\n",
    "    recall = recall_score(y_test, yhat_classes, average='macro')\n",
    "    f1 = f1_score(y_test, yhat_classes, average='macro')\n",
    "    return {'precision': precision, 'recall': recall, 'f1': f1, 'accuracy': accuracy}"
   ]
  },
  {
   "cell_type": "markdown",
   "metadata": {},
   "source": [
    "## K-fold CV"
   ]
  },
  {
   "cell_type": "code",
   "execution_count": 94,
   "metadata": {},
   "outputs": [
    {
     "name": "stderr",
     "output_type": "stream",
     "text": [
      "C:\\Users\\Shreeya\\Anaconda3\\lib\\site-packages\\ipykernel_launcher.py:13: UserWarning: The `dropout` argument is no longer support in `Embedding`. You can apply a `keras.layers.SpatialDropout1D` layer right after the `Embedding` layer to get the same behavior.\n",
      "  del sys.path[0]\n",
      "C:\\Users\\Shreeya\\Anaconda3\\lib\\site-packages\\ipykernel_launcher.py:14: UserWarning: Update your `LSTM` call to the Keras 2 API: `LSTM(200, dropout=0.2, recurrent_dropout=0.2)`\n",
      "  \n",
      "C:\\Users\\Shreeya\\Anaconda3\\lib\\site-packages\\ipykernel_launcher.py:18: UserWarning: The `nb_epoch` argument in `fit` has been renamed `epochs`.\n",
      "C:\\Users\\Shreeya\\Anaconda3\\lib\\site-packages\\tensorflow_core\\python\\framework\\indexed_slices.py:424: UserWarning: Converting sparse IndexedSlices to a dense Tensor of unknown shape. This may consume a large amount of memory.\n",
      "  \"Converting sparse IndexedSlices to a dense Tensor of unknown shape. \"\n",
      "C:\\Users\\Shreeya\\Anaconda3\\lib\\site-packages\\ipykernel_launcher.py:13: UserWarning: The `dropout` argument is no longer support in `Embedding`. You can apply a `keras.layers.SpatialDropout1D` layer right after the `Embedding` layer to get the same behavior.\n",
      "  del sys.path[0]\n",
      "C:\\Users\\Shreeya\\Anaconda3\\lib\\site-packages\\ipykernel_launcher.py:14: UserWarning: Update your `LSTM` call to the Keras 2 API: `LSTM(200, dropout=0.2, recurrent_dropout=0.2)`\n",
      "  \n",
      "C:\\Users\\Shreeya\\Anaconda3\\lib\\site-packages\\ipykernel_launcher.py:18: UserWarning: The `nb_epoch` argument in `fit` has been renamed `epochs`.\n",
      "C:\\Users\\Shreeya\\Anaconda3\\lib\\site-packages\\tensorflow_core\\python\\framework\\indexed_slices.py:424: UserWarning: Converting sparse IndexedSlices to a dense Tensor of unknown shape. This may consume a large amount of memory.\n",
      "  \"Converting sparse IndexedSlices to a dense Tensor of unknown shape. \"\n",
      "C:\\Users\\Shreeya\\Anaconda3\\lib\\site-packages\\ipykernel_launcher.py:13: UserWarning: The `dropout` argument is no longer support in `Embedding`. You can apply a `keras.layers.SpatialDropout1D` layer right after the `Embedding` layer to get the same behavior.\n",
      "  del sys.path[0]\n",
      "C:\\Users\\Shreeya\\Anaconda3\\lib\\site-packages\\ipykernel_launcher.py:14: UserWarning: Update your `LSTM` call to the Keras 2 API: `LSTM(200, dropout=0.2, recurrent_dropout=0.2)`\n",
      "  \n",
      "C:\\Users\\Shreeya\\Anaconda3\\lib\\site-packages\\ipykernel_launcher.py:18: UserWarning: The `nb_epoch` argument in `fit` has been renamed `epochs`.\n",
      "C:\\Users\\Shreeya\\Anaconda3\\lib\\site-packages\\tensorflow_core\\python\\framework\\indexed_slices.py:424: UserWarning: Converting sparse IndexedSlices to a dense Tensor of unknown shape. This may consume a large amount of memory.\n",
      "  \"Converting sparse IndexedSlices to a dense Tensor of unknown shape. \"\n",
      "C:\\Users\\Shreeya\\Anaconda3\\lib\\site-packages\\ipykernel_launcher.py:13: UserWarning: The `dropout` argument is no longer support in `Embedding`. You can apply a `keras.layers.SpatialDropout1D` layer right after the `Embedding` layer to get the same behavior.\n",
      "  del sys.path[0]\n",
      "C:\\Users\\Shreeya\\Anaconda3\\lib\\site-packages\\ipykernel_launcher.py:14: UserWarning: Update your `LSTM` call to the Keras 2 API: `LSTM(200, dropout=0.2, recurrent_dropout=0.2)`\n",
      "  \n",
      "C:\\Users\\Shreeya\\Anaconda3\\lib\\site-packages\\ipykernel_launcher.py:18: UserWarning: The `nb_epoch` argument in `fit` has been renamed `epochs`.\n",
      "C:\\Users\\Shreeya\\Anaconda3\\lib\\site-packages\\tensorflow_core\\python\\framework\\indexed_slices.py:424: UserWarning: Converting sparse IndexedSlices to a dense Tensor of unknown shape. This may consume a large amount of memory.\n",
      "  \"Converting sparse IndexedSlices to a dense Tensor of unknown shape. \"\n",
      "C:\\Users\\Shreeya\\Anaconda3\\lib\\site-packages\\ipykernel_launcher.py:13: UserWarning: The `dropout` argument is no longer support in `Embedding`. You can apply a `keras.layers.SpatialDropout1D` layer right after the `Embedding` layer to get the same behavior.\n",
      "  del sys.path[0]\n",
      "C:\\Users\\Shreeya\\Anaconda3\\lib\\site-packages\\ipykernel_launcher.py:14: UserWarning: Update your `LSTM` call to the Keras 2 API: `LSTM(200, dropout=0.2, recurrent_dropout=0.2)`\n",
      "  \n",
      "C:\\Users\\Shreeya\\Anaconda3\\lib\\site-packages\\ipykernel_launcher.py:18: UserWarning: The `nb_epoch` argument in `fit` has been renamed `epochs`.\n",
      "C:\\Users\\Shreeya\\Anaconda3\\lib\\site-packages\\tensorflow_core\\python\\framework\\indexed_slices.py:424: UserWarning: Converting sparse IndexedSlices to a dense Tensor of unknown shape. This may consume a large amount of memory.\n",
      "  \"Converting sparse IndexedSlices to a dense Tensor of unknown shape. \"\n"
     ]
    }
   ],
   "source": [
    "kf = KFold(n_splits=5)\n",
    "kf.get_n_splits(data.index.values)\n",
    "svm_scores = []\n",
    "dt_scores = []\n",
    "rf_scores = []\n",
    "nn_scores = []\n",
    "svc = SVC()\n",
    "dt = DecisionTreeClassifier()\n",
    "rf = RandomForestClassifier(n_estimators=140)\n",
    "for train, test in kf.split(data):\n",
    "    svm_scores.append(model_classification(svc, train, test))\n",
    "    dt_scores.append(model_classification(dt, train, test))\n",
    "    rf_scores.append(model_classification(rf, train, test))\n",
    "    nn_scores.append(classification_report_for_NN(train,test))"
   ]
  },
  {
   "cell_type": "code",
   "execution_count": 95,
   "metadata": {},
   "outputs": [],
   "source": [
    "def dict_mean(dict_list):\n",
    "    mean_dict = {}\n",
    "    for key in dict_list[0].keys():\n",
    "        mean_dict[key] = sum(d[key] for d in dict_list) / len(dict_list)\n",
    "    return mean_dict"
   ]
  },
  {
   "cell_type": "code",
   "execution_count": 96,
   "metadata": {},
   "outputs": [],
   "source": [
    "model_scores = [svm_scores, dt_scores, rf_scores, nn_scores]"
   ]
  },
  {
   "cell_type": "code",
   "execution_count": 97,
   "metadata": {},
   "outputs": [],
   "source": [
    "model_map = {0: 'SVM', 1: 'Decision Tree', 2: 'Random Forest', 3: 'Neural Net'}"
   ]
  },
  {
   "cell_type": "code",
   "execution_count": 98,
   "metadata": {},
   "outputs": [],
   "source": [
    "results = []\n",
    "for p in range(len(model_scores)):\n",
    "    score_mean = dict_mean(model_scores[p])\n",
    "    score_mean['model'] = model_map[p]\n",
    "    score_mean['CV'] = 'kFold'\n",
    "    results.append(score_mean)"
   ]
  },
  {
   "cell_type": "markdown",
   "metadata": {},
   "source": [
    "## LeavePOut"
   ]
  },
  {
   "cell_type": "code",
   "execution_count": 99,
   "metadata": {},
   "outputs": [
    {
     "name": "stderr",
     "output_type": "stream",
     "text": [
      "C:\\Users\\Shreeya\\Anaconda3\\lib\\site-packages\\ipykernel_launcher.py:13: UserWarning: The `dropout` argument is no longer support in `Embedding`. You can apply a `keras.layers.SpatialDropout1D` layer right after the `Embedding` layer to get the same behavior.\n",
      "  del sys.path[0]\n",
      "C:\\Users\\Shreeya\\Anaconda3\\lib\\site-packages\\ipykernel_launcher.py:14: UserWarning: Update your `LSTM` call to the Keras 2 API: `LSTM(200, dropout=0.2, recurrent_dropout=0.2)`\n",
      "  \n",
      "C:\\Users\\Shreeya\\Anaconda3\\lib\\site-packages\\ipykernel_launcher.py:18: UserWarning: The `nb_epoch` argument in `fit` has been renamed `epochs`.\n",
      "C:\\Users\\Shreeya\\Anaconda3\\lib\\site-packages\\tensorflow_core\\python\\framework\\indexed_slices.py:424: UserWarning: Converting sparse IndexedSlices to a dense Tensor of unknown shape. This may consume a large amount of memory.\n",
      "  \"Converting sparse IndexedSlices to a dense Tensor of unknown shape. \"\n",
      "C:\\Users\\Shreeya\\Anaconda3\\lib\\site-packages\\ipykernel_launcher.py:13: UserWarning: The `dropout` argument is no longer support in `Embedding`. You can apply a `keras.layers.SpatialDropout1D` layer right after the `Embedding` layer to get the same behavior.\n",
      "  del sys.path[0]\n",
      "C:\\Users\\Shreeya\\Anaconda3\\lib\\site-packages\\ipykernel_launcher.py:14: UserWarning: Update your `LSTM` call to the Keras 2 API: `LSTM(200, dropout=0.2, recurrent_dropout=0.2)`\n",
      "  \n",
      "C:\\Users\\Shreeya\\Anaconda3\\lib\\site-packages\\ipykernel_launcher.py:18: UserWarning: The `nb_epoch` argument in `fit` has been renamed `epochs`.\n",
      "C:\\Users\\Shreeya\\Anaconda3\\lib\\site-packages\\tensorflow_core\\python\\framework\\indexed_slices.py:424: UserWarning: Converting sparse IndexedSlices to a dense Tensor of unknown shape. This may consume a large amount of memory.\n",
      "  \"Converting sparse IndexedSlices to a dense Tensor of unknown shape. \"\n",
      "C:\\Users\\Shreeya\\Anaconda3\\lib\\site-packages\\ipykernel_launcher.py:13: UserWarning: The `dropout` argument is no longer support in `Embedding`. You can apply a `keras.layers.SpatialDropout1D` layer right after the `Embedding` layer to get the same behavior.\n",
      "  del sys.path[0]\n",
      "C:\\Users\\Shreeya\\Anaconda3\\lib\\site-packages\\ipykernel_launcher.py:14: UserWarning: Update your `LSTM` call to the Keras 2 API: `LSTM(200, dropout=0.2, recurrent_dropout=0.2)`\n",
      "  \n",
      "C:\\Users\\Shreeya\\Anaconda3\\lib\\site-packages\\ipykernel_launcher.py:18: UserWarning: The `nb_epoch` argument in `fit` has been renamed `epochs`.\n",
      "C:\\Users\\Shreeya\\Anaconda3\\lib\\site-packages\\tensorflow_core\\python\\framework\\indexed_slices.py:424: UserWarning: Converting sparse IndexedSlices to a dense Tensor of unknown shape. This may consume a large amount of memory.\n",
      "  \"Converting sparse IndexedSlices to a dense Tensor of unknown shape. \"\n",
      "C:\\Users\\Shreeya\\Anaconda3\\lib\\site-packages\\ipykernel_launcher.py:13: UserWarning: The `dropout` argument is no longer support in `Embedding`. You can apply a `keras.layers.SpatialDropout1D` layer right after the `Embedding` layer to get the same behavior.\n",
      "  del sys.path[0]\n",
      "C:\\Users\\Shreeya\\Anaconda3\\lib\\site-packages\\ipykernel_launcher.py:14: UserWarning: Update your `LSTM` call to the Keras 2 API: `LSTM(200, dropout=0.2, recurrent_dropout=0.2)`\n",
      "  \n",
      "C:\\Users\\Shreeya\\Anaconda3\\lib\\site-packages\\ipykernel_launcher.py:18: UserWarning: The `nb_epoch` argument in `fit` has been renamed `epochs`.\n",
      "C:\\Users\\Shreeya\\Anaconda3\\lib\\site-packages\\tensorflow_core\\python\\framework\\indexed_slices.py:424: UserWarning: Converting sparse IndexedSlices to a dense Tensor of unknown shape. This may consume a large amount of memory.\n",
      "  \"Converting sparse IndexedSlices to a dense Tensor of unknown shape. \"\n",
      "C:\\Users\\Shreeya\\Anaconda3\\lib\\site-packages\\ipykernel_launcher.py:13: UserWarning: The `dropout` argument is no longer support in `Embedding`. You can apply a `keras.layers.SpatialDropout1D` layer right after the `Embedding` layer to get the same behavior.\n",
      "  del sys.path[0]\n",
      "C:\\Users\\Shreeya\\Anaconda3\\lib\\site-packages\\ipykernel_launcher.py:14: UserWarning: Update your `LSTM` call to the Keras 2 API: `LSTM(200, dropout=0.2, recurrent_dropout=0.2)`\n",
      "  \n",
      "C:\\Users\\Shreeya\\Anaconda3\\lib\\site-packages\\ipykernel_launcher.py:18: UserWarning: The `nb_epoch` argument in `fit` has been renamed `epochs`.\n",
      "C:\\Users\\Shreeya\\Anaconda3\\lib\\site-packages\\tensorflow_core\\python\\framework\\indexed_slices.py:424: UserWarning: Converting sparse IndexedSlices to a dense Tensor of unknown shape. This may consume a large amount of memory.\n",
      "  \"Converting sparse IndexedSlices to a dense Tensor of unknown shape. \"\n"
     ]
    }
   ],
   "source": [
    "from sklearn.model_selection import LeavePOut\n",
    "lpo = LeavePOut(300)\n",
    "lpo.get_n_splits(data.index.values)\n",
    "svm_scores = []\n",
    "dt_scores = []\n",
    "rf_scores = []\n",
    "nn_scores = []\n",
    "svc = SVC()\n",
    "dt = DecisionTreeClassifier()\n",
    "rf = RandomForestClassifier(n_estimators=140)\n",
    "count = 0\n",
    "for train, test in lpo.split(data):\n",
    "    count += 1\n",
    "    svm_scores.append(model_classification(svc, train, test))\n",
    "#     nn_p, nn_r, nn_f, nn_a = nn_classification(train, test)\n",
    "    dt_scores.append(model_classification(dt, train, test))\n",
    "    rf_scores.append(model_classification(rf, train, test))\n",
    "    nn_scores.append(classification_report_for_NN(train,test))\n",
    "    if count == 5:\n",
    "        break"
   ]
  },
  {
   "cell_type": "code",
   "execution_count": 100,
   "metadata": {},
   "outputs": [],
   "source": [
    "model_scores = [svm_scores, dt_scores, rf_scores, nn_scores]\n",
    "for p in range(len(model_scores)):\n",
    "    score_mean = dict_mean(model_scores[p])\n",
    "    score_mean['model'] = model_map[p]\n",
    "    score_mean['CV'] = 'LeavePOut'\n",
    "    results.append(score_mean)"
   ]
  },
  {
   "cell_type": "markdown",
   "metadata": {},
   "source": [
    "## Random Split"
   ]
  },
  {
   "cell_type": "code",
   "execution_count": 101,
   "metadata": {},
   "outputs": [
    {
     "name": "stdout",
     "output_type": "stream",
     "text": [
      "StratifiedShuffleSplit(n_splits=5, random_state=0, test_size=0.5,\n",
      "            train_size=None)\n",
      "TRAIN: [5 2 3] TEST: [4 1 0]\n",
      "TRAIN: [5 1 4] TEST: [0 2 3]\n",
      "TRAIN: [5 0 2] TEST: [4 3 1]\n",
      "TRAIN: [4 1 0] TEST: [2 3 5]\n",
      "TRAIN: [0 5 1] TEST: [3 4 2]\n"
     ]
    }
   ],
   "source": [
    "import numpy as np\n",
    "from sklearn.model_selection import StratifiedShuffleSplit\n",
    "X = np.array([[1, 2], [3, 4], [1, 2], [3, 4], [1, 2], [3, 4]])\n",
    "y = np.array([0, 0, 0, 1, 1, 1])\n",
    "sss = StratifiedShuffleSplit(n_splits=5, test_size=0.5, random_state=0)\n",
    "sss.get_n_splits(X, y)\n",
    "\n",
    "print(sss)\n",
    "\n",
    "for train_index, test_index in sss.split(X, y):\n",
    "    print(\"TRAIN:\", train_index, \"TEST:\", test_index)\n",
    "    X_train, X_test = X[train_index], X[test_index]"
   ]
  },
  {
   "cell_type": "code",
   "execution_count": 102,
   "metadata": {},
   "outputs": [
    {
     "name": "stderr",
     "output_type": "stream",
     "text": [
      "C:\\Users\\Shreeya\\Anaconda3\\lib\\site-packages\\ipykernel_launcher.py:13: UserWarning: The `dropout` argument is no longer support in `Embedding`. You can apply a `keras.layers.SpatialDropout1D` layer right after the `Embedding` layer to get the same behavior.\n",
      "  del sys.path[0]\n",
      "C:\\Users\\Shreeya\\Anaconda3\\lib\\site-packages\\ipykernel_launcher.py:14: UserWarning: Update your `LSTM` call to the Keras 2 API: `LSTM(200, dropout=0.2, recurrent_dropout=0.2)`\n",
      "  \n",
      "C:\\Users\\Shreeya\\Anaconda3\\lib\\site-packages\\ipykernel_launcher.py:18: UserWarning: The `nb_epoch` argument in `fit` has been renamed `epochs`.\n",
      "C:\\Users\\Shreeya\\Anaconda3\\lib\\site-packages\\tensorflow_core\\python\\framework\\indexed_slices.py:424: UserWarning: Converting sparse IndexedSlices to a dense Tensor of unknown shape. This may consume a large amount of memory.\n",
      "  \"Converting sparse IndexedSlices to a dense Tensor of unknown shape. \"\n",
      "C:\\Users\\Shreeya\\Anaconda3\\lib\\site-packages\\ipykernel_launcher.py:13: UserWarning: The `dropout` argument is no longer support in `Embedding`. You can apply a `keras.layers.SpatialDropout1D` layer right after the `Embedding` layer to get the same behavior.\n",
      "  del sys.path[0]\n",
      "C:\\Users\\Shreeya\\Anaconda3\\lib\\site-packages\\ipykernel_launcher.py:14: UserWarning: Update your `LSTM` call to the Keras 2 API: `LSTM(200, dropout=0.2, recurrent_dropout=0.2)`\n",
      "  \n",
      "C:\\Users\\Shreeya\\Anaconda3\\lib\\site-packages\\ipykernel_launcher.py:18: UserWarning: The `nb_epoch` argument in `fit` has been renamed `epochs`.\n",
      "C:\\Users\\Shreeya\\Anaconda3\\lib\\site-packages\\tensorflow_core\\python\\framework\\indexed_slices.py:424: UserWarning: Converting sparse IndexedSlices to a dense Tensor of unknown shape. This may consume a large amount of memory.\n",
      "  \"Converting sparse IndexedSlices to a dense Tensor of unknown shape. \"\n",
      "C:\\Users\\Shreeya\\Anaconda3\\lib\\site-packages\\ipykernel_launcher.py:13: UserWarning: The `dropout` argument is no longer support in `Embedding`. You can apply a `keras.layers.SpatialDropout1D` layer right after the `Embedding` layer to get the same behavior.\n",
      "  del sys.path[0]\n",
      "C:\\Users\\Shreeya\\Anaconda3\\lib\\site-packages\\ipykernel_launcher.py:14: UserWarning: Update your `LSTM` call to the Keras 2 API: `LSTM(200, dropout=0.2, recurrent_dropout=0.2)`\n",
      "  \n",
      "C:\\Users\\Shreeya\\Anaconda3\\lib\\site-packages\\ipykernel_launcher.py:18: UserWarning: The `nb_epoch` argument in `fit` has been renamed `epochs`.\n",
      "C:\\Users\\Shreeya\\Anaconda3\\lib\\site-packages\\tensorflow_core\\python\\framework\\indexed_slices.py:424: UserWarning: Converting sparse IndexedSlices to a dense Tensor of unknown shape. This may consume a large amount of memory.\n",
      "  \"Converting sparse IndexedSlices to a dense Tensor of unknown shape. \"\n",
      "C:\\Users\\Shreeya\\Anaconda3\\lib\\site-packages\\ipykernel_launcher.py:13: UserWarning: The `dropout` argument is no longer support in `Embedding`. You can apply a `keras.layers.SpatialDropout1D` layer right after the `Embedding` layer to get the same behavior.\n",
      "  del sys.path[0]\n",
      "C:\\Users\\Shreeya\\Anaconda3\\lib\\site-packages\\ipykernel_launcher.py:14: UserWarning: Update your `LSTM` call to the Keras 2 API: `LSTM(200, dropout=0.2, recurrent_dropout=0.2)`\n",
      "  \n",
      "C:\\Users\\Shreeya\\Anaconda3\\lib\\site-packages\\ipykernel_launcher.py:18: UserWarning: The `nb_epoch` argument in `fit` has been renamed `epochs`.\n",
      "C:\\Users\\Shreeya\\Anaconda3\\lib\\site-packages\\tensorflow_core\\python\\framework\\indexed_slices.py:424: UserWarning: Converting sparse IndexedSlices to a dense Tensor of unknown shape. This may consume a large amount of memory.\n",
      "  \"Converting sparse IndexedSlices to a dense Tensor of unknown shape. \"\n",
      "C:\\Users\\Shreeya\\Anaconda3\\lib\\site-packages\\ipykernel_launcher.py:13: UserWarning: The `dropout` argument is no longer support in `Embedding`. You can apply a `keras.layers.SpatialDropout1D` layer right after the `Embedding` layer to get the same behavior.\n",
      "  del sys.path[0]\n",
      "C:\\Users\\Shreeya\\Anaconda3\\lib\\site-packages\\ipykernel_launcher.py:14: UserWarning: Update your `LSTM` call to the Keras 2 API: `LSTM(200, dropout=0.2, recurrent_dropout=0.2)`\n",
      "  \n",
      "C:\\Users\\Shreeya\\Anaconda3\\lib\\site-packages\\ipykernel_launcher.py:18: UserWarning: The `nb_epoch` argument in `fit` has been renamed `epochs`.\n",
      "C:\\Users\\Shreeya\\Anaconda3\\lib\\site-packages\\tensorflow_core\\python\\framework\\indexed_slices.py:424: UserWarning: Converting sparse IndexedSlices to a dense Tensor of unknown shape. This may consume a large amount of memory.\n",
      "  \"Converting sparse IndexedSlices to a dense Tensor of unknown shape. \"\n"
     ]
    }
   ],
   "source": [
    "from sklearn.model_selection import StratifiedShuffleSplit\n",
    "sss = StratifiedShuffleSplit(n_splits=5, test_size=0.5, random_state=42)\n",
    "sss.get_n_splits(features, labels)\n",
    "svm_scores = []\n",
    "dt_scores = []\n",
    "rf_scores = []\n",
    "nn_scores = []\n",
    "svc = SVC()\n",
    "dt = DecisionTreeClassifier()\n",
    "rf = RandomForestClassifier(n_estimators=140)\n",
    "for train, test in sss.split(features, labels):\n",
    "    count += 1\n",
    "    svm_scores.append(model_classification(svc, train, test))\n",
    "#     nn_p, nn_r, nn_f, nn_a = nn_classification(train, test)\n",
    "    dt_scores.append(model_classification(dt, train, test))\n",
    "    rf_scores.append(model_classification(rf, train, test))\n",
    "    nn_scores.append(classification_report_for_NN(train,test))"
   ]
  },
  {
   "cell_type": "code",
   "execution_count": 103,
   "metadata": {},
   "outputs": [],
   "source": [
    "model_scores = [svm_scores, dt_scores, rf_scores, nn_scores]\n",
    "for p in range(len(model_scores)):\n",
    "    score_mean = dict_mean(model_scores[p])\n",
    "    score_mean['model'] = model_map[p]\n",
    "    score_mean['CV'] = 'Random SubSampling'\n",
    "    results.append(score_mean)"
   ]
  },
  {
   "cell_type": "code",
   "execution_count": 104,
   "metadata": {},
   "outputs": [
    {
     "data": {
      "text/html": [
       "<div>\n",
       "<style scoped>\n",
       "    .dataframe tbody tr th:only-of-type {\n",
       "        vertical-align: middle;\n",
       "    }\n",
       "\n",
       "    .dataframe tbody tr th {\n",
       "        vertical-align: top;\n",
       "    }\n",
       "\n",
       "    .dataframe thead th {\n",
       "        text-align: right;\n",
       "    }\n",
       "</style>\n",
       "<table border=\"1\" class=\"dataframe\">\n",
       "  <thead>\n",
       "    <tr style=\"text-align: right;\">\n",
       "      <th></th>\n",
       "      <th>precision</th>\n",
       "      <th>recall</th>\n",
       "      <th>f1</th>\n",
       "      <th>accuracy</th>\n",
       "      <th>model</th>\n",
       "      <th>CV</th>\n",
       "    </tr>\n",
       "  </thead>\n",
       "  <tbody>\n",
       "    <tr>\n",
       "      <th>0</th>\n",
       "      <td>0.997826</td>\n",
       "      <td>0.998876</td>\n",
       "      <td>0.998336</td>\n",
       "      <td>0.998507</td>\n",
       "      <td>SVM</td>\n",
       "      <td>kFold</td>\n",
       "    </tr>\n",
       "    <tr>\n",
       "      <th>1</th>\n",
       "      <td>0.961109</td>\n",
       "      <td>0.980088</td>\n",
       "      <td>0.969525</td>\n",
       "      <td>0.973134</td>\n",
       "      <td>Decision Tree</td>\n",
       "      <td>kFold</td>\n",
       "    </tr>\n",
       "    <tr>\n",
       "      <th>2</th>\n",
       "      <td>0.995387</td>\n",
       "      <td>0.997813</td>\n",
       "      <td>0.996567</td>\n",
       "      <td>0.997015</td>\n",
       "      <td>Random Forest</td>\n",
       "      <td>kFold</td>\n",
       "    </tr>\n",
       "    <tr>\n",
       "      <th>3</th>\n",
       "      <td>0.982749</td>\n",
       "      <td>0.991062</td>\n",
       "      <td>0.986529</td>\n",
       "      <td>0.988060</td>\n",
       "      <td>Neural Net</td>\n",
       "      <td>kFold</td>\n",
       "    </tr>\n",
       "    <tr>\n",
       "      <th>4</th>\n",
       "      <td>0.977334</td>\n",
       "      <td>0.944070</td>\n",
       "      <td>0.958783</td>\n",
       "      <td>0.966667</td>\n",
       "      <td>SVM</td>\n",
       "      <td>LeavePOut</td>\n",
       "    </tr>\n",
       "    <tr>\n",
       "      <th>5</th>\n",
       "      <td>0.903775</td>\n",
       "      <td>0.912262</td>\n",
       "      <td>0.907797</td>\n",
       "      <td>0.922000</td>\n",
       "      <td>Decision Tree</td>\n",
       "      <td>LeavePOut</td>\n",
       "    </tr>\n",
       "    <tr>\n",
       "      <th>6</th>\n",
       "      <td>0.972267</td>\n",
       "      <td>0.942172</td>\n",
       "      <td>0.955612</td>\n",
       "      <td>0.964000</td>\n",
       "      <td>Random Forest</td>\n",
       "      <td>LeavePOut</td>\n",
       "    </tr>\n",
       "    <tr>\n",
       "      <th>7</th>\n",
       "      <td>0.968016</td>\n",
       "      <td>0.967606</td>\n",
       "      <td>0.967406</td>\n",
       "      <td>0.972667</td>\n",
       "      <td>Neural Net</td>\n",
       "      <td>LeavePOut</td>\n",
       "    </tr>\n",
       "    <tr>\n",
       "      <th>8</th>\n",
       "      <td>0.980457</td>\n",
       "      <td>0.956153</td>\n",
       "      <td>0.966614</td>\n",
       "      <td>0.971940</td>\n",
       "      <td>SVM</td>\n",
       "      <td>Random SubSampling</td>\n",
       "    </tr>\n",
       "    <tr>\n",
       "      <th>9</th>\n",
       "      <td>0.944953</td>\n",
       "      <td>0.952779</td>\n",
       "      <td>0.948263</td>\n",
       "      <td>0.954627</td>\n",
       "      <td>Decision Tree</td>\n",
       "      <td>Random SubSampling</td>\n",
       "    </tr>\n",
       "    <tr>\n",
       "      <th>10</th>\n",
       "      <td>0.981163</td>\n",
       "      <td>0.959450</td>\n",
       "      <td>0.968766</td>\n",
       "      <td>0.973731</td>\n",
       "      <td>Random Forest</td>\n",
       "      <td>Random SubSampling</td>\n",
       "    </tr>\n",
       "    <tr>\n",
       "      <th>11</th>\n",
       "      <td>0.931928</td>\n",
       "      <td>0.953483</td>\n",
       "      <td>0.940445</td>\n",
       "      <td>0.946866</td>\n",
       "      <td>Neural Net</td>\n",
       "      <td>Random SubSampling</td>\n",
       "    </tr>\n",
       "  </tbody>\n",
       "</table>\n",
       "</div>"
      ],
      "text/plain": [
       "    precision    recall        f1  accuracy          model                  CV\n",
       "0    0.997826  0.998876  0.998336  0.998507            SVM               kFold\n",
       "1    0.961109  0.980088  0.969525  0.973134  Decision Tree               kFold\n",
       "2    0.995387  0.997813  0.996567  0.997015  Random Forest               kFold\n",
       "3    0.982749  0.991062  0.986529  0.988060     Neural Net               kFold\n",
       "4    0.977334  0.944070  0.958783  0.966667            SVM           LeavePOut\n",
       "5    0.903775  0.912262  0.907797  0.922000  Decision Tree           LeavePOut\n",
       "6    0.972267  0.942172  0.955612  0.964000  Random Forest           LeavePOut\n",
       "7    0.968016  0.967606  0.967406  0.972667     Neural Net           LeavePOut\n",
       "8    0.980457  0.956153  0.966614  0.971940            SVM  Random SubSampling\n",
       "9    0.944953  0.952779  0.948263  0.954627  Decision Tree  Random SubSampling\n",
       "10   0.981163  0.959450  0.968766  0.973731  Random Forest  Random SubSampling\n",
       "11   0.931928  0.953483  0.940445  0.946866     Neural Net  Random SubSampling"
      ]
     },
     "execution_count": 104,
     "metadata": {},
     "output_type": "execute_result"
    }
   ],
   "source": [
    "pd.DataFrame(results)"
   ]
  },
  {
   "cell_type": "markdown",
   "metadata": {},
   "source": [
    "# Feature Selection"
   ]
  },
  {
   "cell_type": "code",
   "execution_count": 105,
   "metadata": {},
   "outputs": [],
   "source": [
    "from sklearn.pipeline import make_pipeline\n",
    "from sklearn.feature_selection import SelectFromModel\n",
    "from sklearn.pipeline import Pipeline"
   ]
  },
  {
   "cell_type": "code",
   "execution_count": 106,
   "metadata": {},
   "outputs": [
    {
     "name": "stdout",
     "output_type": "stream",
     "text": [
      "0.96875 0.9858156028368794 0.9800995024875622 0.976676723137619\n"
     ]
    },
    {
     "name": "stderr",
     "output_type": "stream",
     "text": [
      "C:\\Users\\Shreeya\\Anaconda3\\lib\\site-packages\\sklearn\\svm\\_classes.py:226: FutureWarning: loss='l2' has been deprecated in favor of loss='squared_hinge' as of 0.16. Backward compatibility for the loss='l2' will be removed in 0.23\n",
      "  FutureWarning)\n"
     ]
    }
   ],
   "source": [
    "X_train, X_test, y_train, y_test = train_test_split(features, labels, test_size=0.30, random_state=42)\n",
    "\n",
    "clf = Pipeline([('feature_selection', SelectFromModel(LinearSVC(loss='l2', penalty='l1', dual=False))),\n",
    "                    ('classification', DecisionTreeClassifier())\n",
    "                   ])\n",
    "trained = clf.fit(X_train, y_train)\n",
    "y_pred = trained.predict(X_test)\n",
    "precision = precision_score(y_test, y_pred, average='macro')\n",
    "recall = recall_score(y_test, y_pred, average='macro')\n",
    "f1 = f1_score(y_test, y_pred, average='macro')\n",
    "accuracy = accuracy_score(y_test, y_pred)\n",
    "print(precision, recall, accuracy, f1)"
   ]
  },
  {
   "cell_type": "code",
   "execution_count": 107,
   "metadata": {},
   "outputs": [],
   "source": [
    "def model_classification_pipeline(model, train, test):\n",
    "    X_train = sentence_term_df.iloc[train].values\n",
    "    X_test = sentence_term_df.iloc[test].values\n",
    "    y_train = data.iloc[train]['IS/NO?']\n",
    "    y_test = data.iloc[test]['IS/NO?']\n",
    "    clf = Pipeline([('feature_selection', SelectFromModel(LinearSVC(loss='l2', penalty='l1', dual=False))),\n",
    "                    ('classification', model)\n",
    "                   ])\n",
    "    trained = clf.fit(X_train,y_train)\n",
    "    y_pred = trained.predict(X_test)\n",
    "    precision = precision_score(y_test, y_pred, average='macro')\n",
    "    recall = recall_score(y_test, y_pred, average='macro')\n",
    "    f1 = f1_score(y_test, y_pred, average='macro')\n",
    "    accuracy = accuracy_score(y_test, y_pred)\n",
    "    return {'precision': precision, 'recall': recall, 'f1': f1, 'accuracy': accuracy}"
   ]
  },
  {
   "cell_type": "code",
   "execution_count": 108,
   "metadata": {},
   "outputs": [
    {
     "name": "stderr",
     "output_type": "stream",
     "text": [
      "C:\\Users\\Shreeya\\Anaconda3\\lib\\site-packages\\sklearn\\svm\\_classes.py:226: FutureWarning: loss='l2' has been deprecated in favor of loss='squared_hinge' as of 0.16. Backward compatibility for the loss='l2' will be removed in 0.23\n",
      "  FutureWarning)\n",
      "C:\\Users\\Shreeya\\Anaconda3\\lib\\site-packages\\sklearn\\svm\\_classes.py:226: FutureWarning: loss='l2' has been deprecated in favor of loss='squared_hinge' as of 0.16. Backward compatibility for the loss='l2' will be removed in 0.23\n",
      "  FutureWarning)\n",
      "C:\\Users\\Shreeya\\Anaconda3\\lib\\site-packages\\sklearn\\svm\\_classes.py:226: FutureWarning: loss='l2' has been deprecated in favor of loss='squared_hinge' as of 0.16. Backward compatibility for the loss='l2' will be removed in 0.23\n",
      "  FutureWarning)\n",
      "C:\\Users\\Shreeya\\Anaconda3\\lib\\site-packages\\sklearn\\svm\\_classes.py:226: FutureWarning: loss='l2' has been deprecated in favor of loss='squared_hinge' as of 0.16. Backward compatibility for the loss='l2' will be removed in 0.23\n",
      "  FutureWarning)\n",
      "C:\\Users\\Shreeya\\Anaconda3\\lib\\site-packages\\sklearn\\svm\\_classes.py:226: FutureWarning: loss='l2' has been deprecated in favor of loss='squared_hinge' as of 0.16. Backward compatibility for the loss='l2' will be removed in 0.23\n",
      "  FutureWarning)\n",
      "C:\\Users\\Shreeya\\Anaconda3\\lib\\site-packages\\sklearn\\svm\\_classes.py:226: FutureWarning: loss='l2' has been deprecated in favor of loss='squared_hinge' as of 0.16. Backward compatibility for the loss='l2' will be removed in 0.23\n",
      "  FutureWarning)\n",
      "C:\\Users\\Shreeya\\Anaconda3\\lib\\site-packages\\sklearn\\svm\\_classes.py:226: FutureWarning: loss='l2' has been deprecated in favor of loss='squared_hinge' as of 0.16. Backward compatibility for the loss='l2' will be removed in 0.23\n",
      "  FutureWarning)\n",
      "C:\\Users\\Shreeya\\Anaconda3\\lib\\site-packages\\sklearn\\svm\\_classes.py:226: FutureWarning: loss='l2' has been deprecated in favor of loss='squared_hinge' as of 0.16. Backward compatibility for the loss='l2' will be removed in 0.23\n",
      "  FutureWarning)\n",
      "C:\\Users\\Shreeya\\Anaconda3\\lib\\site-packages\\sklearn\\svm\\_classes.py:226: FutureWarning: loss='l2' has been deprecated in favor of loss='squared_hinge' as of 0.16. Backward compatibility for the loss='l2' will be removed in 0.23\n",
      "  FutureWarning)\n",
      "C:\\Users\\Shreeya\\Anaconda3\\lib\\site-packages\\sklearn\\svm\\_classes.py:226: FutureWarning: loss='l2' has been deprecated in favor of loss='squared_hinge' as of 0.16. Backward compatibility for the loss='l2' will be removed in 0.23\n",
      "  FutureWarning)\n",
      "C:\\Users\\Shreeya\\Anaconda3\\lib\\site-packages\\sklearn\\svm\\_classes.py:226: FutureWarning: loss='l2' has been deprecated in favor of loss='squared_hinge' as of 0.16. Backward compatibility for the loss='l2' will be removed in 0.23\n",
      "  FutureWarning)\n",
      "C:\\Users\\Shreeya\\Anaconda3\\lib\\site-packages\\sklearn\\svm\\_classes.py:226: FutureWarning: loss='l2' has been deprecated in favor of loss='squared_hinge' as of 0.16. Backward compatibility for the loss='l2' will be removed in 0.23\n",
      "  FutureWarning)\n",
      "C:\\Users\\Shreeya\\Anaconda3\\lib\\site-packages\\sklearn\\svm\\_classes.py:226: FutureWarning: loss='l2' has been deprecated in favor of loss='squared_hinge' as of 0.16. Backward compatibility for the loss='l2' will be removed in 0.23\n",
      "  FutureWarning)\n",
      "C:\\Users\\Shreeya\\Anaconda3\\lib\\site-packages\\sklearn\\svm\\_classes.py:226: FutureWarning: loss='l2' has been deprecated in favor of loss='squared_hinge' as of 0.16. Backward compatibility for the loss='l2' will be removed in 0.23\n",
      "  FutureWarning)\n",
      "C:\\Users\\Shreeya\\Anaconda3\\lib\\site-packages\\sklearn\\svm\\_classes.py:226: FutureWarning: loss='l2' has been deprecated in favor of loss='squared_hinge' as of 0.16. Backward compatibility for the loss='l2' will be removed in 0.23\n",
      "  FutureWarning)\n"
     ]
    }
   ],
   "source": [
    "kf = KFold(n_splits=5)\n",
    "kf.get_n_splits(data.index.values)\n",
    "svm_scores = []\n",
    "dt_scores = []\n",
    "rf_scores = []\n",
    "svc = SVC()\n",
    "dt = DecisionTreeClassifier()\n",
    "rf = RandomForestClassifier(n_estimators=140)\n",
    "for train, test in kf.split(data):\n",
    "    svm_scores.append(model_classification_pipeline(svc, train, test))\n",
    "#     nn_p, nn_r, nn_f, nn_a = nn_classification(train, test)\n",
    "    dt_scores.append(model_classification_pipeline(dt, train, test))\n",
    "    rf_scores.append(model_classification_pipeline(rf, train, test))\n",
    "#     nn_scores.append(classification_report_for_NN(train,test))"
   ]
  },
  {
   "cell_type": "code",
   "execution_count": 109,
   "metadata": {},
   "outputs": [],
   "source": [
    "fs_results = []\n",
    "model_scores = [svm_scores, dt_scores, rf_scores]\n",
    "for p in range(len(model_scores)):\n",
    "    score_mean = dict_mean(model_scores[p])\n",
    "    score_mean['model'] = model_map[p]\n",
    "    score_mean['CV'] = 'kFold'\n",
    "    fs_results.append(score_mean)"
   ]
  },
  {
   "cell_type": "code",
   "execution_count": 110,
   "metadata": {},
   "outputs": [
    {
     "data": {
      "text/html": [
       "<div>\n",
       "<style scoped>\n",
       "    .dataframe tbody tr th:only-of-type {\n",
       "        vertical-align: middle;\n",
       "    }\n",
       "\n",
       "    .dataframe tbody tr th {\n",
       "        vertical-align: top;\n",
       "    }\n",
       "\n",
       "    .dataframe thead th {\n",
       "        text-align: right;\n",
       "    }\n",
       "</style>\n",
       "<table border=\"1\" class=\"dataframe\">\n",
       "  <thead>\n",
       "    <tr style=\"text-align: right;\">\n",
       "      <th></th>\n",
       "      <th>precision</th>\n",
       "      <th>recall</th>\n",
       "      <th>f1</th>\n",
       "      <th>accuracy</th>\n",
       "      <th>model</th>\n",
       "      <th>CV</th>\n",
       "    </tr>\n",
       "  </thead>\n",
       "  <tbody>\n",
       "    <tr>\n",
       "      <th>0</th>\n",
       "      <td>0.970935</td>\n",
       "      <td>0.982713</td>\n",
       "      <td>0.976123</td>\n",
       "      <td>0.979104</td>\n",
       "      <td>SVM</td>\n",
       "      <td>kFold</td>\n",
       "    </tr>\n",
       "    <tr>\n",
       "      <th>1</th>\n",
       "      <td>0.972103</td>\n",
       "      <td>0.985755</td>\n",
       "      <td>0.978080</td>\n",
       "      <td>0.980597</td>\n",
       "      <td>Decision Tree</td>\n",
       "      <td>kFold</td>\n",
       "    </tr>\n",
       "    <tr>\n",
       "      <th>2</th>\n",
       "      <td>0.982913</td>\n",
       "      <td>0.992610</td>\n",
       "      <td>0.987487</td>\n",
       "      <td>0.989552</td>\n",
       "      <td>Random Forest</td>\n",
       "      <td>kFold</td>\n",
       "    </tr>\n",
       "  </tbody>\n",
       "</table>\n",
       "</div>"
      ],
      "text/plain": [
       "   precision    recall        f1  accuracy          model     CV\n",
       "0   0.970935  0.982713  0.976123  0.979104            SVM  kFold\n",
       "1   0.972103  0.985755  0.978080  0.980597  Decision Tree  kFold\n",
       "2   0.982913  0.992610  0.987487  0.989552  Random Forest  kFold"
      ]
     },
     "execution_count": 110,
     "metadata": {},
     "output_type": "execute_result"
    }
   ],
   "source": [
    "pd.DataFrame(fs_results)"
   ]
  },
  {
   "cell_type": "code",
   "execution_count": null,
   "metadata": {},
   "outputs": [],
   "source": []
  }
 ],
 "metadata": {
  "kernelspec": {
   "display_name": "Python 3.6.5 64-bit ('base': conda)",
   "language": "python",
   "name": "python36564bitbasecondab820480dd4114f2cb4a157e0ec52e1b1"
  },
  "language_info": {
   "codemirror_mode": {
    "name": "ipython",
    "version": 3
   },
   "file_extension": ".py",
   "mimetype": "text/x-python",
   "name": "python",
   "nbconvert_exporter": "python",
   "pygments_lexer": "ipython3",
   "version": "3.6.5"
  }
 },
 "nbformat": 4,
 "nbformat_minor": 4
}
