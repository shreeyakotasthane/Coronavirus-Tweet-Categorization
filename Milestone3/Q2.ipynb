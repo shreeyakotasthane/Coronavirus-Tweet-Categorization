{
 "cells": [
  {
   "cell_type": "code",
   "execution_count": 216,
   "metadata": {},
   "outputs": [],
   "source": [
    "import pandas as pd\n",
    "import re\n",
    "import numpy as np\n",
    "import snowballstemmer\n",
    "from sklearn.feature_extraction.text import TfidfVectorizer\n",
    "import preprocessor as p\n",
    "from sklearn.feature_extraction.text import TfidfVectorizer\n",
    "from sklearn.metrics import classification_report, accuracy_score, make_scorer\n",
    "from sklearn.model_selection import StratifiedKFold\n",
    "from sklearn.linear_model import LogisticRegression\n",
    "from sklearn.ensemble import RandomForestClassifier\n",
    "from sklearn.naive_bayes import MultinomialNB\n",
    "from sklearn.svm import LinearSVC\n",
    "from sklearn.tree import DecisionTreeClassifier\n",
    "import matplotlib.pyplot as plt\n",
    "from sklearn.model_selection import cross_val_score\n",
    "from sklearn.metrics import confusion_matrix\n",
    "from sklearn.metrics import precision_score\n",
    "from sklearn.metrics import recall_score\n",
    "from sklearn.metrics import f1_score\n",
    "from sklearn.metrics import accuracy_score"
   ]
  },
  {
   "cell_type": "code",
   "execution_count": 2,
   "metadata": {},
   "outputs": [
    {
     "data": {
      "text/plain": [
       "846"
      ]
     },
     "execution_count": 2,
     "metadata": {},
     "output_type": "execute_result"
    }
   ],
   "source": [
    "pd.DataFramenn_results"
   ]
  },
  {
   "cell_type": "code",
   "execution_count": 3,
   "metadata": {},
   "outputs": [
    {
     "data": {
      "text/plain": [
       "Index(['Tweets', 'Is_Conspiracy (0=No, 1=Yes)'], dtype='object')"
      ]
     },
     "execution_count": 3,
     "metadata": {},
     "output_type": "execute_result"
    }
   ],
   "source": [
    "data.columns"
   ]
  },
  {
   "cell_type": "markdown",
   "metadata": {},
   "source": [
    "## Tweet Cleaning"
   ]
  },
  {
   "cell_type": "code",
   "execution_count": 4,
   "metadata": {},
   "outputs": [],
   "source": [
    "p.set_options(p.OPT.URL, p.OPT.EMOJI, p.OPT.SMILEY)"
   ]
  },
  {
   "cell_type": "code",
   "execution_count": 5,
   "metadata": {},
   "outputs": [],
   "source": [
    "def clean_tweet(row):\n",
    "    text = p.clean(row['Tweets'])\n",
    "    row['filtered_tweet'] = re.sub('\\d', 'NUM', text)\n",
    "    return row"
   ]
  },
  {
   "cell_type": "code",
   "execution_count": 6,
   "metadata": {},
   "outputs": [],
   "source": [
    "data = data.apply(lambda row: clean_tweet(row), axis =1)"
   ]
  },
  {
   "cell_type": "code",
   "execution_count": 7,
   "metadata": {},
   "outputs": [
    {
     "data": {
      "text/plain": [
       "835"
      ]
     },
     "execution_count": 7,
     "metadata": {},
     "output_type": "execute_result"
    }
   ],
   "source": [
    "data = data[pd.notnull(data['filtered_tweet'])]\n",
    "data = data[pd.notnull(data['Is_Conspiracy (0=No, 1=Yes)'])]\n",
    "len(data)"
   ]
  },
  {
   "cell_type": "code",
   "execution_count": 8,
   "metadata": {},
   "outputs": [
    {
     "data": {
      "text/plain": [
       "0.0    747\n",
       "1.0     88\n",
       "Name: Is_Conspiracy (0=No, 1=Yes), dtype: int64"
      ]
     },
     "execution_count": 8,
     "metadata": {},
     "output_type": "execute_result"
    }
   ],
   "source": [
    "data['Is_Conspiracy (0=No, 1=Yes)'].value_counts()"
   ]
  },
  {
   "cell_type": "code",
   "execution_count": 9,
   "metadata": {},
   "outputs": [],
   "source": [
    "## Over Sampling"
   ]
  },
  {
   "cell_type": "code",
   "execution_count": 10,
   "metadata": {},
   "outputs": [],
   "source": [
    "values = []\n",
    "for idx, val in data.iterrows():\n",
    "    if val['Is_Conspiracy (0=No, 1=Yes)'] == 1:\n",
    "        for i in range(5):\n",
    "            values.append(val)\n",
    "    else:\n",
    "        values.append(val)"
   ]
  },
  {
   "cell_type": "code",
   "execution_count": 11,
   "metadata": {},
   "outputs": [],
   "source": [
    "data = pd.DataFrame(values)"
   ]
  },
  {
   "cell_type": "code",
   "execution_count": 12,
   "metadata": {},
   "outputs": [
    {
     "data": {
      "text/plain": [
       "0.0    747\n",
       "1.0    440\n",
       "Name: Is_Conspiracy (0=No, 1=Yes), dtype: int64"
      ]
     },
     "execution_count": 12,
     "metadata": {},
     "output_type": "execute_result"
    }
   ],
   "source": [
    "data['Is_Conspiracy (0=No, 1=Yes)'].value_counts()"
   ]
  },
  {
   "cell_type": "code",
   "execution_count": 13,
   "metadata": {},
   "outputs": [],
   "source": [
    "data = data.sample(frac=1, random_state=7).reset_index(drop=True)"
   ]
  },
  {
   "cell_type": "code",
   "execution_count": 14,
   "metadata": {},
   "outputs": [
    {
     "data": {
      "text/html": [
       "<div>\n",
       "<style scoped>\n",
       "    .dataframe tbody tr th:only-of-type {\n",
       "        vertical-align: middle;\n",
       "    }\n",
       "\n",
       "    .dataframe tbody tr th {\n",
       "        vertical-align: top;\n",
       "    }\n",
       "\n",
       "    .dataframe thead th {\n",
       "        text-align: right;\n",
       "    }\n",
       "</style>\n",
       "<table border=\"1\" class=\"dataframe\">\n",
       "  <thead>\n",
       "    <tr style=\"text-align: right;\">\n",
       "      <th></th>\n",
       "      <th>Tweets</th>\n",
       "      <th>Is_Conspiracy (0=No, 1=Yes)</th>\n",
       "      <th>filtered_tweet</th>\n",
       "    </tr>\n",
       "  </thead>\n",
       "  <tbody>\n",
       "    <tr>\n",
       "      <th>0</th>\n",
       "      <td>@rickgladstone He didn't just TRY, he did and ...</td>\n",
       "      <td>1.0</td>\n",
       "      <td>@rickgladstone He didn't just TRY, he did and ...</td>\n",
       "    </tr>\n",
       "    <tr>\n",
       "      <th>1</th>\n",
       "      <td>Wuhan Central Hospital denies death of #corona...</td>\n",
       "      <td>1.0</td>\n",
       "      <td>Wuhan Central Hospital denies death of #corona...</td>\n",
       "    </tr>\n",
       "    <tr>\n",
       "      <th>2</th>\n",
       "      <td>So where in Europe did they fly, can we all kn...</td>\n",
       "      <td>0.0</td>\n",
       "      <td>So where in Europe did they fly, can we all kn...</td>\n",
       "    </tr>\n",
       "    <tr>\n",
       "      <th>3</th>\n",
       "      <td>I am so sad. They need help https://t.co/Nk9ZR...</td>\n",
       "      <td>0.0</td>\n",
       "      <td>I am so sad. They need help</td>\n",
       "    </tr>\n",
       "    <tr>\n",
       "      <th>4</th>\n",
       "      <td>Chinese multinational conglomerate company Ten...</td>\n",
       "      <td>1.0</td>\n",
       "      <td>Chinese multinational conglomerate company Ten...</td>\n",
       "    </tr>\n",
       "  </tbody>\n",
       "</table>\n",
       "</div>"
      ],
      "text/plain": [
       "                                              Tweets  \\\n",
       "0  @rickgladstone He didn't just TRY, he did and ...   \n",
       "1  Wuhan Central Hospital denies death of #corona...   \n",
       "2  So where in Europe did they fly, can we all kn...   \n",
       "3  I am so sad. They need help https://t.co/Nk9ZR...   \n",
       "4  Chinese multinational conglomerate company Ten...   \n",
       "\n",
       "   Is_Conspiracy (0=No, 1=Yes)  \\\n",
       "0                          1.0   \n",
       "1                          1.0   \n",
       "2                          0.0   \n",
       "3                          0.0   \n",
       "4                          1.0   \n",
       "\n",
       "                                      filtered_tweet  \n",
       "0  @rickgladstone He didn't just TRY, he did and ...  \n",
       "1  Wuhan Central Hospital denies death of #corona...  \n",
       "2  So where in Europe did they fly, can we all kn...  \n",
       "3                        I am so sad. They need help  \n",
       "4  Chinese multinational conglomerate company Ten...  "
      ]
     },
     "execution_count": 14,
     "metadata": {},
     "output_type": "execute_result"
    }
   ],
   "source": [
    "data.head()"
   ]
  },
  {
   "cell_type": "markdown",
   "metadata": {},
   "source": [
    "## TF-IDF Vectorization"
   ]
  },
  {
   "cell_type": "code",
   "execution_count": 15,
   "metadata": {},
   "outputs": [],
   "source": [
    "english_stemmer = snowballstemmer.stemmer('english')\n",
    "class StemmedTfidfVectorizer(TfidfVectorizer):\n",
    "    def build_analyzer(self):\n",
    "        analyzer = super(TfidfVectorizer, self).build_analyzer()\n",
    "        return lambda doc: english_stemmer.stemWords(analyzer(doc))"
   ]
  },
  {
   "cell_type": "code",
   "execution_count": 16,
   "metadata": {},
   "outputs": [],
   "source": [
    "tfidf_vect = StemmedTfidfVectorizer(min_df=5, stop_words='english', analyzer='word', ngram_range=(1,2), max_features=2500, norm='l2', encoding='utf-8')"
   ]
  },
  {
   "cell_type": "code",
   "execution_count": 17,
   "metadata": {},
   "outputs": [],
   "source": [
    "sentence_term_tfidf = tfidf_vect.fit_transform(data['filtered_tweet'])\n",
    "sentence_term_df = pd.DataFrame(sentence_term_tfidf.todense(), columns=np.sort(list(tfidf_vect.vocabulary_.keys())))\n",
    "sentence_term_df.columns = sentence_term_df.columns.map(lambda x: 'W_'+'_'+x)"
   ]
  },
  {
   "cell_type": "code",
   "execution_count": 18,
   "metadata": {},
   "outputs": [
    {
     "data": {
      "text/html": [
       "<div>\n",
       "<style scoped>\n",
       "    .dataframe tbody tr th:only-of-type {\n",
       "        vertical-align: middle;\n",
       "    }\n",
       "\n",
       "    .dataframe tbody tr th {\n",
       "        vertical-align: top;\n",
       "    }\n",
       "\n",
       "    .dataframe thead th {\n",
       "        text-align: right;\n",
       "    }\n",
       "</style>\n",
       "<table border=\"1\" class=\"dataframe\">\n",
       "  <thead>\n",
       "    <tr style=\"text-align: right;\">\n",
       "      <th></th>\n",
       "      <th>W__abl</th>\n",
       "      <th>W__able provid</th>\n",
       "      <th>W__absolut</th>\n",
       "      <th>W__absolute hero</th>\n",
       "      <th>W__abt</th>\n",
       "      <th>W__abt coronavirus</th>\n",
       "      <th>W__abtc</th>\n",
       "      <th>W__accident</th>\n",
       "      <th>W__accidentally leak</th>\n",
       "      <th>W__accidentally pnum</th>\n",
       "      <th>...</th>\n",
       "      <th>W__yeah sur</th>\n",
       "      <th>W__year</th>\n",
       "      <th>W__youtub</th>\n",
       "      <th>W__youtube xr</th>\n",
       "      <th>W__yr</th>\n",
       "      <th>W__yr old</th>\n",
       "      <th>W__李文亮</th>\n",
       "      <th>W__李文亮 china</th>\n",
       "      <th>W__自相矛盾natur</th>\n",
       "      <th>W__自相矛盾nature chines</th>\n",
       "    </tr>\n",
       "  </thead>\n",
       "  <tbody>\n",
       "    <tr>\n",
       "      <th>0</th>\n",
       "      <td>0.0</td>\n",
       "      <td>0.0</td>\n",
       "      <td>0.0</td>\n",
       "      <td>0.0</td>\n",
       "      <td>0.0</td>\n",
       "      <td>0.0</td>\n",
       "      <td>0.0</td>\n",
       "      <td>0.000000</td>\n",
       "      <td>0.000000</td>\n",
       "      <td>0.0</td>\n",
       "      <td>...</td>\n",
       "      <td>0.0</td>\n",
       "      <td>0.0</td>\n",
       "      <td>0.0</td>\n",
       "      <td>0.0</td>\n",
       "      <td>0.0</td>\n",
       "      <td>0.0</td>\n",
       "      <td>0.0</td>\n",
       "      <td>0.0</td>\n",
       "      <td>0.0</td>\n",
       "      <td>0.0</td>\n",
       "    </tr>\n",
       "    <tr>\n",
       "      <th>1</th>\n",
       "      <td>0.0</td>\n",
       "      <td>0.0</td>\n",
       "      <td>0.0</td>\n",
       "      <td>0.0</td>\n",
       "      <td>0.0</td>\n",
       "      <td>0.0</td>\n",
       "      <td>0.0</td>\n",
       "      <td>0.000000</td>\n",
       "      <td>0.000000</td>\n",
       "      <td>0.0</td>\n",
       "      <td>...</td>\n",
       "      <td>0.0</td>\n",
       "      <td>0.0</td>\n",
       "      <td>0.0</td>\n",
       "      <td>0.0</td>\n",
       "      <td>0.0</td>\n",
       "      <td>0.0</td>\n",
       "      <td>0.0</td>\n",
       "      <td>0.0</td>\n",
       "      <td>0.0</td>\n",
       "      <td>0.0</td>\n",
       "    </tr>\n",
       "    <tr>\n",
       "      <th>2</th>\n",
       "      <td>0.0</td>\n",
       "      <td>0.0</td>\n",
       "      <td>0.0</td>\n",
       "      <td>0.0</td>\n",
       "      <td>0.0</td>\n",
       "      <td>0.0</td>\n",
       "      <td>0.0</td>\n",
       "      <td>0.000000</td>\n",
       "      <td>0.000000</td>\n",
       "      <td>0.0</td>\n",
       "      <td>...</td>\n",
       "      <td>0.0</td>\n",
       "      <td>0.0</td>\n",
       "      <td>0.0</td>\n",
       "      <td>0.0</td>\n",
       "      <td>0.0</td>\n",
       "      <td>0.0</td>\n",
       "      <td>0.0</td>\n",
       "      <td>0.0</td>\n",
       "      <td>0.0</td>\n",
       "      <td>0.0</td>\n",
       "    </tr>\n",
       "    <tr>\n",
       "      <th>3</th>\n",
       "      <td>0.0</td>\n",
       "      <td>0.0</td>\n",
       "      <td>0.0</td>\n",
       "      <td>0.0</td>\n",
       "      <td>0.0</td>\n",
       "      <td>0.0</td>\n",
       "      <td>0.0</td>\n",
       "      <td>0.000000</td>\n",
       "      <td>0.000000</td>\n",
       "      <td>0.0</td>\n",
       "      <td>...</td>\n",
       "      <td>0.0</td>\n",
       "      <td>0.0</td>\n",
       "      <td>0.0</td>\n",
       "      <td>0.0</td>\n",
       "      <td>0.0</td>\n",
       "      <td>0.0</td>\n",
       "      <td>0.0</td>\n",
       "      <td>0.0</td>\n",
       "      <td>0.0</td>\n",
       "      <td>0.0</td>\n",
       "    </tr>\n",
       "    <tr>\n",
       "      <th>4</th>\n",
       "      <td>0.0</td>\n",
       "      <td>0.0</td>\n",
       "      <td>0.0</td>\n",
       "      <td>0.0</td>\n",
       "      <td>0.0</td>\n",
       "      <td>0.0</td>\n",
       "      <td>0.0</td>\n",
       "      <td>0.119826</td>\n",
       "      <td>0.127781</td>\n",
       "      <td>0.0</td>\n",
       "      <td>...</td>\n",
       "      <td>0.0</td>\n",
       "      <td>0.0</td>\n",
       "      <td>0.0</td>\n",
       "      <td>0.0</td>\n",
       "      <td>0.0</td>\n",
       "      <td>0.0</td>\n",
       "      <td>0.0</td>\n",
       "      <td>0.0</td>\n",
       "      <td>0.0</td>\n",
       "      <td>0.0</td>\n",
       "    </tr>\n",
       "  </tbody>\n",
       "</table>\n",
       "<p>5 rows × 2081 columns</p>\n",
       "</div>"
      ],
      "text/plain": [
       "   W__abl  W__able provid  W__absolut  W__absolute hero  W__abt  \\\n",
       "0     0.0             0.0         0.0               0.0     0.0   \n",
       "1     0.0             0.0         0.0               0.0     0.0   \n",
       "2     0.0             0.0         0.0               0.0     0.0   \n",
       "3     0.0             0.0         0.0               0.0     0.0   \n",
       "4     0.0             0.0         0.0               0.0     0.0   \n",
       "\n",
       "   W__abt coronavirus  W__abtc  W__accident  W__accidentally leak  \\\n",
       "0                 0.0      0.0     0.000000              0.000000   \n",
       "1                 0.0      0.0     0.000000              0.000000   \n",
       "2                 0.0      0.0     0.000000              0.000000   \n",
       "3                 0.0      0.0     0.000000              0.000000   \n",
       "4                 0.0      0.0     0.119826              0.127781   \n",
       "\n",
       "   W__accidentally pnum  ...  W__yeah sur  W__year  W__youtub  W__youtube xr  \\\n",
       "0                   0.0  ...          0.0      0.0        0.0            0.0   \n",
       "1                   0.0  ...          0.0      0.0        0.0            0.0   \n",
       "2                   0.0  ...          0.0      0.0        0.0            0.0   \n",
       "3                   0.0  ...          0.0      0.0        0.0            0.0   \n",
       "4                   0.0  ...          0.0      0.0        0.0            0.0   \n",
       "\n",
       "   W__yr  W__yr old  W__李文亮  W__李文亮 china  W__自相矛盾natur  W__自相矛盾nature chines  \n",
       "0    0.0        0.0     0.0           0.0           0.0                   0.0  \n",
       "1    0.0        0.0     0.0           0.0           0.0                   0.0  \n",
       "2    0.0        0.0     0.0           0.0           0.0                   0.0  \n",
       "3    0.0        0.0     0.0           0.0           0.0                   0.0  \n",
       "4    0.0        0.0     0.0           0.0           0.0                   0.0  \n",
       "\n",
       "[5 rows x 2081 columns]"
      ]
     },
     "execution_count": 18,
     "metadata": {},
     "output_type": "execute_result"
    }
   ],
   "source": [
    "sentence_term_df.head(5)"
   ]
  },
  {
   "cell_type": "code",
   "execution_count": 19,
   "metadata": {},
   "outputs": [
    {
     "data": {
      "text/plain": [
       "(1187, 2081)"
      ]
     },
     "execution_count": 19,
     "metadata": {},
     "output_type": "execute_result"
    }
   ],
   "source": [
    "sentence_term_df.shape"
   ]
  },
  {
   "cell_type": "code",
   "execution_count": 20,
   "metadata": {},
   "outputs": [
    {
     "data": {
      "text/plain": [
       "(1187,)"
      ]
     },
     "execution_count": 20,
     "metadata": {},
     "output_type": "execute_result"
    }
   ],
   "source": [
    "labels = data['Is_Conspiracy (0=No, 1=Yes)']\n",
    "labels.shape"
   ]
  },
  {
   "cell_type": "code",
   "execution_count": 21,
   "metadata": {},
   "outputs": [],
   "source": [
    "features = sentence_term_df.values"
   ]
  },
  {
   "cell_type": "code",
   "execution_count": 22,
   "metadata": {},
   "outputs": [
    {
     "data": {
      "text/plain": [
       "(1187, 2081)"
      ]
     },
     "execution_count": 22,
     "metadata": {},
     "output_type": "execute_result"
    }
   ],
   "source": [
    "features.shape"
   ]
  },
  {
   "cell_type": "markdown",
   "metadata": {},
   "source": [
    "## Train-Test Split for All Models"
   ]
  },
  {
   "cell_type": "code",
   "execution_count": 23,
   "metadata": {},
   "outputs": [],
   "source": [
    "from sklearn.model_selection import train_test_split"
   ]
  },
  {
   "cell_type": "code",
   "execution_count": 24,
   "metadata": {},
   "outputs": [],
   "source": [
    "X_train, X_test, y_train, y_test = train_test_split(features, labels, test_size=0.30, random_state=42)"
   ]
  },
  {
   "cell_type": "code",
   "execution_count": 25,
   "metadata": {},
   "outputs": [
    {
     "data": {
      "text/plain": [
       "(830, 357)"
      ]
     },
     "execution_count": 25,
     "metadata": {},
     "output_type": "execute_result"
    }
   ],
   "source": [
    "len(X_train), len(X_test)"
   ]
  },
  {
   "cell_type": "markdown",
   "metadata": {},
   "source": [
    "## Classification Report"
   ]
  },
  {
   "cell_type": "code",
   "execution_count": 26,
   "metadata": {},
   "outputs": [],
   "source": [
    "## For printing CLassification report with Accuracy\n",
    "def print_classification_result(y_test, y_pred):\n",
    "    target_names = ['Non-Conspiracy', 'Conspiracy']\n",
    "    tn, fp, fn, tp = confusion_matrix(y_test, y_pred).ravel()\n",
    "    specificity = tn / (tn+fp)\n",
    "    print(classification_report(y_test, y_pred, target_names=target_names))\n",
    "    print('Avg. Accuracy: ', accuracy_score(y_test, y_pred))\n",
    "    print('Specifity: ', specificity)"
   ]
  },
  {
   "cell_type": "markdown",
   "metadata": {},
   "source": [
    "## Milestone 3 Code"
   ]
  },
  {
   "cell_type": "markdown",
   "metadata": {},
   "source": [
    "### SVM"
   ]
  },
  {
   "cell_type": "code",
   "execution_count": 27,
   "metadata": {},
   "outputs": [],
   "source": [
    "from sklearn import svm"
   ]
  },
  {
   "cell_type": "code",
   "execution_count": 28,
   "metadata": {},
   "outputs": [],
   "source": [
    "svm_clf = svm.SVC()"
   ]
  },
  {
   "cell_type": "code",
   "execution_count": 29,
   "metadata": {},
   "outputs": [
    {
     "name": "stdout",
     "output_type": "stream",
     "text": [
      "                precision    recall  f1-score   support\n",
      "\n",
      "Non-Conspiracy       1.00      0.99      0.99       228\n",
      "    Conspiracy       0.98      1.00      0.99       129\n",
      "\n",
      "      accuracy                           0.99       357\n",
      "     macro avg       0.99      0.99      0.99       357\n",
      "  weighted avg       0.99      0.99      0.99       357\n",
      "\n",
      "Avg. Accuracy:  0.9915966386554622\n",
      "Specifity:  0.9868421052631579\n"
     ]
    }
   ],
   "source": [
    "sv_trained = svm_clf.fit(X_train,y_train)\n",
    "y_pred = sv_trained.predict(X_test)\n",
    "print_classification_result(y_test, y_pred)"
   ]
  },
  {
   "cell_type": "code",
   "execution_count": 30,
   "metadata": {},
   "outputs": [],
   "source": [
    "## Replacing Kernels"
   ]
  },
  {
   "cell_type": "code",
   "execution_count": 31,
   "metadata": {},
   "outputs": [
    {
     "name": "stdout",
     "output_type": "stream",
     "text": [
      "=================== For linear Kernel ================\n",
      "                precision    recall  f1-score   support\n",
      "\n",
      "Non-Conspiracy       0.96      0.96      0.96       228\n",
      "    Conspiracy       0.93      0.94      0.93       129\n",
      "\n",
      "      accuracy                           0.95       357\n",
      "     macro avg       0.95      0.95      0.95       357\n",
      "  weighted avg       0.95      0.95      0.95       357\n",
      "\n",
      "Avg. Accuracy:  0.9523809523809523\n",
      "Specifity:  0.9605263157894737\n",
      "=================== For poly Kernel ================\n",
      "                precision    recall  f1-score   support\n",
      "\n",
      "Non-Conspiracy       1.00      0.99      0.99       228\n",
      "    Conspiracy       0.98      1.00      0.99       129\n",
      "\n",
      "      accuracy                           0.99       357\n",
      "     macro avg       0.99      0.99      0.99       357\n",
      "  weighted avg       0.99      0.99      0.99       357\n",
      "\n",
      "Avg. Accuracy:  0.9915966386554622\n",
      "Specifity:  0.9868421052631579\n"
     ]
    }
   ],
   "source": [
    "for kernel in ('linear', 'poly'):\n",
    "    svm_clf = svm.SVC(kernel=kernel)\n",
    "    sv_trained = svm_clf.fit(X_train,y_train)\n",
    "    y_pred = sv_trained.predict(X_test)\n",
    "    print(\"=================== For \" + kernel+  \" Kernel ================\")\n",
    "    print_classification_result(y_test, y_pred)"
   ]
  },
  {
   "cell_type": "markdown",
   "metadata": {},
   "source": [
    "### NN Model"
   ]
  },
  {
   "cell_type": "code",
   "execution_count": 188,
   "metadata": {},
   "outputs": [],
   "source": [
    "from sklearn.feature_extraction.text import CountVectorizer\n",
    "from keras.preprocessing.text import Tokenizer\n",
    "from keras.preprocessing.sequence import pad_sequences\n",
    "from keras.models import Sequential\n",
    "from keras.layers import Dense, Embedding, LSTM\n",
    "from sklearn.model_selection import train_test_split\n",
    "from keras.utils.np_utils import to_categorical\n",
    "import re"
   ]
  },
  {
   "cell_type": "code",
   "execution_count": 189,
   "metadata": {},
   "outputs": [
    {
     "name": "stderr",
     "output_type": "stream",
     "text": [
      "/home/rony/anaconda3/lib/python3.8/site-packages/keras_preprocessing/text.py:178: UserWarning: The `nb_words` argument in `Tokenizer` has been renamed `num_words`.\n",
      "  warnings.warn('The `nb_words` argument in `Tokenizer` '\n"
     ]
    }
   ],
   "source": [
    "max_fatures = 3000\n",
    "tokenizer = Tokenizer(nb_words=max_fatures, split=' ')\n",
    "tokenizer.fit_on_texts(data['filtered_tweet'].values)\n",
    "X1 = tokenizer.texts_to_sequences(data['filtered_tweet'].values)\n",
    "X1 = pad_sequences(X1)"
   ]
  },
  {
   "cell_type": "code",
   "execution_count": 190,
   "metadata": {},
   "outputs": [
    {
     "name": "stdout",
     "output_type": "stream",
     "text": [
      "(890, 54) (890, 2)\n",
      "(297, 54) (297, 2)\n"
     ]
    }
   ],
   "source": [
    "Y1 = pd.get_dummies(data['Is_Conspiracy (0=No, 1=Yes)']).values\n",
    "X1_train, X1_test, Y1_train, Y1_test = train_test_split(X1,Y1, random_state = 42)\n",
    "print(X1_train.shape,Y1_train.shape)\n",
    "print(X1_test.shape,Y1_test.shape)"
   ]
  },
  {
   "cell_type": "code",
   "execution_count": 193,
   "metadata": {},
   "outputs": [],
   "source": [
    "y_test = []\n",
    "for ent in Y1_test:\n",
    "    if ent[0] == 1:\n",
    "        y_test.append(0)\n",
    "    else:\n",
    "        y_test.append(1)\n",
    "y_test= np.asarray(y_test)"
   ]
  },
  {
   "cell_type": "code",
   "execution_count": 213,
   "metadata": {},
   "outputs": [],
   "source": [
    "embed_dim = 200\n",
    "lstm_out = 200\n",
    "max_features = 3000"
   ]
  },
  {
   "cell_type": "code",
   "execution_count": 214,
   "metadata": {},
   "outputs": [],
   "source": [
    "def NN_model(hidden_layer):\n",
    "    model = Sequential()\n",
    "    model.add(Embedding(max_features, embed_dim,input_length = X1_train.shape[1], dropout=0.2))\n",
    "    model.add(LSTM(lstm_out, dropout_U=0.2,dropout_W=0.2))\n",
    "    for i in range(hidden_layer):\n",
    "        model.add(Dense(2,activation='softmax'))\n",
    "    model.compile(loss = 'categorical_crossentropy', optimizer='adam',metrics = ['accuracy'])\n",
    "    model.fit(X1_train, Y1_train, nb_epoch = 10,verbose = 0)\n",
    "    yhat_classes = model.predict_classes(X1_test, verbose=0)\n",
    "    accuracy = accuracy_score(y_test, yhat_classes)\n",
    "    return {'layer': hidden_layer, 'accuracy': accuracy}"
   ]
  },
  {
   "cell_type": "code",
   "execution_count": 215,
   "metadata": {},
   "outputs": [
    {
     "name": "stderr",
     "output_type": "stream",
     "text": [
      "<ipython-input-214-22b6d9e17048>:3: UserWarning: The `dropout` argument is no longer support in `Embedding`. You can apply a `keras.layers.SpatialDropout1D` layer right after the `Embedding` layer to get the same behavior.\n",
      "  model.add(Embedding(max_features, embed_dim,input_length = X1_train.shape[1], dropout=0.2))\n",
      "<ipython-input-214-22b6d9e17048>:4: UserWarning: Update your `LSTM` call to the Keras 2 API: `LSTM(200, dropout=0.2, recurrent_dropout=0.2)`\n",
      "  model.add(LSTM(lstm_out, dropout_U=0.2,dropout_W=0.2))\n",
      "<ipython-input-214-22b6d9e17048>:8: UserWarning: The `nb_epoch` argument in `fit` has been renamed `epochs`.\n",
      "  model.fit(X1_train, Y1_train, nb_epoch = 10,verbose = 0)\n"
     ]
    }
   ],
   "source": [
    "nn_results = []\n",
    "for i in [1,2,3,4,5]:\n",
    "    nn_results.append(NN_model(i))"
   ]
  },
  {
   "cell_type": "code",
   "execution_count": 218,
   "metadata": {},
   "outputs": [],
   "source": [
    "nn_per = pd.DataFrame(nn_results)"
   ]
  },
  {
   "cell_type": "code",
   "execution_count": 219,
   "metadata": {},
   "outputs": [
    {
     "data": {
      "text/html": [
       "<div>\n",
       "<style scoped>\n",
       "    .dataframe tbody tr th:only-of-type {\n",
       "        vertical-align: middle;\n",
       "    }\n",
       "\n",
       "    .dataframe tbody tr th {\n",
       "        vertical-align: top;\n",
       "    }\n",
       "\n",
       "    .dataframe thead th {\n",
       "        text-align: right;\n",
       "    }\n",
       "</style>\n",
       "<table border=\"1\" class=\"dataframe\">\n",
       "  <thead>\n",
       "    <tr style=\"text-align: right;\">\n",
       "      <th></th>\n",
       "      <th>layer</th>\n",
       "      <th>accuracy</th>\n",
       "    </tr>\n",
       "  </thead>\n",
       "  <tbody>\n",
       "    <tr>\n",
       "      <th>0</th>\n",
       "      <td>1</td>\n",
       "      <td>0.983165</td>\n",
       "    </tr>\n",
       "    <tr>\n",
       "      <th>1</th>\n",
       "      <td>2</td>\n",
       "      <td>0.622896</td>\n",
       "    </tr>\n",
       "    <tr>\n",
       "      <th>2</th>\n",
       "      <td>3</td>\n",
       "      <td>0.622896</td>\n",
       "    </tr>\n",
       "    <tr>\n",
       "      <th>3</th>\n",
       "      <td>4</td>\n",
       "      <td>0.983165</td>\n",
       "    </tr>\n",
       "    <tr>\n",
       "      <th>4</th>\n",
       "      <td>5</td>\n",
       "      <td>0.622896</td>\n",
       "    </tr>\n",
       "  </tbody>\n",
       "</table>\n",
       "</div>"
      ],
      "text/plain": [
       "   layer  accuracy\n",
       "0      1  0.983165\n",
       "1      2  0.622896\n",
       "2      3  0.622896\n",
       "3      4  0.983165\n",
       "4      5  0.622896"
      ]
     },
     "execution_count": 219,
     "metadata": {},
     "output_type": "execute_result"
    }
   ],
   "source": [
    "nn_per"
   ]
  },
  {
   "cell_type": "code",
   "execution_count": 221,
   "metadata": {},
   "outputs": [
    {
     "data": {
      "image/png": "[encoded data removed]",
      "text/plain": [
       "<Figure size 432x288 with 1 Axes>"
      ]
     },
     "metadata": {
      "needs_background": "light"
     },
     "output_type": "display_data"
    }
   ],
   "source": [
    "lines = nn_per.plot.line(x='layer', y='accuracy')"
   ]
  },
  {
   "cell_type": "code",
   "execution_count": 239,
   "metadata": {},
   "outputs": [],
   "source": [
    "## Visualization"
   ]
  },
  {
   "cell_type": "code",
   "execution_count": 240,
   "metadata": {},
   "outputs": [
    {
     "name": "stderr",
     "output_type": "stream",
     "text": [
      "<ipython-input-240-fc4637f35220>:5: UserWarning: The `dropout` argument is no longer support in `Embedding`. You can apply a `keras.layers.SpatialDropout1D` layer right after the `Embedding` layer to get the same behavior.\n",
      "  model.add(Embedding(max_features, embed_dim,input_length = X1_train.shape[1], dropout=0.2))\n",
      "<ipython-input-240-fc4637f35220>:6: UserWarning: Update your `LSTM` call to the Keras 2 API: `LSTM(200, dropout=0.2, recurrent_dropout=0.2)`\n",
      "  model.add(LSTM(lstm_out, dropout_U=0.2,dropout_W=0.2))\n",
      "<ipython-input-240-fc4637f35220>:9: UserWarning: The `nb_epoch` argument in `fit` has been renamed `epochs`.\n",
      "  model.fit(X1_train, Y1_train, nb_epoch = 10,verbose = 0)\n",
      "/home/rony/anaconda3/lib/python3.8/site-packages/tensorflow/python/framework/indexed_slices.py:433: UserWarning: Converting sparse IndexedSlices to a dense Tensor of unknown shape. This may consume a large amount of memory.\n",
      "  warnings.warn(\n"
     ]
    },
    {
     "data": {
      "text/plain": [
       "<keras.callbacks.callbacks.History at 0x7f5b236e6490>"
      ]
     },
     "execution_count": 240,
     "metadata": {},
     "output_type": "execute_result"
    }
   ],
   "source": [
    "embed_dim = 200\n",
    "lstm_out = 200\n",
    "max_features = 3000\n",
    "model = Sequential()\n",
    "model.add(Embedding(max_features, embed_dim,input_length = X1_train.shape[1], dropout=0.2))\n",
    "model.add(LSTM(lstm_out, dropout_U=0.2,dropout_W=0.2))\n",
    "model.add(Dense(2,activation='softmax'))\n",
    "model.compile(loss = 'categorical_crossentropy', optimizer='adam',metrics = ['accuracy'])\n",
    "model.fit(X1_train, Y1_train, nb_epoch = 10,verbose = 0)"
   ]
  },
  {
   "cell_type": "code",
   "execution_count": 249,
   "metadata": {},
   "outputs": [
    {
     "name": "stdout",
     "output_type": "stream",
     "text": [
      "{'name': 'dense_94', 'trainable': True, 'batch_input_shape': (None, 200), 'dtype': 'float32', 'units': 2, 'activation': 'linear', 'use_bias': True, 'kernel_initializer': {'class_name': 'VarianceScaling', 'config': {'scale': 1.0, 'mode': 'fan_avg', 'distribution': 'uniform', 'seed': None}}, 'bias_initializer': {'class_name': 'Zeros', 'config': {}}, 'kernel_regularizer': None, 'bias_regularizer': None, 'activity_regularizer': None, 'kernel_constraint': None, 'bias_constraint': None}\n"
     ]
    }
   ],
   "source": [
    "import keras\n",
    "from keras.models import Sequential\n",
    "from keras.layers import Dense, Conv2D, MaxPooling2D, Flatten, Dropout, Activation\n",
    "import json\n",
    "\n",
    "network = Sequential()\n",
    "\n",
    "\n",
    "def build_cnn_model():\n",
    "  model = keras.models.Sequential()\n",
    "\n",
    "  model.add(Dense(2, input_shape=(200,)))\n",
    "#   model.add(Activation('sigmoid'))\n",
    "#   model.add(Dense(60))\n",
    "#   model.add(Activation('sigmoid'))\n",
    "#   model.add(Dense(1))\n",
    "\n",
    "  return model\n",
    "\n",
    "network = build_cnn_model()\n",
    "\n",
    "from ann_visualizer.visualize import ann_viz\n",
    "\n",
    "ann_viz(network, title=\"\", view=True)\n",
    "\n",
    "print(network.layers[0].get_config())"
   ]
  },
  {
   "cell_type": "markdown",
   "metadata": {},
   "source": [
    "### Clustering"
   ]
  },
  {
   "cell_type": "markdown",
   "metadata": {},
   "source": [
    "#### kMeans"
   ]
  },
  {
   "cell_type": "code",
   "execution_count": 183,
   "metadata": {},
   "outputs": [],
   "source": [
    "from sklearn.feature_extraction.text import TfidfVectorizer\n",
    "from sklearn.cluster import KMeans\n",
    "from sklearn.metrics import adjusted_rand_score\n",
    "\n",
    "documents = data['filtered_tweet'].values.tolist()\n",
    "\n",
    "vectorizer = TfidfVectorizer(stop_words='english')\n",
    "X = vectorizer.fit_transform(documents)\n",
    "\n",
    "true_k = 2\n",
    "model = KMeans(n_clusters=true_k, init='k-means++', max_iter=100, n_init=1)\n",
    "model.fit(X)\n",
    "predicted_lables = model.labels_.tolist()\n",
    "original_lables = data['Is_Conspiracy (0=No, 1=Yes)'].values.tolist()"
   ]
  },
  {
   "cell_type": "code",
   "execution_count": 184,
   "metadata": {},
   "outputs": [],
   "source": [
    "class_0 = 0\n",
    "class_1 = 0\n",
    "for pred in predicted_lables:\n",
    "    if pred == 0:\n",
    "        class_0 += 1\n",
    "    else:\n",
    "        class_1 += 1"
   ]
  },
  {
   "cell_type": "code",
   "execution_count": 185,
   "metadata": {},
   "outputs": [
    {
     "data": {
      "text/plain": [
       "(890, 297)"
      ]
     },
     "execution_count": 185,
     "metadata": {},
     "output_type": "execute_result"
    }
   ],
   "source": [
    "class_0, class_1"
   ]
  },
  {
   "cell_type": "code",
   "execution_count": 186,
   "metadata": {},
   "outputs": [
    {
     "name": "stdout",
     "output_type": "stream",
     "text": [
      "Top terms per cluster:\n",
      "Cluster 0:\n",
      " coronavirus\n",
      " china\n",
      " virus\n",
      " num\n",
      " amp\n",
      " coronavirusoutbreak\n",
      " wuhan\n",
      " news\n",
      " people\n",
      " trump\n",
      "Cluster 1:\n",
      " coronavirus\n",
      " chinese\n",
      " doctor\n",
      " china\n",
      " wuhan\n",
      " truth\n",
      " li\n",
      " numnum\n",
      " numnumnum\n",
      " died\n"
     ]
    }
   ],
   "source": [
    "print(\"Top terms per cluster:\")\n",
    "order_centroids = model.cluster_centers_.argsort()[:, ::-1]\n",
    "terms = vectorizer.get_feature_names()\n",
    "for i in range(true_k):\n",
    "    print(\"Cluster %d:\" % i),\n",
    "    for ind in order_centroids[i, :10]:\n",
    "        print(' %s' % terms[ind]),\n",
    "    print"
   ]
  },
  {
   "cell_type": "markdown",
   "metadata": {},
   "source": [
    "### Hierarchical Clustering"
   ]
  },
  {
   "cell_type": "code",
   "execution_count": 64,
   "metadata": {},
   "outputs": [],
   "source": [
    "import matplotlib.pyplot as plt\n",
    "%matplotlib inline"
   ]
  },
  {
   "cell_type": "code",
   "execution_count": 65,
   "metadata": {},
   "outputs": [],
   "source": [
    "import scipy.cluster.hierarchy as shc"
   ]
  },
  {
   "cell_type": "code",
   "execution_count": 74,
   "metadata": {},
   "outputs": [
    {
     "data": {
      "text/plain": [
       "<matplotlib.lines.Line2D at 0x7fba15e71d90>"
      ]
     },
     "execution_count": 74,
     "metadata": {},
     "output_type": "execute_result"
    },
    {
     "data": {
      "image/png": "[encoded data removed]",
      "text/plain": [
       "<Figure size 720x504 with 1 Axes>"
      ]
     },
     "metadata": {
      "needs_background": "light"
     },
     "output_type": "display_data"
    }
   ],
   "source": [
    "plt.figure(figsize=(10, 7))  \n",
    "plt.title(\"Dendrograms\")  \n",
    "dend = shc.dendrogram(shc.linkage(sentence_term_df, method='ward'))\n",
    "plt.axhline(y=5.8, color='r', linestyle='--')"
   ]
  },
  {
   "cell_type": "code",
   "execution_count": 75,
   "metadata": {},
   "outputs": [],
   "source": [
    "from sklearn.cluster import AgglomerativeClustering\n",
    "cluster = AgglomerativeClustering(n_clusters=2, affinity='euclidean', linkage='ward')  \n",
    "predictions = cluster.fit_predict(sentence_term_df)"
   ]
  },
  {
   "cell_type": "code",
   "execution_count": 76,
   "metadata": {},
   "outputs": [],
   "source": [
    "class_0 = 0\n",
    "class_1 = 0\n",
    "for pred in predictions:\n",
    "    if pred == 0:\n",
    "        class_0 += 1\n",
    "    else:\n",
    "        class_1 += 1"
   ]
  },
  {
   "cell_type": "code",
   "execution_count": 77,
   "metadata": {},
   "outputs": [
    {
     "data": {
      "text/plain": [
       "(1153, 34)"
      ]
     },
     "execution_count": 77,
     "metadata": {},
     "output_type": "execute_result"
    }
   ],
   "source": [
    "class_0, class_1"
   ]
  },
  {
   "cell_type": "markdown",
   "metadata": {},
   "source": [
    "#### DBScan"
   ]
  },
  {
   "cell_type": "code",
   "execution_count": 78,
   "metadata": {},
   "outputs": [],
   "source": [
    "from sklearn.cluster import DBSCAN"
   ]
  },
  {
   "cell_type": "code",
   "execution_count": 109,
   "metadata": {},
   "outputs": [],
   "source": [
    "clustering = DBSCAN(min_samples=6).fit(sentence_term_df)"
   ]
  },
  {
   "cell_type": "code",
   "execution_count": 110,
   "metadata": {},
   "outputs": [
    {
     "data": {
      "text/plain": [
       "array([-1, -1, -1, ..., -1, -1, -1])"
      ]
     },
     "execution_count": 110,
     "metadata": {},
     "output_type": "execute_result"
    }
   ],
   "source": [
    "clustering.labels_"
   ]
  },
  {
   "cell_type": "code",
   "execution_count": 111,
   "metadata": {},
   "outputs": [],
   "source": [
    "cluster_map = {}\n",
    "for cluster in clustering.labels_:\n",
    "    if cluster not in cluster_map:\n",
    "        cluster_map[cluster] = 0\n",
    "        cluster_map[cluster] += 1\n",
    "    else:\n",
    "        cluster_map[cluster] += 1"
   ]
  },
  {
   "cell_type": "code",
   "execution_count": 112,
   "metadata": {},
   "outputs": [
    {
     "data": {
      "text/plain": [
       "{-1: 1078, 0: 13, 1: 10, 2: 13, 3: 20, 4: 6, 5: 11, 6: 16, 7: 6, 8: 6, 9: 8}"
      ]
     },
     "execution_count": 112,
     "metadata": {},
     "output_type": "execute_result"
    }
   ],
   "source": [
    "cluster_map"
   ]
  },
  {
   "cell_type": "markdown",
   "metadata": {},
   "source": [
    "### Comparative Analysis"
   ]
  },
  {
   "cell_type": "code",
   "execution_count": 96,
   "metadata": {},
   "outputs": [],
   "source": [
    "from sklearn.model_selection import LeaveOneOut\n",
    "from sklearn.model_selection import KFold\n",
    "from sklearn.metrics import precision_score\n",
    "from sklearn.metrics import recall_score\n",
    "from sklearn.metrics import f1_score\n",
    "from sklearn.metrics import accuracy_score\n",
    "from sklearn.svm import SVC\n",
    "from sklearn.ensemble import RandomForestClassifier\n",
    "from sklearn.tree import DecisionTreeClassifier"
   ]
  },
  {
   "cell_type": "code",
   "execution_count": 103,
   "metadata": {},
   "outputs": [],
   "source": [
    "def model_classification(model, train, test):\n",
    "    X_train = sentence_term_df.iloc[train].values\n",
    "    X_test = sentence_term_df.iloc[test].values\n",
    "    y_train = data.iloc[train]['Is_Conspiracy (0=No, 1=Yes)']\n",
    "    y_test = data.iloc[test]['Is_Conspiracy (0=No, 1=Yes)']\n",
    "#     svm_clf = svm.SVC()\n",
    "    trained = model.fit(X_train,y_train)\n",
    "    y_pred = trained.predict(X_test)\n",
    "    precision = precision_score(y_test, y_pred, average='macro')\n",
    "    recall = recall_score(y_test, y_pred, average='macro')\n",
    "    f1 = f1_score(y_test, y_pred, average='macro')\n",
    "    accuracy = accuracy_score(y_test, y_pred)\n",
    "    return {'precision': precision, 'recall': recall, 'f1': f1, 'accuracy': accuracy}"
   ]
  },
  {
   "cell_type": "code",
   "execution_count": 114,
   "metadata": {},
   "outputs": [
    {
     "name": "stderr",
     "output_type": "stream",
     "text": [
      "/home/rony/anaconda3/lib/python3.8/site-packages/keras_preprocessing/text.py:178: UserWarning: The `nb_words` argument in `Tokenizer` has been renamed `num_words`.\n",
      "  warnings.warn('The `nb_words` argument in `Tokenizer` '\n"
     ]
    }
   ],
   "source": [
    "max_fatures = 3000\n",
    "tokenizer = Tokenizer(nb_words=max_fatures, split=' ')\n",
    "tokenizer.fit_on_texts(data['filtered_tweet'].values)\n",
    "X1 = tokenizer.texts_to_sequences(data['filtered_tweet'].values)\n",
    "X1 = pad_sequences(X1)"
   ]
  },
  {
   "cell_type": "code",
   "execution_count": 141,
   "metadata": {},
   "outputs": [],
   "source": [
    "max_fatures = 3000\n",
    "tokenizer = Tokenizer(nb_words=max_fatures, split=' ')\n",
    "tokenizer.fit_on_texts(data['filtered_tweet'].values)\n",
    "X1 = tokenizer.texts_to_sequences(data['filtered_tweet'].values)\n",
    "Y1 = pd.get_dummies(data['Is_Conspiracy (0=No, 1=Yes)']).values\n",
    "X1 = pad_sequences(X1)"
   ]
  },
  {
   "cell_type": "code",
   "execution_count": 161,
   "metadata": {},
   "outputs": [],
   "source": [
    "def classification_report_for_NN(train,test):\n",
    "#     print(len(train), len(test))\n",
    "    X1_train = X1[train]\n",
    "    X1_test = X1[test]\n",
    "    Y1_train = Y1[train]\n",
    "    Y1_test = Y1[test]\n",
    "    \n",
    "    embed_dim = 150\n",
    "    lstm_out = 200\n",
    "    max_features = 3000\n",
    "\n",
    "    model = Sequential()\n",
    "    model.add(Embedding(max_features, embed_dim,input_length = X1_train.shape[1], dropout=0.2))\n",
    "    model.add(LSTM(lstm_out, dropout_U=0.2,dropout_W=0.2))\n",
    "    model.add(Dense(2,activation='softmax'))\n",
    "    model.compile(loss = 'categorical_crossentropy', optimizer='adam',metrics = ['accuracy'])\n",
    "    batch_size = 32\n",
    "    model.fit(X1_train, Y1_train, nb_epoch = 10,verbose = 0)\n",
    "    yhat_classes = model.predict_classes(X1_test, verbose=0)\n",
    "    y_test = []\n",
    "    for ent in Y1_test:\n",
    "        if ent[0] == 1:\n",
    "            y_test.append(0)\n",
    "        else:\n",
    "            y_test.append(1)\n",
    "    y_test= np.asarray(y_test)\n",
    "    accuracy = accuracy_score(y_test, yhat_classes)\n",
    "    precision = precision_score(y_test, yhat_classes, average='macro')\n",
    "    recall = recall_score(y_test, yhat_classes, average='macro')\n",
    "    f1 = f1_score(y_test, yhat_classes, average='macro')\n",
    "    return {'precision': precision, 'recall': recall, 'f1': f1, 'accuracy': accuracy}"
   ]
  },
  {
   "cell_type": "code",
   "execution_count": 124,
   "metadata": {},
   "outputs": [],
   "source": [
    "## K-fold Cross "
   ]
  },
  {
   "cell_type": "code",
   "execution_count": 145,
   "metadata": {},
   "outputs": [
    {
     "name": "stderr",
     "output_type": "stream",
     "text": [
      "<ipython-input-142-1aa10c86d4d0>:13: UserWarning: The `dropout` argument is no longer support in `Embedding`. You can apply a `keras.layers.SpatialDropout1D` layer right after the `Embedding` layer to get the same behavior.\n",
      "  model.add(Embedding(max_features, embed_dim,input_length = X1_train.shape[1], dropout=0.2))\n",
      "<ipython-input-142-1aa10c86d4d0>:14: UserWarning: Update your `LSTM` call to the Keras 2 API: `LSTM(200, dropout=0.2, recurrent_dropout=0.2)`\n",
      "  model.add(LSTM(lstm_out, dropout_U=0.2,dropout_W=0.2))\n",
      "<ipython-input-142-1aa10c86d4d0>:18: UserWarning: The `nb_epoch` argument in `fit` has been renamed `epochs`.\n",
      "  model.fit(X1_train, Y1_train, nb_epoch = 10,verbose = 2)\n",
      "/home/rony/anaconda3/lib/python3.8/site-packages/tensorflow/python/framework/indexed_slices.py:433: UserWarning: Converting sparse IndexedSlices to a dense Tensor of unknown shape. This may consume a large amount of memory.\n",
      "  warnings.warn(\n"
     ]
    },
    {
     "name": "stdout",
     "output_type": "stream",
     "text": [
      "Epoch 1/10\n",
      " - 3s - loss: 0.5950 - accuracy: 0.6870\n",
      "Epoch 2/10\n",
      " - 4s - loss: 0.3080 - accuracy: 0.8925\n",
      "Epoch 3/10\n",
      " - 3s - loss: 0.0753 - accuracy: 0.9800\n",
      "Epoch 4/10\n",
      " - 3s - loss: 0.0345 - accuracy: 0.9947\n",
      "Epoch 5/10\n",
      " - 3s - loss: 0.0139 - accuracy: 0.9989\n",
      "Epoch 6/10\n",
      " - 3s - loss: 0.0079 - accuracy: 0.9979\n",
      "Epoch 7/10\n",
      " - 3s - loss: 0.0158 - accuracy: 0.9958\n",
      "Epoch 8/10\n",
      " - 3s - loss: 0.0080 - accuracy: 0.9989\n",
      "Epoch 9/10\n",
      " - 3s - loss: 0.0128 - accuracy: 0.9968\n",
      "Epoch 10/10\n",
      " - 3s - loss: 0.0049 - accuracy: 0.9989\n"
     ]
    },
    {
     "name": "stderr",
     "output_type": "stream",
     "text": [
      "<ipython-input-142-1aa10c86d4d0>:13: UserWarning: The `dropout` argument is no longer support in `Embedding`. You can apply a `keras.layers.SpatialDropout1D` layer right after the `Embedding` layer to get the same behavior.\n",
      "  model.add(Embedding(max_features, embed_dim,input_length = X1_train.shape[1], dropout=0.2))\n",
      "<ipython-input-142-1aa10c86d4d0>:14: UserWarning: Update your `LSTM` call to the Keras 2 API: `LSTM(200, dropout=0.2, recurrent_dropout=0.2)`\n",
      "  model.add(LSTM(lstm_out, dropout_U=0.2,dropout_W=0.2))\n",
      "<ipython-input-142-1aa10c86d4d0>:18: UserWarning: The `nb_epoch` argument in `fit` has been renamed `epochs`.\n",
      "  model.fit(X1_train, Y1_train, nb_epoch = 10,verbose = 2)\n",
      "/home/rony/anaconda3/lib/python3.8/site-packages/tensorflow/python/framework/indexed_slices.py:433: UserWarning: Converting sparse IndexedSlices to a dense Tensor of unknown shape. This may consume a large amount of memory.\n",
      "  warnings.warn(\n"
     ]
    },
    {
     "name": "stdout",
     "output_type": "stream",
     "text": [
      "Epoch 1/10\n",
      " - 3s - loss: 0.5804 - accuracy: 0.7155\n",
      "Epoch 2/10\n",
      " - 3s - loss: 0.2840 - accuracy: 0.8988\n",
      "Epoch 3/10\n",
      " - 3s - loss: 0.0623 - accuracy: 0.9852\n",
      "Epoch 4/10\n",
      " - 3s - loss: 0.0221 - accuracy: 0.9958\n",
      "Epoch 5/10\n",
      " - 3s - loss: 0.0079 - accuracy: 0.9979\n",
      "Epoch 6/10\n",
      " - 3s - loss: 0.0082 - accuracy: 0.9979\n",
      "Epoch 7/10\n",
      " - 3s - loss: 0.0024 - accuracy: 1.0000\n",
      "Epoch 8/10\n",
      " - 3s - loss: 0.0012 - accuracy: 1.0000\n",
      "Epoch 9/10\n",
      " - 3s - loss: 7.1279e-04 - accuracy: 1.0000\n",
      "Epoch 10/10\n",
      " - 3s - loss: 5.6382e-04 - accuracy: 1.0000\n"
     ]
    },
    {
     "name": "stderr",
     "output_type": "stream",
     "text": [
      "<ipython-input-142-1aa10c86d4d0>:13: UserWarning: The `dropout` argument is no longer support in `Embedding`. You can apply a `keras.layers.SpatialDropout1D` layer right after the `Embedding` layer to get the same behavior.\n",
      "  model.add(Embedding(max_features, embed_dim,input_length = X1_train.shape[1], dropout=0.2))\n",
      "<ipython-input-142-1aa10c86d4d0>:14: UserWarning: Update your `LSTM` call to the Keras 2 API: `LSTM(200, dropout=0.2, recurrent_dropout=0.2)`\n",
      "  model.add(LSTM(lstm_out, dropout_U=0.2,dropout_W=0.2))\n",
      "<ipython-input-142-1aa10c86d4d0>:18: UserWarning: The `nb_epoch` argument in `fit` has been renamed `epochs`.\n",
      "  model.fit(X1_train, Y1_train, nb_epoch = 10,verbose = 2)\n",
      "/home/rony/anaconda3/lib/python3.8/site-packages/tensorflow/python/framework/indexed_slices.py:433: UserWarning: Converting sparse IndexedSlices to a dense Tensor of unknown shape. This may consume a large amount of memory.\n",
      "  warnings.warn(\n"
     ]
    },
    {
     "name": "stdout",
     "output_type": "stream",
     "text": [
      "Epoch 1/10\n",
      " - 3s - loss: 0.6035 - accuracy: 0.6968\n",
      "Epoch 2/10\n",
      " - 3s - loss: 0.3162 - accuracy: 0.8821\n",
      "Epoch 3/10\n",
      " - 4s - loss: 0.0740 - accuracy: 0.9832\n",
      "Epoch 4/10\n",
      " - 3s - loss: 0.0281 - accuracy: 0.9937\n",
      "Epoch 5/10\n",
      " - 3s - loss: 0.0368 - accuracy: 0.9916\n",
      "Epoch 6/10\n",
      " - 3s - loss: 0.0174 - accuracy: 0.9968\n",
      "Epoch 7/10\n",
      " - 3s - loss: 0.0109 - accuracy: 0.9989\n",
      "Epoch 8/10\n",
      " - 3s - loss: 0.0094 - accuracy: 0.9989\n",
      "Epoch 9/10\n",
      " - 3s - loss: 0.0099 - accuracy: 0.9989\n",
      "Epoch 10/10\n",
      " - 3s - loss: 0.0070 - accuracy: 0.9989\n"
     ]
    },
    {
     "name": "stderr",
     "output_type": "stream",
     "text": [
      "<ipython-input-142-1aa10c86d4d0>:13: UserWarning: The `dropout` argument is no longer support in `Embedding`. You can apply a `keras.layers.SpatialDropout1D` layer right after the `Embedding` layer to get the same behavior.\n",
      "  model.add(Embedding(max_features, embed_dim,input_length = X1_train.shape[1], dropout=0.2))\n",
      "<ipython-input-142-1aa10c86d4d0>:14: UserWarning: Update your `LSTM` call to the Keras 2 API: `LSTM(200, dropout=0.2, recurrent_dropout=0.2)`\n",
      "  model.add(LSTM(lstm_out, dropout_U=0.2,dropout_W=0.2))\n",
      "<ipython-input-142-1aa10c86d4d0>:18: UserWarning: The `nb_epoch` argument in `fit` has been renamed `epochs`.\n",
      "  model.fit(X1_train, Y1_train, nb_epoch = 10,verbose = 2)\n",
      "/home/rony/anaconda3/lib/python3.8/site-packages/tensorflow/python/framework/indexed_slices.py:433: UserWarning: Converting sparse IndexedSlices to a dense Tensor of unknown shape. This may consume a large amount of memory.\n",
      "  warnings.warn(\n"
     ]
    },
    {
     "name": "stdout",
     "output_type": "stream",
     "text": [
      "Epoch 1/10\n",
      " - 5s - loss: 0.6098 - accuracy: 0.6779\n",
      "Epoch 2/10\n",
      " - 3s - loss: 0.2911 - accuracy: 0.9063\n",
      "Epoch 3/10\n",
      " - 3s - loss: 0.0923 - accuracy: 0.9747\n",
      "Epoch 4/10\n",
      " - 3s - loss: 0.0225 - accuracy: 0.9937\n",
      "Epoch 5/10\n",
      " - 3s - loss: 0.0197 - accuracy: 0.9958\n",
      "Epoch 6/10\n",
      " - 3s - loss: 0.0166 - accuracy: 0.9989\n",
      "Epoch 7/10\n",
      " - 3s - loss: 0.0088 - accuracy: 0.9989\n",
      "Epoch 8/10\n",
      " - 3s - loss: 0.0096 - accuracy: 0.9989\n",
      "Epoch 9/10\n",
      " - 3s - loss: 0.0085 - accuracy: 0.9979\n",
      "Epoch 10/10\n",
      " - 3s - loss: 0.0136 - accuracy: 0.9968\n"
     ]
    },
    {
     "name": "stderr",
     "output_type": "stream",
     "text": [
      "<ipython-input-142-1aa10c86d4d0>:13: UserWarning: The `dropout` argument is no longer support in `Embedding`. You can apply a `keras.layers.SpatialDropout1D` layer right after the `Embedding` layer to get the same behavior.\n",
      "  model.add(Embedding(max_features, embed_dim,input_length = X1_train.shape[1], dropout=0.2))\n",
      "<ipython-input-142-1aa10c86d4d0>:14: UserWarning: Update your `LSTM` call to the Keras 2 API: `LSTM(200, dropout=0.2, recurrent_dropout=0.2)`\n",
      "  model.add(LSTM(lstm_out, dropout_U=0.2,dropout_W=0.2))\n",
      "<ipython-input-142-1aa10c86d4d0>:18: UserWarning: The `nb_epoch` argument in `fit` has been renamed `epochs`.\n",
      "  model.fit(X1_train, Y1_train, nb_epoch = 10,verbose = 2)\n",
      "/home/rony/anaconda3/lib/python3.8/site-packages/tensorflow/python/framework/indexed_slices.py:433: UserWarning: Converting sparse IndexedSlices to a dense Tensor of unknown shape. This may consume a large amount of memory.\n",
      "  warnings.warn(\n"
     ]
    },
    {
     "name": "stdout",
     "output_type": "stream",
     "text": [
      "Epoch 1/10\n",
      " - 3s - loss: 0.5839 - accuracy: 0.7063\n",
      "Epoch 2/10\n",
      " - 5s - loss: 0.2906 - accuracy: 0.9032\n",
      "Epoch 3/10\n",
      " - 3s - loss: 0.0788 - accuracy: 0.9811\n",
      "Epoch 4/10\n",
      " - 3s - loss: 0.0338 - accuracy: 0.9937\n",
      "Epoch 5/10\n",
      " - 3s - loss: 0.0210 - accuracy: 0.9937\n",
      "Epoch 6/10\n",
      " - 3s - loss: 0.0174 - accuracy: 0.9968\n",
      "Epoch 7/10\n",
      " - 3s - loss: 0.0122 - accuracy: 0.9989\n",
      "Epoch 8/10\n",
      " - 3s - loss: 0.0088 - accuracy: 0.9989\n",
      "Epoch 9/10\n",
      " - 3s - loss: 0.0060 - accuracy: 0.9979\n",
      "Epoch 10/10\n",
      " - 3s - loss: 0.0100 - accuracy: 0.9989\n"
     ]
    }
   ],
   "source": [
    "kf = KFold(n_splits=5)\n",
    "kf.get_n_splits(data.index.values)\n",
    "svm_scores = []\n",
    "dt_scores = []\n",
    "rf_scores = []\n",
    "nn_scores = []\n",
    "svc = SVC()\n",
    "dt = DecisionTreeClassifier()\n",
    "rf = RandomForestClassifier(n_estimators=140)\n",
    "for train, test in kf.split(data):\n",
    "    svm_scores.append(model_classification(svc, train, test))\n",
    "#     nn_p, nn_r, nn_f, nn_a = nn_classification(train, test)\n",
    "    dt_scores.append(model_classification(dt, train, test))\n",
    "    rf_scores.append(model_classification(rf, train, test))\n",
    "    nn_scores.append(classification_report_for_NN(train,test))"
   ]
  },
  {
   "cell_type": "code",
   "execution_count": 108,
   "metadata": {},
   "outputs": [],
   "source": [
    "def dict_mean(dict_list):\n",
    "    mean_dict = {}\n",
    "    for key in dict_list[0].keys():\n",
    "        mean_dict[key] = sum(d[key] for d in dict_list) / len(dict_list)\n",
    "    return mean_dict"
   ]
  },
  {
   "cell_type": "code",
   "execution_count": 146,
   "metadata": {},
   "outputs": [],
   "source": [
    "model_scores = [svm_scores, dt_scores, rf_scores, nn_scores]"
   ]
  },
  {
   "cell_type": "code",
   "execution_count": 150,
   "metadata": {},
   "outputs": [],
   "source": [
    "model_map = {0: 'SVM', 1: 'Decision Tree', 2: 'Random Forest', 3: 'Neural Net'}"
   ]
  },
  {
   "cell_type": "code",
   "execution_count": 155,
   "metadata": {},
   "outputs": [],
   "source": [
    "results = []\n",
    "for p in range(len(model_scores)):\n",
    "    score_mean = dict_mean(model_scores[p])\n",
    "    score_mean['model'] = model_map[p]\n",
    "    score_mean['CV'] = 'kFold'\n",
    "    results.append(score_mean)"
   ]
  },
  {
   "cell_type": "code",
   "execution_count": 157,
   "metadata": {},
   "outputs": [],
   "source": [
    "## LeavePOut"
   ]
  },
  {
   "cell_type": "code",
   "execution_count": 162,
   "metadata": {},
   "outputs": [
    {
     "name": "stderr",
     "output_type": "stream",
     "text": [
      "<ipython-input-161-b0a77924c317>:13: UserWarning: The `dropout` argument is no longer support in `Embedding`. You can apply a `keras.layers.SpatialDropout1D` layer right after the `Embedding` layer to get the same behavior.\n",
      "  model.add(Embedding(max_features, embed_dim,input_length = X1_train.shape[1], dropout=0.2))\n",
      "<ipython-input-161-b0a77924c317>:14: UserWarning: Update your `LSTM` call to the Keras 2 API: `LSTM(200, dropout=0.2, recurrent_dropout=0.2)`\n",
      "  model.add(LSTM(lstm_out, dropout_U=0.2,dropout_W=0.2))\n",
      "<ipython-input-161-b0a77924c317>:18: UserWarning: The `nb_epoch` argument in `fit` has been renamed `epochs`.\n",
      "  model.fit(X1_train, Y1_train, nb_epoch = 10,verbose = 0)\n",
      "/home/rony/anaconda3/lib/python3.8/site-packages/tensorflow/python/framework/indexed_slices.py:433: UserWarning: Converting sparse IndexedSlices to a dense Tensor of unknown shape. This may consume a large amount of memory.\n",
      "  warnings.warn(\n",
      "<ipython-input-161-b0a77924c317>:13: UserWarning: The `dropout` argument is no longer support in `Embedding`. You can apply a `keras.layers.SpatialDropout1D` layer right after the `Embedding` layer to get the same behavior.\n",
      "  model.add(Embedding(max_features, embed_dim,input_length = X1_train.shape[1], dropout=0.2))\n",
      "<ipython-input-161-b0a77924c317>:14: UserWarning: Update your `LSTM` call to the Keras 2 API: `LSTM(200, dropout=0.2, recurrent_dropout=0.2)`\n",
      "  model.add(LSTM(lstm_out, dropout_U=0.2,dropout_W=0.2))\n",
      "<ipython-input-161-b0a77924c317>:18: UserWarning: The `nb_epoch` argument in `fit` has been renamed `epochs`.\n",
      "  model.fit(X1_train, Y1_train, nb_epoch = 10,verbose = 0)\n",
      "/home/rony/anaconda3/lib/python3.8/site-packages/tensorflow/python/framework/indexed_slices.py:433: UserWarning: Converting sparse IndexedSlices to a dense Tensor of unknown shape. This may consume a large amount of memory.\n",
      "  warnings.warn(\n",
      "<ipython-input-161-b0a77924c317>:13: UserWarning: The `dropout` argument is no longer support in `Embedding`. You can apply a `keras.layers.SpatialDropout1D` layer right after the `Embedding` layer to get the same behavior.\n",
      "  model.add(Embedding(max_features, embed_dim,input_length = X1_train.shape[1], dropout=0.2))\n",
      "<ipython-input-161-b0a77924c317>:14: UserWarning: Update your `LSTM` call to the Keras 2 API: `LSTM(200, dropout=0.2, recurrent_dropout=0.2)`\n",
      "  model.add(LSTM(lstm_out, dropout_U=0.2,dropout_W=0.2))\n",
      "<ipython-input-161-b0a77924c317>:18: UserWarning: The `nb_epoch` argument in `fit` has been renamed `epochs`.\n",
      "  model.fit(X1_train, Y1_train, nb_epoch = 10,verbose = 0)\n",
      "/home/rony/anaconda3/lib/python3.8/site-packages/tensorflow/python/framework/indexed_slices.py:433: UserWarning: Converting sparse IndexedSlices to a dense Tensor of unknown shape. This may consume a large amount of memory.\n",
      "  warnings.warn(\n",
      "<ipython-input-161-b0a77924c317>:13: UserWarning: The `dropout` argument is no longer support in `Embedding`. You can apply a `keras.layers.SpatialDropout1D` layer right after the `Embedding` layer to get the same behavior.\n",
      "  model.add(Embedding(max_features, embed_dim,input_length = X1_train.shape[1], dropout=0.2))\n",
      "<ipython-input-161-b0a77924c317>:14: UserWarning: Update your `LSTM` call to the Keras 2 API: `LSTM(200, dropout=0.2, recurrent_dropout=0.2)`\n",
      "  model.add(LSTM(lstm_out, dropout_U=0.2,dropout_W=0.2))\n",
      "<ipython-input-161-b0a77924c317>:18: UserWarning: The `nb_epoch` argument in `fit` has been renamed `epochs`.\n",
      "  model.fit(X1_train, Y1_train, nb_epoch = 10,verbose = 0)\n",
      "/home/rony/anaconda3/lib/python3.8/site-packages/tensorflow/python/framework/indexed_slices.py:433: UserWarning: Converting sparse IndexedSlices to a dense Tensor of unknown shape. This may consume a large amount of memory.\n",
      "  warnings.warn(\n",
      "<ipython-input-161-b0a77924c317>:13: UserWarning: The `dropout` argument is no longer support in `Embedding`. You can apply a `keras.layers.SpatialDropout1D` layer right after the `Embedding` layer to get the same behavior.\n",
      "  model.add(Embedding(max_features, embed_dim,input_length = X1_train.shape[1], dropout=0.2))\n",
      "<ipython-input-161-b0a77924c317>:14: UserWarning: Update your `LSTM` call to the Keras 2 API: `LSTM(200, dropout=0.2, recurrent_dropout=0.2)`\n",
      "  model.add(LSTM(lstm_out, dropout_U=0.2,dropout_W=0.2))\n",
      "<ipython-input-161-b0a77924c317>:18: UserWarning: The `nb_epoch` argument in `fit` has been renamed `epochs`.\n",
      "  model.fit(X1_train, Y1_train, nb_epoch = 10,verbose = 0)\n",
      "/home/rony/anaconda3/lib/python3.8/site-packages/tensorflow/python/framework/indexed_slices.py:433: UserWarning: Converting sparse IndexedSlices to a dense Tensor of unknown shape. This may consume a large amount of memory.\n",
      "  warnings.warn(\n"
     ]
    }
   ],
   "source": [
    "from sklearn.model_selection import LeavePOut\n",
    "lpo = LeavePOut(300)\n",
    "lpo.get_n_splits(data.index.values)\n",
    "svm_scores = []\n",
    "dt_scores = []\n",
    "rf_scores = []\n",
    "nn_scores = []\n",
    "svc = SVC()\n",
    "dt = DecisionTreeClassifier()\n",
    "rf = RandomForestClassifier(n_estimators=140)\n",
    "count = 0\n",
    "for train, test in lpo.split(data):\n",
    "    count += 1\n",
    "    svm_scores.append(model_classification(svc, train, test))\n",
    "#     nn_p, nn_r, nn_f, nn_a = nn_classification(train, test)\n",
    "    dt_scores.append(model_classification(dt, train, test))\n",
    "    rf_scores.append(model_classification(rf, train, test))\n",
    "    nn_scores.append(classification_report_for_NN(train,test))\n",
    "    if count == 5:\n",
    "        break"
   ]
  },
  {
   "cell_type": "code",
   "execution_count": 164,
   "metadata": {},
   "outputs": [],
   "source": [
    "model_scores = [svm_scores, dt_scores, rf_scores, nn_scores]\n",
    "for p in range(len(model_scores)):\n",
    "    score_mean = dict_mean(model_scores[p])\n",
    "    score_mean['model'] = model_map[p]\n",
    "    score_mean['CV'] = 'LeavePOut'\n",
    "    results.append(score_mean)"
   ]
  },
  {
   "cell_type": "code",
   "execution_count": 166,
   "metadata": {},
   "outputs": [],
   "source": [
    "## Random Split"
   ]
  },
  {
   "cell_type": "code",
   "execution_count": 169,
   "metadata": {},
   "outputs": [
    {
     "name": "stdout",
     "output_type": "stream",
     "text": [
      "StratifiedShuffleSplit(n_splits=5, random_state=0, test_size=0.5,\n",
      "            train_size=None)\n",
      "TRAIN: [5 2 3] TEST: [4 1 0]\n",
      "TRAIN: [5 1 4] TEST: [0 2 3]\n",
      "TRAIN: [5 0 2] TEST: [4 3 1]\n",
      "TRAIN: [4 1 0] TEST: [2 3 5]\n",
      "TRAIN: [0 5 1] TEST: [3 4 2]\n"
     ]
    }
   ],
   "source": [
    "import numpy as np\n",
    "from sklearn.model_selection import StratifiedShuffleSplit\n",
    "X = np.array([[1, 2], [3, 4], [1, 2], [3, 4], [1, 2], [3, 4]])\n",
    "y = np.array([0, 0, 0, 1, 1, 1])\n",
    "sss = StratifiedShuffleSplit(n_splits=5, test_size=0.5, random_state=0)\n",
    "sss.get_n_splits(X, y)\n",
    "\n",
    "print(sss)\n",
    "\n",
    "for train_index, test_index in sss.split(X, y):\n",
    "    print(\"TRAIN:\", train_index, \"TEST:\", test_index)\n",
    "    X_train, X_test = X[train_index], X[test_index]"
   ]
  },
  {
   "cell_type": "code",
   "execution_count": 170,
   "metadata": {},
   "outputs": [
    {
     "name": "stderr",
     "output_type": "stream",
     "text": [
      "<ipython-input-161-b0a77924c317>:13: UserWarning: The `dropout` argument is no longer support in `Embedding`. You can apply a `keras.layers.SpatialDropout1D` layer right after the `Embedding` layer to get the same behavior.\n",
      "  model.add(Embedding(max_features, embed_dim,input_length = X1_train.shape[1], dropout=0.2))\n",
      "<ipython-input-161-b0a77924c317>:14: UserWarning: Update your `LSTM` call to the Keras 2 API: `LSTM(200, dropout=0.2, recurrent_dropout=0.2)`\n",
      "  model.add(LSTM(lstm_out, dropout_U=0.2,dropout_W=0.2))\n",
      "<ipython-input-161-b0a77924c317>:18: UserWarning: The `nb_epoch` argument in `fit` has been renamed `epochs`.\n",
      "  model.fit(X1_train, Y1_train, nb_epoch = 10,verbose = 0)\n",
      "/home/rony/anaconda3/lib/python3.8/site-packages/tensorflow/python/framework/indexed_slices.py:433: UserWarning: Converting sparse IndexedSlices to a dense Tensor of unknown shape. This may consume a large amount of memory.\n",
      "  warnings.warn(\n",
      "<ipython-input-161-b0a77924c317>:13: UserWarning: The `dropout` argument is no longer support in `Embedding`. You can apply a `keras.layers.SpatialDropout1D` layer right after the `Embedding` layer to get the same behavior.\n",
      "  model.add(Embedding(max_features, embed_dim,input_length = X1_train.shape[1], dropout=0.2))\n",
      "<ipython-input-161-b0a77924c317>:14: UserWarning: Update your `LSTM` call to the Keras 2 API: `LSTM(200, dropout=0.2, recurrent_dropout=0.2)`\n",
      "  model.add(LSTM(lstm_out, dropout_U=0.2,dropout_W=0.2))\n",
      "<ipython-input-161-b0a77924c317>:18: UserWarning: The `nb_epoch` argument in `fit` has been renamed `epochs`.\n",
      "  model.fit(X1_train, Y1_train, nb_epoch = 10,verbose = 0)\n",
      "/home/rony/anaconda3/lib/python3.8/site-packages/tensorflow/python/framework/indexed_slices.py:433: UserWarning: Converting sparse IndexedSlices to a dense Tensor of unknown shape. This may consume a large amount of memory.\n",
      "  warnings.warn(\n",
      "<ipython-input-161-b0a77924c317>:13: UserWarning: The `dropout` argument is no longer support in `Embedding`. You can apply a `keras.layers.SpatialDropout1D` layer right after the `Embedding` layer to get the same behavior.\n",
      "  model.add(Embedding(max_features, embed_dim,input_length = X1_train.shape[1], dropout=0.2))\n",
      "<ipython-input-161-b0a77924c317>:14: UserWarning: Update your `LSTM` call to the Keras 2 API: `LSTM(200, dropout=0.2, recurrent_dropout=0.2)`\n",
      "  model.add(LSTM(lstm_out, dropout_U=0.2,dropout_W=0.2))\n",
      "<ipython-input-161-b0a77924c317>:18: UserWarning: The `nb_epoch` argument in `fit` has been renamed `epochs`.\n",
      "  model.fit(X1_train, Y1_train, nb_epoch = 10,verbose = 0)\n",
      "/home/rony/anaconda3/lib/python3.8/site-packages/tensorflow/python/framework/indexed_slices.py:433: UserWarning: Converting sparse IndexedSlices to a dense Tensor of unknown shape. This may consume a large amount of memory.\n",
      "  warnings.warn(\n",
      "<ipython-input-161-b0a77924c317>:13: UserWarning: The `dropout` argument is no longer support in `Embedding`. You can apply a `keras.layers.SpatialDropout1D` layer right after the `Embedding` layer to get the same behavior.\n",
      "  model.add(Embedding(max_features, embed_dim,input_length = X1_train.shape[1], dropout=0.2))\n",
      "<ipython-input-161-b0a77924c317>:14: UserWarning: Update your `LSTM` call to the Keras 2 API: `LSTM(200, dropout=0.2, recurrent_dropout=0.2)`\n",
      "  model.add(LSTM(lstm_out, dropout_U=0.2,dropout_W=0.2))\n",
      "<ipython-input-161-b0a77924c317>:18: UserWarning: The `nb_epoch` argument in `fit` has been renamed `epochs`.\n",
      "  model.fit(X1_train, Y1_train, nb_epoch = 10,verbose = 0)\n",
      "/home/rony/anaconda3/lib/python3.8/site-packages/tensorflow/python/framework/indexed_slices.py:433: UserWarning: Converting sparse IndexedSlices to a dense Tensor of unknown shape. This may consume a large amount of memory.\n",
      "  warnings.warn(\n",
      "<ipython-input-161-b0a77924c317>:13: UserWarning: The `dropout` argument is no longer support in `Embedding`. You can apply a `keras.layers.SpatialDropout1D` layer right after the `Embedding` layer to get the same behavior.\n",
      "  model.add(Embedding(max_features, embed_dim,input_length = X1_train.shape[1], dropout=0.2))\n",
      "<ipython-input-161-b0a77924c317>:14: UserWarning: Update your `LSTM` call to the Keras 2 API: `LSTM(200, dropout=0.2, recurrent_dropout=0.2)`\n",
      "  model.add(LSTM(lstm_out, dropout_U=0.2,dropout_W=0.2))\n",
      "<ipython-input-161-b0a77924c317>:18: UserWarning: The `nb_epoch` argument in `fit` has been renamed `epochs`.\n",
      "  model.fit(X1_train, Y1_train, nb_epoch = 10,verbose = 0)\n",
      "/home/rony/anaconda3/lib/python3.8/site-packages/tensorflow/python/framework/indexed_slices.py:433: UserWarning: Converting sparse IndexedSlices to a dense Tensor of unknown shape. This may consume a large amount of memory.\n",
      "  warnings.warn(\n"
     ]
    }
   ],
   "source": [
    "from sklearn.model_selection import StratifiedShuffleSplit\n",
    "sss = StratifiedShuffleSplit(n_splits=5, test_size=0.5, random_state=42)\n",
    "sss.get_n_splits(features, labels)\n",
    "svm_scores = []\n",
    "dt_scores = []\n",
    "rf_scores = []\n",
    "nn_scores = []\n",
    "svc = SVC()\n",
    "dt = DecisionTreeClassifier()\n",
    "rf = RandomForestClassifier(n_estimators=140)\n",
    "for train, test in sss.split(features, labels):\n",
    "    count += 1\n",
    "    svm_scores.append(model_classification(svc, train, test))\n",
    "#     nn_p, nn_r, nn_f, nn_a = nn_classification(train, test)\n",
    "    dt_scores.append(model_classification(dt, train, test))\n",
    "    rf_scores.append(model_classification(rf, train, test))\n",
    "    nn_scores.append(classification_report_for_NN(train,test))"
   ]
  },
  {
   "cell_type": "code",
   "execution_count": 171,
   "metadata": {},
   "outputs": [],
   "source": [
    "model_scores = [svm_scores, dt_scores, rf_scores, nn_scores]\n",
    "for p in range(len(model_scores)):\n",
    "    score_mean = dict_mean(model_scores[p])\n",
    "    score_mean['model'] = model_map[p]\n",
    "    score_mean['CV'] = 'Random SubSampling'\n",
    "    results.append(score_mean)"
   ]
  },
  {
   "cell_type": "code",
   "execution_count": 174,
   "metadata": {},
   "outputs": [
    {
     "data": {
      "text/html": [
       "<div>\n",
       "<style scoped>\n",
       "    .dataframe tbody tr th:only-of-type {\n",
       "        vertical-align: middle;\n",
       "    }\n",
       "\n",
       "    .dataframe tbody tr th {\n",
       "        vertical-align: top;\n",
       "    }\n",
       "\n",
       "    .dataframe thead th {\n",
       "        text-align: right;\n",
       "    }\n",
       "</style>\n",
       "<table border=\"1\" class=\"dataframe\">\n",
       "  <thead>\n",
       "    <tr style=\"text-align: right;\">\n",
       "      <th></th>\n",
       "      <th>precision</th>\n",
       "      <th>recall</th>\n",
       "      <th>f1</th>\n",
       "      <th>accuracy</th>\n",
       "      <th>model</th>\n",
       "      <th>CV</th>\n",
       "    </tr>\n",
       "  </thead>\n",
       "  <tbody>\n",
       "    <tr>\n",
       "      <th>0</th>\n",
       "      <td>0.992572</td>\n",
       "      <td>0.993342</td>\n",
       "      <td>0.992908</td>\n",
       "      <td>0.993270</td>\n",
       "      <td>SVM</td>\n",
       "      <td>kFold</td>\n",
       "    </tr>\n",
       "    <tr>\n",
       "      <th>1</th>\n",
       "      <td>0.965547</td>\n",
       "      <td>0.978635</td>\n",
       "      <td>0.971044</td>\n",
       "      <td>0.973021</td>\n",
       "      <td>Decision Tree</td>\n",
       "      <td>kFold</td>\n",
       "    </tr>\n",
       "    <tr>\n",
       "      <th>2</th>\n",
       "      <td>0.990082</td>\n",
       "      <td>0.993938</td>\n",
       "      <td>0.991898</td>\n",
       "      <td>0.992423</td>\n",
       "      <td>Random Forest</td>\n",
       "      <td>kFold</td>\n",
       "    </tr>\n",
       "    <tr>\n",
       "      <th>3</th>\n",
       "      <td>0.955477</td>\n",
       "      <td>0.972103</td>\n",
       "      <td>0.962100</td>\n",
       "      <td>0.964603</td>\n",
       "      <td>Neural Net</td>\n",
       "      <td>kFold</td>\n",
       "    </tr>\n",
       "    <tr>\n",
       "      <th>4</th>\n",
       "      <td>0.988381</td>\n",
       "      <td>0.992323</td>\n",
       "      <td>0.990252</td>\n",
       "      <td>0.990667</td>\n",
       "      <td>SVM</td>\n",
       "      <td>LeavePOut</td>\n",
       "    </tr>\n",
       "    <tr>\n",
       "      <th>5</th>\n",
       "      <td>0.981193</td>\n",
       "      <td>0.987387</td>\n",
       "      <td>0.984026</td>\n",
       "      <td>0.984667</td>\n",
       "      <td>Decision Tree</td>\n",
       "      <td>LeavePOut</td>\n",
       "    </tr>\n",
       "    <tr>\n",
       "      <th>6</th>\n",
       "      <td>0.987562</td>\n",
       "      <td>0.991776</td>\n",
       "      <td>0.989557</td>\n",
       "      <td>0.990000</td>\n",
       "      <td>Random Forest</td>\n",
       "      <td>LeavePOut</td>\n",
       "    </tr>\n",
       "    <tr>\n",
       "      <th>7</th>\n",
       "      <td>0.972101</td>\n",
       "      <td>0.980805</td>\n",
       "      <td>0.975795</td>\n",
       "      <td>0.976667</td>\n",
       "      <td>Neural Net</td>\n",
       "      <td>LeavePOut</td>\n",
       "    </tr>\n",
       "    <tr>\n",
       "      <th>8</th>\n",
       "      <td>0.980704</td>\n",
       "      <td>0.971230</td>\n",
       "      <td>0.975531</td>\n",
       "      <td>0.977441</td>\n",
       "      <td>SVM</td>\n",
       "      <td>Random SubSampling</td>\n",
       "    </tr>\n",
       "    <tr>\n",
       "      <th>9</th>\n",
       "      <td>0.956023</td>\n",
       "      <td>0.962701</td>\n",
       "      <td>0.958840</td>\n",
       "      <td>0.961279</td>\n",
       "      <td>Decision Tree</td>\n",
       "      <td>Random SubSampling</td>\n",
       "    </tr>\n",
       "    <tr>\n",
       "      <th>10</th>\n",
       "      <td>0.979935</td>\n",
       "      <td>0.974733</td>\n",
       "      <td>0.977061</td>\n",
       "      <td>0.978788</td>\n",
       "      <td>Random Forest</td>\n",
       "      <td>Random SubSampling</td>\n",
       "    </tr>\n",
       "    <tr>\n",
       "      <th>11</th>\n",
       "      <td>0.950833</td>\n",
       "      <td>0.960428</td>\n",
       "      <td>0.954757</td>\n",
       "      <td>0.957239</td>\n",
       "      <td>Neural Net</td>\n",
       "      <td>Random SubSampling</td>\n",
       "    </tr>\n",
       "  </tbody>\n",
       "</table>\n",
       "</div>"
      ],
      "text/plain": [
       "    precision    recall        f1  accuracy          model                  CV\n",
       "0    0.992572  0.993342  0.992908  0.993270            SVM               kFold\n",
       "1    0.965547  0.978635  0.971044  0.973021  Decision Tree               kFold\n",
       "2    0.990082  0.993938  0.991898  0.992423  Random Forest               kFold\n",
       "3    0.955477  0.972103  0.962100  0.964603     Neural Net               kFold\n",
       "4    0.988381  0.992323  0.990252  0.990667            SVM           LeavePOut\n",
       "5    0.981193  0.987387  0.984026  0.984667  Decision Tree           LeavePOut\n",
       "6    0.987562  0.991776  0.989557  0.990000  Random Forest           LeavePOut\n",
       "7    0.972101  0.980805  0.975795  0.976667     Neural Net           LeavePOut\n",
       "8    0.980704  0.971230  0.975531  0.977441            SVM  Random SubSampling\n",
       "9    0.956023  0.962701  0.958840  0.961279  Decision Tree  Random SubSampling\n",
       "10   0.979935  0.974733  0.977061  0.978788  Random Forest  Random SubSampling\n",
       "11   0.950833  0.960428  0.954757  0.957239     Neural Net  Random SubSampling"
      ]
     },
     "execution_count": 174,
     "metadata": {},
     "output_type": "execute_result"
    }
   ],
   "source": [
    "pd.DataFrame(results)"
   ]
  },
  {
   "cell_type": "code",
   "execution_count": 178,
   "metadata": {},
   "outputs": [],
   "source": [
    "pd.DataFrame(results).round(3).to_csv('results_comparison.csv', index=False)"
   ]
  },
  {
   "cell_type": "markdown",
   "metadata": {},
   "source": [
    "## Feature Selection"
   ]
  },
  {
   "cell_type": "code",
   "execution_count": 223,
   "metadata": {},
   "outputs": [],
   "source": [
    "from sklearn.pipeline import make_pipeline\n",
    "from sklearn.feature_selection import SelectFromModel\n",
    "from sklearn.pipeline import Pipeline"
   ]
  },
  {
   "cell_type": "code",
   "execution_count": 230,
   "metadata": {},
   "outputs": [
    {
     "name": "stdout",
     "output_type": "stream",
     "text": [
      "0.9479166666666667 0.9671052631578947 0.957983193277311 0.9555206698063841\n"
     ]
    },
    {
     "name": "stderr",
     "output_type": "stream",
     "text": [
      "/home/rony/anaconda3/lib/python3.8/site-packages/sklearn/svm/_classes.py:225: FutureWarning: loss='l2' has been deprecated in favor of loss='squared_hinge' as of 0.16. Backward compatibility for the loss='l2' will be removed in 0.23\n",
      "  warnings.warn(msg % (old_loss, self.loss, old_loss, '0.23'),\n"
     ]
    }
   ],
   "source": [
    "X_train, X_test, y_train, y_test = train_test_split(features, labels, test_size=0.30, random_state=42)\n",
    "\n",
    "clf = Pipeline([('feature_selection', SelectFromModel(LinearSVC(loss='l2', penalty='l1', dual=False))),\n",
    "                    ('classification', DecisionTreeClassifier())\n",
    "                   ])\n",
    "trained = clf.fit(X_train, y_train)\n",
    "y_pred = trained.predict(X_test)\n",
    "precision = precision_score(y_test, y_pred, average='macro')\n",
    "recall = recall_score(y_test, y_pred, average='macro')\n",
    "f1 = f1_score(y_test, y_pred, average='macro')\n",
    "accuracy = accuracy_score(y_test, y_pred)\n",
    "print(precision, recall, accuracy, f1)"
   ]
  },
  {
   "cell_type": "code",
   "execution_count": 235,
   "metadata": {},
   "outputs": [],
   "source": [
    "def model_classification_pipeline(model, train, test):\n",
    "    X_train = sentence_term_df.iloc[train].values\n",
    "    X_test = sentence_term_df.iloc[test].values\n",
    "    y_train = data.iloc[train]['Is_Conspiracy (0=No, 1=Yes)']\n",
    "    y_test = data.iloc[test]['Is_Conspiracy (0=No, 1=Yes)']\n",
    "    clf = Pipeline([('feature_selection', SelectFromModel(LinearSVC(loss='l2', penalty='l1', dual=False))),\n",
    "                    ('classification', model)\n",
    "                   ])\n",
    "    trained = clf.fit(X_train,y_train)\n",
    "    y_pred = trained.predict(X_test)\n",
    "    precision = precision_score(y_test, y_pred, average='macro')\n",
    "    recall = recall_score(y_test, y_pred, average='macro')\n",
    "    f1 = f1_score(y_test, y_pred, average='macro')\n",
    "    accuracy = accuracy_score(y_test, y_pred)\n",
    "    return {'precision': precision, 'recall': recall, 'f1': f1, 'accuracy': accuracy}"
   ]
  },
  {
   "cell_type": "code",
   "execution_count": 236,
   "metadata": {},
   "outputs": [
    {
     "name": "stderr",
     "output_type": "stream",
     "text": [
      "/home/rony/anaconda3/lib/python3.8/site-packages/sklearn/svm/_classes.py:225: FutureWarning: loss='l2' has been deprecated in favor of loss='squared_hinge' as of 0.16. Backward compatibility for the loss='l2' will be removed in 0.23\n",
      "  warnings.warn(msg % (old_loss, self.loss, old_loss, '0.23'),\n",
      "/home/rony/anaconda3/lib/python3.8/site-packages/sklearn/svm/_classes.py:225: FutureWarning: loss='l2' has been deprecated in favor of loss='squared_hinge' as of 0.16. Backward compatibility for the loss='l2' will be removed in 0.23\n",
      "  warnings.warn(msg % (old_loss, self.loss, old_loss, '0.23'),\n",
      "/home/rony/anaconda3/lib/python3.8/site-packages/sklearn/svm/_classes.py:225: FutureWarning: loss='l2' has been deprecated in favor of loss='squared_hinge' as of 0.16. Backward compatibility for the loss='l2' will be removed in 0.23\n",
      "  warnings.warn(msg % (old_loss, self.loss, old_loss, '0.23'),\n",
      "/home/rony/anaconda3/lib/python3.8/site-packages/sklearn/svm/_classes.py:225: FutureWarning: loss='l2' has been deprecated in favor of loss='squared_hinge' as of 0.16. Backward compatibility for the loss='l2' will be removed in 0.23\n",
      "  warnings.warn(msg % (old_loss, self.loss, old_loss, '0.23'),\n",
      "/home/rony/anaconda3/lib/python3.8/site-packages/sklearn/svm/_classes.py:225: FutureWarning: loss='l2' has been deprecated in favor of loss='squared_hinge' as of 0.16. Backward compatibility for the loss='l2' will be removed in 0.23\n",
      "  warnings.warn(msg % (old_loss, self.loss, old_loss, '0.23'),\n",
      "/home/rony/anaconda3/lib/python3.8/site-packages/sklearn/svm/_classes.py:225: FutureWarning: loss='l2' has been deprecated in favor of loss='squared_hinge' as of 0.16. Backward compatibility for the loss='l2' will be removed in 0.23\n",
      "  warnings.warn(msg % (old_loss, self.loss, old_loss, '0.23'),\n",
      "/home/rony/anaconda3/lib/python3.8/site-packages/sklearn/svm/_classes.py:225: FutureWarning: loss='l2' has been deprecated in favor of loss='squared_hinge' as of 0.16. Backward compatibility for the loss='l2' will be removed in 0.23\n",
      "  warnings.warn(msg % (old_loss, self.loss, old_loss, '0.23'),\n",
      "/home/rony/anaconda3/lib/python3.8/site-packages/sklearn/svm/_classes.py:225: FutureWarning: loss='l2' has been deprecated in favor of loss='squared_hinge' as of 0.16. Backward compatibility for the loss='l2' will be removed in 0.23\n",
      "  warnings.warn(msg % (old_loss, self.loss, old_loss, '0.23'),\n",
      "/home/rony/anaconda3/lib/python3.8/site-packages/sklearn/svm/_classes.py:225: FutureWarning: loss='l2' has been deprecated in favor of loss='squared_hinge' as of 0.16. Backward compatibility for the loss='l2' will be removed in 0.23\n",
      "  warnings.warn(msg % (old_loss, self.loss, old_loss, '0.23'),\n",
      "/home/rony/anaconda3/lib/python3.8/site-packages/sklearn/svm/_classes.py:225: FutureWarning: loss='l2' has been deprecated in favor of loss='squared_hinge' as of 0.16. Backward compatibility for the loss='l2' will be removed in 0.23\n",
      "  warnings.warn(msg % (old_loss, self.loss, old_loss, '0.23'),\n",
      "/home/rony/anaconda3/lib/python3.8/site-packages/sklearn/svm/_classes.py:225: FutureWarning: loss='l2' has been deprecated in favor of loss='squared_hinge' as of 0.16. Backward compatibility for the loss='l2' will be removed in 0.23\n",
      "  warnings.warn(msg % (old_loss, self.loss, old_loss, '0.23'),\n",
      "/home/rony/anaconda3/lib/python3.8/site-packages/sklearn/svm/_classes.py:225: FutureWarning: loss='l2' has been deprecated in favor of loss='squared_hinge' as of 0.16. Backward compatibility for the loss='l2' will be removed in 0.23\n",
      "  warnings.warn(msg % (old_loss, self.loss, old_loss, '0.23'),\n",
      "/home/rony/anaconda3/lib/python3.8/site-packages/sklearn/svm/_classes.py:225: FutureWarning: loss='l2' has been deprecated in favor of loss='squared_hinge' as of 0.16. Backward compatibility for the loss='l2' will be removed in 0.23\n",
      "  warnings.warn(msg % (old_loss, self.loss, old_loss, '0.23'),\n",
      "/home/rony/anaconda3/lib/python3.8/site-packages/sklearn/svm/_classes.py:225: FutureWarning: loss='l2' has been deprecated in favor of loss='squared_hinge' as of 0.16. Backward compatibility for the loss='l2' will be removed in 0.23\n",
      "  warnings.warn(msg % (old_loss, self.loss, old_loss, '0.23'),\n",
      "/home/rony/anaconda3/lib/python3.8/site-packages/sklearn/svm/_classes.py:225: FutureWarning: loss='l2' has been deprecated in favor of loss='squared_hinge' as of 0.16. Backward compatibility for the loss='l2' will be removed in 0.23\n",
      "  warnings.warn(msg % (old_loss, self.loss, old_loss, '0.23'),\n"
     ]
    }
   ],
   "source": [
    "kf = KFold(n_splits=5)\n",
    "kf.get_n_splits(data.index.values)\n",
    "svm_scores = []\n",
    "dt_scores = []\n",
    "rf_scores = []\n",
    "svc = SVC()\n",
    "dt = DecisionTreeClassifier()\n",
    "rf = RandomForestClassifier(n_estimators=140)\n",
    "for train, test in kf.split(data):\n",
    "    svm_scores.append(model_classification_pipeline(svc, train, test))\n",
    "#     nn_p, nn_r, nn_f, nn_a = nn_classification(train, test)\n",
    "    dt_scores.append(model_classification_pipeline(dt, train, test))\n",
    "    rf_scores.append(model_classification_pipeline(rf, train, test))\n",
    "#     nn_scores.append(classification_report_for_NN(train,test))"
   ]
  },
  {
   "cell_type": "code",
   "execution_count": 237,
   "metadata": {},
   "outputs": [],
   "source": [
    "fs_results = []\n",
    "model_scores = [svm_scores, dt_scores, rf_scores]\n",
    "for p in range(len(model_scores)):\n",
    "    score_mean = dict_mean(model_scores[p])\n",
    "    score_mean['model'] = model_map[p]\n",
    "    score_mean['CV'] = 'kFold'\n",
    "    fs_results.append(score_mean)"
   ]
  },
  {
   "cell_type": "code",
   "execution_count": 238,
   "metadata": {},
   "outputs": [
    {
     "data": {
      "text/html": [
       "<div>\n",
       "<style scoped>\n",
       "    .dataframe tbody tr th:only-of-type {\n",
       "        vertical-align: middle;\n",
       "    }\n",
       "\n",
       "    .dataframe tbody tr th {\n",
       "        vertical-align: top;\n",
       "    }\n",
       "\n",
       "    .dataframe thead th {\n",
       "        text-align: right;\n",
       "    }\n",
       "</style>\n",
       "<table border=\"1\" class=\"dataframe\">\n",
       "  <thead>\n",
       "    <tr style=\"text-align: right;\">\n",
       "      <th></th>\n",
       "      <th>precision</th>\n",
       "      <th>recall</th>\n",
       "      <th>f1</th>\n",
       "      <th>accuracy</th>\n",
       "      <th>model</th>\n",
       "      <th>CV</th>\n",
       "    </tr>\n",
       "  </thead>\n",
       "  <tbody>\n",
       "    <tr>\n",
       "      <th>0</th>\n",
       "      <td>0.954980</td>\n",
       "      <td>0.970127</td>\n",
       "      <td>0.961260</td>\n",
       "      <td>0.963773</td>\n",
       "      <td>SVM</td>\n",
       "      <td>kFold</td>\n",
       "    </tr>\n",
       "    <tr>\n",
       "      <th>1</th>\n",
       "      <td>0.964621</td>\n",
       "      <td>0.976893</td>\n",
       "      <td>0.969702</td>\n",
       "      <td>0.971347</td>\n",
       "      <td>Decision Tree</td>\n",
       "      <td>kFold</td>\n",
       "    </tr>\n",
       "    <tr>\n",
       "      <th>2</th>\n",
       "      <td>0.984685</td>\n",
       "      <td>0.990531</td>\n",
       "      <td>0.987348</td>\n",
       "      <td>0.988196</td>\n",
       "      <td>Random Forest</td>\n",
       "      <td>kFold</td>\n",
       "    </tr>\n",
       "  </tbody>\n",
       "</table>\n",
       "</div>"
      ],
      "text/plain": [
       "   precision    recall        f1  accuracy          model     CV\n",
       "0   0.954980  0.970127  0.961260  0.963773            SVM  kFold\n",
       "1   0.964621  0.976893  0.969702  0.971347  Decision Tree  kFold\n",
       "2   0.984685  0.990531  0.987348  0.988196  Random Forest  kFold"
      ]
     },
     "execution_count": 238,
     "metadata": {},
     "output_type": "execute_result"
    }
   ],
   "source": [
    "pd.DataFrame(fs_results)"
   ]
  },
  {
   "cell_type": "markdown",
   "metadata": {},
   "source": [
    "## Milestone 2 code"
   ]
  },
  {
   "cell_type": "markdown",
   "metadata": {},
   "source": [
    "## LogisticRegression"
   ]
  },
  {
   "cell_type": "code",
   "execution_count": 28,
   "metadata": {},
   "outputs": [],
   "source": [
    "## For printing CLassification report with Accuracy\n",
    "def print_classification_result(y_test, y_pred):\n",
    "    target_names = ['Non-Conspiracy', 'Conspiracy']\n",
    "    print(classification_report(y_test, y_pred, target_names=target_names))\n",
    "    print('Avg. Accuracy: ', accuracy_score(y_test, y_pred))"
   ]
  },
  {
   "cell_type": "code",
   "execution_count": 29,
   "metadata": {},
   "outputs": [
    {
     "name": "stdout",
     "output_type": "stream",
     "text": [
      "                precision    recall  f1-score   support\n",
      "\n",
      "Non-Conspiracy       0.93      0.98      0.96       228\n",
      "    Conspiracy       0.97      0.87      0.91       129\n",
      "\n",
      "      accuracy                           0.94       357\n",
      "     macro avg       0.95      0.93      0.93       357\n",
      "  weighted avg       0.94      0.94      0.94       357\n",
      "\n",
      "Avg. Accuracy:  0.9411764705882353\n"
     ]
    }
   ],
   "source": [
    "lg_model = LogisticRegression(random_state=0)\n",
    "lg_trained = lg_model.fit(X_train,y_train)\n",
    "y_pred = lg_trained.predict(X_test)\n",
    "print_classification_result(y_test, y_pred)"
   ]
  },
  {
   "cell_type": "code",
   "execution_count": 30,
   "metadata": {},
   "outputs": [
    {
     "data": {
      "text/plain": [
       "array([-0.56847959])"
      ]
     },
     "execution_count": 30,
     "metadata": {},
     "output_type": "execute_result"
    }
   ],
   "source": [
    "## Intercept\n",
    "lg_trained.intercept_"
   ]
  },
  {
   "cell_type": "code",
   "execution_count": 31,
   "metadata": {},
   "outputs": [
    {
     "data": {
      "text/plain": [
       "array([[-0.15634059,  0.2509336 , -0.00130538, ...,  0.22229934,\n",
       "         0.5096754 ,  0.5096754 ]])"
      ]
     },
     "execution_count": 31,
     "metadata": {},
     "output_type": "execute_result"
    }
   ],
   "source": [
    "lg_trained.coef_"
   ]
  },
  {
   "cell_type": "code",
   "execution_count": 155,
   "metadata": {},
   "outputs": [
    {
     "name": "stderr",
     "output_type": "stream",
     "text": [
      "/home/rony/anaconda3/lib/python3.8/site-packages/statsmodels/base/model.py:1362: RuntimeWarning: invalid value encountered in true_divide\n",
      "  return self.params / self.bse\n",
      "/home/rony/anaconda3/lib/python3.8/site-packages/scipy/stats/_distn_infrastructure.py:903: RuntimeWarning: invalid value encountered in greater\n",
      "  return (a < x) & (x < b)\n",
      "/home/rony/anaconda3/lib/python3.8/site-packages/scipy/stats/_distn_infrastructure.py:903: RuntimeWarning: invalid value encountered in less\n",
      "  return (a < x) & (x < b)\n",
      "/home/rony/anaconda3/lib/python3.8/site-packages/scipy/stats/_distn_infrastructure.py:1912: RuntimeWarning: invalid value encountered in less_equal\n",
      "  cond2 = cond0 & (x <= _a)\n"
     ]
    }
   ],
   "source": [
    "import statsmodels.api as sm\n",
    "mod = sm.OLS(y_train,X_train)\n",
    "fii = mod.fit()\n",
    "p_values = fii.summary2().tables[1]['P>|t|']"
   ]
  },
  {
   "cell_type": "code",
   "execution_count": 160,
   "metadata": {},
   "outputs": [
    {
     "data": {
      "text/plain": [
       "190"
      ]
     },
     "execution_count": 160,
     "metadata": {},
     "output_type": "execute_result"
    }
   ],
   "source": [
    "sig_indices = []\n",
    "p_list = p_values.to_list()\n",
    "for i in range(len(p_list)):\n",
    "    if p_list[i] < 0.05:\n",
    "        sig_indices.append(i)\n",
    "len(sig_indices)"
   ]
  },
  {
   "cell_type": "code",
   "execution_count": 181,
   "metadata": {},
   "outputs": [],
   "source": [
    "import math"
   ]
  },
  {
   "cell_type": "code",
   "execution_count": 182,
   "metadata": {},
   "outputs": [],
   "source": [
    "sig_features = []\n",
    "feat_names = list(sentence_term_df.columns)\n",
    "co_effs = list(lg_trained.coef_[0])\n",
    "for i in sig_indices:\n",
    "    entry = {}\n",
    "    score = p_list[i]\n",
    "    feature_n = feat_names[i]\n",
    "    entry['name'] = feature_n\n",
    "    entry['score'] = score\n",
    "    entry['coeff'] = co_effs[i]\n",
    "    entry['odd_ratio'] = math.exp(co_effs[i])\n",
    "    sig_features.append(entry)"
   ]
  },
  {
   "cell_type": "code",
   "execution_count": 178,
   "metadata": {},
   "outputs": [],
   "source": [
    "## Finding Significant Features"
   ]
  },
  {
   "cell_type": "code",
   "execution_count": 183,
   "metadata": {},
   "outputs": [
    {
     "data": {
      "text/plain": [
       "[{'name': 'W__issu',\n",
       "  'score': 0.0004975845739441109,\n",
       "  'coeff': -0.3017825972931044,\n",
       "  'odd_ratio': 0.7394988164594298},\n",
       " {'name': 'W__hide',\n",
       "  'score': 0.0012807182051775472,\n",
       "  'coeff': 1.1154387599752122,\n",
       "  'odd_ratio': 3.0509065012209913},\n",
       " {'name': 'W__week',\n",
       "  'score': 0.0013169964135552243,\n",
       "  'coeff': -0.6221091048601872,\n",
       "  'odd_ratio': 0.5368110520015031},\n",
       " {'name': 'W__family china',\n",
       "  'score': 0.0015944051361023546,\n",
       "  'coeff': 0.33371168337168183,\n",
       "  'odd_ratio': 1.3961405550033277},\n",
       " {'name': 'W__armed coronavirus',\n",
       "  'score': 0.0015944051361023853,\n",
       "  'coeff': 0.33371168337168183,\n",
       "  'odd_ratio': 1.3961405550033277},\n",
       " {'name': 'W__kill famili',\n",
       "  'score': 0.001594405136102391,\n",
       "  'coeff': 0.33371168337168183,\n",
       "  'odd_ratio': 1.3961405550033277},\n",
       " {'name': 'W__knows big',\n",
       "  'score': 0.001594405136102391,\n",
       "  'coeff': 0.33371168337168183,\n",
       "  'odd_ratio': 1.3961405550033277},\n",
       " {'name': 'W__said differ',\n",
       "  'score': 0.001594405136102391,\n",
       "  'coeff': 0.33371168337168183,\n",
       "  'odd_ratio': 1.3961405550033277},\n",
       " {'name': 'W__tech usa',\n",
       "  'score': 0.001594405136102391,\n",
       "  'coeff': 0.33371168337168183,\n",
       "  'odd_ratio': 1.3961405550033277},\n",
       " {'name': 'W__thebondfreak',\n",
       "  'score': 0.001594405136102391,\n",
       "  'coeff': 0.33371168337168183,\n",
       "  'odd_ratio': 1.3961405550033277}]"
      ]
     },
     "execution_count": 183,
     "metadata": {},
     "output_type": "execute_result"
    }
   ],
   "source": [
    "sorted(sig_features, key = lambda i: i['score'])[0:10]"
   ]
  },
  {
   "cell_type": "code",
   "execution_count": 167,
   "metadata": {
    "collapsed": true
   },
   "outputs": [],
   "source": [
    "## Log-odd and odd-ratio"
   ]
  },
  {
   "cell_type": "code",
   "execution_count": 169,
   "metadata": {},
   "outputs": [
    {
     "data": {
      "text/plain": [
       "array([[0.85526785, 1.28522474, 0.99869547, ..., 1.24894518, 1.66475072,\n",
       "        1.66475072]])"
      ]
     },
     "execution_count": 169,
     "metadata": {},
     "output_type": "execute_result"
    }
   ],
   "source": [
    "# odds_ratio\n",
    "np.exp(lg_trained.coef_)"
   ]
  },
  {
   "cell_type": "markdown",
   "metadata": {},
   "source": [
    "## Naive Bayes"
   ]
  },
  {
   "cell_type": "code",
   "execution_count": 34,
   "metadata": {},
   "outputs": [],
   "source": [
    "from sklearn.naive_bayes import GaussianNB"
   ]
  },
  {
   "cell_type": "code",
   "execution_count": 35,
   "metadata": {},
   "outputs": [
    {
     "name": "stdout",
     "output_type": "stream",
     "text": [
      "                precision    recall  f1-score   support\n",
      "\n",
      "Non-Conspiracy       1.00      0.87      0.93       228\n",
      "    Conspiracy       0.82      1.00      0.90       129\n",
      "\n",
      "      accuracy                           0.92       357\n",
      "     macro avg       0.91      0.94      0.92       357\n",
      "  weighted avg       0.93      0.92      0.92       357\n",
      "\n",
      "Avg. Accuracy:  0.9187675070028011\n"
     ]
    }
   ],
   "source": [
    "## Gaussian Naive Bayes\n",
    "gn_model = GaussianNB()\n",
    "gn_trained = gn_model.fit(X_train,y_train)\n",
    "y_pred = gn_trained.predict(X_test)\n",
    "print_classification_result(y_test, y_pred)"
   ]
  },
  {
   "cell_type": "code",
   "execution_count": 36,
   "metadata": {},
   "outputs": [
    {
     "name": "stdout",
     "output_type": "stream",
     "text": [
      "                precision    recall  f1-score   support\n",
      "\n",
      "Non-Conspiracy       1.00      0.89      0.94       228\n",
      "    Conspiracy       0.84      1.00      0.91       129\n",
      "\n",
      "      accuracy                           0.93       357\n",
      "     macro avg       0.92      0.95      0.93       357\n",
      "  weighted avg       0.94      0.93      0.93       357\n",
      "\n",
      "Avg. Accuracy:  0.9327731092436975\n"
     ]
    },
    {
     "name": "stderr",
     "output_type": "stream",
     "text": [
      "/home/rony/anaconda3/lib/python3.8/site-packages/sklearn/naive_bayes.py:506: UserWarning: alpha too small will result in numeric errors, setting alpha = 1.0e-10\n",
      "  warnings.warn('alpha too small will result in numeric errors, '\n"
     ]
    }
   ],
   "source": [
    "## Multinomial Naive Bayes\n",
    "mn_model = MultinomialNB(alpha=0)\n",
    "mn_trained = mn_model.fit(X_train,y_train)\n",
    "y_pred = mn_trained.predict(X_test)\n",
    "print_classification_result(y_test, y_pred)"
   ]
  },
  {
   "cell_type": "code",
   "execution_count": 37,
   "metadata": {},
   "outputs": [
    {
     "name": "stdout",
     "output_type": "stream",
     "text": [
      "                precision    recall  f1-score   support\n",
      "\n",
      "Non-Conspiracy       0.83      0.99      0.90       228\n",
      "    Conspiracy       0.96      0.64      0.77       129\n",
      "\n",
      "      accuracy                           0.86       357\n",
      "     macro avg       0.90      0.81      0.83       357\n",
      "  weighted avg       0.88      0.86      0.85       357\n",
      "\n",
      "Avg. Accuracy:  0.8599439775910365\n"
     ]
    }
   ],
   "source": [
    "## Multinomial Naive Bayes\n",
    "mn_model = MultinomialNB(alpha=1)\n",
    "mn_trained = mn_model.fit(X_train,y_train)\n",
    "y_pred = mn_trained.predict(X_test)\n",
    "print_classification_result(y_test, y_pred)"
   ]
  },
  {
   "cell_type": "markdown",
   "metadata": {},
   "source": [
    "## Decision Tree"
   ]
  },
  {
   "cell_type": "code",
   "execution_count": 38,
   "metadata": {},
   "outputs": [
    {
     "data": {
      "text/plain": [
       "count    1187.000000\n",
       "mean        0.001977\n",
       "std         0.017400\n",
       "min         0.000000\n",
       "25%         0.000000\n",
       "50%         0.000000\n",
       "75%         0.000000\n",
       "max         0.253816\n",
       "Name: W__accident, dtype: float64"
      ]
     },
     "execution_count": 38,
     "metadata": {},
     "output_type": "execute_result"
    }
   ],
   "source": [
    "## Original data Distribution\n",
    "sentence_term_df['W__accident'].describe()"
   ]
  },
  {
   "cell_type": "code",
   "execution_count": 39,
   "metadata": {},
   "outputs": [],
   "source": [
    "sentence_term_df['lables'] = labels"
   ]
  },
  {
   "cell_type": "code",
   "execution_count": 40,
   "metadata": {},
   "outputs": [],
   "source": [
    "## Shuffle and show new distribution"
   ]
  },
  {
   "cell_type": "code",
   "execution_count": 41,
   "metadata": {},
   "outputs": [],
   "source": [
    "sentence_term_df_shuffle = sentence_term_df.sample(frac=1, random_state=100).reset_index(drop=True)"
   ]
  },
  {
   "cell_type": "code",
   "execution_count": 42,
   "metadata": {},
   "outputs": [
    {
     "data": {
      "text/plain": [
       "count    1187.000000\n",
       "mean        0.001977\n",
       "std         0.017400\n",
       "min         0.000000\n",
       "25%         0.000000\n",
       "50%         0.000000\n",
       "75%         0.000000\n",
       "max         0.253816\n",
       "Name: W__accident, dtype: float64"
      ]
     },
     "execution_count": 42,
     "metadata": {},
     "output_type": "execute_result"
    }
   ],
   "source": [
    "sentence_term_df_shuffle['W__accident'].describe()"
   ]
  },
  {
   "cell_type": "code",
   "execution_count": 43,
   "metadata": {},
   "outputs": [
    {
     "data": {
      "text/plain": [
       "(1187, 2082)"
      ]
     },
     "execution_count": 43,
     "metadata": {},
     "output_type": "execute_result"
    }
   ],
   "source": [
    "## Training - Testing Split\n",
    "sentence_term_df_shuffle.shape"
   ]
  },
  {
   "cell_type": "code",
   "execution_count": 44,
   "metadata": {},
   "outputs": [
    {
     "data": {
      "text/plain": [
       "(1187, 2081)"
      ]
     },
     "execution_count": 44,
     "metadata": {},
     "output_type": "execute_result"
    }
   ],
   "source": [
    "features = sentence_term_df_shuffle.loc[:, sentence_term_df_shuffle.columns != 'lables'].values\n",
    "features.shape"
   ]
  },
  {
   "cell_type": "code",
   "execution_count": 45,
   "metadata": {},
   "outputs": [
    {
     "data": {
      "text/plain": [
       "(1187,)"
      ]
     },
     "execution_count": 45,
     "metadata": {},
     "output_type": "execute_result"
    }
   ],
   "source": [
    "lables = sentence_term_df_shuffle['lables']\n",
    "lables.shape"
   ]
  },
  {
   "cell_type": "code",
   "execution_count": 46,
   "metadata": {},
   "outputs": [],
   "source": [
    "## Train-Test Split\n",
    "X_train, X_test, y_train, y_test = train_test_split(features, labels, test_size=0.30, random_state=42)"
   ]
  },
  {
   "cell_type": "code",
   "execution_count": 69,
   "metadata": {},
   "outputs": [],
   "source": [
    "## Training Decision tree\n",
    "dt_model = DecisionTreeClassifier()\n",
    "dt_trained = dt_model.fit(X_train,y_train)"
   ]
  },
  {
   "cell_type": "code",
   "execution_count": 48,
   "metadata": {},
   "outputs": [
    {
     "data": {
      "text/plain": [
       "459"
      ]
     },
     "execution_count": 48,
     "metadata": {},
     "output_type": "execute_result"
    }
   ],
   "source": [
    "## Size of the tree\n",
    "treeObj = dt_trained.tree_\n",
    "treeObj.node_count"
   ]
  },
  {
   "cell_type": "code",
   "execution_count": 49,
   "metadata": {},
   "outputs": [],
   "source": [
    "## Tree Visualization\n",
    "from sklearn import tree\n",
    "import graphviz"
   ]
  },
  {
   "cell_type": "code",
   "execution_count": 56,
   "metadata": {},
   "outputs": [
    {
     "data": {
      "text/plain": [
       "'conspiracy_tweet.pdf'"
      ]
     },
     "execution_count": 56,
     "metadata": {},
     "output_type": "execute_result"
    }
   ],
   "source": [
    "dot_data = tree.export_graphviz(dt_trained, out_file=None, \n",
    "...                      feature_names=sentence_term_df_shuffle.loc[:, sentence_term_df_shuffle.columns != 'lables'].columns,  \n",
    "...                      class_names=['Non-Conspiracy', 'Conspiracy'],  \n",
    "...                      filled=True, rounded=True,  \n",
    "...                      special_characters=True)\n",
    "graph = graphviz.Source(dot_data) \n",
    "graph.render(\"conspiracy_tweet\") "
   ]
  },
  {
   "cell_type": "code",
   "execution_count": 57,
   "metadata": {},
   "outputs": [
    {
     "name": "stderr",
     "output_type": "stream",
     "text": [
      "/home/rony/anaconda3/lib/python3.8/site-packages/sklearn/utils/deprecation.py:144: FutureWarning: The sklearn.tree.export module is  deprecated in version 0.22 and will be removed in version 0.24. The corresponding classes / functions should instead be imported from sklearn.tree. Anything that cannot be imported from sklearn.tree is now part of the private API.\n",
      "  warnings.warn(message, FutureWarning)\n"
     ]
    }
   ],
   "source": [
    "from sklearn.tree.export import export_text"
   ]
  },
  {
   "cell_type": "code",
   "execution_count": 63,
   "metadata": {},
   "outputs": [
    {
     "data": {
      "text/plain": [
       "['W__abl',\n",
       " 'W__able provid',\n",
       " 'W__absolut',\n",
       " 'W__absolute hero',\n",
       " 'W__abt',\n",
       " 'W__abt coronavirus',\n",
       " 'W__abtc',\n",
       " 'W__accident',\n",
       " 'W__accidentally leak',\n",
       " 'W__accidentally pnum',\n",
       " 'W__accord',\n",
       " 'W__according articl',\n",
       " 'W__accur',\n",
       " 'W__accurate info',\n",
       " 'W__accurate inform',\n",
       " 'W__accus',\n",
       " 'W__accused polic',\n",
       " 'W__accuses spread',\n",
       " 'W__act',\n",
       " 'W__act dr',\n",
       " 'W__acting offend',\n",
       " 'W__action',\n",
       " 'W__actions proport',\n",
       " 'W__activ',\n",
       " 'W__actual',\n",
       " 'W__actual percentag',\n",
       " 'W__actually brain',\n",
       " 'W__actually clear',\n",
       " 'W__add',\n",
       " 'W__add thought',\n",
       " 'W__affect',\n",
       " 'W__africa',\n",
       " 'W__agenda',\n",
       " 'W__agenda tri',\n",
       " 'W__ago',\n",
       " 'W__ago accus',\n",
       " 'W__airlin',\n",
       " 'W__alarm',\n",
       " 'W__alarm coronavirus',\n",
       " 'W__alcohol',\n",
       " 'W__alcohol honey',\n",
       " 'W__alert',\n",
       " 'W__aliv',\n",
       " 'W__alive chines',\n",
       " 'W__alive h',\n",
       " 'W__ambliuxiaom',\n",
       " 'W__ambliuxiaoming li',\n",
       " 'W__amid',\n",
       " 'W__amp',\n",
       " 'W__amp accur',\n",
       " 'W__amp denay',\n",
       " 'W__amp fail',\n",
       " 'W__amp follow',\n",
       " 'W__amp interrog',\n",
       " 'W__amp punish',\n",
       " 'W__amp sham',\n",
       " 'W__amp spread',\n",
       " 'W__amp start',\n",
       " 'W__amp world',\n",
       " 'W__angri',\n",
       " 'W__angry chines',\n",
       " 'W__announc',\n",
       " 'W__announced chines',\n",
       " 'W__announced midnight',\n",
       " 'W__appear',\n",
       " 'W__appears miss',\n",
       " 'W__approv',\n",
       " 'W__approval kil',\n",
       " 'W__area',\n",
       " 'W__area easili',\n",
       " 'W__aren',\n",
       " 'W__aren hospit',\n",
       " 'W__arm',\n",
       " 'W__armed coronavirus',\n",
       " 'W__arrest',\n",
       " 'W__arrest num',\n",
       " 'W__arrested declar',\n",
       " 'W__arrested rumor',\n",
       " 'W__arrested speak',\n",
       " 'W__arrested spread',\n",
       " 'W__articl',\n",
       " 'W__article definit',\n",
       " 'W__asian',\n",
       " 'W__asiannetwalk',\n",
       " 'W__ask',\n",
       " 'W__attempt',\n",
       " 'W__attempt sil',\n",
       " 'W__attempting rais',\n",
       " 'W__attempts chines',\n",
       " 'W__august',\n",
       " 'W__august numnumnumnum',\n",
       " 'W__author',\n",
       " 'W__author bioweapon',\n",
       " 'W__authorities ',\n",
       " 'W__avoid',\n",
       " 'W__avoid spread',\n",
       " 'W__awak',\n",
       " 'W__awake decemb',\n",
       " 'W__awar',\n",
       " 'W__aware remov',\n",
       " 'W__away',\n",
       " 'W__barbar',\n",
       " 'W__barbaric behaviour',\n",
       " 'W__base',\n",
       " 'W__based data',\n",
       " 'W__basic',\n",
       " 'W__basic car',\n",
       " 'W__basically codx',\n",
       " 'W__beauracraci',\n",
       " 'W__beg',\n",
       " 'W__begging help',\n",
       " 'W__begin',\n",
       " 'W__beginning censorship',\n",
       " 'W__beginning outbreak',\n",
       " 'W__behaviour',\n",
       " 'W__behaviour com',\n",
       " 'W__beij',\n",
       " 'W__beijing ghost',\n",
       " 'W__believ',\n",
       " 'W__believe ear',\n",
       " 'W__believe ey',\n",
       " 'W__believe just',\n",
       " 'W__believing statist',\n",
       " 'W__best',\n",
       " 'W__better',\n",
       " 'W__better tri',\n",
       " 'W__big',\n",
       " 'W__big tech',\n",
       " 'W__bigger',\n",
       " 'W__bigger know',\n",
       " 'W__billion',\n",
       " 'W__bio',\n",
       " 'W__bio weapon',\n",
       " 'W__biolog',\n",
       " 'W__biological sci',\n",
       " 'W__biological warfar',\n",
       " 'W__biological weapon',\n",
       " 'W__bioweapon',\n",
       " 'W__bioweapon amp',\n",
       " 'W__bioweapon us',\n",
       " 'W__bioweapons act',\n",
       " 'W__blame',\n",
       " 'W__blame wuhan',\n",
       " 'W__block',\n",
       " 'W__block truth',\n",
       " 'W__blocking infect',\n",
       " 'W__blower',\n",
       " 'W__blower hero',\n",
       " 'W__blown',\n",
       " 'W__blown pandem',\n",
       " 'W__board',\n",
       " 'W__bodi',\n",
       " 'W__bodies day',\n",
       " 'W__boom',\n",
       " 'W__boom china',\n",
       " 'W__box',\n",
       " 'W__box compart',\n",
       " 'W__box dead',\n",
       " 'W__boyl',\n",
       " 'W__boyle confirm',\n",
       " 'W__brain',\n",
       " 'W__brain dead',\n",
       " 'W__break',\n",
       " 'W__breakingnew',\n",
       " 'W__breakingnews check',\n",
       " 'W__breakingnews china',\n",
       " 'W__breakingnews urg',\n",
       " 'W__breed',\n",
       " 'W__breeding ground',\n",
       " 'W__brighton',\n",
       " 'W__british',\n",
       " 'W__british man',\n",
       " 'W__british n',\n",
       " 'W__british wuhan',\n",
       " 'W__build',\n",
       " 'W__building hospit',\n",
       " 'W__buri',\n",
       " 'W__buried soon',\n",
       " 'W__burn',\n",
       " 'W__burning numnumnum',\n",
       " 'W__bury death',\n",
       " 'W__bustl',\n",
       " 'W__bustling beij',\n",
       " 'W__call',\n",
       " 'W__calling racist',\n",
       " 'W__calling transpar',\n",
       " 'W__calling wuhan',\n",
       " 'W__came',\n",
       " 'W__came china',\n",
       " 'W__camp',\n",
       " 'W__campaign',\n",
       " 'W__campaign design',\n",
       " 'W__campashland',\n",
       " 'W__camps potus',\n",
       " 'W__camps predict',\n",
       " 'W__camps wuhan',\n",
       " 'W__can',\n",
       " 'W__canned media',\n",
       " 'W__care',\n",
       " 'W__care coronavirus',\n",
       " 'W__case',\n",
       " 'W__case coronavirus',\n",
       " 'W__case v',\n",
       " 'W__cases increas',\n",
       " 'W__cases numnum',\n",
       " 'W__cases numnumnum',\n",
       " 'W__cases rest',\n",
       " 'W__casualti',\n",
       " 'W__casualty truth',\n",
       " 'W__caught',\n",
       " 'W__caught polic',\n",
       " 'W__ccp',\n",
       " 'W__ccp buri',\n",
       " 'W__ccp collaps',\n",
       " 'W__ccp cours',\n",
       " 'W__ccp did',\n",
       " 'W__ccp good',\n",
       " 'W__ccp kill',\n",
       " 'W__ccp peopl',\n",
       " 'W__ccp piss',\n",
       " 'W__ccp pose',\n",
       " 'W__ccp provid',\n",
       " 'W__ccp talk',\n",
       " 'W__ccp tell',\n",
       " 'W__ccp thrash',\n",
       " 'W__ccp work',\n",
       " 'W__cdc',\n",
       " 'W__cdc deploy',\n",
       " 'W__cdc thing',\n",
       " 'W__censorship',\n",
       " 'W__censorship ccp',\n",
       " 'W__censorship coronavirus',\n",
       " 'W__central',\n",
       " 'W__central hospit',\n",
       " 'W__central publ',\n",
       " 'W__chairman',\n",
       " 'W__chairman xi',\n",
       " 'W__chaotic',\n",
       " 'W__chaotic messag',\n",
       " 'W__check',\n",
       " 'W__check pictur',\n",
       " 'W__checks report',\n",
       " 'W__chenqiushinumnumnum',\n",
       " 'W__chenqiushinumnumnum visit',\n",
       " 'W__chief',\n",
       " 'W__chief secretari',\n",
       " 'W__children',\n",
       " 'W__china',\n",
       " 'W__china accus',\n",
       " 'W__china act',\n",
       " 'W__china amp',\n",
       " 'W__china attempt',\n",
       " 'W__china block',\n",
       " 'W__china british',\n",
       " 'W__china c',\n",
       " 'W__china communist',\n",
       " 'W__china coronavirus',\n",
       " 'W__china coronavirusoutbreak',\n",
       " 'W__china death',\n",
       " 'W__china dispatch',\n",
       " 'W__china doctor',\n",
       " 'W__china fact',\n",
       " 'W__china feel',\n",
       " 'W__china go',\n",
       " 'W__china govern',\n",
       " 'W__china hid',\n",
       " 'W__china histori',\n",
       " 'W__china know',\n",
       " 'W__china liwenliang',\n",
       " 'W__china lock',\n",
       " 'W__china mak',\n",
       " 'W__china newhospit',\n",
       " 'W__china numnumnumnum',\n",
       " 'W__china numnumnumnumcoronavirus',\n",
       " 'W__china peopl',\n",
       " 'W__china plac',\n",
       " 'W__china pray',\n",
       " 'W__china ramp',\n",
       " 'W__china seek',\n",
       " 'W__china seep',\n",
       " 'W__china spread',\n",
       " 'W__china st',\n",
       " 'W__china terrifi',\n",
       " 'W__china treat',\n",
       " 'W__china tri',\n",
       " 'W__china trump',\n",
       " 'W__china w',\n",
       " 'W__china wuhan',\n",
       " 'W__china wuhanpnemonia',\n",
       " 'W__china wuhanpneumonia',\n",
       " 'W__chinacoronavirus',\n",
       " 'W__chinaoutbreak',\n",
       " 'W__chinaoutbreak chinapneumonia',\n",
       " 'W__chinapneumonia',\n",
       " 'W__chinapneumonia china',\n",
       " 'W__chines',\n",
       " 'W__chinese beauracraci',\n",
       " 'W__chinese censorship',\n",
       " 'W__chinese commun',\n",
       " 'W__chinese doctor',\n",
       " 'W__chinese escap',\n",
       " 'W__chinese govern',\n",
       " 'W__chinese govt',\n",
       " 'W__chinese hospit',\n",
       " 'W__chinese media',\n",
       " 'W__chinese multin',\n",
       " 'W__chinese us',\n",
       " 'W__chinesecensorship',\n",
       " 'W__chinesepropaganda',\n",
       " 'W__chinesepropaganda chinesecensorship',\n",
       " 'W__citi',\n",
       " 'W__cities clos',\n",
       " 'W__cities lockdown',\n",
       " 'W__citizen',\n",
       " 'W__citizens china',\n",
       " 'W__claim',\n",
       " 'W__claims def',\n",
       " 'W__clear',\n",
       " 'W__clear author',\n",
       " 'W__close',\n",
       " 'W__closed chines',\n",
       " 'W__cnn',\n",
       " 'W__cnnbrk',\n",
       " 'W__cnnbrk drliwenliang',\n",
       " 'W__codx',\n",
       " 'W__codx cdc',\n",
       " 'W__codx fraud',\n",
       " 'W__collaps',\n",
       " 'W__collapsed sak',\n",
       " 'W__colleagu',\n",
       " 'W__colleagues newli',\n",
       " 'W__come',\n",
       " 'W__come hard',\n",
       " 'W__coming china',\n",
       " 'W__coming support',\n",
       " 'W__comment',\n",
       " 'W__comments peopl',\n",
       " 'W__communismkil',\n",
       " 'W__communismkills don',\n",
       " 'W__communist',\n",
       " 'W__communist parti',\n",
       " 'W__communist regim',\n",
       " 'W__communiti',\n",
       " 'W__community cal',\n",
       " 'W__compani',\n",
       " 'W__companies scurri',\n",
       " 'W__company tenc',\n",
       " 'W__comparison',\n",
       " 'W__comparison awar',\n",
       " 'W__compart',\n",
       " 'W__compartment video',\n",
       " 'W__complaint',\n",
       " 'W__complainted cal',\n",
       " 'W__complet',\n",
       " 'W__complete amp',\n",
       " 'W__concentrationcamp',\n",
       " 'W__concentrationcamp wors',\n",
       " 'W__concern',\n",
       " 'W__condem',\n",
       " 'W__condemed wuhan',\n",
       " 'W__condit',\n",
       " 'W__conditions china',\n",
       " 'W__confer',\n",
       " 'W__conference strok',\n",
       " 'W__confin',\n",
       " 'W__confined hom',\n",
       " 'W__confirm',\n",
       " 'W__confirmed cas',\n",
       " 'W__confirmed chines',\n",
       " 'W__confirmed dead',\n",
       " 'W__confirmed diseas',\n",
       " 'W__confirms coronavirus',\n",
       " 'W__confus',\n",
       " 'W__confusion doctor',\n",
       " 'W__conglomer',\n",
       " 'W__conglomerate compani',\n",
       " 'W__conspiraci',\n",
       " 'W__conspiracy theorist',\n",
       " 'W__contain',\n",
       " 'W__contain coronavirus',\n",
       " 'W__contained area',\n",
       " 'W__contained wuhan',\n",
       " 'W__continu',\n",
       " 'W__contract',\n",
       " 'W__contracting il',\n",
       " 'W__control',\n",
       " 'W__control jane_linumnumnum',\n",
       " 'W__control li',\n",
       " 'W__convers',\n",
       " 'W__conversation greec',\n",
       " 'W__convuls',\n",
       " 'W__corona',\n",
       " 'W__corona knew',\n",
       " 'W__corona virus',\n",
       " 'W__coronanavirus',\n",
       " 'W__coronanavirus world',\n",
       " 'W__coronaoutbreak',\n",
       " 'W__coronaoutbreak virus_corona',\n",
       " 'W__coronavirus',\n",
       " 'W__coronavirus asiannetwalk',\n",
       " 'W__coronavirus biolog',\n",
       " 'W__coronavirus bioweapon',\n",
       " 'W__coronavirus british',\n",
       " 'W__coronavirus campashland',\n",
       " 'W__coronavirus cas',\n",
       " 'W__coronavirus casualti',\n",
       " 'W__coronavirus caught',\n",
       " 'W__coronavirus ccp',\n",
       " 'W__coronavirus china',\n",
       " 'W__coronavirus chines',\n",
       " 'W__coronavirus com',\n",
       " 'W__coronavirus contain',\n",
       " 'W__coronavirus coronavirus',\n",
       " 'W__coronavirus coronaviruschina',\n",
       " 'W__coronavirus coronavirusoutbreak',\n",
       " 'W__coronavirus corononavirus',\n",
       " 'W__coronavirus crematorium',\n",
       " 'W__coronavirus crisi',\n",
       " 'W__coronavirus death',\n",
       " 'W__coronavirus decemb',\n",
       " 'W__coronavirus detail',\n",
       " 'W__coronavirus di',\n",
       " 'W__coronavirus disinform',\n",
       " 'W__coronavirus fin',\n",
       " 'W__coronavirus help',\n",
       " 'W__coronavirus hit',\n",
       " 'W__coronavirus hk',\n",
       " 'W__coronavirus hospit',\n",
       " 'W__coronavirus kil',\n",
       " 'W__coronavirus l',\n",
       " 'W__coronavirus liwenliang',\n",
       " 'W__coronavirus ncov',\n",
       " 'W__coronavirus ncovnumnumnumnum',\n",
       " 'W__coronavirus new',\n",
       " 'W__coronavirus num',\n",
       " 'W__coronavirus numnew',\n",
       " 'W__coronavirus numnum',\n",
       " 'W__coronavirus numnumnumnum',\n",
       " 'W__coronavirus numnumnumnumncov',\n",
       " 'W__coronavirus offens',\n",
       " 'W__coronavirus outbreak',\n",
       " 'W__coronavirus pati',\n",
       " 'W__coronavirus pneumonia',\n",
       " 'W__coronavirus polit',\n",
       " 'W__coronavirus qiushi',\n",
       " 'W__coronavirus quarantinecent',\n",
       " 'W__coronavirus r',\n",
       " 'W__coronavirus reli',\n",
       " 'W__coronavirus reprimand',\n",
       " 'W__coronavirus sar',\n",
       " 'W__coronavirus sham',\n",
       " 'W__coronavirus situ',\n",
       " 'W__coronavirus spread',\n",
       " 'W__coronavirus stori',\n",
       " 'W__coronavirus test',\n",
       " 'W__coronavirus th',\n",
       " 'W__coronavirus thank',\n",
       " 'W__coronavirus turn',\n",
       " 'W__coronavirus uk',\n",
       " 'W__coronavirus upd',\n",
       " 'W__coronavirus victim',\n",
       " 'W__coronavirus virus',\n",
       " 'W__coronavirus warn',\n",
       " 'W__coronavirus whistleblow',\n",
       " 'W__coronavirus whuan',\n",
       " 'W__coronavirus winterwatch',\n",
       " 'W__coronavirus worldnew',\n",
       " 'W__coronavirus wuhan',\n",
       " 'W__coronaviruscanada',\n",
       " 'W__coronaviruscanada ncovnumnumnumnum',\n",
       " 'W__coronaviruschina',\n",
       " 'W__coronaviruschina china',\n",
       " 'W__coronaviruschina coronavirusoutbreak',\n",
       " 'W__coronaviruschina wuhan',\n",
       " 'W__coronaviruscoverup',\n",
       " 'W__coronaviruscoverup coronavirusoutbreak',\n",
       " 'W__coronavirusoutbreak',\n",
       " 'W__coronavirusoutbreak kungflu',\n",
       " 'W__coronavirusoutbreak ncovnew',\n",
       " 'W__coronavirusoutbreak wuhancoronavirus',\n",
       " 'W__coronavirusoutbreak wuhancoronavius',\n",
       " 'W__coronavius',\n",
       " 'W__coronavius hidden',\n",
       " 'W__coronoavirus',\n",
       " 'W__corononavirus',\n",
       " 'W__corononavirus coronaviruscoverup',\n",
       " 'W__countri',\n",
       " 'W__countries let',\n",
       " 'W__countries unfortun',\n",
       " 'W__country fight',\n",
       " 'W__country kil',\n",
       " 'W__country tri',\n",
       " 'W__cours',\n",
       " 'W__course lot',\n",
       " 'W__court',\n",
       " 'W__court approv',\n",
       " 'W__cover',\n",
       " 'W__cover hav',\n",
       " 'W__covering actu',\n",
       " 'W__cpc',\n",
       " 'W__cpc central',\n",
       " 'W__cpc confer',\n",
       " 'W__creat',\n",
       " 'W__created numnumnumnum',\n",
       " 'W__creator',\n",
       " 'W__creators tel',\n",
       " 'W__credibil',\n",
       " 'W__credibile hubei',\n",
       " 'W__crematorium',\n",
       " 'W__crematoriums work',\n",
       " 'W__crisi',\n",
       " 'W__crisis manag',\n",
       " 'W__cross',\n",
       " 'W__cross infect',\n",
       " 'W__cruis',\n",
       " 'W__cruise ship',\n",
       " 'W__cure',\n",
       " 'W__cured numnum',\n",
       " 'W__current',\n",
       " 'W__current coronavirus',\n",
       " 'W__current numb',\n",
       " 'W__cut',\n",
       " 'W__cv',\n",
       " 'W__cv china',\n",
       " 'W__daili',\n",
       " 'W__daily cas',\n",
       " 'W__danger',\n",
       " 'W__danger know',\n",
       " 'W__data',\n",
       " 'W__data comparison',\n",
       " 'W__data taiwan',\n",
       " 'W__day',\n",
       " 'W__days happen',\n",
       " 'W__dead',\n",
       " 'W__dead coronavirus',\n",
       " 'W__dead diseas',\n",
       " 'W__dead hour',\n",
       " 'W__dead lif',\n",
       " 'W__dead lik',\n",
       " 'W__dead treat',\n",
       " 'W__deadly coronanavirus',\n",
       " 'W__deadly virus',\n",
       " 'W__deal',\n",
       " 'W__death',\n",
       " 'W__death camp',\n",
       " 'W__death coronavirus',\n",
       " 'W__death just',\n",
       " 'W__death numb',\n",
       " 'W__death rat',\n",
       " 'W__death tol',\n",
       " 'W__deaths coronavirus',\n",
       " 'W__deaths mak',\n",
       " 'W__deaths report',\n",
       " 'W__deaths world',\n",
       " 'W__deathtol',\n",
       " 'W__deathtoll china',\n",
       " 'W__decemb',\n",
       " 'W__december di',\n",
       " 'W__december numnum',\n",
       " 'W__december pronounc',\n",
       " 'W__december silenc',\n",
       " 'W__declar',\n",
       " 'W__declare differ',\n",
       " 'W__declares glob',\n",
       " 'W__declaring emerg',\n",
       " 'W__defeat',\n",
       " 'W__defeated coronavirus',\n",
       " 'W__definit',\n",
       " 'W__definitely hop',\n",
       " 'W__definitely quarantin',\n",
       " 'W__delet',\n",
       " 'W__delete declar',\n",
       " 'W__demand',\n",
       " 'W__demands onlin',\n",
       " 'W__denay',\n",
       " 'W__denay til',\n",
       " 'W__deni',\n",
       " 'W__denies death',\n",
       " 'W__depend',\n",
       " 'W__depend complet',\n",
       " 'W__deploy',\n",
       " 'W__deploy coronavirus',\n",
       " 'W__dept',\n",
       " 'W__dept send',\n",
       " 'W__deserv',\n",
       " 'W__deserve dign',\n",
       " 'W__design',\n",
       " 'W__designed coronavirus',\n",
       " 'W__designed hid',\n",
       " 'W__desper',\n",
       " 'W__desperately tri',\n",
       " 'W__despic',\n",
       " 'W__despicable amp',\n",
       " 'W__despit',\n",
       " 'W__despite effort',\n",
       " 'W__detail',\n",
       " 'W__details gt',\n",
       " 'W__detain',\n",
       " 'W__detained amp',\n",
       " 'W__detained warn',\n",
       " 'W__develop',\n",
       " 'W__diagnos',\n",
       " 'W__diagnost',\n",
       " 'W__diamond',\n",
       " 'W__diamond princess',\n",
       " 'W__did',\n",
       " 'W__did begin',\n",
       " 'W__did transl',\n",
       " 'W__did warn',\n",
       " 'W__didn',\n",
       " 'W__didn just',\n",
       " 'W__die',\n",
       " 'W__die virus',\n",
       " 'W__died contract',\n",
       " 'W__died coronavirus',\n",
       " 'W__died diseas',\n",
       " 'W__died il',\n",
       " 'W__died ncovnumnumnumnum',\n",
       " 'W__died way',\n",
       " 'W__dies diseas',\n",
       " 'W__differ',\n",
       " 'W__different truth',\n",
       " 'W__different wal',\n",
       " 'W__differently kil',\n",
       " 'W__digniti',\n",
       " 'W__dignity dr',\n",
       " 'W__discomfort',\n",
       " 'W__discomfort chines',\n",
       " 'W__discov',\n",
       " 'W__discovered visit',\n",
       " 'W__diseas',\n",
       " 'W__disease coronaviruscanada',\n",
       " 'W__disease natur',\n",
       " 'W__disease numnum',\n",
       " 'W__disease travel',\n",
       " 'W__disease wuhanpnumlab',\n",
       " 'W__disinform',\n",
       " 'W__disinformation campaign',\n",
       " 'W__dispatch',\n",
       " 'W__dispatching journalist',\n",
       " 'W__dissent',\n",
       " 'W__dissent coronavirus',\n",
       " 'W__do',\n",
       " 'W__doctor',\n",
       " 'W__doctor absolut',\n",
       " 'W__doctor death',\n",
       " 'W__doctor detain',\n",
       " 'W__doctor fin',\n",
       " 'W__doctor li',\n",
       " 'W__doctor liwenliang',\n",
       " 'W__doctor silenc',\n",
       " 'W__doctor sound',\n",
       " 'W__doctor tri',\n",
       " 'W__doctors report',\n",
       " 'W__doctors thank',\n",
       " 'W__document',\n",
       " 'W__documents numnumnumnum',\n",
       " 'W__doe',\n",
       " 'W__does china',\n",
       " 'W__doesn',\n",
       " 'W__doesn add',\n",
       " 'W__doesn exist',\n",
       " 'W__doing peopl',\n",
       " 'W__don',\n",
       " 'W__don wont',\n",
       " 'W__dont',\n",
       " 'W__dont want',\n",
       " 'W__doubt',\n",
       " 'W__doubt 自相矛盾natur',\n",
       " 'W__dr',\n",
       " 'W__dr franci',\n",
       " 'W__dr li',\n",
       " 'W__drliwenliang',\n",
       " 'W__drliwenliang truli',\n",
       " 'W__drliwenliang whistl',\n",
       " 'W__drop',\n",
       " 'W__dropping shit',\n",
       " 'W__drs',\n",
       " 'W__drs tri',\n",
       " 'W__dwnew',\n",
       " 'W__dwnews coronavirus',\n",
       " 'W__ear',\n",
       " 'W__earli',\n",
       " 'W__early coronavirus',\n",
       " 'W__early warn',\n",
       " 'W__ears believ',\n",
       " 'W__easili',\n",
       " 'W__easily cr',\n",
       " 'W__eat',\n",
       " 'W__economi',\n",
       " 'W__economy plan',\n",
       " 'W__eert',\n",
       " 'W__effect',\n",
       " 'W__effort',\n",
       " 'W__efforts sav',\n",
       " 'W__ego',\n",
       " 'W__ego hk',\n",
       " 'W__eiuld',\n",
       " 'W__eiuld arrest',\n",
       " 'W__elain',\n",
       " 'W__elains mandatori',\n",
       " 'W__elos',\n",
       " 'W__elosive interview',\n",
       " 'W__emerg',\n",
       " 'W__emergency china',\n",
       " 'W__emergency sar',\n",
       " 'W__end',\n",
       " 'W__end aren',\n",
       " 'W__entir',\n",
       " 'W__entire c',\n",
       " 'W__epidem',\n",
       " 'W__epidemic coronavirus',\n",
       " 'W__equip',\n",
       " 'W__equipment coronavirusoutbreak',\n",
       " 'W__escap',\n",
       " 'W__escaping coronavirus',\n",
       " 'W__essenti',\n",
       " 'W__essential publ',\n",
       " 'W__estim',\n",
       " 'W__event',\n",
       " 'W__evid',\n",
       " 'W__evidence point',\n",
       " 'W__exampl',\n",
       " 'W__exist',\n",
       " 'W__exist cr',\n",
       " 'W__existing hong',\n",
       " 'W__extinctionrebellion',\n",
       " 'W__extinctionrebellion nth',\n",
       " 'W__eye',\n",
       " 'W__face',\n",
       " 'W__face amp',\n",
       " 'W__face mask',\n",
       " 'W__fact',\n",
       " 'W__fact cam',\n",
       " 'W__fail',\n",
       " 'W__failing help',\n",
       " 'W__famili',\n",
       " 'W__family china',\n",
       " 'W__far',\n",
       " 'W__fast',\n",
       " 'W__faster',\n",
       " 'W__faster glob',\n",
       " 'W__fear',\n",
       " 'W__fear amp',\n",
       " 'W__feb',\n",
       " 'W__feb num',\n",
       " 'W__februari',\n",
       " 'W__february num',\n",
       " 'W__feel',\n",
       " 'W__feel sham',\n",
       " 'W__field',\n",
       " 'W__field xi',\n",
       " 'W__fight',\n",
       " 'W__fight china',\n",
       " 'W__fight virus',\n",
       " 'W__figur',\n",
       " 'W__figures coronavirus',\n",
       " 'W__final',\n",
       " 'W__finally di',\n",
       " 'W__finally hear',\n",
       " 'W__firstlook',\n",
       " 'W__flag',\n",
       " 'W__flag sar',\n",
       " 'W__flight',\n",
       " 'W__flu',\n",
       " 'W__flu china',\n",
       " 'W__flu deathtol',\n",
       " 'W__follow',\n",
       " 'W__follow mittromneyamericanhero',\n",
       " 'W__follow spreadluv',\n",
       " 'W__following journalist',\n",
       " 'W__food',\n",
       " 'W__forc',\n",
       " 'W__forcefully coronavirus',\n",
       " 'W__forcibl',\n",
       " 'W__forcibly confin',\n",
       " 'W__forecast',\n",
       " 'W__foreign',\n",
       " 'W__foreign countri',\n",
       " 'W__forget',\n",
       " 'W__fought',\n",
       " 'W__fought tool',\n",
       " 'W__franci',\n",
       " 'W__francis boyl',\n",
       " 'W__fraud',\n",
       " 'W__friday',\n",
       " 'W__friday hospit',\n",
       " 'W__friend',\n",
       " 'W__fund',\n",
       " 'W__funni',\n",
       " 'W__funny th',\n",
       " 'W__furious',\n",
       " 'W__furious peopl',\n",
       " 'W__get',\n",
       " 'W__gets wors',\n",
       " 'W__ghost',\n",
       " 'W__ghost town',\n",
       " 'W__given',\n",
       " 'W__given solemn',\n",
       " 'W__global',\n",
       " 'W__global health',\n",
       " 'W__global respons',\n",
       " 'W__global secur',\n",
       " 'W__globaltimesnew',\n",
       " 'W__globaltimesnews credibil',\n",
       " 'W__go',\n",
       " 'W__going poor',\n",
       " 'W__good',\n",
       " 'W__good cross',\n",
       " 'W__good furi',\n",
       " 'W__good job',\n",
       " 'W__goodness sham',\n",
       " 'W__govern',\n",
       " 'W__government act',\n",
       " 'W__government cal',\n",
       " 'W__government coronavirus',\n",
       " 'W__government impl',\n",
       " 'W__government offici',\n",
       " 'W__government polic',\n",
       " 'W__government tri',\n",
       " 'W__govt',\n",
       " 'W__govt block',\n",
       " 'W__govt video',\n",
       " 'W__great',\n",
       " 'W__greec',\n",
       " 'W__greece compani',\n",
       " 'W__ground',\n",
       " 'W__grounds vir',\n",
       " 'W__group',\n",
       " 'W__grow',\n",
       " 'W__gt',\n",
       " 'W__gt numnumnumnumncov',\n",
       " 'W__gt virus',\n",
       " 'W__guy',\n",
       " 'W__hand',\n",
       " 'W__handl',\n",
       " 'W__handle announc',\n",
       " 'W__handle sick',\n",
       " 'W__happen',\n",
       " 'W__happen r',\n",
       " 'W__hard',\n",
       " 'W__hard loc',\n",
       " 'W__hate',\n",
       " 'W__hate ccp',\n",
       " 'W__have',\n",
       " 'W__having cpc',\n",
       " 'W__hazmat',\n",
       " 'W__hazmat suit',\n",
       " 'W__head',\n",
       " 'W__health',\n",
       " 'W__health china',\n",
       " 'W__health coronavirus',\n",
       " 'W__health emerg',\n",
       " 'W__health peopl',\n",
       " 'W__healthcar',\n",
       " 'W__healthcarehero',\n",
       " 'W__healthcarehero coronavirus',\n",
       " 'W__hear',\n",
       " 'W__hear can',\n",
       " 'W__hear cpc',\n",
       " 'W__hear man',\n",
       " 'W__heartbreak',\n",
       " 'W__heartbreaking upd',\n",
       " 'W__heartgang',\n",
       " 'W__heartgang follow',\n",
       " 'W__heavi',\n",
       " 'W__heavy rain',\n",
       " 'W__help',\n",
       " 'W__help alcohol',\n",
       " 'W__help chines',\n",
       " 'W__help coronavirus',\n",
       " 'W__help off',\n",
       " 'W__help show',\n",
       " 'W__hero',\n",
       " 'W__hero condem',\n",
       " 'W__hero deserv',\n",
       " 'W__hero r',\n",
       " 'W__hero stood',\n",
       " 'W__hero tri',\n",
       " 'W__hero whistleblow',\n",
       " 'W__hidden',\n",
       " 'W__hidden bas',\n",
       " 'W__hidden firstlook',\n",
       " 'W__hidden qu',\n",
       " 'W__hide',\n",
       " 'W__hide arrest',\n",
       " 'W__hide dead',\n",
       " 'W__hide tru',\n",
       " 'W__hide virus',\n",
       " 'W__hiding truth',\n",
       " 'W__high',\n",
       " 'W__histori',\n",
       " 'W__history cov',\n",
       " 'W__hit',\n",
       " 'W__hitting nerv',\n",
       " 'W__hiv',\n",
       " 'W__hiv protein',\n",
       " 'W__hk',\n",
       " 'W__hk hongkong',\n",
       " 'W__home',\n",
       " 'W__homes entir',\n",
       " 'W__honey',\n",
       " 'W__honey china',\n",
       " 'W__hong',\n",
       " 'W__hong kong',\n",
       " 'W__hongkong',\n",
       " 'W__hongkongers kil',\n",
       " 'W__hope',\n",
       " 'W__hope al',\n",
       " 'W__horribl',\n",
       " 'W__horrible arrest',\n",
       " 'W__horror',\n",
       " 'W__horrors coronavirus',\n",
       " 'W__hospit',\n",
       " 'W__hospital deni',\n",
       " 'W__hospital globaltimesnew',\n",
       " 'W__hospital isol',\n",
       " 'W__hospital li',\n",
       " 'W__hospital receiv',\n",
       " 'W__hospital say',\n",
       " 'W__hospitals death',\n",
       " 'W__hospitals elain',\n",
       " 'W__hour',\n",
       " 'W__hours ago',\n",
       " 'W__hours coronavirus',\n",
       " 'W__houseforeigngop',\n",
       " 'W__houseforeigngop repmccaul',\n",
       " 'W__hrs',\n",
       " 'W__hrs chaotic',\n",
       " 'W__hubei',\n",
       " 'W__hubei thousand',\n",
       " 'W__human',\n",
       " 'W__humanity right',\n",
       " 'W__humili',\n",
       " 'W__humiliation chairman',\n",
       " 'W__hype',\n",
       " 'W__hype com',\n",
       " 'W__ill',\n",
       " 'W__illness whilst',\n",
       " 'W__imagin',\n",
       " 'W__imagine horror',\n",
       " 'W__imho',\n",
       " 'W__imho china',\n",
       " 'W__immedi',\n",
       " 'W__impact',\n",
       " 'W__implement',\n",
       " 'W__implementing plan',\n",
       " 'W__import',\n",
       " 'W__imposs',\n",
       " 'W__impossible recov',\n",
       " 'W__inact',\n",
       " 'W__inactive breakingnew',\n",
       " 'W__includ',\n",
       " 'W__increas',\n",
       " 'W__increase china',\n",
       " 'W__increase increas',\n",
       " 'W__infect',\n",
       " 'W__infected insid',\n",
       " 'W__infected peopl',\n",
       " 'W__infected resid',\n",
       " 'W__infection occur',\n",
       " 'W__influenza',\n",
       " 'W__influenza epidem',\n",
       " 'W__info',\n",
       " 'W__info cnn',\n",
       " 'W__inform',\n",
       " 'W__information coronavirus',\n",
       " 'W__information curr',\n",
       " 'W__information shar',\n",
       " 'W__initi',\n",
       " 'W__initial uncertainti',\n",
       " 'W__inject',\n",
       " 'W__injection toilet',\n",
       " 'W__insert',\n",
       " 'W__insertions spik',\n",
       " 'W__insid',\n",
       " 'W__inside di',\n",
       " 'W__insiders say',\n",
       " 'W__intent',\n",
       " 'W__intentionally spread',\n",
       " 'W__intents purpos',\n",
       " 'W__interest',\n",
       " 'W__interesting num',\n",
       " 'W__interrog',\n",
       " 'W__interrogated sound',\n",
       " 'W__interview',\n",
       " 'W__interview author',\n",
       " 'W__iran',\n",
       " 'W__iron',\n",
       " 'W__ironic com',\n",
       " 'W__isol',\n",
       " 'W__isolation box',\n",
       " 'W__isolation good',\n",
       " 'W__issu',\n",
       " 'W__jail',\n",
       " 'W__jail tim',\n",
       " 'W__jail wors',\n",
       " 'W__jane_linumnumnum',\n",
       " 'W__jane_linumnumnum qz',\n",
       " 'W__japan',\n",
       " ...]"
      ]
     },
     "execution_count": 63,
     "metadata": {},
     "output_type": "execute_result"
    }
   ],
   "source": [
    "feature_names = list(sentence_term_df_shuffle.loc[:, sentence_term_df_shuffle.columns != 'lables'].columns)\n",
    "feature_names"
   ]
  },
  {
   "cell_type": "code",
   "execution_count": 64,
   "metadata": {},
   "outputs": [
    {
     "name": "stdout",
     "output_type": "stream",
     "text": [
      "|--- W__infect <= 0.05\n",
      "|   |--- W__ve <= 0.07\n",
      "|   |   |--- W__wuhan virus <= 0.16\n",
      "|   |   |   |--- W__china coronavirus <= 0.16\n",
      "|   |   |   |   |--- W__corona <= 0.31\n",
      "|   |   |   |   |   |--- W__prepar <= 0.17\n",
      "|   |   |   |   |   |   |--- W__citi <= 0.33\n",
      "|   |   |   |   |   |   |   |--- W__numnum <= 0.32\n",
      "|   |   |   |   |   |   |   |   |--- W__numnumnumnumncov <= 0.05\n",
      "|   |   |   |   |   |   |   |   |   |--- W__happen <= 0.30\n",
      "|   |   |   |   |   |   |   |   |   |   |--- W__sad <= 0.40\n",
      "|   |   |   |   |   |   |   |   |   |   |   |--- truncated branch of depth 90\n",
      "|   |   |   |   |   |   |   |   |   |   |--- W__sad >  0.40\n",
      "|   |   |   |   |   |   |   |   |   |   |   |--- class: 1.0\n",
      "|   |   |   |   |   |   |   |   |   |--- W__happen >  0.30\n",
      "|   |   |   |   |   |   |   |   |   |   |--- class: 1.0\n",
      "|   |   |   |   |   |   |   |   |--- W__numnumnumnumncov >  0.05\n",
      "|   |   |   |   |   |   |   |   |   |--- W__stop <= 0.25\n",
      "|   |   |   |   |   |   |   |   |   |   |--- class: 0.0\n",
      "|   |   |   |   |   |   |   |   |   |--- W__stop >  0.25\n",
      "|   |   |   |   |   |   |   |   |   |   |--- class: 1.0\n",
      "|   |   |   |   |   |   |   |--- W__numnum >  0.32\n",
      "|   |   |   |   |   |   |   |   |--- W__let <= 0.10\n",
      "|   |   |   |   |   |   |   |   |   |--- class: 1.0\n",
      "|   |   |   |   |   |   |   |   |--- W__let >  0.10\n",
      "|   |   |   |   |   |   |   |   |   |--- class: 0.0\n",
      "|   |   |   |   |   |   |--- W__citi >  0.33\n",
      "|   |   |   |   |   |   |   |--- class: 1.0\n",
      "|   |   |   |   |   |--- W__prepar >  0.17\n",
      "|   |   |   |   |   |   |--- class: 1.0\n",
      "|   |   |   |   |--- W__corona >  0.31\n",
      "|   |   |   |   |   |--- class: 1.0\n",
      "|   |   |   |--- W__china coronavirus >  0.16\n",
      "|   |   |   |   |--- W__import <= 0.25\n",
      "|   |   |   |   |   |--- W__sar <= 0.12\n",
      "|   |   |   |   |   |   |--- W__china <= 0.35\n",
      "|   |   |   |   |   |   |   |--- class: 1.0\n",
      "|   |   |   |   |   |   |--- W__china >  0.35\n",
      "|   |   |   |   |   |   |   |--- class: 0.0\n",
      "|   |   |   |   |   |--- W__sar >  0.12\n",
      "|   |   |   |   |   |   |--- class: 0.0\n",
      "|   |   |   |   |--- W__import >  0.25\n",
      "|   |   |   |   |   |--- class: 0.0\n",
      "|   |   |--- W__wuhan virus >  0.16\n",
      "|   |   |   |--- class: 1.0\n",
      "|   |--- W__ve >  0.07\n",
      "|   |   |--- W__campashland <= 0.16\n",
      "|   |   |   |--- W__trade <= 0.25\n",
      "|   |   |   |   |--- W__case v <= 0.08\n",
      "|   |   |   |   |   |--- class: 1.0\n",
      "|   |   |   |   |--- W__case v >  0.08\n",
      "|   |   |   |   |   |--- class: 1.0\n",
      "|   |   |   |--- W__trade >  0.25\n",
      "|   |   |   |   |--- class: 0.0\n",
      "|   |   |--- W__campashland >  0.16\n",
      "|   |   |   |--- class: 0.0\n",
      "|--- W__infect >  0.05\n",
      "|   |--- W__coronavirus <= 0.12\n",
      "|   |   |--- W__right <= 0.14\n",
      "|   |   |   |--- W__outbreak <= 0.04\n",
      "|   |   |   |   |--- W__ago <= 0.14\n",
      "|   |   |   |   |   |--- W__china <= 0.14\n",
      "|   |   |   |   |   |   |--- W__numnumnum met <= 0.07\n",
      "|   |   |   |   |   |   |   |--- class: 1.0\n",
      "|   |   |   |   |   |   |--- W__numnumnum met >  0.07\n",
      "|   |   |   |   |   |   |   |--- class: 1.0\n",
      "|   |   |   |   |   |--- W__china >  0.14\n",
      "|   |   |   |   |   |   |--- W__china seep <= 0.10\n",
      "|   |   |   |   |   |   |   |--- class: 0.0\n",
      "|   |   |   |   |   |   |--- W__china seep >  0.10\n",
      "|   |   |   |   |   |   |   |--- class: 0.0\n",
      "|   |   |   |   |--- W__ago >  0.14\n",
      "|   |   |   |   |   |--- W__countri <= 0.12\n",
      "|   |   |   |   |   |   |--- class: 0.0\n",
      "|   |   |   |   |   |--- W__countri >  0.12\n",
      "|   |   |   |   |   |   |--- class: 0.0\n",
      "|   |   |   |--- W__outbreak >  0.04\n",
      "|   |   |   |   |--- W__medics coronavirus <= 0.14\n",
      "|   |   |   |   |   |--- class: 0.0\n",
      "|   |   |   |   |--- W__medics coronavirus >  0.14\n",
      "|   |   |   |   |   |--- class: 0.0\n",
      "|   |   |--- W__right >  0.14\n",
      "|   |   |   |--- class: 0.0\n",
      "|   |--- W__coronavirus >  0.12\n",
      "|   |   |--- class: 0.0\n",
      "\n"
     ]
    }
   ],
   "source": [
    "r = export_text(dt_trained, feature_names=feature_names)\n",
    "print(r)"
   ]
  },
  {
   "cell_type": "code",
   "execution_count": 76,
   "metadata": {},
   "outputs": [
    {
     "name": "stdout",
     "output_type": "stream",
     "text": [
      "                precision    recall  f1-score   support\n",
      "\n",
      "Non-Conspiracy       0.88      0.95      0.91       519\n",
      "    Conspiracy       0.90      0.78      0.84       311\n",
      "\n",
      "      accuracy                           0.89       830\n",
      "     macro avg       0.89      0.86      0.87       830\n",
      "  weighted avg       0.89      0.89      0.88       830\n",
      "\n",
      "Avg. Accuracy:  0.8855421686746988\n"
     ]
    }
   ],
   "source": [
    "## Training Confusion Matrix\n",
    "y_pred = dt_trained.predict(X_train)\n",
    "print_classification_result(y_train, y_pred)"
   ]
  },
  {
   "cell_type": "code",
   "execution_count": 77,
   "metadata": {},
   "outputs": [
    {
     "name": "stdout",
     "output_type": "stream",
     "text": [
      "                precision    recall  f1-score   support\n",
      "\n",
      "Non-Conspiracy       0.68      0.71      0.70       228\n",
      "    Conspiracy       0.44      0.40      0.42       129\n",
      "\n",
      "      accuracy                           0.60       357\n",
      "     macro avg       0.56      0.56      0.56       357\n",
      "  weighted avg       0.59      0.60      0.59       357\n",
      "\n",
      "Avg. Accuracy:  0.5994397759103641\n"
     ]
    }
   ],
   "source": [
    "## Testing Confusion Matrix\n",
    "y_pred = dt_trained.predict(X_test)\n",
    "print_classification_result(y_test, y_pred)"
   ]
  },
  {
   "cell_type": "code",
   "execution_count": 96,
   "metadata": {},
   "outputs": [],
   "source": [
    "## Boosting Performance\n",
    "from sklearn.ensemble import GradientBoostingClassifier\n",
    "from sklearn.metrics import precision_score, recall_score"
   ]
  },
  {
   "cell_type": "code",
   "execution_count": 145,
   "metadata": {},
   "outputs": [],
   "source": [
    "score_list = []\n",
    "for steps in range(100, 160, 10):\n",
    "    scores = {}\n",
    "    scores['count'] = steps\n",
    "    scores['accuracy'] = accuracy_score(GradientBoostingClassifier(n_estimators=steps).fit(X_train, y_train).predict(X_test), y_pred)\n",
    "    scores['precision'] = precision_score(GradientBoostingClassifier(n_estimators=steps).fit(X_train, y_train).predict(X_test), y_pred)\n",
    "    scores['recall'] = recall_score(GradientBoostingClassifier(n_estimators=steps).fit(X_train, y_train).predict(X_test), y_pred)\n",
    "    score_list.append(scores)"
   ]
  },
  {
   "cell_type": "code",
   "execution_count": 146,
   "metadata": {},
   "outputs": [],
   "source": [
    "score_df = pd.DataFrame(score_list)"
   ]
  },
  {
   "cell_type": "code",
   "execution_count": 147,
   "metadata": {},
   "outputs": [
    {
     "data": {
      "text/html": [
       "<div>\n",
       "<style scoped>\n",
       "    .dataframe tbody tr th:only-of-type {\n",
       "        vertical-align: middle;\n",
       "    }\n",
       "\n",
       "    .dataframe tbody tr th {\n",
       "        vertical-align: top;\n",
       "    }\n",
       "\n",
       "    .dataframe thead th {\n",
       "        text-align: right;\n",
       "    }\n",
       "</style>\n",
       "<table border=\"1\" class=\"dataframe\">\n",
       "  <thead>\n",
       "    <tr style=\"text-align: right;\">\n",
       "      <th></th>\n",
       "      <th>count</th>\n",
       "      <th>accuracy</th>\n",
       "      <th>precision</th>\n",
       "      <th>recall</th>\n",
       "    </tr>\n",
       "  </thead>\n",
       "  <tbody>\n",
       "    <tr>\n",
       "      <th>0</th>\n",
       "      <td>100</td>\n",
       "      <td>0.809524</td>\n",
       "      <td>0.465517</td>\n",
       "      <td>0.868852</td>\n",
       "    </tr>\n",
       "    <tr>\n",
       "      <th>1</th>\n",
       "      <td>110</td>\n",
       "      <td>0.789916</td>\n",
       "      <td>0.465517</td>\n",
       "      <td>0.866667</td>\n",
       "    </tr>\n",
       "    <tr>\n",
       "      <th>2</th>\n",
       "      <td>120</td>\n",
       "      <td>0.806723</td>\n",
       "      <td>0.508621</td>\n",
       "      <td>0.828571</td>\n",
       "    </tr>\n",
       "    <tr>\n",
       "      <th>3</th>\n",
       "      <td>130</td>\n",
       "      <td>0.823529</td>\n",
       "      <td>0.500000</td>\n",
       "      <td>0.789474</td>\n",
       "    </tr>\n",
       "    <tr>\n",
       "      <th>4</th>\n",
       "      <td>140</td>\n",
       "      <td>0.803922</td>\n",
       "      <td>0.534483</td>\n",
       "      <td>0.867647</td>\n",
       "    </tr>\n",
       "    <tr>\n",
       "      <th>5</th>\n",
       "      <td>150</td>\n",
       "      <td>0.815126</td>\n",
       "      <td>0.534483</td>\n",
       "      <td>0.830986</td>\n",
       "    </tr>\n",
       "  </tbody>\n",
       "</table>\n",
       "</div>"
      ],
      "text/plain": [
       "   count  accuracy  precision    recall\n",
       "0    100  0.809524   0.465517  0.868852\n",
       "1    110  0.789916   0.465517  0.866667\n",
       "2    120  0.806723   0.508621  0.828571\n",
       "3    130  0.823529   0.500000  0.789474\n",
       "4    140  0.803922   0.534483  0.867647\n",
       "5    150  0.815126   0.534483  0.830986"
      ]
     },
     "execution_count": 147,
     "metadata": {},
     "output_type": "execute_result"
    }
   ],
   "source": [
    "score_df"
   ]
  },
  {
   "cell_type": "code",
   "execution_count": 100,
   "metadata": {},
   "outputs": [],
   "source": [
    "import matplotlib.pyplot as plt"
   ]
  },
  {
   "cell_type": "code",
   "execution_count": 112,
   "metadata": {},
   "outputs": [
    {
     "data": {
      "image/png": "[encoded data removed]",
      "text/plain": [
       "<Figure size 432x288 with 3 Axes>"
      ]
     },
     "metadata": {
      "needs_background": "light"
     },
     "output_type": "display_data"
    }
   ],
   "source": [
    "fig, (ax1, ax2, ax3) = plt.subplots(1, 3)\n",
    "fig.suptitle('Performance Comaprison of Boosting', va='bottom')\n",
    "ax1.plot(score_df['count'], score_df['accuracy'])\n",
    "ax2.plot(score_df['count'], score_df['precision'])\n",
    "ax3.plot(score_df['count'], score_df['recall'])\n",
    "ax1.set_title('Accuracy')\n",
    "ax2.set_title('Precision')\n",
    "ax3.set_title('Recall')\n",
    "fig.tight_layout()"
   ]
  },
  {
   "cell_type": "code",
   "execution_count": 115,
   "metadata": {},
   "outputs": [],
   "source": [
    "## Bagging\n",
    "from sklearn.ensemble import BaggingClassifier"
   ]
  },
  {
   "cell_type": "code",
   "execution_count": 144,
   "metadata": {},
   "outputs": [
    {
     "data": {
      "text/html": [
       "<div>\n",
       "<style scoped>\n",
       "    .dataframe tbody tr th:only-of-type {\n",
       "        vertical-align: middle;\n",
       "    }\n",
       "\n",
       "    .dataframe tbody tr th {\n",
       "        vertical-align: top;\n",
       "    }\n",
       "\n",
       "    .dataframe thead th {\n",
       "        text-align: right;\n",
       "    }\n",
       "</style>\n",
       "<table border=\"1\" class=\"dataframe\">\n",
       "  <thead>\n",
       "    <tr style=\"text-align: right;\">\n",
       "      <th></th>\n",
       "      <th>count</th>\n",
       "      <th>accuracy</th>\n",
       "      <th>precision</th>\n",
       "      <th>recall</th>\n",
       "    </tr>\n",
       "  </thead>\n",
       "  <tbody>\n",
       "    <tr>\n",
       "      <th>0</th>\n",
       "      <td>100</td>\n",
       "      <td>0.840336</td>\n",
       "      <td>0.646552</td>\n",
       "      <td>0.812500</td>\n",
       "    </tr>\n",
       "    <tr>\n",
       "      <th>1</th>\n",
       "      <td>110</td>\n",
       "      <td>0.865546</td>\n",
       "      <td>0.672414</td>\n",
       "      <td>0.898876</td>\n",
       "    </tr>\n",
       "    <tr>\n",
       "      <th>2</th>\n",
       "      <td>120</td>\n",
       "      <td>0.854342</td>\n",
       "      <td>0.715517</td>\n",
       "      <td>0.843750</td>\n",
       "    </tr>\n",
       "    <tr>\n",
       "      <th>3</th>\n",
       "      <td>130</td>\n",
       "      <td>0.868347</td>\n",
       "      <td>0.663793</td>\n",
       "      <td>0.831579</td>\n",
       "    </tr>\n",
       "    <tr>\n",
       "      <th>4</th>\n",
       "      <td>140</td>\n",
       "      <td>0.840336</td>\n",
       "      <td>0.681034</td>\n",
       "      <td>0.826087</td>\n",
       "    </tr>\n",
       "    <tr>\n",
       "      <th>5</th>\n",
       "      <td>150</td>\n",
       "      <td>0.840336</td>\n",
       "      <td>0.637931</td>\n",
       "      <td>0.852273</td>\n",
       "    </tr>\n",
       "  </tbody>\n",
       "</table>\n",
       "</div>"
      ],
      "text/plain": [
       "   count  accuracy  precision    recall\n",
       "0    100  0.840336   0.646552  0.812500\n",
       "1    110  0.865546   0.672414  0.898876\n",
       "2    120  0.854342   0.715517  0.843750\n",
       "3    130  0.868347   0.663793  0.831579\n",
       "4    140  0.840336   0.681034  0.826087\n",
       "5    150  0.840336   0.637931  0.852273"
      ]
     },
     "execution_count": 144,
     "metadata": {},
     "output_type": "execute_result"
    }
   ],
   "source": [
    "score_list = []\n",
    "for steps in range(100, 160, 10):\n",
    "    scores = {}\n",
    "    scores['count'] = steps\n",
    "    scores['accuracy'] = accuracy_score(BaggingClassifier(n_estimators=steps).fit(X_train, y_train).predict(X_test), y_pred)\n",
    "    scores['precision'] = precision_score(BaggingClassifier(n_estimators=steps).fit(X_train, y_train).predict(X_test), y_pred)\n",
    "    scores['recall'] = recall_score(BaggingClassifier(n_estimators=steps).fit(X_train, y_train).predict(X_test), y_pred)\n",
    "    score_list.append(scores)\n",
    "score_df = pd.DataFrame(score_list)\n",
    "score_df"
   ]
  },
  {
   "cell_type": "code",
   "execution_count": 117,
   "metadata": {},
   "outputs": [
    {
     "data": {
      "image/png": "[encoded data removed]",
      "text/plain": [
       "<Figure size 432x288 with 3 Axes>"
      ]
     },
     "metadata": {
      "needs_background": "light"
     },
     "output_type": "display_data"
    }
   ],
   "source": [
    "fig, (ax1, ax2, ax3) = plt.subplots(1, 3)\n",
    "fig.suptitle('Performance Comaprison of Boosting', va='bottom')\n",
    "ax1.plot(score_df['count'], score_df['accuracy'])\n",
    "ax2.plot(score_df['count'], score_df['precision'])\n",
    "ax3.plot(score_df['count'], score_df['recall'])\n",
    "ax1.set_title('Accuracy')\n",
    "ax2.set_title('Precision')\n",
    "ax3.set_title('Recall')\n",
    "fig.tight_layout()"
   ]
  },
  {
   "cell_type": "code",
   "execution_count": 118,
   "metadata": {},
   "outputs": [],
   "source": [
    "## Random Forest"
   ]
  },
  {
   "cell_type": "code",
   "execution_count": 139,
   "metadata": {},
   "outputs": [],
   "source": [
    "score_list = []\n",
    "for steps in range(100, 160, 10):\n",
    "    scores = {}\n",
    "    scores['count'] = steps\n",
    "    scores['accuracy'] = accuracy_score(RandomForestClassifier(n_estimators=steps).fit(X_train, y_train).predict(X_test), y_pred)\n",
    "    scores['precision'] = precision_score(RandomForestClassifier(n_estimators=steps).fit(X_train, y_train).predict(X_test), y_pred)\n",
    "    scores['recall'] = recall_score(RandomForestClassifier(n_estimators=steps).fit(X_train, y_train).predict(X_test), y_pred)\n",
    "    score_list.append(scores)\n",
    "score_df = pd.DataFrame(score_list)"
   ]
  },
  {
   "cell_type": "code",
   "execution_count": 142,
   "metadata": {},
   "outputs": [
    {
     "data": {
      "text/html": [
       "<div>\n",
       "<style scoped>\n",
       "    .dataframe tbody tr th:only-of-type {\n",
       "        vertical-align: middle;\n",
       "    }\n",
       "\n",
       "    .dataframe tbody tr th {\n",
       "        vertical-align: top;\n",
       "    }\n",
       "\n",
       "    .dataframe thead th {\n",
       "        text-align: right;\n",
       "    }\n",
       "</style>\n",
       "<table border=\"1\" class=\"dataframe\">\n",
       "  <thead>\n",
       "    <tr style=\"text-align: right;\">\n",
       "      <th></th>\n",
       "      <th>count</th>\n",
       "      <th>accuracy</th>\n",
       "      <th>precision</th>\n",
       "      <th>recall</th>\n",
       "    </tr>\n",
       "  </thead>\n",
       "  <tbody>\n",
       "    <tr>\n",
       "      <th>0</th>\n",
       "      <td>100</td>\n",
       "      <td>0.789916</td>\n",
       "      <td>0.474138</td>\n",
       "      <td>0.803030</td>\n",
       "    </tr>\n",
       "    <tr>\n",
       "      <th>1</th>\n",
       "      <td>110</td>\n",
       "      <td>0.789916</td>\n",
       "      <td>0.448276</td>\n",
       "      <td>0.880597</td>\n",
       "    </tr>\n",
       "    <tr>\n",
       "      <th>2</th>\n",
       "      <td>120</td>\n",
       "      <td>0.803922</td>\n",
       "      <td>0.474138</td>\n",
       "      <td>0.809524</td>\n",
       "    </tr>\n",
       "    <tr>\n",
       "      <th>3</th>\n",
       "      <td>130</td>\n",
       "      <td>0.798319</td>\n",
       "      <td>0.431034</td>\n",
       "      <td>0.789474</td>\n",
       "    </tr>\n",
       "    <tr>\n",
       "      <th>4</th>\n",
       "      <td>140</td>\n",
       "      <td>0.823529</td>\n",
       "      <td>0.491379</td>\n",
       "      <td>0.777778</td>\n",
       "    </tr>\n",
       "    <tr>\n",
       "      <th>5</th>\n",
       "      <td>150</td>\n",
       "      <td>0.789916</td>\n",
       "      <td>0.448276</td>\n",
       "      <td>0.820896</td>\n",
       "    </tr>\n",
       "  </tbody>\n",
       "</table>\n",
       "</div>"
      ],
      "text/plain": [
       "   count  accuracy  precision    recall\n",
       "0    100  0.789916   0.474138  0.803030\n",
       "1    110  0.789916   0.448276  0.880597\n",
       "2    120  0.803922   0.474138  0.809524\n",
       "3    130  0.798319   0.431034  0.789474\n",
       "4    140  0.823529   0.491379  0.777778\n",
       "5    150  0.789916   0.448276  0.820896"
      ]
     },
     "execution_count": 142,
     "metadata": {},
     "output_type": "execute_result"
    }
   ],
   "source": [
    "score_df"
   ]
  },
  {
   "cell_type": "code",
   "execution_count": 141,
   "metadata": {},
   "outputs": [
    {
     "data": {
      "text/plain": [
       "Text(0.5, 1.0, 'Recall')"
      ]
     },
     "execution_count": 141,
     "metadata": {},
     "output_type": "execute_result"
    },
    {
     "data": {
      "image/png": "[encoded data removed]",
      "text/plain": [
       "<Figure size 432x288 with 3 Axes>"
      ]
     },
     "metadata": {},
     "output_type": "display_data"
    }
   ],
   "source": [
    "fig, (ax1, ax2, ax3) = plt.subplots(1, 3)\n",
    "fig.suptitle('Performance Comaprison of Random Forest', va='bottom')\n",
    "ax1.plot(score_df['count'], score_df['accuracy'])\n",
    "ax2.plot(score_df['count'], score_df['precision'])\n",
    "ax3.plot(score_df['count'], score_df['recall'])\n",
    "ax1.set_title('Accuracy')\n",
    "ax2.set_title('Precision')\n",
    "ax3.set_title('Recall')\n",
    "# fig.tight_layout()"
   ]
  },
  {
   "cell_type": "code",
   "execution_count": 143,
   "metadata": {
    "scrolled": true
   },
   "outputs": [
    {
     "name": "stdout",
     "output_type": "stream",
     "text": [
      "=============For Tree Count 100 ===================\n",
      "W__coronavirus\n",
      "W__china coronavirus\n",
      "W__china\n",
      "W__think\n",
      "W__peopl\n",
      "W__latest\n",
      "W__happen\n",
      "W__infect\n",
      "W__news\n",
      "W__chines\n",
      "=============For Tree Count 110 ===================\n",
      "W__coronavirus\n",
      "W__infect\n",
      "W__china coronavirus\n",
      "W__china\n",
      "W__happen\n",
      "W__latest\n",
      "W__think\n",
      "W__news\n",
      "W__world\n",
      "W__peopl\n",
      "=============For Tree Count 120 ===================\n",
      "W__coronavirus\n",
      "W__china\n",
      "W__peopl\n",
      "W__chines\n",
      "W__news\n",
      "W__infect\n",
      "W__china coronavirus\n",
      "W__corona\n",
      "W__happen\n",
      "W__don\n",
      "=============For Tree Count 130 ===================\n",
      "W__coronavirus\n",
      "W__china\n",
      "W__china coronavirus\n",
      "W__think\n",
      "W__news\n",
      "W__peopl\n",
      "W__happen\n",
      "W__chines\n",
      "W__world\n",
      "W__infect\n",
      "=============For Tree Count 140 ===================\n",
      "W__coronavirus\n",
      "W__infect\n",
      "W__china coronavirus\n",
      "W__peopl\n",
      "W__china\n",
      "W__chines\n",
      "W__world\n",
      "W__happen\n",
      "W__latest\n",
      "W__news\n",
      "=============For Tree Count 150 ===================\n",
      "W__coronavirus\n",
      "W__china\n",
      "W__infect\n",
      "W__china coronavirus\n",
      "W__news\n",
      "W__happen\n",
      "W__latest\n",
      "W__think\n",
      "W__chines\n",
      "W__corona\n"
     ]
    }
   ],
   "source": [
    "for step in [100,110,120,130, 140, 150]:\n",
    "    clf = RandomForestClassifier(n_estimators=step)\n",
    "    clf.fit(X_train, y_train)\n",
    "    importances = clf.feature_importances_\n",
    "    std = np.std([tree.feature_importances_ for tree in clf.estimators_], axis=0)\n",
    "    indices = np.argsort(importances)[::-1]\n",
    "    best_10 = indices[0:10]\n",
    "    print(\"=============For Tree Count \" + str(step) + \" ===================\")\n",
    "    for i in best_10:\n",
    "        print(feature_names[i])"
   ]
  },
  {
   "cell_type": "code",
   "execution_count": null,
   "metadata": {},
   "outputs": [],
   "source": []
  },
  {
   "cell_type": "code",
   "execution_count": null,
   "metadata": {},
   "outputs": [],
   "source": [
    "def categorize_label(row):\n",
    "    if row['FCFR'].lower() == 'relieving':\n",
    "        row['FCFR'] = 0\n",
    "    else:\n",
    "        row['FCFR'] = 1\n",
    "    return row\n",
    "data = data.apply(lambda row: categorize_label(row), axis =1)"
   ]
  }
 ],
 "metadata": {
  "kernelspec": {
   "display_name": "Python 3",
   "language": "python",
   "name": "python3"
  },
  "language_info": {
   "codemirror_mode": {
    "name": "ipython",
    "version": 3
   },
   "file_extension": ".py",
   "mimetype": "text/x-python",
   "name": "python",
   "nbconvert_exporter": "python",
   "pygments_lexer": "ipython3",
   "version": "3.8.2"
  }
 },
 "nbformat": 4,
 "nbformat_minor": 2
}
