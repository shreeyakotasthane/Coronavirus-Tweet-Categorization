{
 "cells": [
  {
   "cell_type": "code",
   "execution_count": 2,
   "metadata": {},
   "outputs": [],
   "source": [
    "import pandas as pd\n",
    "import re\n",
    "import numpy as np\n",
    "import snowballstemmer\n",
    "from sklearn.feature_extraction.text import TfidfVectorizer\n",
    "import preprocessor as p\n",
    "from sklearn.feature_extraction.text import TfidfVectorizer\n",
    "from sklearn.metrics import classification_report, accuracy_score, make_scorer\n",
    "from sklearn.model_selection import StratifiedKFold\n",
    "from sklearn.linear_model import LogisticRegression\n",
    "from sklearn.ensemble import RandomForestClassifier\n",
    "from sklearn.naive_bayes import MultinomialNB\n",
    "from sklearn.svm import LinearSVC\n",
    "from sklearn.tree import DecisionTreeClassifier\n",
    "import matplotlib.pyplot as plt\n",
    "from sklearn.model_selection import cross_val_score"
   ]
  },
  {
   "cell_type": "code",
   "execution_count": 7,
   "metadata": {},
   "outputs": [
    {
     "data": {
      "text/plain": [
       "501"
      ]
     },
     "execution_count": 7,
     "metadata": {},
     "output_type": "execute_result"
    }
   ],
   "source": [
    "data = pd.read_csv(\"tweet_Categorized_500.csv\", encoding='utf-8', index_col=False)\n",
    "len(data)"
   ]
  },
  {
   "cell_type": "code",
   "execution_count": 16,
   "metadata": {},
   "outputs": [],
   "source": [
    "def categorize_label(row):\n",
    "    if row['FCFR'].lower() == 'relieving':\n",
    "        row['FCFR'] = 0\n",
    "    else:\n",
    "        row['FCFR'] = 1\n",
    "    return row\n",
    "data = data.apply(lambda row: categorize_label(row), axis =1)"
   ]
  },
  {
   "cell_type": "code",
   "execution_count": 17,
   "metadata": {},
   "outputs": [
    {
     "data": {
      "text/plain": [
       "Index(['text', 'FCFR', 'filtered_tweet'], dtype='object')"
      ]
     },
     "execution_count": 17,
     "metadata": {},
     "output_type": "execute_result"
    }
   ],
   "source": [
    "data.columns"
   ]
  },
  {
   "cell_type": "code",
   "execution_count": 18,
   "metadata": {},
   "outputs": [],
   "source": [
    "p.set_options(p.OPT.URL, p.OPT.EMOJI, p.OPT.SMILEY)"
   ]
  },
  {
   "cell_type": "code",
   "execution_count": 19,
   "metadata": {},
   "outputs": [],
   "source": [
    "def clean_tweet(row):\n",
    "    text = p.clean(row['text'])\n",
    "    row['filtered_tweet'] = re.sub('\\d', 'NUM', text)\n",
    "    return row"
   ]
  },
  {
   "cell_type": "code",
   "execution_count": 20,
   "metadata": {},
   "outputs": [],
   "source": [
    "data = data.apply(lambda row: clean_tweet(row), axis =1)"
   ]
  },
  {
   "cell_type": "code",
   "execution_count": 21,
   "metadata": {},
   "outputs": [
    {
     "data": {
      "text/plain": [
       "501"
      ]
     },
     "execution_count": 21,
     "metadata": {},
     "output_type": "execute_result"
    }
   ],
   "source": [
    "data = data[pd.notnull(data['filtered_tweet'])]\n",
    "data = data[pd.notnull(data['FCFR'])]\n",
    "len(data)"
   ]
  },
  {
   "cell_type": "code",
   "execution_count": 22,
   "metadata": {},
   "outputs": [
    {
     "data": {
      "text/plain": [
       "1    251\n",
       "0    250\n",
       "Name: FCFR, dtype: int64"
      ]
     },
     "execution_count": 22,
     "metadata": {},
     "output_type": "execute_result"
    }
   ],
   "source": [
    "data['FCFR'].value_counts()"
   ]
  },
  {
   "cell_type": "code",
   "execution_count": 23,
   "metadata": {},
   "outputs": [
    {
     "data": {
      "text/html": [
       "<div>\n",
       "<style scoped>\n",
       "    .dataframe tbody tr th:only-of-type {\n",
       "        vertical-align: middle;\n",
       "    }\n",
       "\n",
       "    .dataframe tbody tr th {\n",
       "        vertical-align: top;\n",
       "    }\n",
       "\n",
       "    .dataframe thead th {\n",
       "        text-align: right;\n",
       "    }\n",
       "</style>\n",
       "<table border=\"1\" class=\"dataframe\">\n",
       "  <thead>\n",
       "    <tr style=\"text-align: right;\">\n",
       "      <th></th>\n",
       "      <th>text</th>\n",
       "      <th>FCFR</th>\n",
       "      <th>filtered_tweet</th>\n",
       "    </tr>\n",
       "  </thead>\n",
       "  <tbody>\n",
       "    <tr>\n",
       "      <th>0</th>\n",
       "      <td>If we can get through this, I imagine, the wor...</td>\n",
       "      <td>0</td>\n",
       "      <td>If we can get through this, I imagine, the wor...</td>\n",
       "    </tr>\n",
       "    <tr>\n",
       "      <th>1</th>\n",
       "      <td>next stop - The Morgue</td>\n",
       "      <td>1</td>\n",
       "      <td>next stop - The Morgue</td>\n",
       "    </tr>\n",
       "    <tr>\n",
       "      <th>2</th>\n",
       "      <td>In addition to hospitals, Wuhan’s local commun...</td>\n",
       "      <td>0</td>\n",
       "      <td>In addition to hospitals, Wuhan’s local commun...</td>\n",
       "    </tr>\n",
       "    <tr>\n",
       "      <th>3</th>\n",
       "      <td>' #Coronavirus outbreak will have negative eco...</td>\n",
       "      <td>1</td>\n",
       "      <td>' #Coronavirus outbreak will have negative eco...</td>\n",
       "    </tr>\n",
       "    <tr>\n",
       "      <th>4</th>\n",
       "      <td>What we do know so far about corona virus outb...</td>\n",
       "      <td>0</td>\n",
       "      <td>What we do know so far about corona virus outb...</td>\n",
       "    </tr>\n",
       "  </tbody>\n",
       "</table>\n",
       "</div>"
      ],
      "text/plain": [
       "                                                text  FCFR  \\\n",
       "0  If we can get through this, I imagine, the wor...     0   \n",
       "1                             next stop - The Morgue     1   \n",
       "2  In addition to hospitals, Wuhan’s local commun...     0   \n",
       "3  ' #Coronavirus outbreak will have negative eco...     1   \n",
       "4  What we do know so far about corona virus outb...     0   \n",
       "\n",
       "                                      filtered_tweet  \n",
       "0  If we can get through this, I imagine, the wor...  \n",
       "1                             next stop - The Morgue  \n",
       "2  In addition to hospitals, Wuhan’s local commun...  \n",
       "3  ' #Coronavirus outbreak will have negative eco...  \n",
       "4  What we do know so far about corona virus outb...  "
      ]
     },
     "execution_count": 23,
     "metadata": {},
     "output_type": "execute_result"
    }
   ],
   "source": [
    "data.head()\n"
   ]
  },
  {
   "cell_type": "code",
   "execution_count": 24,
   "metadata": {},
   "outputs": [],
   "source": [
    "english_stemmer = snowballstemmer.stemmer('english')\n",
    "class StemmedTfidfVectorizer(TfidfVectorizer):\n",
    "    def build_analyzer(self):\n",
    "        analyzer = super(TfidfVectorizer, self).build_analyzer()\n",
    "        return lambda doc: english_stemmer.stemWords(analyzer(doc))"
   ]
  },
  {
   "cell_type": "code",
   "execution_count": 25,
   "metadata": {},
   "outputs": [],
   "source": [
    "tfidf_vect = StemmedTfidfVectorizer(min_df=5, stop_words='english', analyzer='word', ngram_range=(1,2), max_features=2500, norm='l2', encoding='utf-8')"
   ]
  },
  {
   "cell_type": "code",
   "execution_count": 26,
   "metadata": {},
   "outputs": [],
   "source": [
    "sentence_term_tfidf = tfidf_vect.fit_transform(data['filtered_tweet'])\n",
    "sentence_term_df = pd.DataFrame(sentence_term_tfidf.todense(), columns=np.sort(list(tfidf_vect.vocabulary_.keys())))\n",
    "sentence_term_df.columns = sentence_term_df.columns.map(lambda x: 'W_'+'_'+x)"
   ]
  },
  {
   "cell_type": "code",
   "execution_count": 27,
   "metadata": {},
   "outputs": [
    {
     "data": {
      "text/html": [
       "<div>\n",
       "<style scoped>\n",
       "    .dataframe tbody tr th:only-of-type {\n",
       "        vertical-align: middle;\n",
       "    }\n",
       "\n",
       "    .dataframe tbody tr th {\n",
       "        vertical-align: top;\n",
       "    }\n",
       "\n",
       "    .dataframe thead th {\n",
       "        text-align: right;\n",
       "    }\n",
       "</style>\n",
       "<table border=\"1\" class=\"dataframe\">\n",
       "  <thead>\n",
       "    <tr style=\"text-align: right;\">\n",
       "      <th></th>\n",
       "      <th>W__air</th>\n",
       "      <th>W__amid</th>\n",
       "      <th>W__amp</th>\n",
       "      <th>W__anim</th>\n",
       "      <th>W__antivir</th>\n",
       "      <th>W__appar</th>\n",
       "      <th>W__appreci</th>\n",
       "      <th>W__articl</th>\n",
       "      <th>W__author</th>\n",
       "      <th>W__avoid</th>\n",
       "      <th>...</th>\n",
       "      <th>W__warn</th>\n",
       "      <th>W__way</th>\n",
       "      <th>W__week</th>\n",
       "      <th>W__won</th>\n",
       "      <th>W__work</th>\n",
       "      <th>W__worker</th>\n",
       "      <th>W__world</th>\n",
       "      <th>W__wuhan</th>\n",
       "      <th>W__wuhan coronavirus</th>\n",
       "      <th>W__wuhancoronavirus</th>\n",
       "    </tr>\n",
       "  </thead>\n",
       "  <tbody>\n",
       "    <tr>\n",
       "      <th>0</th>\n",
       "      <td>0.0</td>\n",
       "      <td>0.0</td>\n",
       "      <td>0.0</td>\n",
       "      <td>0.0</td>\n",
       "      <td>0.0</td>\n",
       "      <td>0.0</td>\n",
       "      <td>0.0</td>\n",
       "      <td>0.0</td>\n",
       "      <td>0.0</td>\n",
       "      <td>0.0</td>\n",
       "      <td>...</td>\n",
       "      <td>0.0</td>\n",
       "      <td>0.0</td>\n",
       "      <td>0.0</td>\n",
       "      <td>0.0</td>\n",
       "      <td>0.0</td>\n",
       "      <td>0.0</td>\n",
       "      <td>0.613462</td>\n",
       "      <td>0.000000</td>\n",
       "      <td>0.0</td>\n",
       "      <td>0.0</td>\n",
       "    </tr>\n",
       "    <tr>\n",
       "      <th>1</th>\n",
       "      <td>0.0</td>\n",
       "      <td>0.0</td>\n",
       "      <td>0.0</td>\n",
       "      <td>0.0</td>\n",
       "      <td>0.0</td>\n",
       "      <td>0.0</td>\n",
       "      <td>0.0</td>\n",
       "      <td>0.0</td>\n",
       "      <td>0.0</td>\n",
       "      <td>0.0</td>\n",
       "      <td>...</td>\n",
       "      <td>0.0</td>\n",
       "      <td>0.0</td>\n",
       "      <td>0.0</td>\n",
       "      <td>0.0</td>\n",
       "      <td>0.0</td>\n",
       "      <td>0.0</td>\n",
       "      <td>0.000000</td>\n",
       "      <td>0.000000</td>\n",
       "      <td>0.0</td>\n",
       "      <td>0.0</td>\n",
       "    </tr>\n",
       "    <tr>\n",
       "      <th>2</th>\n",
       "      <td>0.0</td>\n",
       "      <td>0.0</td>\n",
       "      <td>0.0</td>\n",
       "      <td>0.0</td>\n",
       "      <td>0.0</td>\n",
       "      <td>0.0</td>\n",
       "      <td>0.0</td>\n",
       "      <td>0.0</td>\n",
       "      <td>0.0</td>\n",
       "      <td>0.0</td>\n",
       "      <td>...</td>\n",
       "      <td>0.0</td>\n",
       "      <td>0.0</td>\n",
       "      <td>0.0</td>\n",
       "      <td>0.0</td>\n",
       "      <td>0.0</td>\n",
       "      <td>0.0</td>\n",
       "      <td>0.000000</td>\n",
       "      <td>0.326707</td>\n",
       "      <td>0.0</td>\n",
       "      <td>0.0</td>\n",
       "    </tr>\n",
       "    <tr>\n",
       "      <th>3</th>\n",
       "      <td>0.0</td>\n",
       "      <td>0.0</td>\n",
       "      <td>0.0</td>\n",
       "      <td>0.0</td>\n",
       "      <td>0.0</td>\n",
       "      <td>0.0</td>\n",
       "      <td>0.0</td>\n",
       "      <td>0.0</td>\n",
       "      <td>0.0</td>\n",
       "      <td>0.0</td>\n",
       "      <td>...</td>\n",
       "      <td>0.0</td>\n",
       "      <td>0.0</td>\n",
       "      <td>0.0</td>\n",
       "      <td>0.0</td>\n",
       "      <td>0.0</td>\n",
       "      <td>0.0</td>\n",
       "      <td>0.000000</td>\n",
       "      <td>0.000000</td>\n",
       "      <td>0.0</td>\n",
       "      <td>0.0</td>\n",
       "    </tr>\n",
       "    <tr>\n",
       "      <th>4</th>\n",
       "      <td>0.0</td>\n",
       "      <td>0.0</td>\n",
       "      <td>0.0</td>\n",
       "      <td>0.0</td>\n",
       "      <td>0.0</td>\n",
       "      <td>0.0</td>\n",
       "      <td>0.0</td>\n",
       "      <td>0.0</td>\n",
       "      <td>0.0</td>\n",
       "      <td>0.0</td>\n",
       "      <td>...</td>\n",
       "      <td>0.0</td>\n",
       "      <td>0.0</td>\n",
       "      <td>0.0</td>\n",
       "      <td>0.0</td>\n",
       "      <td>0.0</td>\n",
       "      <td>0.0</td>\n",
       "      <td>0.000000</td>\n",
       "      <td>0.000000</td>\n",
       "      <td>0.0</td>\n",
       "      <td>0.0</td>\n",
       "    </tr>\n",
       "  </tbody>\n",
       "</table>\n",
       "<p>5 rows × 196 columns</p>\n",
       "</div>"
      ],
      "text/plain": [
       "   W__air  W__amid  W__amp  W__anim  W__antivir  W__appar  W__appreci  \\\n",
       "0     0.0      0.0     0.0      0.0         0.0       0.0         0.0   \n",
       "1     0.0      0.0     0.0      0.0         0.0       0.0         0.0   \n",
       "2     0.0      0.0     0.0      0.0         0.0       0.0         0.0   \n",
       "3     0.0      0.0     0.0      0.0         0.0       0.0         0.0   \n",
       "4     0.0      0.0     0.0      0.0         0.0       0.0         0.0   \n",
       "\n",
       "   W__articl  W__author  W__avoid  ...  W__warn  W__way  W__week  W__won  \\\n",
       "0        0.0        0.0       0.0  ...      0.0     0.0      0.0     0.0   \n",
       "1        0.0        0.0       0.0  ...      0.0     0.0      0.0     0.0   \n",
       "2        0.0        0.0       0.0  ...      0.0     0.0      0.0     0.0   \n",
       "3        0.0        0.0       0.0  ...      0.0     0.0      0.0     0.0   \n",
       "4        0.0        0.0       0.0  ...      0.0     0.0      0.0     0.0   \n",
       "\n",
       "   W__work  W__worker  W__world  W__wuhan  W__wuhan coronavirus  \\\n",
       "0      0.0        0.0  0.613462  0.000000                   0.0   \n",
       "1      0.0        0.0  0.000000  0.000000                   0.0   \n",
       "2      0.0        0.0  0.000000  0.326707                   0.0   \n",
       "3      0.0        0.0  0.000000  0.000000                   0.0   \n",
       "4      0.0        0.0  0.000000  0.000000                   0.0   \n",
       "\n",
       "   W__wuhancoronavirus  \n",
       "0                  0.0  \n",
       "1                  0.0  \n",
       "2                  0.0  \n",
       "3                  0.0  \n",
       "4                  0.0  \n",
       "\n",
       "[5 rows x 196 columns]"
      ]
     },
     "execution_count": 27,
     "metadata": {},
     "output_type": "execute_result"
    }
   ],
   "source": [
    "sentence_term_df.head(5)"
   ]
  },
  {
   "cell_type": "code",
   "execution_count": 28,
   "metadata": {},
   "outputs": [
    {
     "data": {
      "text/plain": [
       "(501, 196)"
      ]
     },
     "execution_count": 28,
     "metadata": {},
     "output_type": "execute_result"
    }
   ],
   "source": [
    "sentence_term_df.shape"
   ]
  },
  {
   "cell_type": "code",
   "execution_count": 29,
   "metadata": {},
   "outputs": [
    {
     "data": {
      "text/plain": [
       "(501,)"
      ]
     },
     "execution_count": 29,
     "metadata": {},
     "output_type": "execute_result"
    }
   ],
   "source": [
    "labels = data['FCFR']\n",
    "labels.shape"
   ]
  },
  {
   "cell_type": "code",
   "execution_count": 30,
   "metadata": {},
   "outputs": [],
   "source": [
    "features = sentence_term_df.values"
   ]
  },
  {
   "cell_type": "code",
   "execution_count": 31,
   "metadata": {},
   "outputs": [
    {
     "data": {
      "text/plain": [
       "(501, 196)"
      ]
     },
     "execution_count": 31,
     "metadata": {},
     "output_type": "execute_result"
    }
   ],
   "source": [
    "features.shape"
   ]
  },
  {
   "cell_type": "code",
   "execution_count": 32,
   "metadata": {},
   "outputs": [],
   "source": [
    "from sklearn.model_selection import train_test_split"
   ]
  },
  {
   "cell_type": "code",
   "execution_count": 33,
   "metadata": {},
   "outputs": [],
   "source": [
    "X_train, X_test, y_train, y_test = train_test_split(features, labels, test_size=0.30, random_state=42)"
   ]
  },
  {
   "cell_type": "code",
   "execution_count": 48,
   "metadata": {},
   "outputs": [],
   "source": [
    "## For printing CLassification report with Accuracy\n",
    "def print_classification_result(y_test, y_pred):\n",
    "    target_names = ['Relieving', 'Causing']\n",
    "    print(classification_report(y_test, y_pred, target_names=target_names))\n",
    "    print('Avg. Accuracy: ', accuracy_score(y_test, y_pred))"
   ]
  },
  {
   "cell_type": "code",
   "execution_count": 49,
   "metadata": {},
   "outputs": [
    {
     "name": "stdout",
     "output_type": "stream",
     "text": [
      "              precision    recall  f1-score   support\n",
      "\n",
      "   Relieving       0.59      0.63      0.61        75\n",
      "     Causing       0.61      0.58      0.59        76\n",
      "\n",
      "    accuracy                           0.60       151\n",
      "   macro avg       0.60      0.60      0.60       151\n",
      "weighted avg       0.60      0.60      0.60       151\n",
      "\n",
      "Avg. Accuracy:  0.6026490066225165\n"
     ]
    }
   ],
   "source": [
    "lg_model = LogisticRegression(random_state=0)\n",
    "lg_trained = lg_model.fit(X_train,y_train)\n",
    "y_pred = lg_trained.predict(X_test)\n",
    "print_classification_result(y_test, y_pred)"
   ]
  },
  {
   "cell_type": "code",
   "execution_count": 53,
   "metadata": {},
   "outputs": [
    {
     "data": {
      "text/plain": [
       "array([-0.05191843])"
      ]
     },
     "execution_count": 53,
     "metadata": {},
     "output_type": "execute_result"
    }
   ],
   "source": [
    "## Intercept\n",
    "lg_trained.intercept_"
   ]
  },
  {
   "cell_type": "code",
   "execution_count": 54,
   "metadata": {},
   "outputs": [
    {
     "data": {
      "text/plain": [
       "array([[ 0.6400924 ,  0.12612982, -0.00602001,  0.16873455, -0.36528916,\n",
       "        -0.24176718, -0.83204749, -0.08142059, -0.00188045, -0.22872449,\n",
       "        -0.18845617,  0.68943531,  0.33426139, -1.64696252,  0.1079049 ,\n",
       "         0.72194476,  0.11973896,  0.49388898, -0.14230423,  0.03500489,\n",
       "         0.21390774,  0.31948302,  0.50474939,  0.34772   ,  0.33484105,\n",
       "         0.14390265, -0.14534198,  0.22412912,  0.31928565, -0.23736626,\n",
       "        -0.01157544,  0.13671222,  0.04327103, -0.35921634,  0.36300005,\n",
       "         0.10420208, -0.49103324,  0.02042435,  0.42254506, -0.18648471,\n",
       "         0.0628528 , -0.20164832,  0.25247924,  0.70450056,  0.83304809,\n",
       "         0.44091207,  0.22369661, -0.08451537, -0.43187253, -0.36791209,\n",
       "         0.73109641, -0.78299278, -0.07856151, -0.8919967 , -0.41004514,\n",
       "        -0.27805303, -0.11522685, -0.5477657 ,  0.03214042,  0.04874959,\n",
       "        -0.12097379, -0.70573152,  0.45631273, -0.10186006, -0.10834473,\n",
       "         0.77671038, -0.27444769, -0.19745038,  0.42318386, -0.78465826,\n",
       "         0.12499964,  0.91096809, -0.04517007, -0.91847968,  0.30152043,\n",
       "        -0.6702484 ,  0.03740747,  0.21852304, -0.47065226, -0.23497552,\n",
       "         0.11545192, -0.30927445,  0.05769427, -0.2058727 ,  0.2902973 ,\n",
       "        -0.26005266, -0.20351817, -0.67868599, -0.31024651,  0.23158767,\n",
       "         0.40694065, -0.19335455,  0.01376006, -0.07979253,  0.82668278,\n",
       "        -0.38586855, -0.47463748,  1.01904874, -0.22557718,  0.75376958,\n",
       "         0.12159359,  0.55255688,  0.99145343,  0.13200566,  0.03829911,\n",
       "        -0.89018961,  0.59992836, -0.45260781, -0.51659532, -0.53247941,\n",
       "         0.02949735,  0.42469699, -0.66618121, -0.05023671, -0.81223372,\n",
       "         0.5461937 , -0.68266794, -0.28230561, -0.25061474, -0.07195923,\n",
       "         0.97096838,  0.62539444,  0.26572489, -0.67315274, -0.44629499,\n",
       "        -0.56853518,  0.43274635,  0.14968807,  0.77136429, -0.11182294,\n",
       "         0.23070634,  0.69725023, -0.13032881, -0.52043282, -0.24126232,\n",
       "         0.07119331,  0.5704326 , -0.70121959, -0.78915486, -0.04821829,\n",
       "         0.13784497, -0.56228258, -0.31800731,  0.48762949,  0.37991132,\n",
       "         0.01745235, -0.30817173,  0.6595982 ,  0.32679825, -0.7838163 ,\n",
       "         0.14930762, -0.14529555,  0.80690523,  0.75009416, -0.71926678,\n",
       "         0.7785032 , -0.38381798,  0.10840986,  0.26478025, -0.33575441,\n",
       "        -0.03881337, -0.12185495,  0.28040885, -0.25141293,  0.46922967,\n",
       "         0.24467881, -0.77538076, -0.22536105, -0.35195908,  0.18022063,\n",
       "         0.11283354, -0.03863624,  0.29945723,  0.44091207,  0.46594693,\n",
       "         0.17196284,  0.00847907, -0.08387478, -0.03711392, -0.06842012,\n",
       "        -0.83135218, -0.31177236, -0.99437636, -0.22723854, -0.3067555 ,\n",
       "        -0.46194585, -0.01988828, -0.21597765, -0.01472201, -0.38577664,\n",
       "        -1.14996887, -0.01090197,  0.55918896,  0.43407255,  0.43288319,\n",
       "        -0.34206041]])"
      ]
     },
     "execution_count": 54,
     "metadata": {},
     "output_type": "execute_result"
    }
   ],
   "source": [
    "lg_trained.coef_"
   ]
  },
  {
   "cell_type": "code",
   "execution_count": 55,
   "metadata": {},
   "outputs": [],
   "source": [
    "import statsmodels.api as sm\n",
    "mod = sm.OLS(y_train,X_train)\n",
    "fii = mod.fit()\n",
    "p_values = fii.summary2().tables[1]['P>|t|']"
   ]
  },
  {
   "cell_type": "code",
   "execution_count": 56,
   "metadata": {},
   "outputs": [
    {
     "data": {
      "text/plain": [
       "24"
      ]
     },
     "execution_count": 56,
     "metadata": {},
     "output_type": "execute_result"
    }
   ],
   "source": [
    "sig_indices = []\n",
    "p_list = p_values.to_list()\n",
    "for i in range(len(p_list)):\n",
    "    if p_list[i] < 0.05:\n",
    "        sig_indices.append(i)\n",
    "len(sig_indices)"
   ]
  },
  {
   "cell_type": "code",
   "execution_count": 57,
   "metadata": {},
   "outputs": [],
   "source": [
    "sig_features = []\n",
    "feat_names = list(sentence_term_df.columns)\n",
    "for i in sig_indices:\n",
    "    entry = {}\n",
    "    score = p_list[i]\n",
    "    feature_n = feat_names[i]\n",
    "    entry['name'] = feature_n\n",
    "    entry['score'] = score\n",
    "    sig_features.append(entry)"
   ]
  },
  {
   "cell_type": "code",
   "execution_count": 41,
   "metadata": {},
   "outputs": [
    {
     "data": {
      "text/plain": [
       "[{'name': 'W__coronavirus', 'score': 7.05000358265861e-05},\n",
       " {'name': 'W__negat', 'score': 0.0005573107410468378},\n",
       " {'name': 'W__like', 'score': 0.0023246352385901886},\n",
       " {'name': 'W__infect', 'score': 0.0030942733952614506},\n",
       " {'name': 'W__human', 'score': 0.004857480106146251},\n",
       " {'name': 'W__just', 'score': 0.005427868526139237},\n",
       " {'name': 'W__unit', 'score': 0.005534917327906829},\n",
       " {'name': 'W__say', 'score': 0.009072407921989404},\n",
       " {'name': 'W__beij', 'score': 0.011852113041173422},\n",
       " {'name': 'W__ship', 'score': 0.012011890536660777}]"
      ]
     },
     "execution_count": 41,
     "metadata": {},
     "output_type": "execute_result"
    }
   ],
   "source": [
    "sorted(sig_features, key = lambda i: i['score'])[0:10]"
   ]
  },
  {
   "cell_type": "code",
   "execution_count": 42,
   "metadata": {},
   "outputs": [
    {
     "data": {
      "text/plain": [
       "array([[1.89665611, 1.13442943, 0.99399808, 1.18380585, 0.69399594,\n",
       "        0.78523898, 0.43515739, 0.92180591, 0.99812132, 0.79554768,\n",
       "        0.82823681, 1.99259003, 1.39690824, 0.19263414, 1.11394181,\n",
       "        2.05843247, 1.12720256, 1.63867662, 0.86735734, 1.03562478,\n",
       "        1.23850839, 1.376416  , 1.65657032, 1.41583576, 1.3977182 ,\n",
       "        1.15477169, 0.86472652, 1.25123257, 1.37614436, 0.78870236,\n",
       "        0.98849129, 1.14649816, 1.04422088, 0.69822328, 1.43763593,\n",
       "        1.1098247 , 0.61199373, 1.02063435, 1.52583998, 0.82987125,\n",
       "        1.06487008, 0.81738233, 1.28721278, 2.02283614, 2.30031965,\n",
       "        1.55412405, 1.25069151, 0.91895753, 0.64929214, 0.69217803,\n",
       "        2.07735699, 0.45703615, 0.92444519, 0.40983661, 0.66362029,\n",
       "        0.75725666, 0.89116396, 0.57824033, 1.0326625 , 1.0499574 ,\n",
       "        0.88605718, 0.49374726, 1.57824384, 0.90315593, 0.89731821,\n",
       "        2.17430785, 0.75999176, 0.82082087, 1.52681499, 0.4562756 ,\n",
       "        1.13314804, 2.48672875, 0.95583491, 0.39912538, 1.35191273,\n",
       "        0.51158149, 1.03811593, 1.24423769, 0.62459474, 0.7905902 ,\n",
       "        1.12238055, 0.7339793 , 1.05939106, 0.81393669, 1.33682486,\n",
       "        0.77101098, 0.81585538, 0.50728313, 0.73326618, 1.26059983,\n",
       "        1.50221494, 0.82418971, 1.01385517, 0.92330788, 2.28572391,\n",
       "        0.67985989, 0.62211054, 2.77055799, 0.79805547, 2.12499528,\n",
       "        1.12929505, 1.7376904 , 2.69514884, 1.14111478, 1.03904197,\n",
       "        0.4105779 , 1.82198827, 0.6359675 , 0.59654815, 0.58714738,\n",
       "        1.0299367 , 1.52912701, 0.51366642, 0.95100428, 0.44386549,\n",
       "        1.72666828, 0.50526717, 0.75404321, 0.77832217, 0.93056883,\n",
       "        2.64050024, 1.86898302, 1.30437616, 0.51009783, 0.63999495,\n",
       "        0.56635444, 1.54148517, 1.16147189, 2.16271482, 0.89420257,\n",
       "        1.25948932, 2.00822295, 0.87780675, 0.59426328, 0.78563552,\n",
       "        1.07378877, 1.76903216, 0.49598004, 0.45422852, 0.95292575,\n",
       "        1.14779759, 0.56990672, 0.72759747, 1.62845138, 1.46215492,\n",
       "        1.01760554, 0.73478912, 1.93401509, 1.38652172, 0.45665993,\n",
       "        1.16103009, 0.86476667, 2.24096199, 2.11719937, 0.48710928,\n",
       "        2.17820948, 0.68125542, 1.11450444, 1.30314458, 0.71479863,\n",
       "        0.96193022, 0.88527677, 1.32367088, 0.77770117, 1.59876215,\n",
       "        1.27721102, 0.4605284 , 0.79822797, 0.7033089 , 1.19748153,\n",
       "        1.11944557, 0.96210062, 1.34912635, 1.55412405, 1.59352243,\n",
       "        1.1876337 , 1.00851512, 0.91954639, 0.96356636, 0.93386806,\n",
       "        0.43546007, 0.73214818, 0.36995409, 0.7967307 , 0.73583049,\n",
       "        0.63005646, 0.98030819, 0.80575331, 0.98538583, 0.67992238,\n",
       "        0.31664663, 0.98915724, 1.74925322, 1.54353085, 1.54169612,\n",
       "        0.71030529]])"
      ]
     },
     "execution_count": 42,
     "metadata": {},
     "output_type": "execute_result"
    }
   ],
   "source": [
    "# odds_ratio\n",
    "np.exp(lg_trained.coef_)"
   ]
  },
  {
   "cell_type": "code",
   "execution_count": 43,
   "metadata": {},
   "outputs": [],
   "source": [
    "from sklearn.naive_bayes import GaussianNB"
   ]
  },
  {
   "cell_type": "code",
   "execution_count": 58,
   "metadata": {},
   "outputs": [
    {
     "name": "stdout",
     "output_type": "stream",
     "text": [
      "              precision    recall  f1-score   support\n",
      "\n",
      "   Relieving       0.68      0.56      0.61        75\n",
      "     Causing       0.63      0.74      0.68        76\n",
      "\n",
      "    accuracy                           0.65       151\n",
      "   macro avg       0.65      0.65      0.65       151\n",
      "weighted avg       0.65      0.65      0.65       151\n",
      "\n",
      "Avg. Accuracy:  0.6490066225165563\n"
     ]
    }
   ],
   "source": [
    "## Gaussian Naive Bayes\n",
    "gn_model = GaussianNB()\n",
    "gn_trained = gn_model.fit(X_train,y_train)\n",
    "y_pred = gn_trained.predict(X_test)\n",
    "print_classification_result(y_test, y_pred)"
   ]
  },
  {
   "cell_type": "code",
   "execution_count": 59,
   "metadata": {},
   "outputs": [
    {
     "name": "stdout",
     "output_type": "stream",
     "text": [
      "              precision    recall  f1-score   support\n",
      "\n",
      "   Relieving       0.64      0.69      0.67        75\n",
      "     Causing       0.67      0.62      0.64        76\n",
      "\n",
      "    accuracy                           0.66       151\n",
      "   macro avg       0.66      0.66      0.66       151\n",
      "weighted avg       0.66      0.66      0.66       151\n",
      "\n",
      "Avg. Accuracy:  0.6556291390728477\n"
     ]
    },
    {
     "name": "stderr",
     "output_type": "stream",
     "text": [
      "C:\\Users\\lpeters4\\Anaconda3\\lib\\site-packages\\sklearn\\naive_bayes.py:507: UserWarning: alpha too small will result in numeric errors, setting alpha = 1.0e-10\n",
      "  'setting alpha = %.1e' % _ALPHA_MIN)\n"
     ]
    }
   ],
   "source": [
    "## Multinomial Naive Bayes\n",
    "mn_model = MultinomialNB(alpha=0)\n",
    "mn_trained = mn_model.fit(X_train,y_train)\n",
    "y_pred = mn_trained.predict(X_test)\n",
    "print_classification_result(y_test, y_pred)"
   ]
  },
  {
   "cell_type": "code",
   "execution_count": 60,
   "metadata": {},
   "outputs": [
    {
     "name": "stdout",
     "output_type": "stream",
     "text": [
      "              precision    recall  f1-score   support\n",
      "\n",
      "   Relieving       0.61      0.63      0.62        75\n",
      "     Causing       0.62      0.61      0.61        76\n",
      "\n",
      "    accuracy                           0.62       151\n",
      "   macro avg       0.62      0.62      0.62       151\n",
      "weighted avg       0.62      0.62      0.62       151\n",
      "\n",
      "Avg. Accuracy:  0.6158940397350994\n"
     ]
    }
   ],
   "source": [
    "## Multinomial Naive Bayes\n",
    "mn_model = MultinomialNB(alpha=1)\n",
    "mn_trained = mn_model.fit(X_train,y_train)\n",
    "y_pred = mn_trained.predict(X_test)\n",
    "print_classification_result(y_test, y_pred)"
   ]
  },
  {
   "cell_type": "code",
   "execution_count": 61,
   "metadata": {},
   "outputs": [
    {
     "data": {
      "text/plain": [
       "count    501.000000\n",
       "mean       0.014005\n",
       "std        0.078896\n",
       "min        0.000000\n",
       "25%        0.000000\n",
       "50%        0.000000\n",
       "75%        0.000000\n",
       "max        0.619008\n",
       "Name: W__world, dtype: float64"
      ]
     },
     "execution_count": 61,
     "metadata": {},
     "output_type": "execute_result"
    }
   ],
   "source": [
    "## Original data Distribution\n",
    "sentence_term_df['W__world'].describe()"
   ]
  },
  {
   "cell_type": "code",
   "execution_count": 62,
   "metadata": {},
   "outputs": [],
   "source": [
    "sentence_term_df['lables'] = labels"
   ]
  },
  {
   "cell_type": "code",
   "execution_count": 63,
   "metadata": {},
   "outputs": [],
   "source": [
    "sentence_term_df_shuffle = sentence_term_df.sample(frac=1, random_state=100).reset_index(drop=True)"
   ]
  },
  {
   "cell_type": "code",
   "execution_count": 64,
   "metadata": {},
   "outputs": [
    {
     "data": {
      "text/plain": [
       "count    501.000000\n",
       "mean       0.014005\n",
       "std        0.078896\n",
       "min        0.000000\n",
       "25%        0.000000\n",
       "50%        0.000000\n",
       "75%        0.000000\n",
       "max        0.619008\n",
       "Name: W__world, dtype: float64"
      ]
     },
     "execution_count": 64,
     "metadata": {},
     "output_type": "execute_result"
    }
   ],
   "source": [
    "sentence_term_df_shuffle['W__world'].describe()"
   ]
  },
  {
   "cell_type": "code",
   "execution_count": 65,
   "metadata": {},
   "outputs": [
    {
     "data": {
      "text/plain": [
       "(501, 197)"
      ]
     },
     "execution_count": 65,
     "metadata": {},
     "output_type": "execute_result"
    }
   ],
   "source": [
    "## Training - Testing Split\n",
    "sentence_term_df_shuffle.shape"
   ]
  },
  {
   "cell_type": "code",
   "execution_count": 66,
   "metadata": {},
   "outputs": [
    {
     "data": {
      "text/plain": [
       "(501, 196)"
      ]
     },
     "execution_count": 66,
     "metadata": {},
     "output_type": "execute_result"
    }
   ],
   "source": [
    "features = sentence_term_df_shuffle.loc[:, sentence_term_df_shuffle.columns != 'lables'].values\n",
    "features.shape"
   ]
  },
  {
   "cell_type": "code",
   "execution_count": 67,
   "metadata": {},
   "outputs": [
    {
     "data": {
      "text/plain": [
       "(501,)"
      ]
     },
     "execution_count": 67,
     "metadata": {},
     "output_type": "execute_result"
    }
   ],
   "source": [
    "lables = sentence_term_df_shuffle['lables']\n",
    "lables.shape"
   ]
  },
  {
   "cell_type": "code",
   "execution_count": 68,
   "metadata": {},
   "outputs": [],
   "source": [
    "## Train-Test Split\n",
    "X_train, X_test, y_train, y_test = train_test_split(features, labels, test_size=0.30, random_state=42)"
   ]
  },
  {
   "cell_type": "code",
   "execution_count": 69,
   "metadata": {},
   "outputs": [],
   "source": [
    "## Training Decision tree\n",
    "dt_model = DecisionTreeClassifier()\n",
    "dt_trained = dt_model.fit(X_train,y_train)"
   ]
  },
  {
   "cell_type": "code",
   "execution_count": 70,
   "metadata": {},
   "outputs": [
    {
     "data": {
      "text/plain": [
       "235"
      ]
     },
     "execution_count": 70,
     "metadata": {},
     "output_type": "execute_result"
    }
   ],
   "source": [
    "## Size of the tree\n",
    "treeObj = dt_trained.tree_\n",
    "treeObj.node_count"
   ]
  },
  {
   "cell_type": "code",
   "execution_count": 71,
   "metadata": {},
   "outputs": [
    {
     "ename": "ModuleNotFoundError",
     "evalue": "No module named 'graphviz'",
     "output_type": "error",
     "traceback": [
      "\u001b[1;31m---------------------------------------------------------------------------\u001b[0m",
      "\u001b[1;31mModuleNotFoundError\u001b[0m                       Traceback (most recent call last)",
      "\u001b[1;32m<ipython-input-71-2abda745657d>\u001b[0m in \u001b[0;36m<module>\u001b[1;34m\u001b[0m\n\u001b[0;32m      1\u001b[0m \u001b[1;31m## Tree Visualization\u001b[0m\u001b[1;33m\u001b[0m\u001b[1;33m\u001b[0m\u001b[1;33m\u001b[0m\u001b[0m\n\u001b[0;32m      2\u001b[0m \u001b[1;32mfrom\u001b[0m \u001b[0msklearn\u001b[0m \u001b[1;32mimport\u001b[0m \u001b[0mtree\u001b[0m\u001b[1;33m\u001b[0m\u001b[1;33m\u001b[0m\u001b[0m\n\u001b[1;32m----> 3\u001b[1;33m \u001b[1;32mimport\u001b[0m \u001b[0mgraphviz\u001b[0m\u001b[1;33m\u001b[0m\u001b[1;33m\u001b[0m\u001b[0m\n\u001b[0m",
      "\u001b[1;31mModuleNotFoundError\u001b[0m: No module named 'graphviz'"
     ]
    }
   ],
   "source": [
    "## Tree Visualization\n",
    "from sklearn import tree\n",
    "import graphviz"
   ]
  },
  {
   "cell_type": "code",
   "execution_count": 72,
   "metadata": {},
   "outputs": [
    {
     "name": "stderr",
     "output_type": "stream",
     "text": [
      "C:\\Users\\lpeters4\\Anaconda3\\lib\\site-packages\\sklearn\\utils\\deprecation.py:144: FutureWarning: The sklearn.tree.export module is  deprecated in version 0.22 and will be removed in version 0.24. The corresponding classes / functions should instead be imported from sklearn.tree. Anything that cannot be imported from sklearn.tree is now part of the private API.\n",
      "  warnings.warn(message, FutureWarning)\n"
     ]
    }
   ],
   "source": [
    "from sklearn.tree.export import export_text"
   ]
  },
  {
   "cell_type": "code",
   "execution_count": 73,
   "metadata": {},
   "outputs": [],
   "source": [
    "feature_names = list(sentence_term_df_shuffle.loc[:, sentence_term_df_shuffle.columns != 'lables'].columns)"
   ]
  },
  {
   "cell_type": "code",
   "execution_count": 74,
   "metadata": {},
   "outputs": [
    {
     "name": "stdout",
     "output_type": "stream",
     "text": [
      "|--- W__numnum <= 0.36\n",
      "|   |--- W__measur <= 0.17\n",
      "|   |   |--- W__peopl <= 0.43\n",
      "|   |   |   |--- W__wuhan coronavirus <= 0.44\n",
      "|   |   |   |   |--- W__offici <= 0.44\n",
      "|   |   |   |   |   |--- W__author <= 0.20\n",
      "|   |   |   |   |   |   |--- W__time <= 0.32\n",
      "|   |   |   |   |   |   |   |--- W__report <= 0.35\n",
      "|   |   |   |   |   |   |   |   |--- W__lie <= 0.22\n",
      "|   |   |   |   |   |   |   |   |   |--- W__novel coronavirus <= 0.40\n",
      "|   |   |   |   |   |   |   |   |   |   |--- W__spread <= 0.45\n",
      "|   |   |   |   |   |   |   |   |   |   |   |--- truncated branch of depth 72\n",
      "|   |   |   |   |   |   |   |   |   |   |--- W__spread >  0.45\n",
      "|   |   |   |   |   |   |   |   |   |   |   |--- class: 0\n",
      "|   |   |   |   |   |   |   |   |   |--- W__novel coronavirus >  0.40\n",
      "|   |   |   |   |   |   |   |   |   |   |--- class: 0\n",
      "|   |   |   |   |   |   |   |   |--- W__lie >  0.22\n",
      "|   |   |   |   |   |   |   |   |   |--- class: 0\n",
      "|   |   |   |   |   |   |   |--- W__report >  0.35\n",
      "|   |   |   |   |   |   |   |   |--- class: 1\n",
      "|   |   |   |   |   |   |--- W__time >  0.32\n",
      "|   |   |   |   |   |   |   |--- W__time <= 0.77\n",
      "|   |   |   |   |   |   |   |   |--- class: 0\n",
      "|   |   |   |   |   |   |   |--- W__time >  0.77\n",
      "|   |   |   |   |   |   |   |   |--- class: 1\n",
      "|   |   |   |   |   |--- W__author >  0.20\n",
      "|   |   |   |   |   |   |--- class: 0\n",
      "|   |   |   |   |--- W__offici >  0.44\n",
      "|   |   |   |   |   |--- class: 0\n",
      "|   |   |   |--- W__wuhan coronavirus >  0.44\n",
      "|   |   |   |   |--- class: 0\n",
      "|   |   |--- W__peopl >  0.43\n",
      "|   |   |   |--- class: 1\n",
      "|   |--- W__measur >  0.17\n",
      "|   |   |--- class: 1\n",
      "|--- W__numnum >  0.36\n",
      "|   |--- class: 0\n",
      "\n"
     ]
    }
   ],
   "source": [
    "r = export_text(dt_trained, feature_names=feature_names)\n",
    "print(r)"
   ]
  },
  {
   "cell_type": "code",
   "execution_count": 75,
   "metadata": {},
   "outputs": [
    {
     "name": "stdout",
     "output_type": "stream",
     "text": [
      "              precision    recall  f1-score   support\n",
      "\n",
      "   Relieving       0.98      0.99      0.98       175\n",
      "     Causing       0.99      0.98      0.98       175\n",
      "\n",
      "    accuracy                           0.98       350\n",
      "   macro avg       0.98      0.98      0.98       350\n",
      "weighted avg       0.98      0.98      0.98       350\n",
      "\n",
      "Avg. Accuracy:  0.9828571428571429\n"
     ]
    }
   ],
   "source": [
    "## Training Confusion Matrix\n",
    "y_pred = dt_trained.predict(X_train)\n",
    "print_classification_result(y_train, y_pred)"
   ]
  },
  {
   "cell_type": "code",
   "execution_count": 76,
   "metadata": {},
   "outputs": [
    {
     "name": "stdout",
     "output_type": "stream",
     "text": [
      "              precision    recall  f1-score   support\n",
      "\n",
      "   Relieving       0.51      0.49      0.50        75\n",
      "     Causing       0.51      0.53      0.52        76\n",
      "\n",
      "    accuracy                           0.51       151\n",
      "   macro avg       0.51      0.51      0.51       151\n",
      "weighted avg       0.51      0.51      0.51       151\n",
      "\n",
      "Avg. Accuracy:  0.5099337748344371\n"
     ]
    }
   ],
   "source": [
    "## Testing Confusion Matrix\n",
    "y_pred = dt_trained.predict(X_test)\n",
    "print_classification_result(y_test, y_pred)"
   ]
  },
  {
   "cell_type": "code",
   "execution_count": 77,
   "metadata": {},
   "outputs": [],
   "source": [
    "## Boosting Performance\n",
    "from sklearn.ensemble import GradientBoostingClassifier\n",
    "from sklearn.metrics import precision_score, recall_score"
   ]
  },
  {
   "cell_type": "code",
   "execution_count": 78,
   "metadata": {},
   "outputs": [],
   "source": [
    "score_list = []\n",
    "for steps in range(100, 160, 10):\n",
    "    scores = {}\n",
    "    scores['count'] = steps\n",
    "    scores['accuracy'] = accuracy_score(GradientBoostingClassifier(n_estimators=steps).fit(X_train, y_train).predict(X_test), y_pred)\n",
    "    scores['precision'] = precision_score(GradientBoostingClassifier(n_estimators=steps).fit(X_train, y_train).predict(X_test), y_pred)\n",
    "    scores['recall'] = recall_score(GradientBoostingClassifier(n_estimators=steps).fit(X_train, y_train).predict(X_test), y_pred)\n",
    "    score_list.append(scores)"
   ]
  },
  {
   "cell_type": "code",
   "execution_count": 79,
   "metadata": {},
   "outputs": [],
   "source": [
    "score_df = pd.DataFrame(score_list)"
   ]
  },
  {
   "cell_type": "code",
   "execution_count": 80,
   "metadata": {},
   "outputs": [
    {
     "data": {
      "text/html": [
       "<div>\n",
       "<style scoped>\n",
       "    .dataframe tbody tr th:only-of-type {\n",
       "        vertical-align: middle;\n",
       "    }\n",
       "\n",
       "    .dataframe tbody tr th {\n",
       "        vertical-align: top;\n",
       "    }\n",
       "\n",
       "    .dataframe thead th {\n",
       "        text-align: right;\n",
       "    }\n",
       "</style>\n",
       "<table border=\"1\" class=\"dataframe\">\n",
       "  <thead>\n",
       "    <tr style=\"text-align: right;\">\n",
       "      <th></th>\n",
       "      <th>count</th>\n",
       "      <th>accuracy</th>\n",
       "      <th>precision</th>\n",
       "      <th>recall</th>\n",
       "    </tr>\n",
       "  </thead>\n",
       "  <tbody>\n",
       "    <tr>\n",
       "      <th>0</th>\n",
       "      <td>100</td>\n",
       "      <td>0.649007</td>\n",
       "      <td>0.512821</td>\n",
       "      <td>0.750000</td>\n",
       "    </tr>\n",
       "    <tr>\n",
       "      <th>1</th>\n",
       "      <td>110</td>\n",
       "      <td>0.682119</td>\n",
       "      <td>0.564103</td>\n",
       "      <td>0.753846</td>\n",
       "    </tr>\n",
       "    <tr>\n",
       "      <th>2</th>\n",
       "      <td>120</td>\n",
       "      <td>0.715232</td>\n",
       "      <td>0.641026</td>\n",
       "      <td>0.741935</td>\n",
       "    </tr>\n",
       "    <tr>\n",
       "      <th>3</th>\n",
       "      <td>130</td>\n",
       "      <td>0.675497</td>\n",
       "      <td>0.653846</td>\n",
       "      <td>0.750000</td>\n",
       "    </tr>\n",
       "    <tr>\n",
       "      <th>4</th>\n",
       "      <td>140</td>\n",
       "      <td>0.695364</td>\n",
       "      <td>0.628205</td>\n",
       "      <td>0.746032</td>\n",
       "    </tr>\n",
       "    <tr>\n",
       "      <th>5</th>\n",
       "      <td>150</td>\n",
       "      <td>0.682119</td>\n",
       "      <td>0.641026</td>\n",
       "      <td>0.734375</td>\n",
       "    </tr>\n",
       "  </tbody>\n",
       "</table>\n",
       "</div>"
      ],
      "text/plain": [
       "   count  accuracy  precision    recall\n",
       "0    100  0.649007   0.512821  0.750000\n",
       "1    110  0.682119   0.564103  0.753846\n",
       "2    120  0.715232   0.641026  0.741935\n",
       "3    130  0.675497   0.653846  0.750000\n",
       "4    140  0.695364   0.628205  0.746032\n",
       "5    150  0.682119   0.641026  0.734375"
      ]
     },
     "execution_count": 80,
     "metadata": {},
     "output_type": "execute_result"
    }
   ],
   "source": [
    "score_df"
   ]
  },
  {
   "cell_type": "code",
   "execution_count": 81,
   "metadata": {},
   "outputs": [],
   "source": [
    "import matplotlib.pyplot as plt"
   ]
  },
  {
   "cell_type": "code",
   "execution_count": 82,
   "metadata": {},
   "outputs": [
    {
     "data": {
      "image/png": "[encoded data removed]",
      "text/plain": [
       "<Figure size 432x288 with 3 Axes>"
      ]
     },
     "metadata": {
      "needs_background": "light"
     },
     "output_type": "display_data"
    }
   ],
   "source": [
    "fig, (ax1, ax2, ax3) = plt.subplots(1, 3)\n",
    "fig.suptitle('Performance Comaprison of Boosting', va='bottom')\n",
    "ax1.plot(score_df['count'], score_df['accuracy'])\n",
    "ax2.plot(score_df['count'], score_df['precision'])\n",
    "ax3.plot(score_df['count'], score_df['recall'])\n",
    "ax1.set_title('Accuracy')\n",
    "ax2.set_title('Precision')\n",
    "ax3.set_title('Recall')\n",
    "fig.tight_layout()"
   ]
  },
  {
   "cell_type": "code",
   "execution_count": 83,
   "metadata": {},
   "outputs": [],
   "source": [
    "## Bagging\n",
    "from sklearn.ensemble import BaggingClassifier"
   ]
  },
  {
   "cell_type": "code",
   "execution_count": 85,
   "metadata": {},
   "outputs": [
    {
     "data": {
      "text/html": [
       "<div>\n",
       "<style scoped>\n",
       "    .dataframe tbody tr th:only-of-type {\n",
       "        vertical-align: middle;\n",
       "    }\n",
       "\n",
       "    .dataframe tbody tr th {\n",
       "        vertical-align: top;\n",
       "    }\n",
       "\n",
       "    .dataframe thead th {\n",
       "        text-align: right;\n",
       "    }\n",
       "</style>\n",
       "<table border=\"1\" class=\"dataframe\">\n",
       "  <thead>\n",
       "    <tr style=\"text-align: right;\">\n",
       "      <th></th>\n",
       "      <th>count</th>\n",
       "      <th>accuracy</th>\n",
       "      <th>precision</th>\n",
       "      <th>recall</th>\n",
       "    </tr>\n",
       "  </thead>\n",
       "  <tbody>\n",
       "    <tr>\n",
       "      <th>0</th>\n",
       "      <td>100</td>\n",
       "      <td>0.735099</td>\n",
       "      <td>0.743590</td>\n",
       "      <td>0.726190</td>\n",
       "    </tr>\n",
       "    <tr>\n",
       "      <th>1</th>\n",
       "      <td>110</td>\n",
       "      <td>0.754967</td>\n",
       "      <td>0.833333</td>\n",
       "      <td>0.786667</td>\n",
       "    </tr>\n",
       "    <tr>\n",
       "      <th>2</th>\n",
       "      <td>120</td>\n",
       "      <td>0.761589</td>\n",
       "      <td>0.807692</td>\n",
       "      <td>0.759494</td>\n",
       "    </tr>\n",
       "    <tr>\n",
       "      <th>3</th>\n",
       "      <td>130</td>\n",
       "      <td>0.761589</td>\n",
       "      <td>0.794872</td>\n",
       "      <td>0.750000</td>\n",
       "    </tr>\n",
       "    <tr>\n",
       "      <th>4</th>\n",
       "      <td>140</td>\n",
       "      <td>0.741722</td>\n",
       "      <td>0.807692</td>\n",
       "      <td>0.759494</td>\n",
       "    </tr>\n",
       "    <tr>\n",
       "      <th>5</th>\n",
       "      <td>150</td>\n",
       "      <td>0.754967</td>\n",
       "      <td>0.769231</td>\n",
       "      <td>0.772152</td>\n",
       "    </tr>\n",
       "  </tbody>\n",
       "</table>\n",
       "</div>"
      ],
      "text/plain": [
       "   count  accuracy  precision    recall\n",
       "0    100  0.735099   0.743590  0.726190\n",
       "1    110  0.754967   0.833333  0.786667\n",
       "2    120  0.761589   0.807692  0.759494\n",
       "3    130  0.761589   0.794872  0.750000\n",
       "4    140  0.741722   0.807692  0.759494\n",
       "5    150  0.754967   0.769231  0.772152"
      ]
     },
     "execution_count": 85,
     "metadata": {},
     "output_type": "execute_result"
    }
   ],
   "source": [
    "score_list = []\n",
    "for steps in range(100, 160, 10):\n",
    "    scores = {}\n",
    "    scores['count'] = steps\n",
    "    scores['accuracy'] = accuracy_score(BaggingClassifier(n_estimators=steps).fit(X_train, y_train).predict(X_test), y_pred)\n",
    "    scores['precision'] = precision_score(BaggingClassifier(n_estimators=steps).fit(X_train, y_train).predict(X_test), y_pred)\n",
    "    scores['recall'] = recall_score(BaggingClassifier(n_estimators=steps).fit(X_train, y_train).predict(X_test), y_pred)\n",
    "    score_list.append(scores)\n",
    "score_df = pd.DataFrame(score_list)\n",
    "score_df"
   ]
  },
  {
   "cell_type": "code",
   "execution_count": 86,
   "metadata": {},
   "outputs": [
    {
     "data": {
      "image/png": "[encoded data removed]",
      "text/plain": [
       "<Figure size 432x288 with 3 Axes>"
      ]
     },
     "metadata": {
      "needs_background": "light"
     },
     "output_type": "display_data"
    }
   ],
   "source": [
    "fig, (ax1, ax2, ax3) = plt.subplots(1, 3)\n",
    "fig.suptitle('Performance Comaprison of Boosting', va='bottom')\n",
    "ax1.plot(score_df['count'], score_df['accuracy'])\n",
    "ax2.plot(score_df['count'], score_df['precision'])\n",
    "ax3.plot(score_df['count'], score_df['recall'])\n",
    "ax1.set_title('Accuracy')\n",
    "ax2.set_title('Precision')\n",
    "ax3.set_title('Recall')\n",
    "fig.tight_layout()"
   ]
  },
  {
   "cell_type": "code",
   "execution_count": 87,
   "metadata": {},
   "outputs": [],
   "source": [
    "score_list = []\n",
    "for steps in range(100, 160, 10):\n",
    "    scores = {}\n",
    "    scores['count'] = steps\n",
    "    scores['accuracy'] = accuracy_score(RandomForestClassifier(n_estimators=steps).fit(X_train, y_train).predict(X_test), y_pred)\n",
    "    scores['precision'] = precision_score(RandomForestClassifier(n_estimators=steps).fit(X_train, y_train).predict(X_test), y_pred)\n",
    "    scores['recall'] = recall_score(RandomForestClassifier(n_estimators=steps).fit(X_train, y_train).predict(X_test), y_pred)\n",
    "    score_list.append(scores)\n",
    "score_df = pd.DataFrame(score_list)"
   ]
  },
  {
   "cell_type": "code",
   "execution_count": 88,
   "metadata": {},
   "outputs": [
    {
     "data": {
      "text/html": [
       "<div>\n",
       "<style scoped>\n",
       "    .dataframe tbody tr th:only-of-type {\n",
       "        vertical-align: middle;\n",
       "    }\n",
       "\n",
       "    .dataframe tbody tr th {\n",
       "        vertical-align: top;\n",
       "    }\n",
       "\n",
       "    .dataframe thead th {\n",
       "        text-align: right;\n",
       "    }\n",
       "</style>\n",
       "<table border=\"1\" class=\"dataframe\">\n",
       "  <thead>\n",
       "    <tr style=\"text-align: right;\">\n",
       "      <th></th>\n",
       "      <th>count</th>\n",
       "      <th>accuracy</th>\n",
       "      <th>precision</th>\n",
       "      <th>recall</th>\n",
       "    </tr>\n",
       "  </thead>\n",
       "  <tbody>\n",
       "    <tr>\n",
       "      <th>0</th>\n",
       "      <td>100</td>\n",
       "      <td>0.735099</td>\n",
       "      <td>0.782051</td>\n",
       "      <td>0.732558</td>\n",
       "    </tr>\n",
       "    <tr>\n",
       "      <th>1</th>\n",
       "      <td>110</td>\n",
       "      <td>0.768212</td>\n",
       "      <td>0.756410</td>\n",
       "      <td>0.746835</td>\n",
       "    </tr>\n",
       "    <tr>\n",
       "      <th>2</th>\n",
       "      <td>120</td>\n",
       "      <td>0.735099</td>\n",
       "      <td>0.717949</td>\n",
       "      <td>0.753086</td>\n",
       "    </tr>\n",
       "    <tr>\n",
       "      <th>3</th>\n",
       "      <td>130</td>\n",
       "      <td>0.761589</td>\n",
       "      <td>0.807692</td>\n",
       "      <td>0.768293</td>\n",
       "    </tr>\n",
       "    <tr>\n",
       "      <th>4</th>\n",
       "      <td>140</td>\n",
       "      <td>0.748344</td>\n",
       "      <td>0.794872</td>\n",
       "      <td>0.784810</td>\n",
       "    </tr>\n",
       "    <tr>\n",
       "      <th>5</th>\n",
       "      <td>150</td>\n",
       "      <td>0.754967</td>\n",
       "      <td>0.769231</td>\n",
       "      <td>0.743902</td>\n",
       "    </tr>\n",
       "  </tbody>\n",
       "</table>\n",
       "</div>"
      ],
      "text/plain": [
       "   count  accuracy  precision    recall\n",
       "0    100  0.735099   0.782051  0.732558\n",
       "1    110  0.768212   0.756410  0.746835\n",
       "2    120  0.735099   0.717949  0.753086\n",
       "3    130  0.761589   0.807692  0.768293\n",
       "4    140  0.748344   0.794872  0.784810\n",
       "5    150  0.754967   0.769231  0.743902"
      ]
     },
     "execution_count": 88,
     "metadata": {},
     "output_type": "execute_result"
    }
   ],
   "source": [
    "score_df"
   ]
  },
  {
   "cell_type": "code",
   "execution_count": 89,
   "metadata": {},
   "outputs": [
    {
     "data": {
      "text/plain": [
       "Text(0.5, 1.0, 'Recall')"
      ]
     },
     "execution_count": 89,
     "metadata": {},
     "output_type": "execute_result"
    },
    {
     "data": {
      "image/png": "[encoded data removed]",
      "text/plain": [
       "<Figure size 432x288 with 3 Axes>"
      ]
     },
     "metadata": {
      "needs_background": "light"
     },
     "output_type": "display_data"
    }
   ],
   "source": [
    "fig, (ax1, ax2, ax3) = plt.subplots(1, 3)\n",
    "fig.suptitle('Performance Comaprison of Random Forest', va='bottom')\n",
    "ax1.plot(score_df['count'], score_df['accuracy'])\n",
    "ax2.plot(score_df['count'], score_df['precision'])\n",
    "ax3.plot(score_df['count'], score_df['recall'])\n",
    "ax1.set_title('Accuracy')\n",
    "ax2.set_title('Precision')\n",
    "ax3.set_title('Recall')\n",
    "# fig.tight_layout()"
   ]
  },
  {
   "cell_type": "code",
   "execution_count": 90,
   "metadata": {},
   "outputs": [
    {
     "name": "stdout",
     "output_type": "stream",
     "text": [
      "=============For Tree Count 100 ===================\n",
      "W__coronavirus\n",
      "W__china\n",
      "W__peopl\n",
      "W__numnum\n",
      "W__virus\n",
      "W__chines\n",
      "W__num\n",
      "W__case\n",
      "W__wuhan\n",
      "W__infect\n",
      "=============For Tree Count 110 ===================\n",
      "W__coronavirus\n",
      "W__china\n",
      "W__peopl\n",
      "W__numnum\n",
      "W__virus\n",
      "W__wuhan\n",
      "W__num\n",
      "W__chines\n",
      "W__case\n",
      "W__time\n",
      "=============For Tree Count 120 ===================\n",
      "W__coronavirus\n",
      "W__china\n",
      "W__peopl\n",
      "W__virus\n",
      "W__num\n",
      "W__chines\n",
      "W__numnum\n",
      "W__spread\n",
      "W__time\n",
      "W__wuhan\n",
      "=============For Tree Count 130 ===================\n",
      "W__coronavirus\n",
      "W__china\n",
      "W__peopl\n",
      "W__virus\n",
      "W__numnum\n",
      "W__chines\n",
      "W__num\n",
      "W__wuhan\n",
      "W__case\n",
      "W__outbreak\n",
      "=============For Tree Count 140 ===================\n",
      "W__coronavirus\n",
      "W__china\n",
      "W__peopl\n",
      "W__virus\n",
      "W__numnum\n",
      "W__chines\n",
      "W__num\n",
      "W__wuhan\n",
      "W__time\n",
      "W__spread\n",
      "=============For Tree Count 150 ===================\n",
      "W__coronavirus\n",
      "W__china\n",
      "W__virus\n",
      "W__peopl\n",
      "W__numnum\n",
      "W__chines\n",
      "W__wuhan\n",
      "W__num\n",
      "W__time\n",
      "W__case\n"
     ]
    }
   ],
   "source": [
    "for step in [100,110,120,130, 140, 150]:\n",
    "    clf = RandomForestClassifier(n_estimators=step)\n",
    "    clf.fit(X_train, y_train)\n",
    "    importances = clf.feature_importances_\n",
    "    std = np.std([tree.feature_importances_ for tree in clf.estimators_], axis=0)\n",
    "    indices = np.argsort(importances)[::-1]\n",
    "    best_10 = indices[0:10]\n",
    "    print(\"=============For Tree Count \" + str(step) + \" ===================\")\n",
    "    for i in best_10:\n",
    "        print(feature_names[i])"
   ]
  },
  {
   "cell_type": "code",
   "execution_count": null,
   "metadata": {},
   "outputs": [],
   "source": []
  }
 ],
 "metadata": {
  "kernelspec": {
   "display_name": "Python 3",
   "language": "python",
   "name": "python3"
  },
  "language_info": {
   "codemirror_mode": {
    "name": "ipython",
    "version": 3
   },
   "file_extension": ".py",
   "mimetype": "text/x-python",
   "name": "python",
   "nbconvert_exporter": "python",
   "pygments_lexer": "ipython3",
   "version": "3.7.6"
  }
 },
 "nbformat": 4,
 "nbformat_minor": 4
}
