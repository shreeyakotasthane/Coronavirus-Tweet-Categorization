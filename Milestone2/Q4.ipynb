{
 "cells": [
  {
   "cell_type": "code",
   "execution_count": 1,
   "metadata": {},
   "outputs": [],
   "source": [
    "import pandas as pd\n",
    "import re\n",
    "import numpy as np\n",
    "import snowballstemmer\n",
    "from sklearn.feature_extraction.text import TfidfVectorizer\n",
    "from sklearn.feature_extraction.text import TfidfVectorizer\n",
    "from sklearn.metrics import classification_report, accuracy_score, make_scorer\n",
    "from sklearn.model_selection import StratifiedKFold\n",
    "from sklearn.linear_model import LogisticRegression\n",
    "from sklearn.ensemble import RandomForestClassifier\n",
    "from sklearn.naive_bayes import MultinomialNB\n",
    "from sklearn.svm import LinearSVC\n",
    "from sklearn.tree import DecisionTreeClassifier\n",
    "import matplotlib.pyplot as plt\n",
    "from sklearn.model_selection import cross_val_score\n",
    "import preprocessor as p\n",
    "from sklearn.model_selection import train_test_split"
   ]
  },
  {
   "cell_type": "code",
   "execution_count": 2,
   "metadata": {},
   "outputs": [
    {
     "data": {
      "text/plain": [
       "499"
      ]
     },
     "execution_count": 2,
     "metadata": {},
     "output_type": "execute_result"
    }
   ],
   "source": [
    "data = pd.read_csv(\"InformationSeeking.csv\", encoding='utf-8', index_col=False) #Loading the data\n",
    "len(data)"
   ]
  },
  {
   "cell_type": "code",
   "execution_count": 3,
   "metadata": {},
   "outputs": [
    {
     "data": {
      "text/plain": [
       "Index(['Text', 'IS/NO?'], dtype='object')"
      ]
     },
     "execution_count": 3,
     "metadata": {},
     "output_type": "execute_result"
    }
   ],
   "source": [
    "data.columns"
   ]
  },
  {
   "cell_type": "markdown",
   "metadata": {},
   "source": [
    "# Cleaning the Tweets"
   ]
  },
  {
   "cell_type": "code",
   "execution_count": 4,
   "metadata": {},
   "outputs": [],
   "source": [
    "p.set_options(p.OPT.URL, p.OPT.EMOJI, p.OPT.SMILEY)\n",
    "def clean_tweet(row):\n",
    "    text = p.clean(row['Text'])\n",
    "    row['filtered_tweet'] = re.sub('\\d', 'NUM', text)\n",
    "    return row\n",
    "data = data.apply(lambda row: clean_tweet(row), axis =1)"
   ]
  },
  {
   "cell_type": "code",
   "execution_count": 5,
   "metadata": {},
   "outputs": [
    {
     "data": {
      "text/plain": [
       "498"
      ]
     },
     "execution_count": 5,
     "metadata": {},
     "output_type": "execute_result"
    }
   ],
   "source": [
    "data = data[pd.notnull(data['filtered_tweet'])]\n",
    "data = data[pd.notnull(data['IS/NO?'])]\n",
    "len(data)"
   ]
  },
  {
   "cell_type": "code",
   "execution_count": 6,
   "metadata": {},
   "outputs": [
    {
     "data": {
      "text/plain": [
       "0.0    455\n",
       "1.0     43\n",
       "Name: IS/NO?, dtype: int64"
      ]
     },
     "execution_count": 6,
     "metadata": {},
     "output_type": "execute_result"
    }
   ],
   "source": [
    "data['IS/NO?'].value_counts()"
   ]
  },
  {
   "cell_type": "markdown",
   "metadata": {},
   "source": [
    "# Over Sampling"
   ]
  },
  {
   "cell_type": "code",
   "execution_count": 7,
   "metadata": {},
   "outputs": [],
   "source": [
    "values = []\n",
    "for idx, val in data.iterrows():\n",
    "    if val['IS/NO?'] == 1:\n",
    "        for i in range(5):\n",
    "            values.append(val)\n",
    "    else:\n",
    "        values.append(val)\n",
    "data = pd.DataFrame(values)"
   ]
  },
  {
   "cell_type": "code",
   "execution_count": 8,
   "metadata": {},
   "outputs": [
    {
     "data": {
      "text/plain": [
       "0.0    455\n",
       "1.0    215\n",
       "Name: IS/NO?, dtype: int64"
      ]
     },
     "execution_count": 8,
     "metadata": {},
     "output_type": "execute_result"
    }
   ],
   "source": [
    "data['IS/NO?'].value_counts()"
   ]
  },
  {
   "cell_type": "code",
   "execution_count": 9,
   "metadata": {},
   "outputs": [],
   "source": [
    "data = data.sample(frac=1, random_state=7).reset_index(drop=True)"
   ]
  },
  {
   "cell_type": "code",
   "execution_count": 10,
   "metadata": {},
   "outputs": [
    {
     "data": {
      "text/html": [
       "<div>\n",
       "<style scoped>\n",
       "    .dataframe tbody tr th:only-of-type {\n",
       "        vertical-align: middle;\n",
       "    }\n",
       "\n",
       "    .dataframe tbody tr th {\n",
       "        vertical-align: top;\n",
       "    }\n",
       "\n",
       "    .dataframe thead th {\n",
       "        text-align: right;\n",
       "    }\n",
       "</style>\n",
       "<table border=\"1\" class=\"dataframe\">\n",
       "  <thead>\n",
       "    <tr style=\"text-align: right;\">\n",
       "      <th></th>\n",
       "      <th>Text</th>\n",
       "      <th>IS/NO?</th>\n",
       "      <th>filtered_tweet</th>\n",
       "    </tr>\n",
       "  </thead>\n",
       "  <tbody>\n",
       "    <tr>\n",
       "      <th>0</th>\n",
       "      <td>Tell us there's cure instead....\\n\\nI said on ...</td>\n",
       "      <td>0.0</td>\n",
       "      <td>Tell us there's cure instead.... I said on beh...</td>\n",
       "    </tr>\n",
       "    <tr>\n",
       "      <th>1</th>\n",
       "      <td>Tencent may have accidentally leaked real dat....</td>\n",
       "      <td>0.0</td>\n",
       "      <td>Tencent may have accidentally leaked real dat....</td>\n",
       "    </tr>\n",
       "    <tr>\n",
       "      <th>2</th>\n",
       "      <td>Some #businesscontinuity examples of the impac...</td>\n",
       "      <td>0.0</td>\n",
       "      <td>Some #businesscontinuity examples of the impac...</td>\n",
       "    </tr>\n",
       "    <tr>\n",
       "      <th>3</th>\n",
       "      <td>Canadian scientists pioneer mask that kills vi...</td>\n",
       "      <td>0.0</td>\n",
       "      <td>Canadian scientists pioneer mask that kills vi...</td>\n",
       "    </tr>\n",
       "    <tr>\n",
       "      <th>4</th>\n",
       "      <td>So why did the DoD pick here in #Nebraska?   L...</td>\n",
       "      <td>1.0</td>\n",
       "      <td>So why did the DoD pick here in #Nebraska? Log...</td>\n",
       "    </tr>\n",
       "  </tbody>\n",
       "</table>\n",
       "</div>"
      ],
      "text/plain": [
       "                                                Text  IS/NO?  \\\n",
       "0  Tell us there's cure instead....\\n\\nI said on ...     0.0   \n",
       "1  Tencent may have accidentally leaked real dat....     0.0   \n",
       "2  Some #businesscontinuity examples of the impac...     0.0   \n",
       "3  Canadian scientists pioneer mask that kills vi...     0.0   \n",
       "4  So why did the DoD pick here in #Nebraska?   L...     1.0   \n",
       "\n",
       "                                      filtered_tweet  \n",
       "0  Tell us there's cure instead.... I said on beh...  \n",
       "1  Tencent may have accidentally leaked real dat....  \n",
       "2  Some #businesscontinuity examples of the impac...  \n",
       "3  Canadian scientists pioneer mask that kills vi...  \n",
       "4  So why did the DoD pick here in #Nebraska? Log...  "
      ]
     },
     "execution_count": 10,
     "metadata": {},
     "output_type": "execute_result"
    }
   ],
   "source": [
    "data.head(5)"
   ]
  },
  {
   "cell_type": "markdown",
   "metadata": {},
   "source": [
    "# TF-IDF Vectorization"
   ]
  },
  {
   "cell_type": "code",
   "execution_count": 11,
   "metadata": {},
   "outputs": [],
   "source": [
    "english_stemmer = snowballstemmer.stemmer('english')\n",
    "class StemmedTfidfVectorizer(TfidfVectorizer):\n",
    "    def build_analyzer(self):\n",
    "        analyzer = super(TfidfVectorizer, self).build_analyzer()\n",
    "        return lambda doc: english_stemmer.stemWords(analyzer(doc))"
   ]
  },
  {
   "cell_type": "code",
   "execution_count": 12,
   "metadata": {},
   "outputs": [],
   "source": [
    "tfidf_vect = StemmedTfidfVectorizer(min_df=5, stop_words='english', analyzer='word', ngram_range=(1,2), max_features=2500, norm='l2', encoding='utf-8')"
   ]
  },
  {
   "cell_type": "code",
   "execution_count": 13,
   "metadata": {},
   "outputs": [],
   "source": [
    "sentence_term_tfidf = tfidf_vect.fit_transform(data['filtered_tweet'])\n",
    "sentence_term_df = pd.DataFrame(sentence_term_tfidf.todense(), columns=np.sort(list(tfidf_vect.vocabulary_.keys())))\n",
    "sentence_term_df.columns = sentence_term_df.columns.map(lambda x: 'W_'+'_'+x)"
   ]
  },
  {
   "cell_type": "code",
   "execution_count": 14,
   "metadata": {},
   "outputs": [
    {
     "data": {
      "text/html": [
       "<div>\n",
       "<style scoped>\n",
       "    .dataframe tbody tr th:only-of-type {\n",
       "        vertical-align: middle;\n",
       "    }\n",
       "\n",
       "    .dataframe tbody tr th {\n",
       "        vertical-align: top;\n",
       "    }\n",
       "\n",
       "    .dataframe thead th {\n",
       "        text-align: right;\n",
       "    }\n",
       "</style>\n",
       "<table border=\"1\" class=\"dataframe\">\n",
       "  <thead>\n",
       "    <tr style=\"text-align: right;\">\n",
       "      <th></th>\n",
       "      <th>W__account</th>\n",
       "      <th>W__account follow</th>\n",
       "      <th>W__acrual</th>\n",
       "      <th>W__actual</th>\n",
       "      <th>W__affect</th>\n",
       "      <th>W__affecting asian</th>\n",
       "      <th>W__africa</th>\n",
       "      <th>W__africa south</th>\n",
       "      <th>W__agenc</th>\n",
       "      <th>W__agencies believ</th>\n",
       "      <th>...</th>\n",
       "      <th>W__world</th>\n",
       "      <th>W__world countri</th>\n",
       "      <th>W__worri</th>\n",
       "      <th>W__wtf</th>\n",
       "      <th>W__wtf happen</th>\n",
       "      <th>W__wuhan</th>\n",
       "      <th>W__wuhan china</th>\n",
       "      <th>W__wuhan coronavirus</th>\n",
       "      <th>W__youtub</th>\n",
       "      <th>W__youtube coronavirus</th>\n",
       "    </tr>\n",
       "  </thead>\n",
       "  <tbody>\n",
       "    <tr>\n",
       "      <th>0</th>\n",
       "      <td>0.0</td>\n",
       "      <td>0.0</td>\n",
       "      <td>0.0</td>\n",
       "      <td>0.0</td>\n",
       "      <td>0.0</td>\n",
       "      <td>0.0</td>\n",
       "      <td>0.0</td>\n",
       "      <td>0.0</td>\n",
       "      <td>0.0</td>\n",
       "      <td>0.0</td>\n",
       "      <td>...</td>\n",
       "      <td>0.000000</td>\n",
       "      <td>0.000000</td>\n",
       "      <td>0.0</td>\n",
       "      <td>0.0</td>\n",
       "      <td>0.0</td>\n",
       "      <td>0.0</td>\n",
       "      <td>0.0</td>\n",
       "      <td>0.0</td>\n",
       "      <td>0.0</td>\n",
       "      <td>0.0</td>\n",
       "    </tr>\n",
       "    <tr>\n",
       "      <th>1</th>\n",
       "      <td>0.0</td>\n",
       "      <td>0.0</td>\n",
       "      <td>0.0</td>\n",
       "      <td>0.0</td>\n",
       "      <td>0.0</td>\n",
       "      <td>0.0</td>\n",
       "      <td>0.0</td>\n",
       "      <td>0.0</td>\n",
       "      <td>0.0</td>\n",
       "      <td>0.0</td>\n",
       "      <td>...</td>\n",
       "      <td>0.000000</td>\n",
       "      <td>0.000000</td>\n",
       "      <td>0.0</td>\n",
       "      <td>0.0</td>\n",
       "      <td>0.0</td>\n",
       "      <td>0.0</td>\n",
       "      <td>0.0</td>\n",
       "      <td>0.0</td>\n",
       "      <td>0.0</td>\n",
       "      <td>0.0</td>\n",
       "    </tr>\n",
       "    <tr>\n",
       "      <th>2</th>\n",
       "      <td>0.0</td>\n",
       "      <td>0.0</td>\n",
       "      <td>0.0</td>\n",
       "      <td>0.0</td>\n",
       "      <td>0.0</td>\n",
       "      <td>0.0</td>\n",
       "      <td>0.0</td>\n",
       "      <td>0.0</td>\n",
       "      <td>0.0</td>\n",
       "      <td>0.0</td>\n",
       "      <td>...</td>\n",
       "      <td>0.000000</td>\n",
       "      <td>0.000000</td>\n",
       "      <td>0.0</td>\n",
       "      <td>0.0</td>\n",
       "      <td>0.0</td>\n",
       "      <td>0.0</td>\n",
       "      <td>0.0</td>\n",
       "      <td>0.0</td>\n",
       "      <td>0.0</td>\n",
       "      <td>0.0</td>\n",
       "    </tr>\n",
       "    <tr>\n",
       "      <th>3</th>\n",
       "      <td>0.0</td>\n",
       "      <td>0.0</td>\n",
       "      <td>0.0</td>\n",
       "      <td>0.0</td>\n",
       "      <td>0.0</td>\n",
       "      <td>0.0</td>\n",
       "      <td>0.0</td>\n",
       "      <td>0.0</td>\n",
       "      <td>0.0</td>\n",
       "      <td>0.0</td>\n",
       "      <td>...</td>\n",
       "      <td>0.000000</td>\n",
       "      <td>0.000000</td>\n",
       "      <td>0.0</td>\n",
       "      <td>0.0</td>\n",
       "      <td>0.0</td>\n",
       "      <td>0.0</td>\n",
       "      <td>0.0</td>\n",
       "      <td>0.0</td>\n",
       "      <td>0.0</td>\n",
       "      <td>0.0</td>\n",
       "    </tr>\n",
       "    <tr>\n",
       "      <th>4</th>\n",
       "      <td>0.0</td>\n",
       "      <td>0.0</td>\n",
       "      <td>0.0</td>\n",
       "      <td>0.0</td>\n",
       "      <td>0.0</td>\n",
       "      <td>0.0</td>\n",
       "      <td>0.0</td>\n",
       "      <td>0.0</td>\n",
       "      <td>0.0</td>\n",
       "      <td>0.0</td>\n",
       "      <td>...</td>\n",
       "      <td>0.203333</td>\n",
       "      <td>0.254683</td>\n",
       "      <td>0.0</td>\n",
       "      <td>0.0</td>\n",
       "      <td>0.0</td>\n",
       "      <td>0.0</td>\n",
       "      <td>0.0</td>\n",
       "      <td>0.0</td>\n",
       "      <td>0.0</td>\n",
       "      <td>0.0</td>\n",
       "    </tr>\n",
       "  </tbody>\n",
       "</table>\n",
       "<p>5 rows × 563 columns</p>\n",
       "</div>"
      ],
      "text/plain": [
       "   W__account  W__account follow  W__acrual  W__actual  W__affect  \\\n",
       "0         0.0                0.0        0.0        0.0        0.0   \n",
       "1         0.0                0.0        0.0        0.0        0.0   \n",
       "2         0.0                0.0        0.0        0.0        0.0   \n",
       "3         0.0                0.0        0.0        0.0        0.0   \n",
       "4         0.0                0.0        0.0        0.0        0.0   \n",
       "\n",
       "   W__affecting asian  W__africa  W__africa south  W__agenc  \\\n",
       "0                 0.0        0.0              0.0       0.0   \n",
       "1                 0.0        0.0              0.0       0.0   \n",
       "2                 0.0        0.0              0.0       0.0   \n",
       "3                 0.0        0.0              0.0       0.0   \n",
       "4                 0.0        0.0              0.0       0.0   \n",
       "\n",
       "   W__agencies believ  ...  W__world  W__world countri  W__worri  W__wtf  \\\n",
       "0                 0.0  ...  0.000000          0.000000       0.0     0.0   \n",
       "1                 0.0  ...  0.000000          0.000000       0.0     0.0   \n",
       "2                 0.0  ...  0.000000          0.000000       0.0     0.0   \n",
       "3                 0.0  ...  0.000000          0.000000       0.0     0.0   \n",
       "4                 0.0  ...  0.203333          0.254683       0.0     0.0   \n",
       "\n",
       "   W__wtf happen  W__wuhan  W__wuhan china  W__wuhan coronavirus  W__youtub  \\\n",
       "0            0.0       0.0             0.0                   0.0        0.0   \n",
       "1            0.0       0.0             0.0                   0.0        0.0   \n",
       "2            0.0       0.0             0.0                   0.0        0.0   \n",
       "3            0.0       0.0             0.0                   0.0        0.0   \n",
       "4            0.0       0.0             0.0                   0.0        0.0   \n",
       "\n",
       "   W__youtube coronavirus  \n",
       "0                     0.0  \n",
       "1                     0.0  \n",
       "2                     0.0  \n",
       "3                     0.0  \n",
       "4                     0.0  \n",
       "\n",
       "[5 rows x 563 columns]"
      ]
     },
     "execution_count": 14,
     "metadata": {},
     "output_type": "execute_result"
    }
   ],
   "source": [
    "sentence_term_df.head(5)"
   ]
  },
  {
   "cell_type": "code",
   "execution_count": 15,
   "metadata": {},
   "outputs": [
    {
     "data": {
      "text/plain": [
       "(670, 563)"
      ]
     },
     "execution_count": 15,
     "metadata": {},
     "output_type": "execute_result"
    }
   ],
   "source": [
    "sentence_term_df.shape"
   ]
  },
  {
   "cell_type": "code",
   "execution_count": 16,
   "metadata": {},
   "outputs": [
    {
     "data": {
      "text/plain": [
       "(670,)"
      ]
     },
     "execution_count": 16,
     "metadata": {},
     "output_type": "execute_result"
    }
   ],
   "source": [
    "labels = data['IS/NO?']\n",
    "labels.shape"
   ]
  },
  {
   "cell_type": "code",
   "execution_count": 17,
   "metadata": {},
   "outputs": [],
   "source": [
    "features = sentence_term_df.values"
   ]
  },
  {
   "cell_type": "code",
   "execution_count": 18,
   "metadata": {},
   "outputs": [
    {
     "data": {
      "text/plain": [
       "(670, 563)"
      ]
     },
     "execution_count": 18,
     "metadata": {},
     "output_type": "execute_result"
    }
   ],
   "source": [
    "features.shape"
   ]
  },
  {
   "cell_type": "markdown",
   "metadata": {},
   "source": [
    "# Train - Test Split"
   ]
  },
  {
   "cell_type": "code",
   "execution_count": 19,
   "metadata": {},
   "outputs": [],
   "source": [
    "X_train, X_test, y_train, y_test = train_test_split(features, labels, test_size=0.30, random_state=42)"
   ]
  },
  {
   "cell_type": "code",
   "execution_count": 20,
   "metadata": {},
   "outputs": [
    {
     "data": {
      "text/plain": [
       "(469, 201)"
      ]
     },
     "execution_count": 20,
     "metadata": {},
     "output_type": "execute_result"
    }
   ],
   "source": [
    "len(X_train), len(X_test)"
   ]
  },
  {
   "cell_type": "markdown",
   "metadata": {},
   "source": [
    "# Print Classification Report"
   ]
  },
  {
   "cell_type": "code",
   "execution_count": 21,
   "metadata": {},
   "outputs": [],
   "source": [
    "## For printing CLassification report with Accuracy\n",
    "def print_classification_result(y_test, y_pred):\n",
    "    target_names = ['Non-Information Seeking', 'Information Seeking']\n",
    "    print(classification_report(y_test, y_pred, target_names=target_names))\n",
    "    print('Avg. Accuracy: ', accuracy_score(y_test, y_pred))"
   ]
  },
  {
   "cell_type": "markdown",
   "metadata": {},
   "source": [
    "# Naive Bayes"
   ]
  },
  {
   "cell_type": "code",
   "execution_count": 22,
   "metadata": {},
   "outputs": [
    {
     "name": "stdout",
     "output_type": "stream",
     "text": [
      "                         precision    recall  f1-score   support\n",
      "\n",
      "Non-Information Seeking       1.00      0.96      0.98       141\n",
      "    Information Seeking       0.92      1.00      0.96        60\n",
      "\n",
      "               accuracy                           0.98       201\n",
      "              macro avg       0.96      0.98      0.97       201\n",
      "           weighted avg       0.98      0.98      0.98       201\n",
      "\n",
      "Avg. Accuracy:  0.9751243781094527\n"
     ]
    },
    {
     "name": "stderr",
     "output_type": "stream",
     "text": [
      "C:\\Users\\Shreeya\\Anaconda3\\lib\\site-packages\\sklearn\\naive_bayes.py:507: UserWarning: alpha too small will result in numeric errors, setting alpha = 1.0e-10\n",
      "  'setting alpha = %.1e' % _ALPHA_MIN)\n"
     ]
    }
   ],
   "source": [
    "## Multinomial Naive Bayes\n",
    "mn_model = MultinomialNB(alpha=0)\n",
    "mn_trained = mn_model.fit(X_train,y_train)\n",
    "y_pred = mn_trained.predict(X_test)\n",
    "print_classification_result(y_test, y_pred)"
   ]
  },
  {
   "cell_type": "code",
   "execution_count": 23,
   "metadata": {},
   "outputs": [
    {
     "name": "stdout",
     "output_type": "stream",
     "text": [
      "                         precision    recall  f1-score   support\n",
      "\n",
      "Non-Information Seeking       0.92      0.99      0.96       141\n",
      "    Information Seeking       0.98      0.80      0.88        60\n",
      "\n",
      "               accuracy                           0.94       201\n",
      "              macro avg       0.95      0.90      0.92       201\n",
      "           weighted avg       0.94      0.94      0.93       201\n",
      "\n",
      "Avg. Accuracy:  0.9353233830845771\n"
     ]
    }
   ],
   "source": [
    "## Multinomial Naive Bayes\n",
    "mn_model = MultinomialNB(alpha=1)\n",
    "mn_trained = mn_model.fit(X_train,y_train)\n",
    "y_pred = mn_trained.predict(X_test)\n",
    "print_classification_result(y_test, y_pred)"
   ]
  },
  {
   "cell_type": "markdown",
   "metadata": {},
   "source": [
    "# Logistic Regression"
   ]
  },
  {
   "cell_type": "code",
   "execution_count": 24,
   "metadata": {},
   "outputs": [
    {
     "name": "stdout",
     "output_type": "stream",
     "text": [
      "                         precision    recall  f1-score   support\n",
      "\n",
      "Non-Information Seeking       0.94      1.00      0.97       141\n",
      "    Information Seeking       1.00      0.85      0.92        60\n",
      "\n",
      "               accuracy                           0.96       201\n",
      "              macro avg       0.97      0.93      0.94       201\n",
      "           weighted avg       0.96      0.96      0.95       201\n",
      "\n",
      "Avg. Accuracy:  0.9552238805970149\n"
     ]
    }
   ],
   "source": [
    "lg_model = LogisticRegression(random_state=0)\n",
    "lg_trained = lg_model.fit(X_train,y_train)\n",
    "y_pred = lg_trained.predict(X_test)\n",
    "print_classification_result(y_test, y_pred)"
   ]
  },
  {
   "cell_type": "code",
   "execution_count": 25,
   "metadata": {},
   "outputs": [
    {
     "data": {
      "text/plain": [
       "array([-0.68945796])"
      ]
     },
     "execution_count": 25,
     "metadata": {},
     "output_type": "execute_result"
    }
   ],
   "source": [
    "## Intercept\n",
    "lg_trained.intercept_"
   ]
  },
  {
   "cell_type": "code",
   "execution_count": 26,
   "metadata": {},
   "outputs": [
    {
     "data": {
      "text/plain": [
       "array([[ 4.90745524e-01,  4.90745524e-01,  2.71745228e-01,\n",
       "         2.82826963e-01,  4.62949813e-01,  4.75778474e-01,\n",
       "         3.10490245e-01,  3.97711252e-01,  4.81896465e-01,\n",
       "         5.96913564e-01, -1.97081722e-01,  3.64961411e-02,\n",
       "         3.17623269e-01,  5.12557253e-01,  3.11248397e-01,\n",
       "         3.97711252e-01, -3.04776116e-01, -1.29727150e+00,\n",
       "        -1.38866679e-01, -3.18226829e-01,  3.50228640e-01,\n",
       "         3.50228640e-01,  1.39187782e-01,  9.25899627e-01,\n",
       "         4.75778474e-01,  2.98249308e-01,  4.75778474e-01,\n",
       "         4.10326932e-01,  5.76203802e-01,  6.54571172e-02,\n",
       "         2.36074642e-01,  3.86301892e-01,  3.86301892e-01,\n",
       "         4.28171649e-01,  2.71745228e-01,  5.02821750e-01,\n",
       "         5.02821750e-01,  3.50228640e-01,  3.50228640e-01,\n",
       "         3.97711252e-01,  3.97711252e-01, -2.03369419e-01,\n",
       "        -1.85145113e-01,  5.76203802e-01,  5.76203802e-01,\n",
       "        -3.19626260e-01, -4.11678296e-01, -1.37633222e-01,\n",
       "         9.42799989e-02,  2.71745228e-01,  2.71745228e-01,\n",
       "         2.71745228e-01,  3.89517675e-01,  3.89517675e-01,\n",
       "        -4.22768229e-01,  3.06377553e-01,  5.33783382e-01,\n",
       "         5.42769254e-01,  3.86301892e-01,  4.10942814e-01,\n",
       "         5.99071675e-01, -9.97362828e-01,  2.36628064e-01,\n",
       "        -1.23396668e-01, -5.38285575e-01, -4.06142221e-02,\n",
       "         3.97711252e-01,  5.76203802e-01,  5.76203802e-01,\n",
       "         1.15733146e-02,  2.24057165e-01,  6.35246538e-01,\n",
       "        -1.69378517e-01,  2.27822406e-01, -7.50379023e-01,\n",
       "        -6.64008109e-02,  3.62727376e-01, -1.60183286e-01,\n",
       "        -2.40291985e+00,  4.75778474e-01,  2.98249308e-01,\n",
       "        -4.35769620e-01, -3.18038530e-01, -2.10285797e-01,\n",
       "         5.42769254e-01,  4.89263908e-01,  3.99114182e-01,\n",
       "         5.76203802e-01, -3.15956445e-01,  5.05996357e-01,\n",
       "         4.05968653e-01,  5.17974281e-01, -1.59767165e-01,\n",
       "        -2.36991543e-01,  1.19559357e-01,  3.99114182e-01,\n",
       "         1.14337129e-01,  2.36074642e-01,  3.78438420e-01,\n",
       "         4.90745524e-01,  4.90745524e-01, -5.81830459e-01,\n",
       "        -3.34189465e-01, -1.77829994e-01, -2.59462864e-01,\n",
       "         3.17623269e-01, -2.82072558e-01,  2.71745228e-01,\n",
       "        -2.10285797e-01,  4.10942814e-01,  4.10942814e-01,\n",
       "         3.66543681e-01,  3.66543681e-01,  6.34243358e-01,\n",
       "         6.34243358e-01, -4.40493389e-01, -4.40493389e-01,\n",
       "        -2.10285797e-01, -2.10285797e-01,  1.39461053e-01,\n",
       "         3.97711252e-01,  3.78438420e-01,  1.56844106e-01,\n",
       "         2.36074642e-01, -6.04154380e-01,  5.76203802e-01,\n",
       "         5.76203802e-01, -2.70387962e-01, -4.41539973e-01,\n",
       "         3.99114182e-01,  3.99114182e-01,  5.78305122e-01,\n",
       "         5.12557253e-01,  5.12557253e-01, -7.69775705e-01,\n",
       "         2.71745228e-01,  3.78438420e-01,  3.78438420e-01,\n",
       "         1.92411263e-01,  4.90808660e-01, -5.43516575e-01,\n",
       "         3.56226249e-01,  2.90664295e-01, -1.24377949e-01,\n",
       "         2.90664295e-01, -4.60597984e-01, -2.47755618e-01,\n",
       "        -2.10285797e-01, -2.10285797e-01,  2.90664295e-01,\n",
       "         2.90664295e-01,  5.76203802e-01,  5.76203802e-01,\n",
       "         2.36074642e-01,  2.36074642e-01,  4.90808660e-01,\n",
       "         4.90808660e-01,  2.88014577e-01,  3.97711252e-01,\n",
       "         3.67872603e-01,  3.67872603e-01, -2.77038009e-01,\n",
       "        -4.39881552e-02,  5.33783382e-01,  4.97172011e-01,\n",
       "         4.97172011e-01,  4.90745524e-01,  4.90745524e-01,\n",
       "         2.22138255e-01,  5.42769254e-01,  3.62727376e-01,\n",
       "         3.62727376e-01,  5.42769254e-01,  5.42769254e-01,\n",
       "        -2.84440943e-01,  4.20955406e-01,  6.36477631e-01,\n",
       "        -4.21742818e-01, -3.87672336e-01, -4.79959522e-01,\n",
       "        -2.57827835e-01, -2.40350507e-01,  3.89517675e-01,\n",
       "         6.75382195e-02,  4.01989773e-01, -2.00759149e-01,\n",
       "         3.86301892e-01,  3.86301892e-01,  5.12557253e-01,\n",
       "         5.12557253e-01,  5.33783382e-01,  5.33783382e-01,\n",
       "        -4.41851028e-01,  7.36301239e-01,  5.76281898e-02,\n",
       "         4.10942814e-01,  6.36477631e-01,  3.68054287e-01,\n",
       "         5.02821750e-01, -4.37608197e-01,  4.10942814e-01,\n",
       "        -2.82395578e-01,  4.90808660e-01,  4.90808660e-01,\n",
       "         1.69254354e-01,  5.96913564e-01, -4.18419331e-01,\n",
       "        -4.40493389e-01, -2.53845808e-01,  2.22507573e-01,\n",
       "         5.71121158e-01,  8.43993595e-01,  2.69300093e-01,\n",
       "         2.90664295e-01,  5.02486103e-01,  5.76203802e-01,\n",
       "         1.09834982e-01,  2.98249308e-01,  4.93569858e-01,\n",
       "        -2.00759149e-01, -2.00759149e-01,  5.49427056e-01,\n",
       "         6.36477631e-01, -1.25172875e-01,  5.71121158e-01,\n",
       "        -4.73331181e-01,  4.10942814e-01,  4.10942814e-01,\n",
       "         5.12557253e-01,  5.12557253e-01,  3.27594739e-01,\n",
       "         5.17974281e-01, -6.46067667e-02,  6.87994831e-01,\n",
       "         3.56226249e-01,  2.36498600e-01,  5.02821750e-01,\n",
       "         2.71745228e-01,  2.71745228e-01, -8.49702624e-02,\n",
       "         3.56226249e-01,  4.16828404e-01,  4.16828404e-01,\n",
       "        -2.04524372e-02,  3.56226249e-01,  2.36074642e-01,\n",
       "         2.36074642e-01,  4.05589245e-01,  4.16828404e-01,\n",
       "        -7.34375792e-01,  3.68766211e-01,  5.33783382e-01,\n",
       "         7.80352956e-01,  5.82918596e-01,  3.66543681e-01,\n",
       "         4.47898037e-01,  5.12557253e-01,  5.92713154e-01,\n",
       "         2.27822406e-01,  6.87994831e-01, -2.63756722e-01,\n",
       "        -3.94608315e-01, -5.98715395e-01,  6.08814609e-01,\n",
       "        -5.36389882e-01, -8.40520862e-01, -2.97572431e-01,\n",
       "        -7.43294488e-02,  2.14778716e-01,  3.62727376e-01,\n",
       "         2.22469334e-01,  3.23308733e-01,  3.23308733e-01,\n",
       "        -2.57594555e-01, -6.19484555e-01, -3.11497206e-01,\n",
       "         1.85740839e-01,  2.71745228e-01, -4.08219586e-01,\n",
       "         4.16828404e-01,  4.83766506e-01,  4.97172011e-01,\n",
       "        -6.26290345e-01, -2.36555756e-01,  3.78438420e-01,\n",
       "         3.78438420e-01,  3.55877430e-01,  4.90808660e-01,\n",
       "        -4.01202556e-01,  5.02821750e-01,  3.40329386e-01,\n",
       "        -3.13166926e-01,  5.71121158e-01, -3.03910923e-01,\n",
       "         3.62727376e-01,  3.62727376e-01, -4.36441074e-01,\n",
       "         3.99114182e-01,  2.22248606e-01,  3.23308733e-01,\n",
       "         1.04649900e-01,  3.17623269e-01, -4.32599884e-01,\n",
       "        -3.25188954e-01,  6.30017539e-01,  2.36074642e-01,\n",
       "         4.72149285e-01,  1.80232349e-01,  5.71121158e-01,\n",
       "        -7.96898524e-02,  2.84258473e-01, -1.36955854e-01,\n",
       "         3.50228640e-01,  3.78438420e-01,  3.78438420e-01,\n",
       "        -9.08950390e-01, -1.95462008e-01, -3.17800213e-01,\n",
       "        -3.13833567e-01,  2.69300093e-01, -5.21299079e-01,\n",
       "         3.62727376e-01,  3.62727376e-01,  4.75778474e-01,\n",
       "         4.75778474e-01,  1.77167459e-01,  8.11178490e-01,\n",
       "        -5.78512560e-01, -7.99462701e-01,  4.10942814e-01,\n",
       "        -1.61172314e-01,  1.69596155e-01,  7.18594429e-01,\n",
       "        -3.52352654e-01,  5.12557253e-01,  4.20219023e-01,\n",
       "        -3.53937841e-01,  5.17974281e-01,  1.33483661e-02,\n",
       "         2.27822406e-01,  2.83382074e-01, -2.66311840e-01,\n",
       "        -2.93095239e-01,  3.89517675e-01,  3.89517675e-01,\n",
       "         3.23308733e-01,  3.23308733e-01,  9.23696905e-01,\n",
       "         3.95970740e-01,  2.27822406e-01,  5.12557253e-01,\n",
       "        -4.13530231e-01, -3.95425616e-01,  3.97711252e-01,\n",
       "         2.82826963e-01,  2.90664295e-01,  5.76203802e-01,\n",
       "        -3.25006636e-01,  3.53964693e-01,  4.93569858e-01,\n",
       "         4.23365399e-01, -3.79877753e-01, -3.85608195e-01,\n",
       "         2.27822406e-01,  2.27822406e-01,  9.21205763e-02,\n",
       "         5.12557253e-01,  5.42769254e-01, -9.43115881e-01,\n",
       "         3.56226249e-01,  3.50228640e-01, -4.99347056e-01,\n",
       "         3.78438420e-01,  3.78438420e-01, -2.00759149e-01,\n",
       "        -1.38866679e-01, -7.45507023e-04,  3.67872603e-01,\n",
       "        -3.54922058e-01,  2.69962143e-01,  4.75778474e-01,\n",
       "         3.62727376e-01,  3.62727376e-01,  5.12557253e-01,\n",
       "         5.12557253e-01, -8.37551091e-01, -2.73527220e-01,\n",
       "        -8.26166040e-01,  3.94262204e-01,  6.40320525e-02,\n",
       "         2.36074642e-01, -2.50484617e-01,  2.82826963e-01,\n",
       "         1.87787314e-01,  2.90664295e-01,  4.23365399e-01,\n",
       "         8.53950089e-02,  5.90533010e-01,  3.66543681e-01,\n",
       "         3.23308733e-01,  3.23308733e-01,  1.44211358e-01,\n",
       "         3.86301892e-01,  5.76203802e-01,  5.76203802e-01,\n",
       "         5.42769254e-01,  5.42769254e-01,  3.86301892e-01,\n",
       "         3.86301892e-01, -5.54336546e-01,  2.14356606e-01,\n",
       "         3.67872603e-01,  1.60697665e-01,  3.23308733e-01,\n",
       "        -6.73420484e-02,  2.27822406e-01, -5.47884472e-01,\n",
       "        -7.07198336e-02,  3.56226249e-01, -2.55410053e-01,\n",
       "         5.17974281e-01,  5.17974281e-01,  2.67330801e-01,\n",
       "        -1.97876509e-01,  3.66543681e-01,  3.97711252e-01,\n",
       "         3.97711252e-01, -7.38854654e-01, -3.60774067e-01,\n",
       "        -2.98687321e-01, -1.97711701e-01,  3.17623269e-01,\n",
       "         3.17623269e-01, -3.64847383e-01,  4.97172011e-01,\n",
       "         4.97172011e-01,  1.54276097e-01,  3.56226249e-01,\n",
       "         1.65622368e-01,  8.29027044e-01,  5.71121158e-01,\n",
       "         3.56226249e-01,  3.62727376e-01,  3.62727376e-01,\n",
       "        -3.22043626e-01, -1.38866679e-01, -3.18420377e-01,\n",
       "         2.53733702e-01,  3.89517675e-01,  4.93569858e-01,\n",
       "         4.93569858e-01,  3.07237957e-01,  4.23365399e-01,\n",
       "        -2.99932022e-01,  1.15309236e-01,  3.97711252e-01,\n",
       "         3.12509810e-01,  4.13210590e-01,  4.93569858e-01,\n",
       "        -2.00759149e-01, -2.00759149e-01,  4.50227862e-02,\n",
       "         4.10942814e-01,  5.17974281e-01,  5.17974281e-01,\n",
       "        -5.40775149e-01,  3.66052322e-01,  4.23365399e-01,\n",
       "         4.90745524e-01,  4.90745524e-01, -2.10285797e-01,\n",
       "         3.86301892e-01,  3.86301892e-01,  5.99071675e-01,\n",
       "         5.99071675e-01,  4.15953233e-01,  4.93569858e-01,\n",
       "         4.23365399e-01,  4.23365399e-01,  3.86301892e-01,\n",
       "         3.86301892e-01, -6.18683454e-01,  2.90664295e-01,\n",
       "         2.90664295e-01,  3.23308733e-01,  3.23308733e-01,\n",
       "         3.23308733e-01,  3.23308733e-01,  6.73914211e-01,\n",
       "         4.15103666e-01,  3.50228640e-01,  3.50228640e-01,\n",
       "         4.16828404e-01, -4.07670450e-01, -6.17276770e-01,\n",
       "         2.71692796e-01,  5.99071675e-01, -4.11414691e-01,\n",
       "        -2.10285797e-01,  3.89517675e-01,  1.94221253e-01,\n",
       "        -2.27383236e-01, -2.65511340e-01,  2.36074642e-01,\n",
       "        -4.96317344e-01,  8.56284760e-02,  1.02621811e+00,\n",
       "         4.10942814e-01, -1.49789290e-01,  1.08825645e+00,\n",
       "         3.66543681e-01,  3.78438420e-01,  3.78438420e-01,\n",
       "        -2.89117379e-01,  5.79642031e-03,  3.62727376e-01,\n",
       "         8.56349890e-02,  3.89517675e-01,  4.16828404e-01,\n",
       "         4.16828404e-01,  2.27822406e-01,  2.27822406e-01,\n",
       "        -2.60308817e-01, -1.80210536e-01,  4.16828404e-01,\n",
       "         2.27822406e-01,  4.93569858e-01,  2.27822406e-01,\n",
       "        -1.17275269e-01,  2.90664295e-01, -5.19209803e-01,\n",
       "         2.36074642e-01, -6.05531857e-02,  3.67872603e-01,\n",
       "         5.12557253e-01, -2.92891633e-01, -2.43146300e-01,\n",
       "         3.99114182e-01,  1.72885875e-01,  3.99114182e-01,\n",
       "        -6.12450626e-01, -3.11497206e-01,  3.17623269e-01,\n",
       "         3.17623269e-01, -4.91311864e-01,  2.36074642e-01,\n",
       "         2.90664295e-01,  2.90664295e-01,  9.55671164e-01,\n",
       "         5.02821750e-01,  2.90664295e-01,  3.89517675e-01,\n",
       "        -4.81272491e-01,  2.20130571e-01,  3.78438420e-01,\n",
       "        -4.03621970e-01,  4.97172011e-01,  4.97172011e-01,\n",
       "        -7.04493407e-01,  3.21254556e-01,  9.09738098e-02,\n",
       "         3.20616343e-01,  3.99114182e-01]])"
      ]
     },
     "execution_count": 26,
     "metadata": {},
     "output_type": "execute_result"
    }
   ],
   "source": [
    "lg_trained.coef_"
   ]
  },
  {
   "cell_type": "code",
   "execution_count": 27,
   "metadata": {},
   "outputs": [],
   "source": [
    "import statsmodels.api as sm\n",
    "mod = sm.OLS(y_train,X_train)\n",
    "fii = mod.fit()\n",
    "p_values = fii.summary2().tables[1]['P>|t|']"
   ]
  },
  {
   "cell_type": "code",
   "execution_count": 28,
   "metadata": {},
   "outputs": [
    {
     "data": {
      "text/plain": [
       "327"
      ]
     },
     "execution_count": 28,
     "metadata": {},
     "output_type": "execute_result"
    }
   ],
   "source": [
    "sig_indices = []\n",
    "p_list = p_values.to_list()\n",
    "for i in range(len(p_list)):\n",
    "    if p_list[i] < 0.05:\n",
    "        sig_indices.append(i)\n",
    "len(sig_indices)"
   ]
  },
  {
   "cell_type": "code",
   "execution_count": 29,
   "metadata": {},
   "outputs": [],
   "source": [
    "import math"
   ]
  },
  {
   "cell_type": "code",
   "execution_count": 30,
   "metadata": {},
   "outputs": [],
   "source": [
    "sig_features = []\n",
    "feat_names = list(sentence_term_df.columns)\n",
    "co_effs = list(lg_trained.coef_[0])\n",
    "for i in sig_indices:\n",
    "    entry = {}\n",
    "    score = p_list[i]\n",
    "    feature_n = feat_names[i]\n",
    "    entry['name'] = feature_n\n",
    "    entry['score'] = score\n",
    "    entry['coeff'] = co_effs[i]\n",
    "    entry['odd_ratio'] = math.exp(co_effs[i])\n",
    "    sig_features.append(entry)"
   ]
  },
  {
   "cell_type": "code",
   "execution_count": 31,
   "metadata": {},
   "outputs": [
    {
     "data": {
      "text/plain": [
       "[{'name': 'W__truth',\n",
       "  'score': 1.4626341237622353e-65,\n",
       "  'coeff': 1.0882564546687705,\n",
       "  'odd_ratio': 2.9690928090864888},\n",
       " {'name': 'W__account follow',\n",
       "  'score': 1.3652753762354188e-54,\n",
       "  'coeff': 0.49074552381357134,\n",
       "  'odd_ratio': 1.6335336043067608},\n",
       " {'name': 'W__crossstreamw',\n",
       "  'score': 1.3652753762380442e-54,\n",
       "  'coeff': 0.49074552381357134,\n",
       "  'odd_ratio': 1.6335336043067608},\n",
       " {'name': 'W__crossstreamw suggest',\n",
       "  'score': 1.365275376238297e-54,\n",
       "  'coeff': 0.49074552381357134,\n",
       "  'odd_ratio': 1.6335336043067608},\n",
       " {'name': 'W__suggest english',\n",
       "  'score': 1.3652753762390744e-54,\n",
       "  'coeff': 0.49074552381357134,\n",
       "  'odd_ratio': 1.6335336043067608},\n",
       " {'name': 'W__english',\n",
       "  'score': 1.3652753762391332e-54,\n",
       "  'coeff': 0.49074552381357134,\n",
       "  'odd_ratio': 1.6335336043067608},\n",
       " {'name': 'W__suggest',\n",
       "  'score': 1.3652753762391332e-54,\n",
       "  'coeff': 0.49074552381357134,\n",
       "  'odd_ratio': 1.6335336043067608},\n",
       " {'name': 'W__english account',\n",
       "  'score': 1.3652753762396192e-54,\n",
       "  'coeff': 0.49074552381357134,\n",
       "  'odd_ratio': 1.6335336043067608},\n",
       " {'name': 'W__account',\n",
       "  'score': 1.3652753762396968e-54,\n",
       "  'coeff': 0.49074552381357134,\n",
       "  'odd_ratio': 1.6335336043067608},\n",
       " {'name': 'W__listen',\n",
       "  'score': 3.0397200460599484e-51,\n",
       "  'coeff': 0.48376650574453056,\n",
       "  'odd_ratio': 1.6221728333907637}]"
      ]
     },
     "execution_count": 31,
     "metadata": {},
     "output_type": "execute_result"
    }
   ],
   "source": [
    "## Finding Significant Features\n",
    "sorted(sig_features, key = lambda i: i['score'])[0:10]"
   ]
  },
  {
   "cell_type": "code",
   "execution_count": 32,
   "metadata": {},
   "outputs": [
    {
     "data": {
      "text/plain": [
       "array([[1.6335336 , 1.6335336 , 1.31225263, 1.32687554, 1.58875361,\n",
       "        1.60926648, 1.36409369, 1.48841419, 1.61914214, 1.81650362,\n",
       "        0.82112353, 1.0371703 , 1.37385859, 1.66955522, 1.36512827,\n",
       "        1.48841419, 0.73728842, 0.27327641, 0.87034406, 0.72743777,\n",
       "        1.41939204, 1.41939204, 1.14933991, 2.52413802, 1.60926648,\n",
       "        1.34749769, 1.60926648, 1.50731049, 1.77927113, 1.06764695,\n",
       "        1.26626882, 1.47152885, 1.47152885, 1.53444944, 1.31225263,\n",
       "        1.65338012, 1.65338012, 1.41939204, 1.41939204, 1.48841419,\n",
       "        1.48841419, 0.81597675, 0.83098369, 1.77927113, 1.77927113,\n",
       "        0.72642048, 0.66253738, 0.87141825, 1.09886738, 1.31225263,\n",
       "        1.31225263, 1.31225263, 1.47626858, 1.47626858, 0.65523048,\n",
       "        1.35849511, 1.70537219, 1.72076551, 1.47152885, 1.5082391 ,\n",
       "        1.82042807, 0.36885088, 1.2669698 , 0.88391297, 0.58374819,\n",
       "        0.96019948, 1.48841419, 1.77927113, 1.77927113, 1.01164054,\n",
       "        1.25114254, 1.88748742, 0.8441893 , 1.25586227, 0.47218755,\n",
       "        0.93575573, 1.43724398, 0.85198762, 0.09045346, 1.60926648,\n",
       "        1.34749769, 0.64676671, 0.72757475, 0.81035262, 1.72076551,\n",
       "        1.63111513, 1.4905038 , 1.77927113, 0.72909121, 1.65863729,\n",
       "        1.50075551, 1.67862378, 0.85234222, 0.78899796, 1.12700014,\n",
       "        1.4905038 , 1.12113003, 1.26626882, 1.4600029 , 1.6335336 ,\n",
       "        1.6335336 , 0.55887443, 0.71591813, 0.83708472, 0.77146586,\n",
       "        1.37385859, 0.75421896, 1.31225263, 0.81035262, 1.5082391 ,\n",
       "        1.5082391 , 1.44273942, 1.44273942, 1.88559488, 1.88559488,\n",
       "        0.64371874, 0.64371874, 0.81035262, 0.81035262, 1.14965403,\n",
       "        1.48841419, 1.4600029 , 1.16981323, 1.26626882, 0.54653639,\n",
       "        1.77927113, 1.77927113, 0.76308339, 0.64304539, 1.4905038 ,\n",
       "        1.4905038 , 1.78301388, 1.66955522, 1.66955522, 0.46311693,\n",
       "        1.31225263, 1.4600029 , 1.4600029 , 1.21216893, 1.63363674,\n",
       "        0.58070257, 1.42793058, 1.33731556, 0.88304603, 1.33731556,\n",
       "        0.63090626, 0.78055067, 0.81035262, 0.81035262, 1.33731556,\n",
       "        1.33731556, 1.77927113, 1.77927113, 1.26626882, 1.26626882,\n",
       "        1.63363674, 1.63363674, 1.33377675, 1.48841419, 1.44465798,\n",
       "        1.44465798, 0.75802568, 0.95696529, 1.70537219, 1.64406529,\n",
       "        1.64406529, 1.6335336 , 1.6335336 , 1.24874401, 1.72076551,\n",
       "        1.43724398, 1.43724398, 1.72076551, 1.72076551, 0.75243479,\n",
       "        1.52341634, 1.88981252, 0.6559027 , 0.67863467, 0.61880844,\n",
       "        0.77272826, 0.78635219, 1.47626858, 1.06987115, 1.49479605,\n",
       "        0.81810945, 1.47152885, 1.47152885, 1.66955522, 1.66955522,\n",
       "        1.70537219, 1.70537219, 0.64284539, 2.08819747, 1.05932106,\n",
       "        1.5082391 , 1.88981252, 1.44492048, 1.65338012, 0.64557867,\n",
       "        1.5082391 , 0.75397537, 1.63363674, 1.63363674, 1.18442136,\n",
       "        1.81650362, 0.65808621, 0.64371874, 0.77581142, 1.24920528,\n",
       "        1.77025067, 2.32563611, 1.30904792, 1.33731556, 1.65282526,\n",
       "        1.77927113, 1.11609388, 1.34749769, 1.63815377, 0.81810945,\n",
       "        0.81810945, 1.73226025, 1.88981252, 0.88234435, 1.77025067,\n",
       "        0.62292374, 1.5082391 , 1.5082391 , 1.66955522, 1.66955522,\n",
       "        1.38762651, 1.67862378, 0.93743602, 1.9897218 , 1.42793058,\n",
       "        1.26680578, 1.65338012, 1.31225263, 1.31225263, 0.9185396 ,\n",
       "        1.42793058, 1.51714216, 1.51714216, 0.9797553 , 1.42793058,\n",
       "        1.26626882, 1.26626882, 1.50018622, 1.51714216, 0.47980486,\n",
       "        1.44594952, 1.70537219, 2.18224237, 1.79125877, 1.44273942,\n",
       "        1.56501911, 1.66955522, 1.80888956, 1.25586227, 1.9897218 ,\n",
       "        0.76816039, 0.67394396, 0.5495171 , 1.83825106, 0.58485584,\n",
       "        0.43148572, 0.74261879, 0.92836579, 1.23958757, 1.43724398,\n",
       "        1.24915751, 1.38169186, 1.38169186, 0.77290854, 0.53822179,\n",
       "        0.73234966, 1.20411016, 1.31225263, 0.66483287, 1.51714216,\n",
       "        1.62217283, 1.64406529, 0.5345712 , 0.78934187, 1.4600029 ,\n",
       "        1.4600029 , 1.42743258, 1.63363674, 0.66951443, 1.65338012,\n",
       "        1.40541044, 0.73112786, 1.77025067, 0.7379266 , 1.43724398,\n",
       "        1.43724398, 0.64633258, 1.4905038 , 1.24888182, 1.38169186,\n",
       "        1.11032182, 1.37385859, 0.64882004, 0.72239084, 1.87764351,\n",
       "        1.26626882, 1.60343673, 1.19749557, 1.77025067, 0.92340269,\n",
       "        1.32877634, 0.87200872, 1.41939204, 1.4600029 , 1.4600029 ,\n",
       "        0.40294694, 0.82245459, 0.72774817, 0.73064062, 1.30904792,\n",
       "        0.59374872, 1.43724398, 1.43724398, 1.60926648, 1.60926648,\n",
       "        1.19383099, 2.25055869, 0.5607318 , 0.44957045, 1.5082391 ,\n",
       "        0.85114539, 1.18482627, 2.05154759, 0.70303215, 1.66955522,\n",
       "        1.52229494, 0.7019186 , 1.67862378, 1.01343785, 1.25586227,\n",
       "        1.32761231, 0.76620016, 0.74595109, 1.47626858, 1.47626858,\n",
       "        1.38169186, 1.38169186, 2.51858417, 1.48582584, 1.25586227,\n",
       "        1.66955522, 0.66131154, 0.67339337, 1.48841419, 1.32687554,\n",
       "        1.33731556, 1.77927113, 0.72252256, 1.42470488, 1.63815377,\n",
       "        1.52709219, 0.68394501, 0.68003692, 1.25586227, 1.25586227,\n",
       "        1.09649703, 1.66955522, 1.72076551, 0.38941258, 1.42793058,\n",
       "        1.41939204, 0.60692682, 1.4600029 , 1.4600029 , 0.81810945,\n",
       "        0.87034406, 0.99925477, 1.44465798, 0.7012281 , 1.30991486,\n",
       "        1.60926648, 1.43724398, 1.43724398, 1.66955522, 1.66955522,\n",
       "        0.43276904, 0.76069163, 0.43772429, 1.48328942, 1.06612657,\n",
       "        1.26626882, 0.77842345, 1.32687554, 1.20657687, 1.33731556,\n",
       "        1.52709219, 1.0891472 , 1.80495022, 1.44273942, 1.38169186,\n",
       "        1.38169186, 1.15512823, 1.47152885, 1.77927113, 1.77927113,\n",
       "        1.72076551, 1.72076551, 1.47152885, 1.47152885, 0.57445326,\n",
       "        1.23906443, 1.44465798, 1.17432987, 1.38169186, 0.93487537,\n",
       "        1.25586227, 0.57817166, 0.93172289, 1.42793058, 0.77459881,\n",
       "        1.67862378, 1.67862378, 1.30647256, 0.82047117, 1.44273942,\n",
       "        1.48841419, 1.48841419, 0.47766069, 0.69713649, 0.74179132,\n",
       "        0.8206064 , 1.37385859, 1.37385859, 0.6943026 , 1.64406529,\n",
       "        1.64406529, 1.166813  , 1.42793058, 1.18012736, 2.29108853,\n",
       "        1.77025067, 1.42793058, 1.43724398, 1.43724398, 0.72466658,\n",
       "        0.87034406, 0.72729698, 1.28882855, 1.47626858, 1.63815377,\n",
       "        1.63815377, 1.35966447, 1.52709219, 0.74086858, 1.12222042,\n",
       "        1.48841419, 1.36685135, 1.51166333, 1.63815377, 0.81810945,\n",
       "        0.81810945, 1.0460517 , 1.5082391 , 1.67862378, 1.67862378,\n",
       "        0.58229671, 1.44203069, 1.52709219, 1.6335336 , 1.6335336 ,\n",
       "        0.81035262, 1.47152885, 1.47152885, 1.82042807, 1.82042807,\n",
       "        1.51581498, 1.63815377, 1.52709219, 1.52709219, 1.47152885,\n",
       "        1.47152885, 0.53865313, 1.33731556, 1.33731556, 1.38169186,\n",
       "        1.38169186, 1.38169186, 1.38169186, 1.96190161, 1.51452774,\n",
       "        1.41939204, 1.41939204, 1.51714216, 0.66519806, 0.53941138,\n",
       "        1.31218383, 1.82042807, 0.66271205, 0.81035262, 1.47626858,\n",
       "        1.21436494, 0.79661543, 0.76681375, 1.26626882, 0.60876842,\n",
       "        1.08940151, 2.79049251, 1.5082391 , 0.86088936, 2.96909281,\n",
       "        1.44273942, 1.4600029 , 1.4600029 , 0.74892429, 1.00581325,\n",
       "        1.43724398, 1.08940861, 1.47626858, 1.51714216, 1.51714216,\n",
       "        1.25586227, 1.25586227, 0.77081351, 0.83509438, 1.51714216,\n",
       "        1.25586227, 1.63815377, 1.25586227, 0.88934035, 1.33731556,\n",
       "        0.59499052, 1.26626882, 0.94124371, 1.44465798, 1.66955522,\n",
       "        0.74610299, 0.78415678, 1.4905038 , 1.18873043, 1.4905038 ,\n",
       "        0.54202095, 0.73234966, 1.37385859, 1.37385859, 0.61182324,\n",
       "        1.26626882, 1.33731556, 1.33731556, 2.6004153 , 1.65338012,\n",
       "        1.33731556, 1.47626858, 0.6179965 , 1.24623944, 1.4600029 ,\n",
       "        0.66789656, 1.64406529, 1.64406529, 0.49435895, 1.37885653,\n",
       "        1.09524032, 1.37797681, 1.4905038 ]])"
      ]
     },
     "execution_count": 32,
     "metadata": {},
     "output_type": "execute_result"
    }
   ],
   "source": [
    "## Log-odd and odd-ratio\n",
    "# odds_ratio\n",
    "np.exp(lg_trained.coef_)"
   ]
  },
  {
   "cell_type": "markdown",
   "metadata": {},
   "source": [
    "# Decision Tree"
   ]
  },
  {
   "cell_type": "code",
   "execution_count": 33,
   "metadata": {},
   "outputs": [
    {
     "data": {
      "text/plain": [
       "count    670.000000\n",
       "mean       0.015414\n",
       "std        0.109517\n",
       "min        0.000000\n",
       "25%        0.000000\n",
       "50%        0.000000\n",
       "75%        0.000000\n",
       "max        1.000000\n",
       "Name: W__truth, dtype: float64"
      ]
     },
     "execution_count": 33,
     "metadata": {},
     "output_type": "execute_result"
    }
   ],
   "source": [
    "## Original data Distribution\n",
    "sentence_term_df['W__truth'].describe()"
   ]
  },
  {
   "cell_type": "code",
   "execution_count": 34,
   "metadata": {},
   "outputs": [],
   "source": [
    "sentence_term_df['lables'] = labels"
   ]
  },
  {
   "cell_type": "code",
   "execution_count": 35,
   "metadata": {},
   "outputs": [],
   "source": [
    "# Shuffle and show new distribution"
   ]
  },
  {
   "cell_type": "code",
   "execution_count": 36,
   "metadata": {},
   "outputs": [],
   "source": [
    "sentence_term_df_shuffle = sentence_term_df.sample(frac=1, random_state=100).reset_index(drop=True)"
   ]
  },
  {
   "cell_type": "code",
   "execution_count": 37,
   "metadata": {},
   "outputs": [
    {
     "data": {
      "text/plain": [
       "count    670.000000\n",
       "mean       0.015414\n",
       "std        0.109517\n",
       "min        0.000000\n",
       "25%        0.000000\n",
       "50%        0.000000\n",
       "75%        0.000000\n",
       "max        1.000000\n",
       "Name: W__truth, dtype: float64"
      ]
     },
     "execution_count": 37,
     "metadata": {},
     "output_type": "execute_result"
    }
   ],
   "source": [
    "sentence_term_df_shuffle['W__truth'].describe()"
   ]
  },
  {
   "cell_type": "code",
   "execution_count": 38,
   "metadata": {},
   "outputs": [
    {
     "data": {
      "text/plain": [
       "(670, 564)"
      ]
     },
     "execution_count": 38,
     "metadata": {},
     "output_type": "execute_result"
    }
   ],
   "source": [
    "## Training - Testing Split\n",
    "sentence_term_df_shuffle.shape"
   ]
  },
  {
   "cell_type": "code",
   "execution_count": 39,
   "metadata": {},
   "outputs": [
    {
     "data": {
      "text/plain": [
       "(670, 563)"
      ]
     },
     "execution_count": 39,
     "metadata": {},
     "output_type": "execute_result"
    }
   ],
   "source": [
    "features = sentence_term_df_shuffle.loc[:, sentence_term_df_shuffle.columns != 'lables'].values\n",
    "features.shape"
   ]
  },
  {
   "cell_type": "code",
   "execution_count": 40,
   "metadata": {},
   "outputs": [
    {
     "data": {
      "text/plain": [
       "(670,)"
      ]
     },
     "execution_count": 40,
     "metadata": {},
     "output_type": "execute_result"
    }
   ],
   "source": [
    "lables = sentence_term_df_shuffle['lables']\n",
    "lables.shape"
   ]
  },
  {
   "cell_type": "code",
   "execution_count": 41,
   "metadata": {},
   "outputs": [],
   "source": [
    "## Train-Test Split\n",
    "X_train, X_test, y_train, y_test = train_test_split(features, labels, test_size=0.30, random_state=42)"
   ]
  },
  {
   "cell_type": "code",
   "execution_count": 42,
   "metadata": {},
   "outputs": [],
   "source": [
    "## Training Decision tree\n",
    "dt_model = DecisionTreeClassifier()\n",
    "dt_trained = dt_model.fit(X_train,y_train)"
   ]
  },
  {
   "cell_type": "code",
   "execution_count": 43,
   "metadata": {},
   "outputs": [
    {
     "data": {
      "text/plain": [
       "275"
      ]
     },
     "execution_count": 43,
     "metadata": {},
     "output_type": "execute_result"
    }
   ],
   "source": [
    "## Size of the tree\n",
    "treeObj = dt_trained.tree_\n",
    "treeObj.node_count"
   ]
  },
  {
   "cell_type": "code",
   "execution_count": 44,
   "metadata": {},
   "outputs": [
    {
     "name": "stderr",
     "output_type": "stream",
     "text": [
      "C:\\Users\\Shreeya\\Anaconda3\\lib\\site-packages\\sklearn\\utils\\deprecation.py:144: FutureWarning: The sklearn.tree.export module is  deprecated in version 0.22 and will be removed in version 0.24. The corresponding classes / functions should instead be imported from sklearn.tree. Anything that cannot be imported from sklearn.tree is now part of the private API.\n",
      "  warnings.warn(message, FutureWarning)\n"
     ]
    }
   ],
   "source": [
    "## Tree Visualization\n",
    "from sklearn import tree\n",
    "\n",
    "from sklearn.tree.export import export_text \n",
    " "
   ]
  },
  {
   "cell_type": "code",
   "execution_count": 45,
   "metadata": {},
   "outputs": [
    {
     "data": {
      "text/plain": [
       "['W__account',\n",
       " 'W__account follow',\n",
       " 'W__acrual',\n",
       " 'W__actual',\n",
       " 'W__affect',\n",
       " 'W__affecting asian',\n",
       " 'W__africa',\n",
       " 'W__africa south',\n",
       " 'W__agenc',\n",
       " 'W__agencies believ',\n",
       " 'W__alarm',\n",
       " 'W__aliv',\n",
       " 'W__alive western',\n",
       " 'W__allegedl',\n",
       " 'W__america',\n",
       " 'W__america saf',\n",
       " 'W__american',\n",
       " 'W__amp',\n",
       " 'W__amp follow',\n",
       " 'W__announc',\n",
       " 'W__aren',\n",
       " 'W__aren numnumnumnum',\n",
       " 'W__arrest',\n",
       " 'W__asian',\n",
       " 'W__asian cas',\n",
       " 'W__asiannetwalk',\n",
       " 'W__asians non',\n",
       " 'W__australia',\n",
       " 'W__australia head',\n",
       " 'W__ban',\n",
       " 'W__bans wid',\n",
       " 'W__behold',\n",
       " 'W__behold superpow',\n",
       " 'W__believ',\n",
       " 'W__believe acru',\n",
       " 'W__bill',\n",
       " 'W__bills gonna',\n",
       " 'W__bnodesk',\n",
       " 'W__bnodesk aren',\n",
       " 'W__boarder',\n",
       " 'W__boarders ear',\n",
       " 'W__break',\n",
       " 'W__british',\n",
       " 'W__bushfir',\n",
       " 'W__bushfires coronavirus',\n",
       " 'W__care',\n",
       " 'W__case',\n",
       " 'W__cases coronavirus',\n",
       " 'W__ccp',\n",
       " 'W__ccp li',\n",
       " 'W__check',\n",
       " 'W__check ccp',\n",
       " 'W__chicago',\n",
       " 'W__chicago just',\n",
       " 'W__china',\n",
       " 'W__china coronavirus',\n",
       " 'W__china given',\n",
       " 'W__china reduct',\n",
       " 'W__china ref',\n",
       " 'W__china start',\n",
       " 'W__china suppress',\n",
       " 'W__chines',\n",
       " 'W__chinese communist',\n",
       " 'W__chinese doctor',\n",
       " 'W__citi',\n",
       " 'W__close',\n",
       " 'W__close board',\n",
       " 'W__combin',\n",
       " 'W__combination drought',\n",
       " 'W__come',\n",
       " 'W__communist',\n",
       " 'W__communists say',\n",
       " 'W__concern',\n",
       " 'W__concerning verifi',\n",
       " 'W__confirm',\n",
       " 'W__corona',\n",
       " 'W__corona setup',\n",
       " 'W__corona virus',\n",
       " 'W__coronavirus',\n",
       " 'W__coronavirus affect',\n",
       " 'W__coronavirus asiannetwalk',\n",
       " 'W__coronavirus cas',\n",
       " 'W__coronavirus china',\n",
       " 'W__coronavirus dr_li_wenliang',\n",
       " 'W__coronavirus epidem',\n",
       " 'W__coronavirus hospit',\n",
       " 'W__coronavirus ncov',\n",
       " 'W__coronavirus outbr',\n",
       " 'W__coronavirus outbreak',\n",
       " 'W__coronavirus pati',\n",
       " 'W__coronavirus spread',\n",
       " 'W__coronavirus stat',\n",
       " 'W__coronavirus upd',\n",
       " 'W__coronavirusoutbreak',\n",
       " 'W__correct',\n",
       " 'W__correct way',\n",
       " 'W__countri',\n",
       " 'W__countries impos',\n",
       " 'W__country num',\n",
       " 'W__crossstreamw',\n",
       " 'W__crossstreamw suggest',\n",
       " 'W__cruis',\n",
       " 'W__cruise ship',\n",
       " 'W__day',\n",
       " 'W__dead',\n",
       " 'W__dead believ',\n",
       " 'W__death',\n",
       " 'W__death believ',\n",
       " 'W__death super_hero',\n",
       " 'W__dec',\n",
       " 'W__dec num',\n",
       " 'W__decid',\n",
       " 'W__decide inform',\n",
       " 'W__deserv',\n",
       " 'W__deserve truth',\n",
       " 'W__detail',\n",
       " 'W__details gt',\n",
       " 'W__diagnosi',\n",
       " 'W__diagnosis coronavirus',\n",
       " 'W__did',\n",
       " 'W__did clos',\n",
       " 'W__did dod',\n",
       " 'W__didn',\n",
       " 'W__didn want',\n",
       " 'W__die',\n",
       " 'W__disastr',\n",
       " 'W__disastrous bushfir',\n",
       " 'W__discuss',\n",
       " 'W__diseas',\n",
       " 'W__dispos',\n",
       " 'W__dispose mask',\n",
       " 'W__do',\n",
       " 'W__doc',\n",
       " 'W__doc gav',\n",
       " 'W__doctor',\n",
       " 'W__doctors death',\n",
       " 'W__dod',\n",
       " 'W__dod pick',\n",
       " 'W__doe',\n",
       " 'W__does dud',\n",
       " 'W__doesn',\n",
       " 'W__doing peopl',\n",
       " 'W__doing visit',\n",
       " 'W__don',\n",
       " 'W__don open',\n",
       " 'W__dr',\n",
       " 'W__dr li',\n",
       " 'W__dr_li_wenliang',\n",
       " 'W__dr_li_wenliang death',\n",
       " 'W__drone',\n",
       " 'W__drones do',\n",
       " 'W__drought',\n",
       " 'W__drought disastr',\n",
       " 'W__drtedro',\n",
       " 'W__drtedros money',\n",
       " 'W__dude',\n",
       " 'W__dude gotta',\n",
       " 'W__earli',\n",
       " 'W__early coronavirus',\n",
       " 'W__earth',\n",
       " 'W__earth reprimand',\n",
       " 'W__econom',\n",
       " 'W__effect',\n",
       " 'W__effective go',\n",
       " 'W__end',\n",
       " 'W__end wtf',\n",
       " 'W__english',\n",
       " 'W__english account',\n",
       " 'W__epidem',\n",
       " 'W__epidemic peak',\n",
       " 'W__evacue',\n",
       " 'W__evacuees prison',\n",
       " 'W__evid',\n",
       " 'W__evidence china',\n",
       " 'W__famili',\n",
       " 'W__far',\n",
       " 'W__far told',\n",
       " 'W__fast',\n",
       " 'W__fear',\n",
       " 'W__fight',\n",
       " 'W__fight coronavirus',\n",
       " 'W__flu',\n",
       " 'W__flu wond',\n",
       " 'W__follow',\n",
       " 'W__follow coronavirus',\n",
       " 'W__follow spreadluv',\n",
       " 'W__formid',\n",
       " 'W__formidable china',\n",
       " 'W__gave',\n",
       " 'W__gave initi',\n",
       " 'W__given',\n",
       " 'W__given info',\n",
       " 'W__global',\n",
       " 'W__go',\n",
       " 'W__god',\n",
       " 'W__god tru',\n",
       " 'W__going far',\n",
       " 'W__gonna',\n",
       " 'W__gonna look',\n",
       " 'W__good',\n",
       " 'W__good god',\n",
       " 'W__got',\n",
       " 'W__gotta',\n",
       " 'W__gotta run',\n",
       " 'W__govern',\n",
       " 'W__government ag',\n",
       " 'W__great',\n",
       " 'W__gt',\n",
       " 'W__gt virus',\n",
       " 'W__guy',\n",
       " 'W__guy motiv',\n",
       " 'W__happen',\n",
       " 'W__happened new',\n",
       " 'W__happens don',\n",
       " 'W__head',\n",
       " 'W__headed recess',\n",
       " 'W__health',\n",
       " 'W__health coronavirus',\n",
       " 'W__health symptom',\n",
       " 'W__heartgang',\n",
       " 'W__heartgang follow',\n",
       " 'W__hell',\n",
       " 'W__hell go',\n",
       " 'W__help',\n",
       " 'W__help mak',\n",
       " 'W__hero',\n",
       " 'W__hid',\n",
       " 'W__hid world',\n",
       " 'W__highest',\n",
       " 'W__highest profil',\n",
       " 'W__honest',\n",
       " 'W__honest quest',\n",
       " 'W__hope',\n",
       " 'W__hope isn',\n",
       " 'W__horror',\n",
       " 'W__hospit',\n",
       " 'W__hospital bil',\n",
       " 'W__howrout',\n",
       " 'W__howroute check',\n",
       " 'W__human',\n",
       " 'W__humanity right',\n",
       " 'W__ideal',\n",
       " 'W__ideal novel',\n",
       " 'W__imagin',\n",
       " 'W__imagine horror',\n",
       " 'W__impos',\n",
       " 'W__impose travel',\n",
       " 'W__incub',\n",
       " 'W__incubation vehicl',\n",
       " 'W__infect',\n",
       " 'W__info',\n",
       " 'W__info effect',\n",
       " 'W__inform',\n",
       " 'W__information coronavirus',\n",
       " 'W__information r',\n",
       " 'W__initi',\n",
       " 'W__initial warn',\n",
       " 'W__isn',\n",
       " 'W__isn concern',\n",
       " 'W__isn tru',\n",
       " 'W__issu',\n",
       " 'W__japan',\n",
       " 'W__just',\n",
       " 'W__just flu',\n",
       " 'W__kill',\n",
       " 'W__know',\n",
       " 'W__latest',\n",
       " 'W__latest new',\n",
       " 'W__law',\n",
       " 'W__law us',\n",
       " 'W__leav',\n",
       " 'W__legal',\n",
       " 'W__legal territori',\n",
       " 'W__let',\n",
       " 'W__li',\n",
       " 'W__li wenliang',\n",
       " 'W__lie',\n",
       " 'W__lied doctor',\n",
       " 'W__like',\n",
       " 'W__like id',\n",
       " 'W__listen',\n",
       " 'W__listen scream',\n",
       " 'W__live',\n",
       " 'W__liwenliang',\n",
       " 'W__logist',\n",
       " 'W__logistics unbeknownst',\n",
       " 'W__long',\n",
       " 'W__long do',\n",
       " 'W__look',\n",
       " 'W__look lik',\n",
       " 'W__looks lik',\n",
       " 'W__make',\n",
       " 'W__make sens',\n",
       " 'W__man',\n",
       " 'W__martial',\n",
       " 'W__martial law',\n",
       " 'W__mask',\n",
       " 'W__masks youtub',\n",
       " 'W__mean',\n",
       " 'W__mean rebel',\n",
       " 'W__media',\n",
       " 'W__media communist',\n",
       " 'W__medic',\n",
       " 'W__million',\n",
       " 'W__money',\n",
       " 'W__money didn',\n",
       " 'W__money money',\n",
       " 'W__motiv',\n",
       " 'W__motivations odd',\n",
       " 'W__nation',\n",
       " 'W__ncov',\n",
       " 'W__ncovnumnumnumnum',\n",
       " 'W__ncovnumnumnumnum test',\n",
       " 'W__nebraska',\n",
       " 'W__nebraska logist',\n",
       " 'W__need',\n",
       " 'W__negat',\n",
       " 'W__new',\n",
       " 'W__new coronavirus',\n",
       " 'W__new hospit',\n",
       " 'W__news',\n",
       " 'W__ng',\n",
       " 'W__ng arrest',\n",
       " 'W__non',\n",
       " 'W__non asian',\n",
       " 'W__novel',\n",
       " 'W__novel corona',\n",
       " 'W__novel coronavirus',\n",
       " 'W__num',\n",
       " 'W__num hid',\n",
       " 'W__num new',\n",
       " 'W__number',\n",
       " 'W__numbers com',\n",
       " 'W__numnum',\n",
       " 'W__numnum doc',\n",
       " 'W__numnum numnumnum',\n",
       " 'W__numnumnum',\n",
       " 'W__numnumnum test',\n",
       " 'W__numnumnumnum',\n",
       " 'W__numnumnumnum odd',\n",
       " 'W__numnumnumnum peopl',\n",
       " 'W__numnumnumnumncov',\n",
       " 'W__numst',\n",
       " 'W__nyc',\n",
       " 'W__nyc chicago',\n",
       " 'W__occupi',\n",
       " 'W__occupying leg',\n",
       " 'W__odd',\n",
       " 'W__odd coronavirus',\n",
       " 'W__odd research',\n",
       " 'W__odds highest',\n",
       " 'W__offici',\n",
       " 'W__ok',\n",
       " 'W__ok africa',\n",
       " 'W__open',\n",
       " 'W__open window',\n",
       " 'W__outbr',\n",
       " 'W__outbreak',\n",
       " 'W__outbreak china',\n",
       " 'W__outbreak health',\n",
       " 'W__outbreak singapor',\n",
       " 'W__pandem',\n",
       " 'W__panic',\n",
       " 'W__paper',\n",
       " 'W__papers virus',\n",
       " 'W__patient',\n",
       " 'W__patient numnum',\n",
       " 'W__peak',\n",
       " 'W__peopl',\n",
       " 'W__people sens',\n",
       " 'W__people test',\n",
       " 'W__person',\n",
       " 'W__pick',\n",
       " 'W__pick nebraska',\n",
       " 'W__plz',\n",
       " 'W__plz share',\n",
       " 'W__polic',\n",
       " 'W__police warn',\n",
       " 'W__posit',\n",
       " 'W__possibl',\n",
       " 'W__possible coronavirus',\n",
       " 'W__prison',\n",
       " 'W__prisoners corona',\n",
       " 'W__profil',\n",
       " 'W__profile coronavirus',\n",
       " 'W__protect',\n",
       " 'W__provinc',\n",
       " 'W__quarantin',\n",
       " 'W__question',\n",
       " 'W__quicktak',\n",
       " 'W__quicktake drtedro',\n",
       " 'W__rais',\n",
       " 'W__read',\n",
       " 'W__readi',\n",
       " 'W__readings wond',\n",
       " 'W__ready street',\n",
       " 'W__real',\n",
       " 'W__real numb',\n",
       " 'W__real sad',\n",
       " 'W__rebel',\n",
       " 'W__rebels temporarili',\n",
       " 'W__recent',\n",
       " 'W__recent sen',\n",
       " 'W__recess',\n",
       " 'W__recession combin',\n",
       " 'W__reduct',\n",
       " 'W__reduction spread',\n",
       " 'W__refer',\n",
       " 'W__referring rec',\n",
       " 'W__report',\n",
       " 'W__reprimand',\n",
       " 'W__reprimanded polic',\n",
       " 'W__republ',\n",
       " 'W__republic china',\n",
       " 'W__research',\n",
       " 'W__research pap',\n",
       " 'W__respons',\n",
       " 'W__right',\n",
       " 'W__right se',\n",
       " 'W__rip',\n",
       " 'W__robertwnumnumnumnumnumnumnumnum',\n",
       " 'W__robertwnumnumnumnumnumnumnumnum numnum',\n",
       " 'W__run',\n",
       " 'W__sad',\n",
       " 'W__sad tru',\n",
       " 'W__safe',\n",
       " 'W__safe did',\n",
       " 'W__said',\n",
       " 'W__sar',\n",
       " 'W__save',\n",
       " 'W__say',\n",
       " 'W__say al',\n",
       " 'W__say dead',\n",
       " 'W__scientist',\n",
       " 'W__scream',\n",
       " 'W__scream end',\n",
       " 'W__see',\n",
       " 'W__seeing imagin',\n",
       " 'W__sen',\n",
       " 'W__sens',\n",
       " 'W__sense guy',\n",
       " 'W__sense human',\n",
       " 'W__setup',\n",
       " 'W__setup marti',\n",
       " 'W__share',\n",
       " 'W__share amp',\n",
       " 'W__ship',\n",
       " 'W__shut',\n",
       " 'W__shut nyc',\n",
       " 'W__silent',\n",
       " 'W__silently outbreak',\n",
       " 'W__singapor',\n",
       " 'W__singapore readi',\n",
       " 'W__sound',\n",
       " 'W__south',\n",
       " 'W__south america',\n",
       " 'W__spread',\n",
       " 'W__spread coronavirus',\n",
       " 'W__spreading sil',\n",
       " 'W__spreadluv',\n",
       " 'W__spreadluv plz',\n",
       " 'W__start',\n",
       " 'W__started dec',\n",
       " 'W__stat',\n",
       " 'W__stats honest',\n",
       " 'W__stop',\n",
       " 'W__street',\n",
       " 'W__street talk',\n",
       " 'W__suggest',\n",
       " 'W__suggest english',\n",
       " 'W__super_hero',\n",
       " 'W__superpow',\n",
       " 'W__superpower formid',\n",
       " 'W__suppress',\n",
       " 'W__suppressing inform',\n",
       " 'W__symptom',\n",
       " 'W__symptoms virus',\n",
       " 'W__talk',\n",
       " 'W__talk health',\n",
       " 'W__teddyboylocsin',\n",
       " 'W__teddyboylocsin behold',\n",
       " 'W__tell',\n",
       " 'W__temperatur',\n",
       " 'W__temperature read',\n",
       " 'W__temporarili',\n",
       " 'W__temporarily occupi',\n",
       " 'W__territori',\n",
       " 'W__territories republ',\n",
       " 'W__test',\n",
       " 'W__tested coronavirus',\n",
       " 'W__tested leav',\n",
       " 'W__tested ncovnumnumnumnum',\n",
       " 'W__tested novel',\n",
       " 'W__thank',\n",
       " 'W__thing',\n",
       " 'W__think',\n",
       " 'W__think china',\n",
       " 'W__time',\n",
       " 'W__timely diagnosi',\n",
       " 'W__times v',\n",
       " 'W__told',\n",
       " 'W__total',\n",
       " 'W__travel',\n",
       " 'W__travel ban',\n",
       " 'W__treat',\n",
       " 'W__tri',\n",
       " 'W__true',\n",
       " 'W__true outbreak',\n",
       " 'W__trump',\n",
       " 'W__truth',\n",
       " 'W__trying decid',\n",
       " 'W__unbeknownst',\n",
       " 'W__unbeknownst world',\n",
       " 'W__updat',\n",
       " 'W__use',\n",
       " 'W__using ng',\n",
       " 'W__ve',\n",
       " 'W__ve shut',\n",
       " 'W__vehicl',\n",
       " 'W__vehicle test',\n",
       " 'W__verifi',\n",
       " 'W__verified virus',\n",
       " 'W__virus',\n",
       " 'W__virus coronavirus',\n",
       " 'W__virus incub',\n",
       " 'W__virus isn',\n",
       " 'W__virus numnumnumnumncov',\n",
       " 'W__virus spread',\n",
       " 'W__visit',\n",
       " 'W__visits temperatur',\n",
       " 'W__want',\n",
       " 'W__want countri',\n",
       " 'W__warn',\n",
       " 'W__warning virus',\n",
       " 'W__warnings allegedl',\n",
       " 'W__watch',\n",
       " 'W__way',\n",
       " 'W__way wear',\n",
       " 'W__wear',\n",
       " 'W__wear dispos',\n",
       " 'W__week',\n",
       " 'W__wenliang',\n",
       " 'W__western',\n",
       " 'W__western media',\n",
       " 'W__whistleblow',\n",
       " 'W__wider',\n",
       " 'W__window',\n",
       " 'W__window actual',\n",
       " 'W__wonder',\n",
       " 'W__wonder coronavirus',\n",
       " 'W__wonder happen',\n",
       " 'W__wonder tim',\n",
       " 'W__work',\n",
       " 'W__world',\n",
       " 'W__world countri',\n",
       " 'W__worri',\n",
       " 'W__wtf',\n",
       " 'W__wtf happen',\n",
       " 'W__wuhan',\n",
       " 'W__wuhan china',\n",
       " 'W__wuhan coronavirus',\n",
       " 'W__youtub',\n",
       " 'W__youtube coronavirus']"
      ]
     },
     "execution_count": 45,
     "metadata": {},
     "output_type": "execute_result"
    }
   ],
   "source": [
    "feature_names = list(sentence_term_df_shuffle.loc[:, sentence_term_df_shuffle.columns != 'lables'].columns)\n",
    "feature_names"
   ]
  },
  {
   "cell_type": "code",
   "execution_count": 46,
   "metadata": {},
   "outputs": [
    {
     "name": "stdout",
     "output_type": "stream",
     "text": [
      "|--- W__rip <= 0.34\n",
      "|   |--- W__confirm <= 0.38\n",
      "|   |   |--- W__hope <= 0.45\n",
      "|   |   |   |--- W__fear <= 0.53\n",
      "|   |   |   |   |--- W__tell <= 0.56\n",
      "|   |   |   |   |   |--- W__pandem <= 0.20\n",
      "|   |   |   |   |   |   |--- W__government ag <= 0.24\n",
      "|   |   |   |   |   |   |   |--- W__coronavirus <= 0.23\n",
      "|   |   |   |   |   |   |   |   |--- W__new <= 0.27\n",
      "|   |   |   |   |   |   |   |   |   |--- W__china <= 0.37\n",
      "|   |   |   |   |   |   |   |   |   |   |--- W__number <= 0.47\n",
      "|   |   |   |   |   |   |   |   |   |   |   |--- truncated branch of depth 81\n",
      "|   |   |   |   |   |   |   |   |   |   |--- W__number >  0.47\n",
      "|   |   |   |   |   |   |   |   |   |   |   |--- class: 1.0\n",
      "|   |   |   |   |   |   |   |   |   |--- W__china >  0.37\n",
      "|   |   |   |   |   |   |   |   |   |   |--- W__watch <= 0.27\n",
      "|   |   |   |   |   |   |   |   |   |   |   |--- class: 1.0\n",
      "|   |   |   |   |   |   |   |   |   |   |--- W__watch >  0.27\n",
      "|   |   |   |   |   |   |   |   |   |   |   |--- class: 0.0\n",
      "|   |   |   |   |   |   |   |   |--- W__new >  0.27\n",
      "|   |   |   |   |   |   |   |   |   |--- W__coronavirus <= 0.06\n",
      "|   |   |   |   |   |   |   |   |   |   |--- W__just <= 0.26\n",
      "|   |   |   |   |   |   |   |   |   |   |   |--- truncated branch of depth 2\n",
      "|   |   |   |   |   |   |   |   |   |   |--- W__just >  0.26\n",
      "|   |   |   |   |   |   |   |   |   |   |   |--- class: 1.0\n",
      "|   |   |   |   |   |   |   |   |   |--- W__coronavirus >  0.06\n",
      "|   |   |   |   |   |   |   |   |   |   |--- class: 1.0\n",
      "|   |   |   |   |   |   |   |--- W__coronavirus >  0.23\n",
      "|   |   |   |   |   |   |   |   |--- W__chines <= 0.34\n",
      "|   |   |   |   |   |   |   |   |   |--- W__use <= 0.50\n",
      "|   |   |   |   |   |   |   |   |   |   |--- W__live <= 0.37\n",
      "|   |   |   |   |   |   |   |   |   |   |   |--- truncated branch of depth 4\n",
      "|   |   |   |   |   |   |   |   |   |   |--- W__live >  0.37\n",
      "|   |   |   |   |   |   |   |   |   |   |   |--- class: 1.0\n",
      "|   |   |   |   |   |   |   |   |   |--- W__use >  0.50\n",
      "|   |   |   |   |   |   |   |   |   |   |--- class: 1.0\n",
      "|   |   |   |   |   |   |   |   |--- W__chines >  0.34\n",
      "|   |   |   |   |   |   |   |   |   |--- class: 1.0\n",
      "|   |   |   |   |   |   |--- W__government ag >  0.24\n",
      "|   |   |   |   |   |   |   |--- class: 1.0\n",
      "|   |   |   |   |   |--- W__pandem >  0.20\n",
      "|   |   |   |   |   |   |--- class: 1.0\n",
      "|   |   |   |   |--- W__tell >  0.56\n",
      "|   |   |   |   |   |--- class: 1.0\n",
      "|   |   |   |--- W__fear >  0.53\n",
      "|   |   |   |   |--- class: 1.0\n",
      "|   |   |--- W__hope >  0.45\n",
      "|   |   |   |--- class: 1.0\n",
      "|   |--- W__confirm >  0.38\n",
      "|   |   |--- class: 1.0\n",
      "|--- W__rip >  0.34\n",
      "|   |--- class: 1.0\n",
      "\n"
     ]
    }
   ],
   "source": [
    "r = export_text(dt_trained, feature_names=feature_names)\n",
    "print(r)"
   ]
  },
  {
   "cell_type": "code",
   "execution_count": 47,
   "metadata": {},
   "outputs": [
    {
     "name": "stdout",
     "output_type": "stream",
     "text": [
      "                         precision    recall  f1-score   support\n",
      "\n",
      "Non-Information Seeking       0.87      0.96      0.91       314\n",
      "    Information Seeking       0.91      0.70      0.79       155\n",
      "\n",
      "               accuracy                           0.88       469\n",
      "              macro avg       0.89      0.83      0.85       469\n",
      "           weighted avg       0.88      0.88      0.87       469\n",
      "\n",
      "Avg. Accuracy:  0.8763326226012793\n"
     ]
    }
   ],
   "source": [
    "## Training Confusion Matrix\n",
    "y_pred = dt_trained.predict(X_train)\n",
    "print_classification_result(y_train, y_pred)"
   ]
  },
  {
   "cell_type": "code",
   "execution_count": 48,
   "metadata": {},
   "outputs": [
    {
     "name": "stdout",
     "output_type": "stream",
     "text": [
      "                         precision    recall  f1-score   support\n",
      "\n",
      "Non-Information Seeking       0.69      0.74      0.71       141\n",
      "    Information Seeking       0.27      0.23      0.25        60\n",
      "\n",
      "               accuracy                           0.59       201\n",
      "              macro avg       0.48      0.49      0.48       201\n",
      "           weighted avg       0.57      0.59      0.58       201\n",
      "\n",
      "Avg. Accuracy:  0.5870646766169154\n"
     ]
    }
   ],
   "source": [
    "## Testing Confusion Matrix\n",
    "y_pred = dt_trained.predict(X_test)\n",
    "print_classification_result(y_test, y_pred)"
   ]
  },
  {
   "cell_type": "code",
   "execution_count": 49,
   "metadata": {},
   "outputs": [],
   "source": [
    "## Boosting Performance\n",
    "from sklearn.ensemble import GradientBoostingClassifier\n",
    "from sklearn.metrics import precision_score, recall_score"
   ]
  },
  {
   "cell_type": "code",
   "execution_count": 50,
   "metadata": {},
   "outputs": [],
   "source": [
    "score_list = []\n",
    "for steps in range(100, 160, 10):\n",
    "    scores = {}\n",
    "    scores['count'] = steps\n",
    "    scores['accuracy'] = accuracy_score(GradientBoostingClassifier(n_estimators=steps).fit(X_train, y_train).predict(X_test), y_pred)\n",
    "    scores['precision'] = precision_score(GradientBoostingClassifier(n_estimators=steps).fit(X_train, y_train).predict(X_test), y_pred)\n",
    "    scores['recall'] = recall_score(GradientBoostingClassifier(n_estimators=steps).fit(X_train, y_train).predict(X_test), y_pred)\n",
    "    score_list.append(scores)"
   ]
  },
  {
   "cell_type": "code",
   "execution_count": 51,
   "metadata": {},
   "outputs": [],
   "source": [
    "score_df = pd.DataFrame(score_list)"
   ]
  },
  {
   "cell_type": "code",
   "execution_count": 52,
   "metadata": {},
   "outputs": [
    {
     "data": {
      "text/html": [
       "<div>\n",
       "<style scoped>\n",
       "    .dataframe tbody tr th:only-of-type {\n",
       "        vertical-align: middle;\n",
       "    }\n",
       "\n",
       "    .dataframe tbody tr th {\n",
       "        vertical-align: top;\n",
       "    }\n",
       "\n",
       "    .dataframe thead th {\n",
       "        text-align: right;\n",
       "    }\n",
       "</style>\n",
       "<table border=\"1\" class=\"dataframe\">\n",
       "  <thead>\n",
       "    <tr style=\"text-align: right;\">\n",
       "      <th></th>\n",
       "      <th>count</th>\n",
       "      <th>accuracy</th>\n",
       "      <th>precision</th>\n",
       "      <th>recall</th>\n",
       "    </tr>\n",
       "  </thead>\n",
       "  <tbody>\n",
       "    <tr>\n",
       "      <th>0</th>\n",
       "      <td>100</td>\n",
       "      <td>0.835821</td>\n",
       "      <td>0.470588</td>\n",
       "      <td>0.880000</td>\n",
       "    </tr>\n",
       "    <tr>\n",
       "      <th>1</th>\n",
       "      <td>110</td>\n",
       "      <td>0.840796</td>\n",
       "      <td>0.470588</td>\n",
       "      <td>0.870968</td>\n",
       "    </tr>\n",
       "    <tr>\n",
       "      <th>2</th>\n",
       "      <td>120</td>\n",
       "      <td>0.845771</td>\n",
       "      <td>0.509804</td>\n",
       "      <td>0.823529</td>\n",
       "    </tr>\n",
       "    <tr>\n",
       "      <th>3</th>\n",
       "      <td>130</td>\n",
       "      <td>0.840796</td>\n",
       "      <td>0.549020</td>\n",
       "      <td>0.875000</td>\n",
       "    </tr>\n",
       "    <tr>\n",
       "      <th>4</th>\n",
       "      <td>140</td>\n",
       "      <td>0.860697</td>\n",
       "      <td>0.529412</td>\n",
       "      <td>0.823529</td>\n",
       "    </tr>\n",
       "    <tr>\n",
       "      <th>5</th>\n",
       "      <td>150</td>\n",
       "      <td>0.865672</td>\n",
       "      <td>0.529412</td>\n",
       "      <td>0.848485</td>\n",
       "    </tr>\n",
       "  </tbody>\n",
       "</table>\n",
       "</div>"
      ],
      "text/plain": [
       "   count  accuracy  precision    recall\n",
       "0    100  0.835821   0.470588  0.880000\n",
       "1    110  0.840796   0.470588  0.870968\n",
       "2    120  0.845771   0.509804  0.823529\n",
       "3    130  0.840796   0.549020  0.875000\n",
       "4    140  0.860697   0.529412  0.823529\n",
       "5    150  0.865672   0.529412  0.848485"
      ]
     },
     "execution_count": 52,
     "metadata": {},
     "output_type": "execute_result"
    }
   ],
   "source": [
    "score_df"
   ]
  },
  {
   "cell_type": "code",
   "execution_count": 53,
   "metadata": {},
   "outputs": [],
   "source": [
    "import matplotlib.pyplot as plt"
   ]
  },
  {
   "cell_type": "code",
   "execution_count": 54,
   "metadata": {},
   "outputs": [
    {
     "data": {
      "image/png": "[encoded data removed]",
      "text/plain": [
       "<Figure size 432x288 with 3 Axes>"
      ]
     },
     "metadata": {
      "needs_background": "light"
     },
     "output_type": "display_data"
    }
   ],
   "source": [
    "fig, (ax1, ax2, ax3) = plt.subplots(1, 3)\n",
    "fig.suptitle('Performance Comaprison of Boosting', va='bottom')\n",
    "ax1.plot(score_df['count'], score_df['accuracy'])\n",
    "ax2.plot(score_df['count'], score_df['precision'])\n",
    "ax3.plot(score_df['count'], score_df['recall'])\n",
    "ax1.set_title('Accuracy')\n",
    "ax2.set_title('Precision')\n",
    "ax3.set_title('Recall')\n",
    "fig.tight_layout()"
   ]
  },
  {
   "cell_type": "code",
   "execution_count": 64,
   "metadata": {},
   "outputs": [],
   "source": [
    "## Bagging\n",
    "from sklearn.ensemble import BaggingClassifier"
   ]
  },
  {
   "cell_type": "code",
   "execution_count": 59,
   "metadata": {},
   "outputs": [
    {
     "data": {
      "text/html": [
       "<div>\n",
       "<style scoped>\n",
       "    .dataframe tbody tr th:only-of-type {\n",
       "        vertical-align: middle;\n",
       "    }\n",
       "\n",
       "    .dataframe tbody tr th {\n",
       "        vertical-align: top;\n",
       "    }\n",
       "\n",
       "    .dataframe thead th {\n",
       "        text-align: right;\n",
       "    }\n",
       "</style>\n",
       "<table border=\"1\" class=\"dataframe\">\n",
       "  <thead>\n",
       "    <tr style=\"text-align: right;\">\n",
       "      <th></th>\n",
       "      <th>count</th>\n",
       "      <th>accuracy</th>\n",
       "      <th>precision</th>\n",
       "      <th>recall</th>\n",
       "    </tr>\n",
       "  </thead>\n",
       "  <tbody>\n",
       "    <tr>\n",
       "      <th>0</th>\n",
       "      <td>100</td>\n",
       "      <td>0.855721</td>\n",
       "      <td>0.607843</td>\n",
       "      <td>0.820513</td>\n",
       "    </tr>\n",
       "    <tr>\n",
       "      <th>1</th>\n",
       "      <td>110</td>\n",
       "      <td>0.855721</td>\n",
       "      <td>0.607843</td>\n",
       "      <td>0.815789</td>\n",
       "    </tr>\n",
       "    <tr>\n",
       "      <th>2</th>\n",
       "      <td>120</td>\n",
       "      <td>0.880597</td>\n",
       "      <td>0.647059</td>\n",
       "      <td>0.800000</td>\n",
       "    </tr>\n",
       "    <tr>\n",
       "      <th>3</th>\n",
       "      <td>130</td>\n",
       "      <td>0.865672</td>\n",
       "      <td>0.627451</td>\n",
       "      <td>0.815789</td>\n",
       "    </tr>\n",
       "    <tr>\n",
       "      <th>4</th>\n",
       "      <td>140</td>\n",
       "      <td>0.860697</td>\n",
       "      <td>0.627451</td>\n",
       "      <td>0.711111</td>\n",
       "    </tr>\n",
       "    <tr>\n",
       "      <th>5</th>\n",
       "      <td>150</td>\n",
       "      <td>0.875622</td>\n",
       "      <td>0.607843</td>\n",
       "      <td>0.837838</td>\n",
       "    </tr>\n",
       "  </tbody>\n",
       "</table>\n",
       "</div>"
      ],
      "text/plain": [
       "   count  accuracy  precision    recall\n",
       "0    100  0.855721   0.607843  0.820513\n",
       "1    110  0.855721   0.607843  0.815789\n",
       "2    120  0.880597   0.647059  0.800000\n",
       "3    130  0.865672   0.627451  0.815789\n",
       "4    140  0.860697   0.627451  0.711111\n",
       "5    150  0.875622   0.607843  0.837838"
      ]
     },
     "execution_count": 59,
     "metadata": {},
     "output_type": "execute_result"
    }
   ],
   "source": [
    "score_list = []\n",
    "for steps in range(100, 160, 10):\n",
    "    scores = {}\n",
    "    scores['count'] = steps\n",
    "    scores['accuracy'] = accuracy_score(BaggingClassifier(n_estimators=steps).fit(X_train, y_train).predict(X_test), y_pred)\n",
    "    scores['precision'] = precision_score(BaggingClassifier(n_estimators=steps).fit(X_train, y_train).predict(X_test), y_pred)\n",
    "    scores['recall'] = recall_score(BaggingClassifier(n_estimators=steps).fit(X_train, y_train).predict(X_test), y_pred)\n",
    "    score_list.append(scores)\n",
    "score_df = pd.DataFrame(score_list)\n",
    "score_df"
   ]
  },
  {
   "cell_type": "code",
   "execution_count": 60,
   "metadata": {},
   "outputs": [
    {
     "data": {
      "image/png": "[encoded data removed]",
      "text/plain": [
       "<Figure size 432x288 with 3 Axes>"
      ]
     },
     "metadata": {
      "needs_background": "light"
     },
     "output_type": "display_data"
    }
   ],
   "source": [
    "fig, (ax1, ax2, ax3) = plt.subplots(1, 3)\n",
    "fig.suptitle('Performance Comaprison of Boosting', va='bottom')\n",
    "ax1.plot(score_df['count'], score_df['accuracy'])\n",
    "ax2.plot(score_df['count'], score_df['precision'])\n",
    "ax3.plot(score_df['count'], score_df['recall'])\n",
    "ax1.set_title('Accuracy')\n",
    "ax2.set_title('Precision')\n",
    "ax3.set_title('Recall')\n",
    "fig.tight_layout()"
   ]
  },
  {
   "cell_type": "markdown",
   "metadata": {},
   "source": [
    "# Random Forest"
   ]
  },
  {
   "cell_type": "code",
   "execution_count": 65,
   "metadata": {},
   "outputs": [],
   "source": [
    "score_list = []\n",
    "for steps in range(100, 160, 10):\n",
    "    scores = {}\n",
    "    scores['count'] = steps\n",
    "    scores['accuracy'] = accuracy_score(RandomForestClassifier(n_estimators=steps).fit(X_train, y_train).predict(X_test), y_pred)\n",
    "    scores['precision'] = precision_score(RandomForestClassifier(n_estimators=steps).fit(X_train, y_train).predict(X_test), y_pred)\n",
    "    scores['recall'] = recall_score(RandomForestClassifier(n_estimators=steps).fit(X_train, y_train).predict(X_test), y_pred)\n",
    "    score_list.append(scores)\n",
    "score_df = pd.DataFrame(score_list)"
   ]
  },
  {
   "cell_type": "code",
   "execution_count": 66,
   "metadata": {},
   "outputs": [
    {
     "data": {
      "text/html": [
       "<div>\n",
       "<style scoped>\n",
       "    .dataframe tbody tr th:only-of-type {\n",
       "        vertical-align: middle;\n",
       "    }\n",
       "\n",
       "    .dataframe tbody tr th {\n",
       "        vertical-align: top;\n",
       "    }\n",
       "\n",
       "    .dataframe thead th {\n",
       "        text-align: right;\n",
       "    }\n",
       "</style>\n",
       "<table border=\"1\" class=\"dataframe\">\n",
       "  <thead>\n",
       "    <tr style=\"text-align: right;\">\n",
       "      <th></th>\n",
       "      <th>count</th>\n",
       "      <th>accuracy</th>\n",
       "      <th>precision</th>\n",
       "      <th>recall</th>\n",
       "    </tr>\n",
       "  </thead>\n",
       "  <tbody>\n",
       "    <tr>\n",
       "      <th>0</th>\n",
       "      <td>100</td>\n",
       "      <td>0.830846</td>\n",
       "      <td>0.568627</td>\n",
       "      <td>0.783784</td>\n",
       "    </tr>\n",
       "    <tr>\n",
       "      <th>1</th>\n",
       "      <td>110</td>\n",
       "      <td>0.840796</td>\n",
       "      <td>0.607843</td>\n",
       "      <td>0.794118</td>\n",
       "    </tr>\n",
       "    <tr>\n",
       "      <th>2</th>\n",
       "      <td>120</td>\n",
       "      <td>0.870647</td>\n",
       "      <td>0.549020</td>\n",
       "      <td>0.891892</td>\n",
       "    </tr>\n",
       "    <tr>\n",
       "      <th>3</th>\n",
       "      <td>130</td>\n",
       "      <td>0.850746</td>\n",
       "      <td>0.607843</td>\n",
       "      <td>0.810811</td>\n",
       "    </tr>\n",
       "    <tr>\n",
       "      <th>4</th>\n",
       "      <td>140</td>\n",
       "      <td>0.850746</td>\n",
       "      <td>0.568627</td>\n",
       "      <td>0.794872</td>\n",
       "    </tr>\n",
       "    <tr>\n",
       "      <th>5</th>\n",
       "      <td>150</td>\n",
       "      <td>0.840796</td>\n",
       "      <td>0.568627</td>\n",
       "      <td>0.783784</td>\n",
       "    </tr>\n",
       "  </tbody>\n",
       "</table>\n",
       "</div>"
      ],
      "text/plain": [
       "   count  accuracy  precision    recall\n",
       "0    100  0.830846   0.568627  0.783784\n",
       "1    110  0.840796   0.607843  0.794118\n",
       "2    120  0.870647   0.549020  0.891892\n",
       "3    130  0.850746   0.607843  0.810811\n",
       "4    140  0.850746   0.568627  0.794872\n",
       "5    150  0.840796   0.568627  0.783784"
      ]
     },
     "execution_count": 66,
     "metadata": {},
     "output_type": "execute_result"
    }
   ],
   "source": [
    "score_df"
   ]
  },
  {
   "cell_type": "code",
   "execution_count": 67,
   "metadata": {},
   "outputs": [
    {
     "data": {
      "text/plain": [
       "Text(0.5, 1.0, 'Recall')"
      ]
     },
     "execution_count": 67,
     "metadata": {},
     "output_type": "execute_result"
    },
    {
     "data": {
      "image/png": "[encoded data removed]",
      "text/plain": [
       "<Figure size 432x288 with 3 Axes>"
      ]
     },
     "metadata": {
      "needs_background": "light"
     },
     "output_type": "display_data"
    }
   ],
   "source": [
    "fig, (ax1, ax2, ax3) = plt.subplots(1, 3)\n",
    "fig.suptitle('Performance Comaprison of Random Forest', va='bottom')\n",
    "ax1.plot(score_df['count'], score_df['accuracy'])\n",
    "ax2.plot(score_df['count'], score_df['precision'])\n",
    "ax3.plot(score_df['count'], score_df['recall'])\n",
    "ax1.set_title('Accuracy')\n",
    "ax2.set_title('Precision')\n",
    "ax3.set_title('Recall')\n",
    "# fig.tight_layout()"
   ]
  },
  {
   "cell_type": "code",
   "execution_count": 68,
   "metadata": {},
   "outputs": [
    {
     "name": "stdout",
     "output_type": "stream",
     "text": [
      "=============For Tree Count 100 ===================\n",
      "W__coronavirus\n",
      "W__fear\n",
      "W__tell\n",
      "W__rip\n",
      "W__number\n",
      "W__china\n",
      "W__confirm\n",
      "W__great\n",
      "W__start\n",
      "W__hope\n",
      "=============For Tree Count 110 ===================\n",
      "W__coronavirus\n",
      "W__fear\n",
      "W__china\n",
      "W__tell\n",
      "W__confirm\n",
      "W__hope\n",
      "W__rip\n",
      "W__number\n",
      "W__report\n",
      "W__start\n",
      "=============For Tree Count 120 ===================\n",
      "W__coronavirus\n",
      "W__fear\n",
      "W__china\n",
      "W__tell\n",
      "W__rip\n",
      "W__hope\n",
      "W__great\n",
      "W__confirm\n",
      "W__report\n",
      "W__new\n",
      "=============For Tree Count 130 ===================\n",
      "W__coronavirus\n",
      "W__fear\n",
      "W__tell\n",
      "W__china\n",
      "W__rip\n",
      "W__hope\n",
      "W__number\n",
      "W__great\n",
      "W__confirm\n",
      "W__report\n",
      "=============For Tree Count 140 ===================\n",
      "W__coronavirus\n",
      "W__fear\n",
      "W__rip\n",
      "W__confirm\n",
      "W__hope\n",
      "W__tell\n",
      "W__china\n",
      "W__report\n",
      "W__number\n",
      "W__start\n",
      "=============For Tree Count 150 ===================\n",
      "W__coronavirus\n",
      "W__fear\n",
      "W__rip\n",
      "W__tell\n",
      "W__hope\n",
      "W__confirm\n",
      "W__china\n",
      "W__number\n",
      "W__report\n",
      "W__great\n"
     ]
    }
   ],
   "source": [
    "for step in [100,110,120,130, 140, 150]:\n",
    "    clf = RandomForestClassifier(n_estimators=step)\n",
    "    clf.fit(X_train, y_train)\n",
    "    importances = clf.feature_importances_\n",
    "    std = np.std([tree.feature_importances_ for tree in clf.estimators_], axis=0)\n",
    "    indices = np.argsort(importances)[::-1]\n",
    "    best_10 = indices[0:10]\n",
    "    print(\"=============For Tree Count \" + str(step) + \" ===================\")\n",
    "    for i in best_10:\n",
    "        print(feature_names[i])"
   ]
  },
  {
   "cell_type": "code",
   "execution_count": null,
   "metadata": {},
   "outputs": [],
   "source": []
  },
  {
   "cell_type": "code",
   "execution_count": null,
   "metadata": {},
   "outputs": [],
   "source": []
  }
 ],
 "metadata": {
  "kernelspec": {
   "display_name": "Python 3",
   "language": "python",
   "name": "python3"
  },
  "language_info": {
   "codemirror_mode": {
    "name": "ipython",
    "version": 3
   },
   "file_extension": ".py",
   "mimetype": "text/x-python",
   "name": "python",
   "nbconvert_exporter": "python",
   "pygments_lexer": "ipython3",
   "version": "3.6.5"
  }
 },
 "nbformat": 4,
 "nbformat_minor": 4
}
